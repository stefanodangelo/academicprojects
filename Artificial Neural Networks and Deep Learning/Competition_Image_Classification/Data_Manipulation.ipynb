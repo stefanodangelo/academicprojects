{
 "cells": [
  {
   "cell_type": "markdown",
   "metadata": {},
   "source": [
    "## Unzip the dataset\n",
    "### N.B.: the dataset must be downloaded in your current working directory in order to make this notebook work\n",
    "You can download it at this link: https://www.kaggle.com/c/artificial-neural-networks-and-deep-learning-2020/data"
   ]
  },
  {
   "cell_type": "code",
   "execution_count": 1,
   "metadata": {},
   "outputs": [],
   "source": [
    "from IPython.core.interactiveshell import InteractiveShell\n",
    "InteractiveShell.ast_node_interactivity = \"all\""
   ]
  },
  {
   "cell_type": "code",
   "execution_count": 2,
   "metadata": {},
   "outputs": [],
   "source": [
    "import os\n",
    "import tensorflow as tf\n",
    "import numpy as np\n",
    " \n",
    "SEED = 1234\n",
    "tf.random.set_seed(SEED)  \n",
    "\n",
    "cwd = os.getcwd()"
   ]
  },
  {
   "cell_type": "code",
   "execution_count": 3,
   "metadata": {},
   "outputs": [],
   "source": [
    "import zipfile\n",
    "\n",
    "path_to_zip_file = cwd + \"/artificial-neural-networks-and-deep-learning-2020.zip\"\n",
    "directory_to_extract_to = cwd\n",
    "\n",
    "with zipfile.ZipFile(path_to_zip_file, 'r') as zip_ref:\n",
    "    zip_ref.extractall(directory_to_extract_to)"
   ]
  },
  {
   "cell_type": "markdown",
   "metadata": {},
   "source": [
    "## Preprocess data\n",
    "### Split into training and validation -> fair random split\n",
    "The dataset is splitted according to the number of classes its elements have through these steps:\n",
    "1. Collect in a dictionary the associations <image_name, class> extracted from the provided .json file\n",
    "2. For each class, we create a dictionary containing <class, list_of_filenames> pairs\n",
    "3. We apply to each list of filenames a random mask created from a Bernoullian distribution with probability defined by the percentage of the split we want (e.g.: 75% for training, 25% for validation), where `p=[train_percentage, 1-train_percentage]`, obtaining the training set\n",
    "4. We apply the logical not of the previous masks to the same lists of filenames, obtaining the validation set"
   ]
  },
  {
   "cell_type": "code",
   "execution_count": 4,
   "metadata": {},
   "outputs": [],
   "source": [
    "from collections import defaultdict\n",
    "def train_validation_holdout(dataset_path, train_perc = 0.75):\n",
    "    dataset = defaultdict(list)\n",
    "    for item in train_dic.keys():    \n",
    "        value = train_dic.get(item)                                 \n",
    "        dataset[str(value)].append(item)\n",
    "\n",
    "    num_Images = []\n",
    "    for key in dataset.keys():\n",
    "        num_Images.append(len(dataset[key]))\n",
    "\n",
    "    training_set = []\n",
    "    validation_set = []\n",
    "    for key in dataset.keys():    \n",
    "        images = np.array(dataset.get(key))      \n",
    "        mask = np.random.choice([True,False], num_Images[int(key)], p=[train_perc, 1-train_perc])\n",
    "        training_set += list(images[mask])\n",
    "        validation_set += list(images[np.logical_not(mask)])\n",
    "    \n",
    "    return training_set, validation_set"
   ]
  },
  {
   "cell_type": "code",
   "execution_count": 5,
   "metadata": {},
   "outputs": [],
   "source": [
    "dataset_dir = os.path.join(cwd, 'MaskDataset')"
   ]
  },
  {
   "cell_type": "code",
   "execution_count": 6,
   "metadata": {},
   "outputs": [],
   "source": [
    "import json, operator, collections\n",
    "import pandas as pd\n",
    "\n",
    "with open(os.path.join(dataset_dir, \"train_gt.json\")) as f:\n",
    "    train_dic = json.load(f)\n",
    "    \n",
    "train_dic = sorted(train_dic.items(), key=operator.itemgetter(1))\n",
    "\n",
    "train_dic = dict(collections.OrderedDict(train_dic))                    \n",
    "\n",
    "# Let's split training and validation sets\n",
    "training_set, validation_set = train_validation_holdout(train_dic, train_perc=0.75)"
   ]
  },
  {
   "cell_type": "markdown",
   "metadata": {},
   "source": [
    "### Move files to appropriate folders\n",
    "We want to have a directory structure like this:\n",
    "\n",
    "    - MaskDataset/\n",
    "        - training/\n",
    "        - validation/\n",
    "        - test/subfolder/\n",
    "N.B.: the *subfolder* in the *test* directory is necessary because we discovered a kind of bug when generating the Dataset"
   ]
  },
  {
   "cell_type": "code",
   "execution_count": 7,
   "metadata": {},
   "outputs": [],
   "source": [
    "import shutil\n",
    "\n",
    "train_dir = os.path.join(dataset_dir, 'training')\n",
    "valid_dir = os.path.join(dataset_dir, 'validation')\n",
    "test_dir = os.path.join(dataset_dir, 'test')\n",
    "\n",
    "if not os.path.exists(valid_dir):\n",
    "    os.makedirs(valid_dir)"
   ]
  },
  {
   "cell_type": "markdown",
   "metadata": {},
   "source": [
    "Now we move files in the validation set to the appropriate directory:"
   ]
  },
  {
   "cell_type": "code",
   "execution_count": 8,
   "metadata": {},
   "outputs": [
    {
     "data": {
      "text/plain": [
       "'C:\\\\Users\\\\steka\\\\Competition_Image_Classification\\\\MaskDataset\\\\validation\\\\13358.jpg'"
      ]
     },
     "execution_count": 8,
     "metadata": {},
     "output_type": "execute_result"
    },
    {
     "data": {
      "text/plain": [
       "'C:\\\\Users\\\\steka\\\\Competition_Image_Classification\\\\MaskDataset\\\\validation\\\\18202.jpg'"
      ]
     },
     "execution_count": 8,
     "metadata": {},
     "output_type": "execute_result"
    },
    {
     "data": {
      "text/plain": [
       "'C:\\\\Users\\\\steka\\\\Competition_Image_Classification\\\\MaskDataset\\\\validation\\\\14251.jpg'"
      ]
     },
     "execution_count": 8,
     "metadata": {},
     "output_type": "execute_result"
    },
    {
     "data": {
      "text/plain": [
       "'C:\\\\Users\\\\steka\\\\Competition_Image_Classification\\\\MaskDataset\\\\validation\\\\15552.jpg'"
      ]
     },
     "execution_count": 8,
     "metadata": {},
     "output_type": "execute_result"
    },
    {
     "data": {
      "text/plain": [
       "'C:\\\\Users\\\\steka\\\\Competition_Image_Classification\\\\MaskDataset\\\\validation\\\\16795.jpg'"
      ]
     },
     "execution_count": 8,
     "metadata": {},
     "output_type": "execute_result"
    },
    {
     "data": {
      "text/plain": [
       "'C:\\\\Users\\\\steka\\\\Competition_Image_Classification\\\\MaskDataset\\\\validation\\\\15919.jpg'"
      ]
     },
     "execution_count": 8,
     "metadata": {},
     "output_type": "execute_result"
    },
    {
     "data": {
      "text/plain": [
       "'C:\\\\Users\\\\steka\\\\Competition_Image_Classification\\\\MaskDataset\\\\validation\\\\12230.jpg'"
      ]
     },
     "execution_count": 8,
     "metadata": {},
     "output_type": "execute_result"
    },
    {
     "data": {
      "text/plain": [
       "'C:\\\\Users\\\\steka\\\\Competition_Image_Classification\\\\MaskDataset\\\\validation\\\\16157.jpg'"
      ]
     },
     "execution_count": 8,
     "metadata": {},
     "output_type": "execute_result"
    },
    {
     "data": {
      "text/plain": [
       "'C:\\\\Users\\\\steka\\\\Competition_Image_Classification\\\\MaskDataset\\\\validation\\\\17170.jpg'"
      ]
     },
     "execution_count": 8,
     "metadata": {},
     "output_type": "execute_result"
    },
    {
     "data": {
      "text/plain": [
       "'C:\\\\Users\\\\steka\\\\Competition_Image_Classification\\\\MaskDataset\\\\validation\\\\16910.jpg'"
      ]
     },
     "execution_count": 8,
     "metadata": {},
     "output_type": "execute_result"
    },
    {
     "data": {
      "text/plain": [
       "'C:\\\\Users\\\\steka\\\\Competition_Image_Classification\\\\MaskDataset\\\\validation\\\\13580.jpg'"
      ]
     },
     "execution_count": 8,
     "metadata": {},
     "output_type": "execute_result"
    },
    {
     "data": {
      "text/plain": [
       "'C:\\\\Users\\\\steka\\\\Competition_Image_Classification\\\\MaskDataset\\\\validation\\\\16290.jpg'"
      ]
     },
     "execution_count": 8,
     "metadata": {},
     "output_type": "execute_result"
    },
    {
     "data": {
      "text/plain": [
       "'C:\\\\Users\\\\steka\\\\Competition_Image_Classification\\\\MaskDataset\\\\validation\\\\16503.jpg'"
      ]
     },
     "execution_count": 8,
     "metadata": {},
     "output_type": "execute_result"
    },
    {
     "data": {
      "text/plain": [
       "'C:\\\\Users\\\\steka\\\\Competition_Image_Classification\\\\MaskDataset\\\\validation\\\\12982.jpg'"
      ]
     },
     "execution_count": 8,
     "metadata": {},
     "output_type": "execute_result"
    },
    {
     "data": {
      "text/plain": [
       "'C:\\\\Users\\\\steka\\\\Competition_Image_Classification\\\\MaskDataset\\\\validation\\\\12834.jpg'"
      ]
     },
     "execution_count": 8,
     "metadata": {},
     "output_type": "execute_result"
    },
    {
     "data": {
      "text/plain": [
       "'C:\\\\Users\\\\steka\\\\Competition_Image_Classification\\\\MaskDataset\\\\validation\\\\13787.jpg'"
      ]
     },
     "execution_count": 8,
     "metadata": {},
     "output_type": "execute_result"
    },
    {
     "data": {
      "text/plain": [
       "'C:\\\\Users\\\\steka\\\\Competition_Image_Classification\\\\MaskDataset\\\\validation\\\\10603.jpg'"
      ]
     },
     "execution_count": 8,
     "metadata": {},
     "output_type": "execute_result"
    },
    {
     "data": {
      "text/plain": [
       "'C:\\\\Users\\\\steka\\\\Competition_Image_Classification\\\\MaskDataset\\\\validation\\\\15523.jpg'"
      ]
     },
     "execution_count": 8,
     "metadata": {},
     "output_type": "execute_result"
    },
    {
     "data": {
      "text/plain": [
       "'C:\\\\Users\\\\steka\\\\Competition_Image_Classification\\\\MaskDataset\\\\validation\\\\10172.jpg'"
      ]
     },
     "execution_count": 8,
     "metadata": {},
     "output_type": "execute_result"
    },
    {
     "data": {
      "text/plain": [
       "'C:\\\\Users\\\\steka\\\\Competition_Image_Classification\\\\MaskDataset\\\\validation\\\\11421.jpg'"
      ]
     },
     "execution_count": 8,
     "metadata": {},
     "output_type": "execute_result"
    },
    {
     "data": {
      "text/plain": [
       "'C:\\\\Users\\\\steka\\\\Competition_Image_Classification\\\\MaskDataset\\\\validation\\\\14100.jpg'"
      ]
     },
     "execution_count": 8,
     "metadata": {},
     "output_type": "execute_result"
    },
    {
     "data": {
      "text/plain": [
       "'C:\\\\Users\\\\steka\\\\Competition_Image_Classification\\\\MaskDataset\\\\validation\\\\12177.jpg'"
      ]
     },
     "execution_count": 8,
     "metadata": {},
     "output_type": "execute_result"
    },
    {
     "data": {
      "text/plain": [
       "'C:\\\\Users\\\\steka\\\\Competition_Image_Classification\\\\MaskDataset\\\\validation\\\\13387.jpg'"
      ]
     },
     "execution_count": 8,
     "metadata": {},
     "output_type": "execute_result"
    },
    {
     "data": {
      "text/plain": [
       "'C:\\\\Users\\\\steka\\\\Competition_Image_Classification\\\\MaskDataset\\\\validation\\\\11232.jpg'"
      ]
     },
     "execution_count": 8,
     "metadata": {},
     "output_type": "execute_result"
    },
    {
     "data": {
      "text/plain": [
       "'C:\\\\Users\\\\steka\\\\Competition_Image_Classification\\\\MaskDataset\\\\validation\\\\15908.jpg'"
      ]
     },
     "execution_count": 8,
     "metadata": {},
     "output_type": "execute_result"
    },
    {
     "data": {
      "text/plain": [
       "'C:\\\\Users\\\\steka\\\\Competition_Image_Classification\\\\MaskDataset\\\\validation\\\\14141.jpg'"
      ]
     },
     "execution_count": 8,
     "metadata": {},
     "output_type": "execute_result"
    },
    {
     "data": {
      "text/plain": [
       "'C:\\\\Users\\\\steka\\\\Competition_Image_Classification\\\\MaskDataset\\\\validation\\\\12302.jpg'"
      ]
     },
     "execution_count": 8,
     "metadata": {},
     "output_type": "execute_result"
    },
    {
     "data": {
      "text/plain": [
       "'C:\\\\Users\\\\steka\\\\Competition_Image_Classification\\\\MaskDataset\\\\validation\\\\10535.jpg'"
      ]
     },
     "execution_count": 8,
     "metadata": {},
     "output_type": "execute_result"
    },
    {
     "data": {
      "text/plain": [
       "'C:\\\\Users\\\\steka\\\\Competition_Image_Classification\\\\MaskDataset\\\\validation\\\\14613.jpg'"
      ]
     },
     "execution_count": 8,
     "metadata": {},
     "output_type": "execute_result"
    },
    {
     "data": {
      "text/plain": [
       "'C:\\\\Users\\\\steka\\\\Competition_Image_Classification\\\\MaskDataset\\\\validation\\\\14058.jpg'"
      ]
     },
     "execution_count": 8,
     "metadata": {},
     "output_type": "execute_result"
    },
    {
     "data": {
      "text/plain": [
       "'C:\\\\Users\\\\steka\\\\Competition_Image_Classification\\\\MaskDataset\\\\validation\\\\14093.jpg'"
      ]
     },
     "execution_count": 8,
     "metadata": {},
     "output_type": "execute_result"
    },
    {
     "data": {
      "text/plain": [
       "'C:\\\\Users\\\\steka\\\\Competition_Image_Classification\\\\MaskDataset\\\\validation\\\\12666.jpg'"
      ]
     },
     "execution_count": 8,
     "metadata": {},
     "output_type": "execute_result"
    },
    {
     "data": {
      "text/plain": [
       "'C:\\\\Users\\\\steka\\\\Competition_Image_Classification\\\\MaskDataset\\\\validation\\\\12395.jpg'"
      ]
     },
     "execution_count": 8,
     "metadata": {},
     "output_type": "execute_result"
    },
    {
     "data": {
      "text/plain": [
       "'C:\\\\Users\\\\steka\\\\Competition_Image_Classification\\\\MaskDataset\\\\validation\\\\11590.jpg'"
      ]
     },
     "execution_count": 8,
     "metadata": {},
     "output_type": "execute_result"
    },
    {
     "data": {
      "text/plain": [
       "'C:\\\\Users\\\\steka\\\\Competition_Image_Classification\\\\MaskDataset\\\\validation\\\\11695.jpg'"
      ]
     },
     "execution_count": 8,
     "metadata": {},
     "output_type": "execute_result"
    },
    {
     "data": {
      "text/plain": [
       "'C:\\\\Users\\\\steka\\\\Competition_Image_Classification\\\\MaskDataset\\\\validation\\\\14793.jpg'"
      ]
     },
     "execution_count": 8,
     "metadata": {},
     "output_type": "execute_result"
    },
    {
     "data": {
      "text/plain": [
       "'C:\\\\Users\\\\steka\\\\Competition_Image_Classification\\\\MaskDataset\\\\validation\\\\11968.jpg'"
      ]
     },
     "execution_count": 8,
     "metadata": {},
     "output_type": "execute_result"
    },
    {
     "data": {
      "text/plain": [
       "'C:\\\\Users\\\\steka\\\\Competition_Image_Classification\\\\MaskDataset\\\\validation\\\\14115.jpg'"
      ]
     },
     "execution_count": 8,
     "metadata": {},
     "output_type": "execute_result"
    },
    {
     "data": {
      "text/plain": [
       "'C:\\\\Users\\\\steka\\\\Competition_Image_Classification\\\\MaskDataset\\\\validation\\\\10196.jpg'"
      ]
     },
     "execution_count": 8,
     "metadata": {},
     "output_type": "execute_result"
    },
    {
     "data": {
      "text/plain": [
       "'C:\\\\Users\\\\steka\\\\Competition_Image_Classification\\\\MaskDataset\\\\validation\\\\11501.jpg'"
      ]
     },
     "execution_count": 8,
     "metadata": {},
     "output_type": "execute_result"
    },
    {
     "data": {
      "text/plain": [
       "'C:\\\\Users\\\\steka\\\\Competition_Image_Classification\\\\MaskDataset\\\\validation\\\\16523.jpg'"
      ]
     },
     "execution_count": 8,
     "metadata": {},
     "output_type": "execute_result"
    },
    {
     "data": {
      "text/plain": [
       "'C:\\\\Users\\\\steka\\\\Competition_Image_Classification\\\\MaskDataset\\\\validation\\\\17960.jpg'"
      ]
     },
     "execution_count": 8,
     "metadata": {},
     "output_type": "execute_result"
    },
    {
     "data": {
      "text/plain": [
       "'C:\\\\Users\\\\steka\\\\Competition_Image_Classification\\\\MaskDataset\\\\validation\\\\12455.jpg'"
      ]
     },
     "execution_count": 8,
     "metadata": {},
     "output_type": "execute_result"
    },
    {
     "data": {
      "text/plain": [
       "'C:\\\\Users\\\\steka\\\\Competition_Image_Classification\\\\MaskDataset\\\\validation\\\\13904.jpg'"
      ]
     },
     "execution_count": 8,
     "metadata": {},
     "output_type": "execute_result"
    },
    {
     "data": {
      "text/plain": [
       "'C:\\\\Users\\\\steka\\\\Competition_Image_Classification\\\\MaskDataset\\\\validation\\\\15648.jpg'"
      ]
     },
     "execution_count": 8,
     "metadata": {},
     "output_type": "execute_result"
    },
    {
     "data": {
      "text/plain": [
       "'C:\\\\Users\\\\steka\\\\Competition_Image_Classification\\\\MaskDataset\\\\validation\\\\13571.jpg'"
      ]
     },
     "execution_count": 8,
     "metadata": {},
     "output_type": "execute_result"
    },
    {
     "data": {
      "text/plain": [
       "'C:\\\\Users\\\\steka\\\\Competition_Image_Classification\\\\MaskDataset\\\\validation\\\\15339.jpg'"
      ]
     },
     "execution_count": 8,
     "metadata": {},
     "output_type": "execute_result"
    },
    {
     "data": {
      "text/plain": [
       "'C:\\\\Users\\\\steka\\\\Competition_Image_Classification\\\\MaskDataset\\\\validation\\\\16352.jpg'"
      ]
     },
     "execution_count": 8,
     "metadata": {},
     "output_type": "execute_result"
    },
    {
     "data": {
      "text/plain": [
       "'C:\\\\Users\\\\steka\\\\Competition_Image_Classification\\\\MaskDataset\\\\validation\\\\10816.jpg'"
      ]
     },
     "execution_count": 8,
     "metadata": {},
     "output_type": "execute_result"
    },
    {
     "data": {
      "text/plain": [
       "'C:\\\\Users\\\\steka\\\\Competition_Image_Classification\\\\MaskDataset\\\\validation\\\\15703.jpg'"
      ]
     },
     "execution_count": 8,
     "metadata": {},
     "output_type": "execute_result"
    },
    {
     "data": {
      "text/plain": [
       "'C:\\\\Users\\\\steka\\\\Competition_Image_Classification\\\\MaskDataset\\\\validation\\\\15999.jpg'"
      ]
     },
     "execution_count": 8,
     "metadata": {},
     "output_type": "execute_result"
    },
    {
     "data": {
      "text/plain": [
       "'C:\\\\Users\\\\steka\\\\Competition_Image_Classification\\\\MaskDataset\\\\validation\\\\17019.jpg'"
      ]
     },
     "execution_count": 8,
     "metadata": {},
     "output_type": "execute_result"
    },
    {
     "data": {
      "text/plain": [
       "'C:\\\\Users\\\\steka\\\\Competition_Image_Classification\\\\MaskDataset\\\\validation\\\\15654.jpg'"
      ]
     },
     "execution_count": 8,
     "metadata": {},
     "output_type": "execute_result"
    },
    {
     "data": {
      "text/plain": [
       "'C:\\\\Users\\\\steka\\\\Competition_Image_Classification\\\\MaskDataset\\\\validation\\\\12632.jpg'"
      ]
     },
     "execution_count": 8,
     "metadata": {},
     "output_type": "execute_result"
    },
    {
     "data": {
      "text/plain": [
       "'C:\\\\Users\\\\steka\\\\Competition_Image_Classification\\\\MaskDataset\\\\validation\\\\11050.jpg'"
      ]
     },
     "execution_count": 8,
     "metadata": {},
     "output_type": "execute_result"
    },
    {
     "data": {
      "text/plain": [
       "'C:\\\\Users\\\\steka\\\\Competition_Image_Classification\\\\MaskDataset\\\\validation\\\\15268.jpg'"
      ]
     },
     "execution_count": 8,
     "metadata": {},
     "output_type": "execute_result"
    },
    {
     "data": {
      "text/plain": [
       "'C:\\\\Users\\\\steka\\\\Competition_Image_Classification\\\\MaskDataset\\\\validation\\\\16799.jpg'"
      ]
     },
     "execution_count": 8,
     "metadata": {},
     "output_type": "execute_result"
    },
    {
     "data": {
      "text/plain": [
       "'C:\\\\Users\\\\steka\\\\Competition_Image_Classification\\\\MaskDataset\\\\validation\\\\13893.jpg'"
      ]
     },
     "execution_count": 8,
     "metadata": {},
     "output_type": "execute_result"
    },
    {
     "data": {
      "text/plain": [
       "'C:\\\\Users\\\\steka\\\\Competition_Image_Classification\\\\MaskDataset\\\\validation\\\\16471.jpg'"
      ]
     },
     "execution_count": 8,
     "metadata": {},
     "output_type": "execute_result"
    },
    {
     "data": {
      "text/plain": [
       "'C:\\\\Users\\\\steka\\\\Competition_Image_Classification\\\\MaskDataset\\\\validation\\\\11167.jpg'"
      ]
     },
     "execution_count": 8,
     "metadata": {},
     "output_type": "execute_result"
    },
    {
     "data": {
      "text/plain": [
       "'C:\\\\Users\\\\steka\\\\Competition_Image_Classification\\\\MaskDataset\\\\validation\\\\10892.jpg'"
      ]
     },
     "execution_count": 8,
     "metadata": {},
     "output_type": "execute_result"
    },
    {
     "data": {
      "text/plain": [
       "'C:\\\\Users\\\\steka\\\\Competition_Image_Classification\\\\MaskDataset\\\\validation\\\\15531.jpg'"
      ]
     },
     "execution_count": 8,
     "metadata": {},
     "output_type": "execute_result"
    },
    {
     "data": {
      "text/plain": [
       "'C:\\\\Users\\\\steka\\\\Competition_Image_Classification\\\\MaskDataset\\\\validation\\\\16316.jpg'"
      ]
     },
     "execution_count": 8,
     "metadata": {},
     "output_type": "execute_result"
    },
    {
     "data": {
      "text/plain": [
       "'C:\\\\Users\\\\steka\\\\Competition_Image_Classification\\\\MaskDataset\\\\validation\\\\14066.jpg'"
      ]
     },
     "execution_count": 8,
     "metadata": {},
     "output_type": "execute_result"
    },
    {
     "data": {
      "text/plain": [
       "'C:\\\\Users\\\\steka\\\\Competition_Image_Classification\\\\MaskDataset\\\\validation\\\\16613.jpg'"
      ]
     },
     "execution_count": 8,
     "metadata": {},
     "output_type": "execute_result"
    },
    {
     "data": {
      "text/plain": [
       "'C:\\\\Users\\\\steka\\\\Competition_Image_Classification\\\\MaskDataset\\\\validation\\\\13323.jpg'"
      ]
     },
     "execution_count": 8,
     "metadata": {},
     "output_type": "execute_result"
    },
    {
     "data": {
      "text/plain": [
       "'C:\\\\Users\\\\steka\\\\Competition_Image_Classification\\\\MaskDataset\\\\validation\\\\14176.jpg'"
      ]
     },
     "execution_count": 8,
     "metadata": {},
     "output_type": "execute_result"
    },
    {
     "data": {
      "text/plain": [
       "'C:\\\\Users\\\\steka\\\\Competition_Image_Classification\\\\MaskDataset\\\\validation\\\\14817.jpg'"
      ]
     },
     "execution_count": 8,
     "metadata": {},
     "output_type": "execute_result"
    },
    {
     "data": {
      "text/plain": [
       "'C:\\\\Users\\\\steka\\\\Competition_Image_Classification\\\\MaskDataset\\\\validation\\\\13593.jpg'"
      ]
     },
     "execution_count": 8,
     "metadata": {},
     "output_type": "execute_result"
    },
    {
     "data": {
      "text/plain": [
       "'C:\\\\Users\\\\steka\\\\Competition_Image_Classification\\\\MaskDataset\\\\validation\\\\15099.jpg'"
      ]
     },
     "execution_count": 8,
     "metadata": {},
     "output_type": "execute_result"
    },
    {
     "data": {
      "text/plain": [
       "'C:\\\\Users\\\\steka\\\\Competition_Image_Classification\\\\MaskDataset\\\\validation\\\\16585.jpg'"
      ]
     },
     "execution_count": 8,
     "metadata": {},
     "output_type": "execute_result"
    },
    {
     "data": {
      "text/plain": [
       "'C:\\\\Users\\\\steka\\\\Competition_Image_Classification\\\\MaskDataset\\\\validation\\\\16660.jpg'"
      ]
     },
     "execution_count": 8,
     "metadata": {},
     "output_type": "execute_result"
    },
    {
     "data": {
      "text/plain": [
       "'C:\\\\Users\\\\steka\\\\Competition_Image_Classification\\\\MaskDataset\\\\validation\\\\10763.jpg'"
      ]
     },
     "execution_count": 8,
     "metadata": {},
     "output_type": "execute_result"
    },
    {
     "data": {
      "text/plain": [
       "'C:\\\\Users\\\\steka\\\\Competition_Image_Classification\\\\MaskDataset\\\\validation\\\\10607.jpg'"
      ]
     },
     "execution_count": 8,
     "metadata": {},
     "output_type": "execute_result"
    },
    {
     "data": {
      "text/plain": [
       "'C:\\\\Users\\\\steka\\\\Competition_Image_Classification\\\\MaskDataset\\\\validation\\\\16121.jpg'"
      ]
     },
     "execution_count": 8,
     "metadata": {},
     "output_type": "execute_result"
    },
    {
     "data": {
      "text/plain": [
       "'C:\\\\Users\\\\steka\\\\Competition_Image_Classification\\\\MaskDataset\\\\validation\\\\13013.jpg'"
      ]
     },
     "execution_count": 8,
     "metadata": {},
     "output_type": "execute_result"
    },
    {
     "data": {
      "text/plain": [
       "'C:\\\\Users\\\\steka\\\\Competition_Image_Classification\\\\MaskDataset\\\\validation\\\\14373.jpg'"
      ]
     },
     "execution_count": 8,
     "metadata": {},
     "output_type": "execute_result"
    },
    {
     "data": {
      "text/plain": [
       "'C:\\\\Users\\\\steka\\\\Competition_Image_Classification\\\\MaskDataset\\\\validation\\\\12404.jpg'"
      ]
     },
     "execution_count": 8,
     "metadata": {},
     "output_type": "execute_result"
    },
    {
     "data": {
      "text/plain": [
       "'C:\\\\Users\\\\steka\\\\Competition_Image_Classification\\\\MaskDataset\\\\validation\\\\11797.jpg'"
      ]
     },
     "execution_count": 8,
     "metadata": {},
     "output_type": "execute_result"
    },
    {
     "data": {
      "text/plain": [
       "'C:\\\\Users\\\\steka\\\\Competition_Image_Classification\\\\MaskDataset\\\\validation\\\\11648.jpg'"
      ]
     },
     "execution_count": 8,
     "metadata": {},
     "output_type": "execute_result"
    },
    {
     "data": {
      "text/plain": [
       "'C:\\\\Users\\\\steka\\\\Competition_Image_Classification\\\\MaskDataset\\\\validation\\\\14239.jpg'"
      ]
     },
     "execution_count": 8,
     "metadata": {},
     "output_type": "execute_result"
    },
    {
     "data": {
      "text/plain": [
       "'C:\\\\Users\\\\steka\\\\Competition_Image_Classification\\\\MaskDataset\\\\validation\\\\12913.jpg'"
      ]
     },
     "execution_count": 8,
     "metadata": {},
     "output_type": "execute_result"
    },
    {
     "data": {
      "text/plain": [
       "'C:\\\\Users\\\\steka\\\\Competition_Image_Classification\\\\MaskDataset\\\\validation\\\\10367.jpg'"
      ]
     },
     "execution_count": 8,
     "metadata": {},
     "output_type": "execute_result"
    },
    {
     "data": {
      "text/plain": [
       "'C:\\\\Users\\\\steka\\\\Competition_Image_Classification\\\\MaskDataset\\\\validation\\\\16559.jpg'"
      ]
     },
     "execution_count": 8,
     "metadata": {},
     "output_type": "execute_result"
    },
    {
     "data": {
      "text/plain": [
       "'C:\\\\Users\\\\steka\\\\Competition_Image_Classification\\\\MaskDataset\\\\validation\\\\17955.jpg'"
      ]
     },
     "execution_count": 8,
     "metadata": {},
     "output_type": "execute_result"
    },
    {
     "data": {
      "text/plain": [
       "'C:\\\\Users\\\\steka\\\\Competition_Image_Classification\\\\MaskDataset\\\\validation\\\\12555.jpg'"
      ]
     },
     "execution_count": 8,
     "metadata": {},
     "output_type": "execute_result"
    },
    {
     "data": {
      "text/plain": [
       "'C:\\\\Users\\\\steka\\\\Competition_Image_Classification\\\\MaskDataset\\\\validation\\\\13045.jpg'"
      ]
     },
     "execution_count": 8,
     "metadata": {},
     "output_type": "execute_result"
    },
    {
     "data": {
      "text/plain": [
       "'C:\\\\Users\\\\steka\\\\Competition_Image_Classification\\\\MaskDataset\\\\validation\\\\17008.jpg'"
      ]
     },
     "execution_count": 8,
     "metadata": {},
     "output_type": "execute_result"
    },
    {
     "data": {
      "text/plain": [
       "'C:\\\\Users\\\\steka\\\\Competition_Image_Classification\\\\MaskDataset\\\\validation\\\\17135.jpg'"
      ]
     },
     "execution_count": 8,
     "metadata": {},
     "output_type": "execute_result"
    },
    {
     "data": {
      "text/plain": [
       "'C:\\\\Users\\\\steka\\\\Competition_Image_Classification\\\\MaskDataset\\\\validation\\\\17358.jpg'"
      ]
     },
     "execution_count": 8,
     "metadata": {},
     "output_type": "execute_result"
    },
    {
     "data": {
      "text/plain": [
       "'C:\\\\Users\\\\steka\\\\Competition_Image_Classification\\\\MaskDataset\\\\validation\\\\16739.jpg'"
      ]
     },
     "execution_count": 8,
     "metadata": {},
     "output_type": "execute_result"
    },
    {
     "data": {
      "text/plain": [
       "'C:\\\\Users\\\\steka\\\\Competition_Image_Classification\\\\MaskDataset\\\\validation\\\\14978.jpg'"
      ]
     },
     "execution_count": 8,
     "metadata": {},
     "output_type": "execute_result"
    },
    {
     "data": {
      "text/plain": [
       "'C:\\\\Users\\\\steka\\\\Competition_Image_Classification\\\\MaskDataset\\\\validation\\\\10197.jpg'"
      ]
     },
     "execution_count": 8,
     "metadata": {},
     "output_type": "execute_result"
    },
    {
     "data": {
      "text/plain": [
       "'C:\\\\Users\\\\steka\\\\Competition_Image_Classification\\\\MaskDataset\\\\validation\\\\14434.jpg'"
      ]
     },
     "execution_count": 8,
     "metadata": {},
     "output_type": "execute_result"
    },
    {
     "data": {
      "text/plain": [
       "'C:\\\\Users\\\\steka\\\\Competition_Image_Classification\\\\MaskDataset\\\\validation\\\\11107.jpg'"
      ]
     },
     "execution_count": 8,
     "metadata": {},
     "output_type": "execute_result"
    },
    {
     "data": {
      "text/plain": [
       "'C:\\\\Users\\\\steka\\\\Competition_Image_Classification\\\\MaskDataset\\\\validation\\\\13337.jpg'"
      ]
     },
     "execution_count": 8,
     "metadata": {},
     "output_type": "execute_result"
    },
    {
     "data": {
      "text/plain": [
       "'C:\\\\Users\\\\steka\\\\Competition_Image_Classification\\\\MaskDataset\\\\validation\\\\14005.jpg'"
      ]
     },
     "execution_count": 8,
     "metadata": {},
     "output_type": "execute_result"
    },
    {
     "data": {
      "text/plain": [
       "'C:\\\\Users\\\\steka\\\\Competition_Image_Classification\\\\MaskDataset\\\\validation\\\\17287.jpg'"
      ]
     },
     "execution_count": 8,
     "metadata": {},
     "output_type": "execute_result"
    },
    {
     "data": {
      "text/plain": [
       "'C:\\\\Users\\\\steka\\\\Competition_Image_Classification\\\\MaskDataset\\\\validation\\\\10389.jpg'"
      ]
     },
     "execution_count": 8,
     "metadata": {},
     "output_type": "execute_result"
    },
    {
     "data": {
      "text/plain": [
       "'C:\\\\Users\\\\steka\\\\Competition_Image_Classification\\\\MaskDataset\\\\validation\\\\14828.jpg'"
      ]
     },
     "execution_count": 8,
     "metadata": {},
     "output_type": "execute_result"
    },
    {
     "data": {
      "text/plain": [
       "'C:\\\\Users\\\\steka\\\\Competition_Image_Classification\\\\MaskDataset\\\\validation\\\\11103.jpg'"
      ]
     },
     "execution_count": 8,
     "metadata": {},
     "output_type": "execute_result"
    },
    {
     "data": {
      "text/plain": [
       "'C:\\\\Users\\\\steka\\\\Competition_Image_Classification\\\\MaskDataset\\\\validation\\\\15771.jpg'"
      ]
     },
     "execution_count": 8,
     "metadata": {},
     "output_type": "execute_result"
    },
    {
     "data": {
      "text/plain": [
       "'C:\\\\Users\\\\steka\\\\Competition_Image_Classification\\\\MaskDataset\\\\validation\\\\14302.jpg'"
      ]
     },
     "execution_count": 8,
     "metadata": {},
     "output_type": "execute_result"
    },
    {
     "data": {
      "text/plain": [
       "'C:\\\\Users\\\\steka\\\\Competition_Image_Classification\\\\MaskDataset\\\\validation\\\\11198.jpg'"
      ]
     },
     "execution_count": 8,
     "metadata": {},
     "output_type": "execute_result"
    },
    {
     "data": {
      "text/plain": [
       "'C:\\\\Users\\\\steka\\\\Competition_Image_Classification\\\\MaskDataset\\\\validation\\\\13668.jpg'"
      ]
     },
     "execution_count": 8,
     "metadata": {},
     "output_type": "execute_result"
    },
    {
     "data": {
      "text/plain": [
       "'C:\\\\Users\\\\steka\\\\Competition_Image_Classification\\\\MaskDataset\\\\validation\\\\10339.jpg'"
      ]
     },
     "execution_count": 8,
     "metadata": {},
     "output_type": "execute_result"
    },
    {
     "data": {
      "text/plain": [
       "'C:\\\\Users\\\\steka\\\\Competition_Image_Classification\\\\MaskDataset\\\\validation\\\\12389.jpg'"
      ]
     },
     "execution_count": 8,
     "metadata": {},
     "output_type": "execute_result"
    },
    {
     "data": {
      "text/plain": [
       "'C:\\\\Users\\\\steka\\\\Competition_Image_Classification\\\\MaskDataset\\\\validation\\\\11390.jpg'"
      ]
     },
     "execution_count": 8,
     "metadata": {},
     "output_type": "execute_result"
    },
    {
     "data": {
      "text/plain": [
       "'C:\\\\Users\\\\steka\\\\Competition_Image_Classification\\\\MaskDataset\\\\validation\\\\13909.jpg'"
      ]
     },
     "execution_count": 8,
     "metadata": {},
     "output_type": "execute_result"
    },
    {
     "data": {
      "text/plain": [
       "'C:\\\\Users\\\\steka\\\\Competition_Image_Classification\\\\MaskDataset\\\\validation\\\\16657.jpg'"
      ]
     },
     "execution_count": 8,
     "metadata": {},
     "output_type": "execute_result"
    },
    {
     "data": {
      "text/plain": [
       "'C:\\\\Users\\\\steka\\\\Competition_Image_Classification\\\\MaskDataset\\\\validation\\\\12839.jpg'"
      ]
     },
     "execution_count": 8,
     "metadata": {},
     "output_type": "execute_result"
    },
    {
     "data": {
      "text/plain": [
       "'C:\\\\Users\\\\steka\\\\Competition_Image_Classification\\\\MaskDataset\\\\validation\\\\10283.jpg'"
      ]
     },
     "execution_count": 8,
     "metadata": {},
     "output_type": "execute_result"
    },
    {
     "data": {
      "text/plain": [
       "'C:\\\\Users\\\\steka\\\\Competition_Image_Classification\\\\MaskDataset\\\\validation\\\\15490.jpg'"
      ]
     },
     "execution_count": 8,
     "metadata": {},
     "output_type": "execute_result"
    },
    {
     "data": {
      "text/plain": [
       "'C:\\\\Users\\\\steka\\\\Competition_Image_Classification\\\\MaskDataset\\\\validation\\\\18152.jpg'"
      ]
     },
     "execution_count": 8,
     "metadata": {},
     "output_type": "execute_result"
    },
    {
     "data": {
      "text/plain": [
       "'C:\\\\Users\\\\steka\\\\Competition_Image_Classification\\\\MaskDataset\\\\validation\\\\10891.jpg'"
      ]
     },
     "execution_count": 8,
     "metadata": {},
     "output_type": "execute_result"
    },
    {
     "data": {
      "text/plain": [
       "'C:\\\\Users\\\\steka\\\\Competition_Image_Classification\\\\MaskDataset\\\\validation\\\\14712.jpg'"
      ]
     },
     "execution_count": 8,
     "metadata": {},
     "output_type": "execute_result"
    },
    {
     "data": {
      "text/plain": [
       "'C:\\\\Users\\\\steka\\\\Competition_Image_Classification\\\\MaskDataset\\\\validation\\\\13994.jpg'"
      ]
     },
     "execution_count": 8,
     "metadata": {},
     "output_type": "execute_result"
    },
    {
     "data": {
      "text/plain": [
       "'C:\\\\Users\\\\steka\\\\Competition_Image_Classification\\\\MaskDataset\\\\validation\\\\18101.jpg'"
      ]
     },
     "execution_count": 8,
     "metadata": {},
     "output_type": "execute_result"
    },
    {
     "data": {
      "text/plain": [
       "'C:\\\\Users\\\\steka\\\\Competition_Image_Classification\\\\MaskDataset\\\\validation\\\\13412.jpg'"
      ]
     },
     "execution_count": 8,
     "metadata": {},
     "output_type": "execute_result"
    },
    {
     "data": {
      "text/plain": [
       "'C:\\\\Users\\\\steka\\\\Competition_Image_Classification\\\\MaskDataset\\\\validation\\\\10589.jpg'"
      ]
     },
     "execution_count": 8,
     "metadata": {},
     "output_type": "execute_result"
    },
    {
     "data": {
      "text/plain": [
       "'C:\\\\Users\\\\steka\\\\Competition_Image_Classification\\\\MaskDataset\\\\validation\\\\15920.jpg'"
      ]
     },
     "execution_count": 8,
     "metadata": {},
     "output_type": "execute_result"
    },
    {
     "data": {
      "text/plain": [
       "'C:\\\\Users\\\\steka\\\\Competition_Image_Classification\\\\MaskDataset\\\\validation\\\\13494.jpg'"
      ]
     },
     "execution_count": 8,
     "metadata": {},
     "output_type": "execute_result"
    },
    {
     "data": {
      "text/plain": [
       "'C:\\\\Users\\\\steka\\\\Competition_Image_Classification\\\\MaskDataset\\\\validation\\\\16143.jpg'"
      ]
     },
     "execution_count": 8,
     "metadata": {},
     "output_type": "execute_result"
    },
    {
     "data": {
      "text/plain": [
       "'C:\\\\Users\\\\steka\\\\Competition_Image_Classification\\\\MaskDataset\\\\validation\\\\16859.jpg'"
      ]
     },
     "execution_count": 8,
     "metadata": {},
     "output_type": "execute_result"
    },
    {
     "data": {
      "text/plain": [
       "'C:\\\\Users\\\\steka\\\\Competition_Image_Classification\\\\MaskDataset\\\\validation\\\\18022.jpg'"
      ]
     },
     "execution_count": 8,
     "metadata": {},
     "output_type": "execute_result"
    },
    {
     "data": {
      "text/plain": [
       "'C:\\\\Users\\\\steka\\\\Competition_Image_Classification\\\\MaskDataset\\\\validation\\\\16188.jpg'"
      ]
     },
     "execution_count": 8,
     "metadata": {},
     "output_type": "execute_result"
    },
    {
     "data": {
      "text/plain": [
       "'C:\\\\Users\\\\steka\\\\Competition_Image_Classification\\\\MaskDataset\\\\validation\\\\10224.jpg'"
      ]
     },
     "execution_count": 8,
     "metadata": {},
     "output_type": "execute_result"
    },
    {
     "data": {
      "text/plain": [
       "'C:\\\\Users\\\\steka\\\\Competition_Image_Classification\\\\MaskDataset\\\\validation\\\\10053.jpg'"
      ]
     },
     "execution_count": 8,
     "metadata": {},
     "output_type": "execute_result"
    },
    {
     "data": {
      "text/plain": [
       "'C:\\\\Users\\\\steka\\\\Competition_Image_Classification\\\\MaskDataset\\\\validation\\\\17350.jpg'"
      ]
     },
     "execution_count": 8,
     "metadata": {},
     "output_type": "execute_result"
    },
    {
     "data": {
      "text/plain": [
       "'C:\\\\Users\\\\steka\\\\Competition_Image_Classification\\\\MaskDataset\\\\validation\\\\13673.jpg'"
      ]
     },
     "execution_count": 8,
     "metadata": {},
     "output_type": "execute_result"
    },
    {
     "data": {
      "text/plain": [
       "'C:\\\\Users\\\\steka\\\\Competition_Image_Classification\\\\MaskDataset\\\\validation\\\\13946.jpg'"
      ]
     },
     "execution_count": 8,
     "metadata": {},
     "output_type": "execute_result"
    },
    {
     "data": {
      "text/plain": [
       "'C:\\\\Users\\\\steka\\\\Competition_Image_Classification\\\\MaskDataset\\\\validation\\\\12259.jpg'"
      ]
     },
     "execution_count": 8,
     "metadata": {},
     "output_type": "execute_result"
    },
    {
     "data": {
      "text/plain": [
       "'C:\\\\Users\\\\steka\\\\Competition_Image_Classification\\\\MaskDataset\\\\validation\\\\13375.jpg'"
      ]
     },
     "execution_count": 8,
     "metadata": {},
     "output_type": "execute_result"
    },
    {
     "data": {
      "text/plain": [
       "'C:\\\\Users\\\\steka\\\\Competition_Image_Classification\\\\MaskDataset\\\\validation\\\\14473.jpg'"
      ]
     },
     "execution_count": 8,
     "metadata": {},
     "output_type": "execute_result"
    },
    {
     "data": {
      "text/plain": [
       "'C:\\\\Users\\\\steka\\\\Competition_Image_Classification\\\\MaskDataset\\\\validation\\\\12316.jpg'"
      ]
     },
     "execution_count": 8,
     "metadata": {},
     "output_type": "execute_result"
    },
    {
     "data": {
      "text/plain": [
       "'C:\\\\Users\\\\steka\\\\Competition_Image_Classification\\\\MaskDataset\\\\validation\\\\16458.jpg'"
      ]
     },
     "execution_count": 8,
     "metadata": {},
     "output_type": "execute_result"
    },
    {
     "data": {
      "text/plain": [
       "'C:\\\\Users\\\\steka\\\\Competition_Image_Classification\\\\MaskDataset\\\\validation\\\\10309.jpg'"
      ]
     },
     "execution_count": 8,
     "metadata": {},
     "output_type": "execute_result"
    },
    {
     "data": {
      "text/plain": [
       "'C:\\\\Users\\\\steka\\\\Competition_Image_Classification\\\\MaskDataset\\\\validation\\\\12218.jpg'"
      ]
     },
     "execution_count": 8,
     "metadata": {},
     "output_type": "execute_result"
    },
    {
     "data": {
      "text/plain": [
       "'C:\\\\Users\\\\steka\\\\Competition_Image_Classification\\\\MaskDataset\\\\validation\\\\10253.jpg'"
      ]
     },
     "execution_count": 8,
     "metadata": {},
     "output_type": "execute_result"
    },
    {
     "data": {
      "text/plain": [
       "'C:\\\\Users\\\\steka\\\\Competition_Image_Classification\\\\MaskDataset\\\\validation\\\\11585.jpg'"
      ]
     },
     "execution_count": 8,
     "metadata": {},
     "output_type": "execute_result"
    },
    {
     "data": {
      "text/plain": [
       "'C:\\\\Users\\\\steka\\\\Competition_Image_Classification\\\\MaskDataset\\\\validation\\\\13746.jpg'"
      ]
     },
     "execution_count": 8,
     "metadata": {},
     "output_type": "execute_result"
    },
    {
     "data": {
      "text/plain": [
       "'C:\\\\Users\\\\steka\\\\Competition_Image_Classification\\\\MaskDataset\\\\validation\\\\13730.jpg'"
      ]
     },
     "execution_count": 8,
     "metadata": {},
     "output_type": "execute_result"
    },
    {
     "data": {
      "text/plain": [
       "'C:\\\\Users\\\\steka\\\\Competition_Image_Classification\\\\MaskDataset\\\\validation\\\\18014.jpg'"
      ]
     },
     "execution_count": 8,
     "metadata": {},
     "output_type": "execute_result"
    },
    {
     "data": {
      "text/plain": [
       "'C:\\\\Users\\\\steka\\\\Competition_Image_Classification\\\\MaskDataset\\\\validation\\\\17979.jpg'"
      ]
     },
     "execution_count": 8,
     "metadata": {},
     "output_type": "execute_result"
    },
    {
     "data": {
      "text/plain": [
       "'C:\\\\Users\\\\steka\\\\Competition_Image_Classification\\\\MaskDataset\\\\validation\\\\15969.jpg'"
      ]
     },
     "execution_count": 8,
     "metadata": {},
     "output_type": "execute_result"
    },
    {
     "data": {
      "text/plain": [
       "'C:\\\\Users\\\\steka\\\\Competition_Image_Classification\\\\MaskDataset\\\\validation\\\\14898.jpg'"
      ]
     },
     "execution_count": 8,
     "metadata": {},
     "output_type": "execute_result"
    },
    {
     "data": {
      "text/plain": [
       "'C:\\\\Users\\\\steka\\\\Competition_Image_Classification\\\\MaskDataset\\\\validation\\\\13628.jpg'"
      ]
     },
     "execution_count": 8,
     "metadata": {},
     "output_type": "execute_result"
    },
    {
     "data": {
      "text/plain": [
       "'C:\\\\Users\\\\steka\\\\Competition_Image_Classification\\\\MaskDataset\\\\validation\\\\18140.jpg'"
      ]
     },
     "execution_count": 8,
     "metadata": {},
     "output_type": "execute_result"
    },
    {
     "data": {
      "text/plain": [
       "'C:\\\\Users\\\\steka\\\\Competition_Image_Classification\\\\MaskDataset\\\\validation\\\\12966.jpg'"
      ]
     },
     "execution_count": 8,
     "metadata": {},
     "output_type": "execute_result"
    },
    {
     "data": {
      "text/plain": [
       "'C:\\\\Users\\\\steka\\\\Competition_Image_Classification\\\\MaskDataset\\\\validation\\\\15690.jpg'"
      ]
     },
     "execution_count": 8,
     "metadata": {},
     "output_type": "execute_result"
    },
    {
     "data": {
      "text/plain": [
       "'C:\\\\Users\\\\steka\\\\Competition_Image_Classification\\\\MaskDataset\\\\validation\\\\17175.jpg'"
      ]
     },
     "execution_count": 8,
     "metadata": {},
     "output_type": "execute_result"
    },
    {
     "data": {
      "text/plain": [
       "'C:\\\\Users\\\\steka\\\\Competition_Image_Classification\\\\MaskDataset\\\\validation\\\\14234.jpg'"
      ]
     },
     "execution_count": 8,
     "metadata": {},
     "output_type": "execute_result"
    },
    {
     "data": {
      "text/plain": [
       "'C:\\\\Users\\\\steka\\\\Competition_Image_Classification\\\\MaskDataset\\\\validation\\\\11053.jpg'"
      ]
     },
     "execution_count": 8,
     "metadata": {},
     "output_type": "execute_result"
    },
    {
     "data": {
      "text/plain": [
       "'C:\\\\Users\\\\steka\\\\Competition_Image_Classification\\\\MaskDataset\\\\validation\\\\17982.jpg'"
      ]
     },
     "execution_count": 8,
     "metadata": {},
     "output_type": "execute_result"
    },
    {
     "data": {
      "text/plain": [
       "'C:\\\\Users\\\\steka\\\\Competition_Image_Classification\\\\MaskDataset\\\\validation\\\\11394.jpg'"
      ]
     },
     "execution_count": 8,
     "metadata": {},
     "output_type": "execute_result"
    },
    {
     "data": {
      "text/plain": [
       "'C:\\\\Users\\\\steka\\\\Competition_Image_Classification\\\\MaskDataset\\\\validation\\\\13598.jpg'"
      ]
     },
     "execution_count": 8,
     "metadata": {},
     "output_type": "execute_result"
    },
    {
     "data": {
      "text/plain": [
       "'C:\\\\Users\\\\steka\\\\Competition_Image_Classification\\\\MaskDataset\\\\validation\\\\11597.jpg'"
      ]
     },
     "execution_count": 8,
     "metadata": {},
     "output_type": "execute_result"
    },
    {
     "data": {
      "text/plain": [
       "'C:\\\\Users\\\\steka\\\\Competition_Image_Classification\\\\MaskDataset\\\\validation\\\\14741.jpg'"
      ]
     },
     "execution_count": 8,
     "metadata": {},
     "output_type": "execute_result"
    },
    {
     "data": {
      "text/plain": [
       "'C:\\\\Users\\\\steka\\\\Competition_Image_Classification\\\\MaskDataset\\\\validation\\\\11510.jpg'"
      ]
     },
     "execution_count": 8,
     "metadata": {},
     "output_type": "execute_result"
    },
    {
     "data": {
      "text/plain": [
       "'C:\\\\Users\\\\steka\\\\Competition_Image_Classification\\\\MaskDataset\\\\validation\\\\12631.jpg'"
      ]
     },
     "execution_count": 8,
     "metadata": {},
     "output_type": "execute_result"
    },
    {
     "data": {
      "text/plain": [
       "'C:\\\\Users\\\\steka\\\\Competition_Image_Classification\\\\MaskDataset\\\\validation\\\\13332.jpg'"
      ]
     },
     "execution_count": 8,
     "metadata": {},
     "output_type": "execute_result"
    },
    {
     "data": {
      "text/plain": [
       "'C:\\\\Users\\\\steka\\\\Competition_Image_Classification\\\\MaskDataset\\\\validation\\\\12663.jpg'"
      ]
     },
     "execution_count": 8,
     "metadata": {},
     "output_type": "execute_result"
    },
    {
     "data": {
      "text/plain": [
       "'C:\\\\Users\\\\steka\\\\Competition_Image_Classification\\\\MaskDataset\\\\validation\\\\12240.jpg'"
      ]
     },
     "execution_count": 8,
     "metadata": {},
     "output_type": "execute_result"
    },
    {
     "data": {
      "text/plain": [
       "'C:\\\\Users\\\\steka\\\\Competition_Image_Classification\\\\MaskDataset\\\\validation\\\\10964.jpg'"
      ]
     },
     "execution_count": 8,
     "metadata": {},
     "output_type": "execute_result"
    },
    {
     "data": {
      "text/plain": [
       "'C:\\\\Users\\\\steka\\\\Competition_Image_Classification\\\\MaskDataset\\\\validation\\\\13810.jpg'"
      ]
     },
     "execution_count": 8,
     "metadata": {},
     "output_type": "execute_result"
    },
    {
     "data": {
      "text/plain": [
       "'C:\\\\Users\\\\steka\\\\Competition_Image_Classification\\\\MaskDataset\\\\validation\\\\16424.jpg'"
      ]
     },
     "execution_count": 8,
     "metadata": {},
     "output_type": "execute_result"
    },
    {
     "data": {
      "text/plain": [
       "'C:\\\\Users\\\\steka\\\\Competition_Image_Classification\\\\MaskDataset\\\\validation\\\\13366.jpg'"
      ]
     },
     "execution_count": 8,
     "metadata": {},
     "output_type": "execute_result"
    },
    {
     "data": {
      "text/plain": [
       "'C:\\\\Users\\\\steka\\\\Competition_Image_Classification\\\\MaskDataset\\\\validation\\\\14426.jpg'"
      ]
     },
     "execution_count": 8,
     "metadata": {},
     "output_type": "execute_result"
    },
    {
     "data": {
      "text/plain": [
       "'C:\\\\Users\\\\steka\\\\Competition_Image_Classification\\\\MaskDataset\\\\validation\\\\12363.jpg'"
      ]
     },
     "execution_count": 8,
     "metadata": {},
     "output_type": "execute_result"
    },
    {
     "data": {
      "text/plain": [
       "'C:\\\\Users\\\\steka\\\\Competition_Image_Classification\\\\MaskDataset\\\\validation\\\\11886.jpg'"
      ]
     },
     "execution_count": 8,
     "metadata": {},
     "output_type": "execute_result"
    },
    {
     "data": {
      "text/plain": [
       "'C:\\\\Users\\\\steka\\\\Competition_Image_Classification\\\\MaskDataset\\\\validation\\\\17578.jpg'"
      ]
     },
     "execution_count": 8,
     "metadata": {},
     "output_type": "execute_result"
    },
    {
     "data": {
      "text/plain": [
       "'C:\\\\Users\\\\steka\\\\Competition_Image_Classification\\\\MaskDataset\\\\validation\\\\18019.jpg'"
      ]
     },
     "execution_count": 8,
     "metadata": {},
     "output_type": "execute_result"
    },
    {
     "data": {
      "text/plain": [
       "'C:\\\\Users\\\\steka\\\\Competition_Image_Classification\\\\MaskDataset\\\\validation\\\\16749.jpg'"
      ]
     },
     "execution_count": 8,
     "metadata": {},
     "output_type": "execute_result"
    },
    {
     "data": {
      "text/plain": [
       "'C:\\\\Users\\\\steka\\\\Competition_Image_Classification\\\\MaskDataset\\\\validation\\\\16558.jpg'"
      ]
     },
     "execution_count": 8,
     "metadata": {},
     "output_type": "execute_result"
    },
    {
     "data": {
      "text/plain": [
       "'C:\\\\Users\\\\steka\\\\Competition_Image_Classification\\\\MaskDataset\\\\validation\\\\15344.jpg'"
      ]
     },
     "execution_count": 8,
     "metadata": {},
     "output_type": "execute_result"
    },
    {
     "data": {
      "text/plain": [
       "'C:\\\\Users\\\\steka\\\\Competition_Image_Classification\\\\MaskDataset\\\\validation\\\\14184.jpg'"
      ]
     },
     "execution_count": 8,
     "metadata": {},
     "output_type": "execute_result"
    },
    {
     "data": {
      "text/plain": [
       "'C:\\\\Users\\\\steka\\\\Competition_Image_Classification\\\\MaskDataset\\\\validation\\\\11424.jpg'"
      ]
     },
     "execution_count": 8,
     "metadata": {},
     "output_type": "execute_result"
    },
    {
     "data": {
      "text/plain": [
       "'C:\\\\Users\\\\steka\\\\Competition_Image_Classification\\\\MaskDataset\\\\validation\\\\10661.jpg'"
      ]
     },
     "execution_count": 8,
     "metadata": {},
     "output_type": "execute_result"
    },
    {
     "data": {
      "text/plain": [
       "'C:\\\\Users\\\\steka\\\\Competition_Image_Classification\\\\MaskDataset\\\\validation\\\\17751.jpg'"
      ]
     },
     "execution_count": 8,
     "metadata": {},
     "output_type": "execute_result"
    },
    {
     "data": {
      "text/plain": [
       "'C:\\\\Users\\\\steka\\\\Competition_Image_Classification\\\\MaskDataset\\\\validation\\\\17394.jpg'"
      ]
     },
     "execution_count": 8,
     "metadata": {},
     "output_type": "execute_result"
    },
    {
     "data": {
      "text/plain": [
       "'C:\\\\Users\\\\steka\\\\Competition_Image_Classification\\\\MaskDataset\\\\validation\\\\13183.jpg'"
      ]
     },
     "execution_count": 8,
     "metadata": {},
     "output_type": "execute_result"
    },
    {
     "data": {
      "text/plain": [
       "'C:\\\\Users\\\\steka\\\\Competition_Image_Classification\\\\MaskDataset\\\\validation\\\\17676.jpg'"
      ]
     },
     "execution_count": 8,
     "metadata": {},
     "output_type": "execute_result"
    },
    {
     "data": {
      "text/plain": [
       "'C:\\\\Users\\\\steka\\\\Competition_Image_Classification\\\\MaskDataset\\\\validation\\\\13150.jpg'"
      ]
     },
     "execution_count": 8,
     "metadata": {},
     "output_type": "execute_result"
    },
    {
     "data": {
      "text/plain": [
       "'C:\\\\Users\\\\steka\\\\Competition_Image_Classification\\\\MaskDataset\\\\validation\\\\15236.jpg'"
      ]
     },
     "execution_count": 8,
     "metadata": {},
     "output_type": "execute_result"
    },
    {
     "data": {
      "text/plain": [
       "'C:\\\\Users\\\\steka\\\\Competition_Image_Classification\\\\MaskDataset\\\\validation\\\\13984.jpg'"
      ]
     },
     "execution_count": 8,
     "metadata": {},
     "output_type": "execute_result"
    },
    {
     "data": {
      "text/plain": [
       "'C:\\\\Users\\\\steka\\\\Competition_Image_Classification\\\\MaskDataset\\\\validation\\\\13684.jpg'"
      ]
     },
     "execution_count": 8,
     "metadata": {},
     "output_type": "execute_result"
    },
    {
     "data": {
      "text/plain": [
       "'C:\\\\Users\\\\steka\\\\Competition_Image_Classification\\\\MaskDataset\\\\validation\\\\13405.jpg'"
      ]
     },
     "execution_count": 8,
     "metadata": {},
     "output_type": "execute_result"
    },
    {
     "data": {
      "text/plain": [
       "'C:\\\\Users\\\\steka\\\\Competition_Image_Classification\\\\MaskDataset\\\\validation\\\\14298.jpg'"
      ]
     },
     "execution_count": 8,
     "metadata": {},
     "output_type": "execute_result"
    },
    {
     "data": {
      "text/plain": [
       "'C:\\\\Users\\\\steka\\\\Competition_Image_Classification\\\\MaskDataset\\\\validation\\\\14651.jpg'"
      ]
     },
     "execution_count": 8,
     "metadata": {},
     "output_type": "execute_result"
    },
    {
     "data": {
      "text/plain": [
       "'C:\\\\Users\\\\steka\\\\Competition_Image_Classification\\\\MaskDataset\\\\validation\\\\11984.jpg'"
      ]
     },
     "execution_count": 8,
     "metadata": {},
     "output_type": "execute_result"
    },
    {
     "data": {
      "text/plain": [
       "'C:\\\\Users\\\\steka\\\\Competition_Image_Classification\\\\MaskDataset\\\\validation\\\\16949.jpg'"
      ]
     },
     "execution_count": 8,
     "metadata": {},
     "output_type": "execute_result"
    },
    {
     "data": {
      "text/plain": [
       "'C:\\\\Users\\\\steka\\\\Competition_Image_Classification\\\\MaskDataset\\\\validation\\\\17535.jpg'"
      ]
     },
     "execution_count": 8,
     "metadata": {},
     "output_type": "execute_result"
    },
    {
     "data": {
      "text/plain": [
       "'C:\\\\Users\\\\steka\\\\Competition_Image_Classification\\\\MaskDataset\\\\validation\\\\17705.jpg'"
      ]
     },
     "execution_count": 8,
     "metadata": {},
     "output_type": "execute_result"
    },
    {
     "data": {
      "text/plain": [
       "'C:\\\\Users\\\\steka\\\\Competition_Image_Classification\\\\MaskDataset\\\\validation\\\\10831.jpg'"
      ]
     },
     "execution_count": 8,
     "metadata": {},
     "output_type": "execute_result"
    },
    {
     "data": {
      "text/plain": [
       "'C:\\\\Users\\\\steka\\\\Competition_Image_Classification\\\\MaskDataset\\\\validation\\\\10723.jpg'"
      ]
     },
     "execution_count": 8,
     "metadata": {},
     "output_type": "execute_result"
    },
    {
     "data": {
      "text/plain": [
       "'C:\\\\Users\\\\steka\\\\Competition_Image_Classification\\\\MaskDataset\\\\validation\\\\15452.jpg'"
      ]
     },
     "execution_count": 8,
     "metadata": {},
     "output_type": "execute_result"
    },
    {
     "data": {
      "text/plain": [
       "'C:\\\\Users\\\\steka\\\\Competition_Image_Classification\\\\MaskDataset\\\\validation\\\\10996.jpg'"
      ]
     },
     "execution_count": 8,
     "metadata": {},
     "output_type": "execute_result"
    },
    {
     "data": {
      "text/plain": [
       "'C:\\\\Users\\\\steka\\\\Competition_Image_Classification\\\\MaskDataset\\\\validation\\\\11735.jpg'"
      ]
     },
     "execution_count": 8,
     "metadata": {},
     "output_type": "execute_result"
    },
    {
     "data": {
      "text/plain": [
       "'C:\\\\Users\\\\steka\\\\Competition_Image_Classification\\\\MaskDataset\\\\validation\\\\14768.jpg'"
      ]
     },
     "execution_count": 8,
     "metadata": {},
     "output_type": "execute_result"
    },
    {
     "data": {
      "text/plain": [
       "'C:\\\\Users\\\\steka\\\\Competition_Image_Classification\\\\MaskDataset\\\\validation\\\\12236.jpg'"
      ]
     },
     "execution_count": 8,
     "metadata": {},
     "output_type": "execute_result"
    },
    {
     "data": {
      "text/plain": [
       "'C:\\\\Users\\\\steka\\\\Competition_Image_Classification\\\\MaskDataset\\\\validation\\\\16605.jpg'"
      ]
     },
     "execution_count": 8,
     "metadata": {},
     "output_type": "execute_result"
    },
    {
     "data": {
      "text/plain": [
       "'C:\\\\Users\\\\steka\\\\Competition_Image_Classification\\\\MaskDataset\\\\validation\\\\13120.jpg'"
      ]
     },
     "execution_count": 8,
     "metadata": {},
     "output_type": "execute_result"
    },
    {
     "data": {
      "text/plain": [
       "'C:\\\\Users\\\\steka\\\\Competition_Image_Classification\\\\MaskDataset\\\\validation\\\\11253.jpg'"
      ]
     },
     "execution_count": 8,
     "metadata": {},
     "output_type": "execute_result"
    },
    {
     "data": {
      "text/plain": [
       "'C:\\\\Users\\\\steka\\\\Competition_Image_Classification\\\\MaskDataset\\\\validation\\\\17376.jpg'"
      ]
     },
     "execution_count": 8,
     "metadata": {},
     "output_type": "execute_result"
    },
    {
     "data": {
      "text/plain": [
       "'C:\\\\Users\\\\steka\\\\Competition_Image_Classification\\\\MaskDataset\\\\validation\\\\18038.jpg'"
      ]
     },
     "execution_count": 8,
     "metadata": {},
     "output_type": "execute_result"
    },
    {
     "data": {
      "text/plain": [
       "'C:\\\\Users\\\\steka\\\\Competition_Image_Classification\\\\MaskDataset\\\\validation\\\\15434.jpg'"
      ]
     },
     "execution_count": 8,
     "metadata": {},
     "output_type": "execute_result"
    },
    {
     "data": {
      "text/plain": [
       "'C:\\\\Users\\\\steka\\\\Competition_Image_Classification\\\\MaskDataset\\\\validation\\\\14487.jpg'"
      ]
     },
     "execution_count": 8,
     "metadata": {},
     "output_type": "execute_result"
    },
    {
     "data": {
      "text/plain": [
       "'C:\\\\Users\\\\steka\\\\Competition_Image_Classification\\\\MaskDataset\\\\validation\\\\18193.jpg'"
      ]
     },
     "execution_count": 8,
     "metadata": {},
     "output_type": "execute_result"
    },
    {
     "data": {
      "text/plain": [
       "'C:\\\\Users\\\\steka\\\\Competition_Image_Classification\\\\MaskDataset\\\\validation\\\\17912.jpg'"
      ]
     },
     "execution_count": 8,
     "metadata": {},
     "output_type": "execute_result"
    },
    {
     "data": {
      "text/plain": [
       "'C:\\\\Users\\\\steka\\\\Competition_Image_Classification\\\\MaskDataset\\\\validation\\\\16154.jpg'"
      ]
     },
     "execution_count": 8,
     "metadata": {},
     "output_type": "execute_result"
    },
    {
     "data": {
      "text/plain": [
       "'C:\\\\Users\\\\steka\\\\Competition_Image_Classification\\\\MaskDataset\\\\validation\\\\13145.jpg'"
      ]
     },
     "execution_count": 8,
     "metadata": {},
     "output_type": "execute_result"
    },
    {
     "data": {
      "text/plain": [
       "'C:\\\\Users\\\\steka\\\\Competition_Image_Classification\\\\MaskDataset\\\\validation\\\\15961.jpg'"
      ]
     },
     "execution_count": 8,
     "metadata": {},
     "output_type": "execute_result"
    },
    {
     "data": {
      "text/plain": [
       "'C:\\\\Users\\\\steka\\\\Competition_Image_Classification\\\\MaskDataset\\\\validation\\\\17780.jpg'"
      ]
     },
     "execution_count": 8,
     "metadata": {},
     "output_type": "execute_result"
    },
    {
     "data": {
      "text/plain": [
       "'C:\\\\Users\\\\steka\\\\Competition_Image_Classification\\\\MaskDataset\\\\validation\\\\16625.jpg'"
      ]
     },
     "execution_count": 8,
     "metadata": {},
     "output_type": "execute_result"
    },
    {
     "data": {
      "text/plain": [
       "'C:\\\\Users\\\\steka\\\\Competition_Image_Classification\\\\MaskDataset\\\\validation\\\\15694.jpg'"
      ]
     },
     "execution_count": 8,
     "metadata": {},
     "output_type": "execute_result"
    },
    {
     "data": {
      "text/plain": [
       "'C:\\\\Users\\\\steka\\\\Competition_Image_Classification\\\\MaskDataset\\\\validation\\\\11893.jpg'"
      ]
     },
     "execution_count": 8,
     "metadata": {},
     "output_type": "execute_result"
    },
    {
     "data": {
      "text/plain": [
       "'C:\\\\Users\\\\steka\\\\Competition_Image_Classification\\\\MaskDataset\\\\validation\\\\10386.jpg'"
      ]
     },
     "execution_count": 8,
     "metadata": {},
     "output_type": "execute_result"
    },
    {
     "data": {
      "text/plain": [
       "'C:\\\\Users\\\\steka\\\\Competition_Image_Classification\\\\MaskDataset\\\\validation\\\\11669.jpg'"
      ]
     },
     "execution_count": 8,
     "metadata": {},
     "output_type": "execute_result"
    },
    {
     "data": {
      "text/plain": [
       "'C:\\\\Users\\\\steka\\\\Competition_Image_Classification\\\\MaskDataset\\\\validation\\\\14016.jpg'"
      ]
     },
     "execution_count": 8,
     "metadata": {},
     "output_type": "execute_result"
    },
    {
     "data": {
      "text/plain": [
       "'C:\\\\Users\\\\steka\\\\Competition_Image_Classification\\\\MaskDataset\\\\validation\\\\13698.jpg'"
      ]
     },
     "execution_count": 8,
     "metadata": {},
     "output_type": "execute_result"
    },
    {
     "data": {
      "text/plain": [
       "'C:\\\\Users\\\\steka\\\\Competition_Image_Classification\\\\MaskDataset\\\\validation\\\\17775.jpg'"
      ]
     },
     "execution_count": 8,
     "metadata": {},
     "output_type": "execute_result"
    },
    {
     "data": {
      "text/plain": [
       "'C:\\\\Users\\\\steka\\\\Competition_Image_Classification\\\\MaskDataset\\\\validation\\\\16043.jpg'"
      ]
     },
     "execution_count": 8,
     "metadata": {},
     "output_type": "execute_result"
    },
    {
     "data": {
      "text/plain": [
       "'C:\\\\Users\\\\steka\\\\Competition_Image_Classification\\\\MaskDataset\\\\validation\\\\15547.jpg'"
      ]
     },
     "execution_count": 8,
     "metadata": {},
     "output_type": "execute_result"
    },
    {
     "data": {
      "text/plain": [
       "'C:\\\\Users\\\\steka\\\\Competition_Image_Classification\\\\MaskDataset\\\\validation\\\\12888.jpg'"
      ]
     },
     "execution_count": 8,
     "metadata": {},
     "output_type": "execute_result"
    },
    {
     "data": {
      "text/plain": [
       "'C:\\\\Users\\\\steka\\\\Competition_Image_Classification\\\\MaskDataset\\\\validation\\\\11016.jpg'"
      ]
     },
     "execution_count": 8,
     "metadata": {},
     "output_type": "execute_result"
    },
    {
     "data": {
      "text/plain": [
       "'C:\\\\Users\\\\steka\\\\Competition_Image_Classification\\\\MaskDataset\\\\validation\\\\17626.jpg'"
      ]
     },
     "execution_count": 8,
     "metadata": {},
     "output_type": "execute_result"
    },
    {
     "data": {
      "text/plain": [
       "'C:\\\\Users\\\\steka\\\\Competition_Image_Classification\\\\MaskDataset\\\\validation\\\\12145.jpg'"
      ]
     },
     "execution_count": 8,
     "metadata": {},
     "output_type": "execute_result"
    },
    {
     "data": {
      "text/plain": [
       "'C:\\\\Users\\\\steka\\\\Competition_Image_Classification\\\\MaskDataset\\\\validation\\\\17847.jpg'"
      ]
     },
     "execution_count": 8,
     "metadata": {},
     "output_type": "execute_result"
    },
    {
     "data": {
      "text/plain": [
       "'C:\\\\Users\\\\steka\\\\Competition_Image_Classification\\\\MaskDataset\\\\validation\\\\12637.jpg'"
      ]
     },
     "execution_count": 8,
     "metadata": {},
     "output_type": "execute_result"
    },
    {
     "data": {
      "text/plain": [
       "'C:\\\\Users\\\\steka\\\\Competition_Image_Classification\\\\MaskDataset\\\\validation\\\\12124.jpg'"
      ]
     },
     "execution_count": 8,
     "metadata": {},
     "output_type": "execute_result"
    },
    {
     "data": {
      "text/plain": [
       "'C:\\\\Users\\\\steka\\\\Competition_Image_Classification\\\\MaskDataset\\\\validation\\\\13340.jpg'"
      ]
     },
     "execution_count": 8,
     "metadata": {},
     "output_type": "execute_result"
    },
    {
     "data": {
      "text/plain": [
       "'C:\\\\Users\\\\steka\\\\Competition_Image_Classification\\\\MaskDataset\\\\validation\\\\11481.jpg'"
      ]
     },
     "execution_count": 8,
     "metadata": {},
     "output_type": "execute_result"
    },
    {
     "data": {
      "text/plain": [
       "'C:\\\\Users\\\\steka\\\\Competition_Image_Classification\\\\MaskDataset\\\\validation\\\\14105.jpg'"
      ]
     },
     "execution_count": 8,
     "metadata": {},
     "output_type": "execute_result"
    },
    {
     "data": {
      "text/plain": [
       "'C:\\\\Users\\\\steka\\\\Competition_Image_Classification\\\\MaskDataset\\\\validation\\\\17029.jpg'"
      ]
     },
     "execution_count": 8,
     "metadata": {},
     "output_type": "execute_result"
    },
    {
     "data": {
      "text/plain": [
       "'C:\\\\Users\\\\steka\\\\Competition_Image_Classification\\\\MaskDataset\\\\validation\\\\15394.jpg'"
      ]
     },
     "execution_count": 8,
     "metadata": {},
     "output_type": "execute_result"
    },
    {
     "data": {
      "text/plain": [
       "'C:\\\\Users\\\\steka\\\\Competition_Image_Classification\\\\MaskDataset\\\\validation\\\\11660.jpg'"
      ]
     },
     "execution_count": 8,
     "metadata": {},
     "output_type": "execute_result"
    },
    {
     "data": {
      "text/plain": [
       "'C:\\\\Users\\\\steka\\\\Competition_Image_Classification\\\\MaskDataset\\\\validation\\\\11971.jpg'"
      ]
     },
     "execution_count": 8,
     "metadata": {},
     "output_type": "execute_result"
    },
    {
     "data": {
      "text/plain": [
       "'C:\\\\Users\\\\steka\\\\Competition_Image_Classification\\\\MaskDataset\\\\validation\\\\11794.jpg'"
      ]
     },
     "execution_count": 8,
     "metadata": {},
     "output_type": "execute_result"
    },
    {
     "data": {
      "text/plain": [
       "'C:\\\\Users\\\\steka\\\\Competition_Image_Classification\\\\MaskDataset\\\\validation\\\\18158.jpg'"
      ]
     },
     "execution_count": 8,
     "metadata": {},
     "output_type": "execute_result"
    },
    {
     "data": {
      "text/plain": [
       "'C:\\\\Users\\\\steka\\\\Competition_Image_Classification\\\\MaskDataset\\\\validation\\\\12472.jpg'"
      ]
     },
     "execution_count": 8,
     "metadata": {},
     "output_type": "execute_result"
    },
    {
     "data": {
      "text/plain": [
       "'C:\\\\Users\\\\steka\\\\Competition_Image_Classification\\\\MaskDataset\\\\validation\\\\16514.jpg'"
      ]
     },
     "execution_count": 8,
     "metadata": {},
     "output_type": "execute_result"
    },
    {
     "data": {
      "text/plain": [
       "'C:\\\\Users\\\\steka\\\\Competition_Image_Classification\\\\MaskDataset\\\\validation\\\\12137.jpg'"
      ]
     },
     "execution_count": 8,
     "metadata": {},
     "output_type": "execute_result"
    },
    {
     "data": {
      "text/plain": [
       "'C:\\\\Users\\\\steka\\\\Competition_Image_Classification\\\\MaskDataset\\\\validation\\\\12188.jpg'"
      ]
     },
     "execution_count": 8,
     "metadata": {},
     "output_type": "execute_result"
    },
    {
     "data": {
      "text/plain": [
       "'C:\\\\Users\\\\steka\\\\Competition_Image_Classification\\\\MaskDataset\\\\validation\\\\15729.jpg'"
      ]
     },
     "execution_count": 8,
     "metadata": {},
     "output_type": "execute_result"
    },
    {
     "data": {
      "text/plain": [
       "'C:\\\\Users\\\\steka\\\\Competition_Image_Classification\\\\MaskDataset\\\\validation\\\\11080.jpg'"
      ]
     },
     "execution_count": 8,
     "metadata": {},
     "output_type": "execute_result"
    },
    {
     "data": {
      "text/plain": [
       "'C:\\\\Users\\\\steka\\\\Competition_Image_Classification\\\\MaskDataset\\\\validation\\\\15569.jpg'"
      ]
     },
     "execution_count": 8,
     "metadata": {},
     "output_type": "execute_result"
    },
    {
     "data": {
      "text/plain": [
       "'C:\\\\Users\\\\steka\\\\Competition_Image_Classification\\\\MaskDataset\\\\validation\\\\14795.jpg'"
      ]
     },
     "execution_count": 8,
     "metadata": {},
     "output_type": "execute_result"
    },
    {
     "data": {
      "text/plain": [
       "'C:\\\\Users\\\\steka\\\\Competition_Image_Classification\\\\MaskDataset\\\\validation\\\\15411.jpg'"
      ]
     },
     "execution_count": 8,
     "metadata": {},
     "output_type": "execute_result"
    },
    {
     "data": {
      "text/plain": [
       "'C:\\\\Users\\\\steka\\\\Competition_Image_Classification\\\\MaskDataset\\\\validation\\\\14183.jpg'"
      ]
     },
     "execution_count": 8,
     "metadata": {},
     "output_type": "execute_result"
    },
    {
     "data": {
      "text/plain": [
       "'C:\\\\Users\\\\steka\\\\Competition_Image_Classification\\\\MaskDataset\\\\validation\\\\11609.jpg'"
      ]
     },
     "execution_count": 8,
     "metadata": {},
     "output_type": "execute_result"
    },
    {
     "data": {
      "text/plain": [
       "'C:\\\\Users\\\\steka\\\\Competition_Image_Classification\\\\MaskDataset\\\\validation\\\\16432.jpg'"
      ]
     },
     "execution_count": 8,
     "metadata": {},
     "output_type": "execute_result"
    },
    {
     "data": {
      "text/plain": [
       "'C:\\\\Users\\\\steka\\\\Competition_Image_Classification\\\\MaskDataset\\\\validation\\\\17633.jpg'"
      ]
     },
     "execution_count": 8,
     "metadata": {},
     "output_type": "execute_result"
    },
    {
     "data": {
      "text/plain": [
       "'C:\\\\Users\\\\steka\\\\Competition_Image_Classification\\\\MaskDataset\\\\validation\\\\10094.jpg'"
      ]
     },
     "execution_count": 8,
     "metadata": {},
     "output_type": "execute_result"
    },
    {
     "data": {
      "text/plain": [
       "'C:\\\\Users\\\\steka\\\\Competition_Image_Classification\\\\MaskDataset\\\\validation\\\\16067.jpg'"
      ]
     },
     "execution_count": 8,
     "metadata": {},
     "output_type": "execute_result"
    },
    {
     "data": {
      "text/plain": [
       "'C:\\\\Users\\\\steka\\\\Competition_Image_Classification\\\\MaskDataset\\\\validation\\\\17772.jpg'"
      ]
     },
     "execution_count": 8,
     "metadata": {},
     "output_type": "execute_result"
    },
    {
     "data": {
      "text/plain": [
       "'C:\\\\Users\\\\steka\\\\Competition_Image_Classification\\\\MaskDataset\\\\validation\\\\16902.jpg'"
      ]
     },
     "execution_count": 8,
     "metadata": {},
     "output_type": "execute_result"
    },
    {
     "data": {
      "text/plain": [
       "'C:\\\\Users\\\\steka\\\\Competition_Image_Classification\\\\MaskDataset\\\\validation\\\\16728.jpg'"
      ]
     },
     "execution_count": 8,
     "metadata": {},
     "output_type": "execute_result"
    },
    {
     "data": {
      "text/plain": [
       "'C:\\\\Users\\\\steka\\\\Competition_Image_Classification\\\\MaskDataset\\\\validation\\\\16271.jpg'"
      ]
     },
     "execution_count": 8,
     "metadata": {},
     "output_type": "execute_result"
    },
    {
     "data": {
      "text/plain": [
       "'C:\\\\Users\\\\steka\\\\Competition_Image_Classification\\\\MaskDataset\\\\validation\\\\17454.jpg'"
      ]
     },
     "execution_count": 8,
     "metadata": {},
     "output_type": "execute_result"
    },
    {
     "data": {
      "text/plain": [
       "'C:\\\\Users\\\\steka\\\\Competition_Image_Classification\\\\MaskDataset\\\\validation\\\\18122.jpg'"
      ]
     },
     "execution_count": 8,
     "metadata": {},
     "output_type": "execute_result"
    },
    {
     "data": {
      "text/plain": [
       "'C:\\\\Users\\\\steka\\\\Competition_Image_Classification\\\\MaskDataset\\\\validation\\\\13350.jpg'"
      ]
     },
     "execution_count": 8,
     "metadata": {},
     "output_type": "execute_result"
    },
    {
     "data": {
      "text/plain": [
       "'C:\\\\Users\\\\steka\\\\Competition_Image_Classification\\\\MaskDataset\\\\validation\\\\16943.jpg'"
      ]
     },
     "execution_count": 8,
     "metadata": {},
     "output_type": "execute_result"
    },
    {
     "data": {
      "text/plain": [
       "'C:\\\\Users\\\\steka\\\\Competition_Image_Classification\\\\MaskDataset\\\\validation\\\\13414.jpg'"
      ]
     },
     "execution_count": 8,
     "metadata": {},
     "output_type": "execute_result"
    },
    {
     "data": {
      "text/plain": [
       "'C:\\\\Users\\\\steka\\\\Competition_Image_Classification\\\\MaskDataset\\\\validation\\\\10366.jpg'"
      ]
     },
     "execution_count": 8,
     "metadata": {},
     "output_type": "execute_result"
    },
    {
     "data": {
      "text/plain": [
       "'C:\\\\Users\\\\steka\\\\Competition_Image_Classification\\\\MaskDataset\\\\validation\\\\10730.jpg'"
      ]
     },
     "execution_count": 8,
     "metadata": {},
     "output_type": "execute_result"
    },
    {
     "data": {
      "text/plain": [
       "'C:\\\\Users\\\\steka\\\\Competition_Image_Classification\\\\MaskDataset\\\\validation\\\\12583.jpg'"
      ]
     },
     "execution_count": 8,
     "metadata": {},
     "output_type": "execute_result"
    },
    {
     "data": {
      "text/plain": [
       "'C:\\\\Users\\\\steka\\\\Competition_Image_Classification\\\\MaskDataset\\\\validation\\\\17765.jpg'"
      ]
     },
     "execution_count": 8,
     "metadata": {},
     "output_type": "execute_result"
    },
    {
     "data": {
      "text/plain": [
       "'C:\\\\Users\\\\steka\\\\Competition_Image_Classification\\\\MaskDataset\\\\validation\\\\15325.jpg'"
      ]
     },
     "execution_count": 8,
     "metadata": {},
     "output_type": "execute_result"
    },
    {
     "data": {
      "text/plain": [
       "'C:\\\\Users\\\\steka\\\\Competition_Image_Classification\\\\MaskDataset\\\\validation\\\\11358.jpg'"
      ]
     },
     "execution_count": 8,
     "metadata": {},
     "output_type": "execute_result"
    },
    {
     "data": {
      "text/plain": [
       "'C:\\\\Users\\\\steka\\\\Competition_Image_Classification\\\\MaskDataset\\\\validation\\\\12286.jpg'"
      ]
     },
     "execution_count": 8,
     "metadata": {},
     "output_type": "execute_result"
    },
    {
     "data": {
      "text/plain": [
       "'C:\\\\Users\\\\steka\\\\Competition_Image_Classification\\\\MaskDataset\\\\validation\\\\13216.jpg'"
      ]
     },
     "execution_count": 8,
     "metadata": {},
     "output_type": "execute_result"
    },
    {
     "data": {
      "text/plain": [
       "'C:\\\\Users\\\\steka\\\\Competition_Image_Classification\\\\MaskDataset\\\\validation\\\\15526.jpg'"
      ]
     },
     "execution_count": 8,
     "metadata": {},
     "output_type": "execute_result"
    },
    {
     "data": {
      "text/plain": [
       "'C:\\\\Users\\\\steka\\\\Competition_Image_Classification\\\\MaskDataset\\\\validation\\\\11903.jpg'"
      ]
     },
     "execution_count": 8,
     "metadata": {},
     "output_type": "execute_result"
    },
    {
     "data": {
      "text/plain": [
       "'C:\\\\Users\\\\steka\\\\Competition_Image_Classification\\\\MaskDataset\\\\validation\\\\15035.jpg'"
      ]
     },
     "execution_count": 8,
     "metadata": {},
     "output_type": "execute_result"
    },
    {
     "data": {
      "text/plain": [
       "'C:\\\\Users\\\\steka\\\\Competition_Image_Classification\\\\MaskDataset\\\\validation\\\\11936.jpg'"
      ]
     },
     "execution_count": 8,
     "metadata": {},
     "output_type": "execute_result"
    },
    {
     "data": {
      "text/plain": [
       "'C:\\\\Users\\\\steka\\\\Competition_Image_Classification\\\\MaskDataset\\\\validation\\\\15727.jpg'"
      ]
     },
     "execution_count": 8,
     "metadata": {},
     "output_type": "execute_result"
    },
    {
     "data": {
      "text/plain": [
       "'C:\\\\Users\\\\steka\\\\Competition_Image_Classification\\\\MaskDataset\\\\validation\\\\14498.jpg'"
      ]
     },
     "execution_count": 8,
     "metadata": {},
     "output_type": "execute_result"
    },
    {
     "data": {
      "text/plain": [
       "'C:\\\\Users\\\\steka\\\\Competition_Image_Classification\\\\MaskDataset\\\\validation\\\\11420.jpg'"
      ]
     },
     "execution_count": 8,
     "metadata": {},
     "output_type": "execute_result"
    },
    {
     "data": {
      "text/plain": [
       "'C:\\\\Users\\\\steka\\\\Competition_Image_Classification\\\\MaskDataset\\\\validation\\\\11706.jpg'"
      ]
     },
     "execution_count": 8,
     "metadata": {},
     "output_type": "execute_result"
    },
    {
     "data": {
      "text/plain": [
       "'C:\\\\Users\\\\steka\\\\Competition_Image_Classification\\\\MaskDataset\\\\validation\\\\15831.jpg'"
      ]
     },
     "execution_count": 8,
     "metadata": {},
     "output_type": "execute_result"
    },
    {
     "data": {
      "text/plain": [
       "'C:\\\\Users\\\\steka\\\\Competition_Image_Classification\\\\MaskDataset\\\\validation\\\\17716.jpg'"
      ]
     },
     "execution_count": 8,
     "metadata": {},
     "output_type": "execute_result"
    },
    {
     "data": {
      "text/plain": [
       "'C:\\\\Users\\\\steka\\\\Competition_Image_Classification\\\\MaskDataset\\\\validation\\\\14739.jpg'"
      ]
     },
     "execution_count": 8,
     "metadata": {},
     "output_type": "execute_result"
    },
    {
     "data": {
      "text/plain": [
       "'C:\\\\Users\\\\steka\\\\Competition_Image_Classification\\\\MaskDataset\\\\validation\\\\10939.jpg'"
      ]
     },
     "execution_count": 8,
     "metadata": {},
     "output_type": "execute_result"
    },
    {
     "data": {
      "text/plain": [
       "'C:\\\\Users\\\\steka\\\\Competition_Image_Classification\\\\MaskDataset\\\\validation\\\\12406.jpg'"
      ]
     },
     "execution_count": 8,
     "metadata": {},
     "output_type": "execute_result"
    },
    {
     "data": {
      "text/plain": [
       "'C:\\\\Users\\\\steka\\\\Competition_Image_Classification\\\\MaskDataset\\\\validation\\\\15612.jpg'"
      ]
     },
     "execution_count": 8,
     "metadata": {},
     "output_type": "execute_result"
    },
    {
     "data": {
      "text/plain": [
       "'C:\\\\Users\\\\steka\\\\Competition_Image_Classification\\\\MaskDataset\\\\validation\\\\16820.jpg'"
      ]
     },
     "execution_count": 8,
     "metadata": {},
     "output_type": "execute_result"
    },
    {
     "data": {
      "text/plain": [
       "'C:\\\\Users\\\\steka\\\\Competition_Image_Classification\\\\MaskDataset\\\\validation\\\\12111.jpg'"
      ]
     },
     "execution_count": 8,
     "metadata": {},
     "output_type": "execute_result"
    },
    {
     "data": {
      "text/plain": [
       "'C:\\\\Users\\\\steka\\\\Competition_Image_Classification\\\\MaskDataset\\\\validation\\\\11988.jpg'"
      ]
     },
     "execution_count": 8,
     "metadata": {},
     "output_type": "execute_result"
    },
    {
     "data": {
      "text/plain": [
       "'C:\\\\Users\\\\steka\\\\Competition_Image_Classification\\\\MaskDataset\\\\validation\\\\14710.jpg'"
      ]
     },
     "execution_count": 8,
     "metadata": {},
     "output_type": "execute_result"
    },
    {
     "data": {
      "text/plain": [
       "'C:\\\\Users\\\\steka\\\\Competition_Image_Classification\\\\MaskDataset\\\\validation\\\\13147.jpg'"
      ]
     },
     "execution_count": 8,
     "metadata": {},
     "output_type": "execute_result"
    },
    {
     "data": {
      "text/plain": [
       "'C:\\\\Users\\\\steka\\\\Competition_Image_Classification\\\\MaskDataset\\\\validation\\\\13643.jpg'"
      ]
     },
     "execution_count": 8,
     "metadata": {},
     "output_type": "execute_result"
    },
    {
     "data": {
      "text/plain": [
       "'C:\\\\Users\\\\steka\\\\Competition_Image_Classification\\\\MaskDataset\\\\validation\\\\15113.jpg'"
      ]
     },
     "execution_count": 8,
     "metadata": {},
     "output_type": "execute_result"
    },
    {
     "data": {
      "text/plain": [
       "'C:\\\\Users\\\\steka\\\\Competition_Image_Classification\\\\MaskDataset\\\\validation\\\\11456.jpg'"
      ]
     },
     "execution_count": 8,
     "metadata": {},
     "output_type": "execute_result"
    },
    {
     "data": {
      "text/plain": [
       "'C:\\\\Users\\\\steka\\\\Competition_Image_Classification\\\\MaskDataset\\\\validation\\\\10828.jpg'"
      ]
     },
     "execution_count": 8,
     "metadata": {},
     "output_type": "execute_result"
    },
    {
     "data": {
      "text/plain": [
       "'C:\\\\Users\\\\steka\\\\Competition_Image_Classification\\\\MaskDataset\\\\validation\\\\13390.jpg'"
      ]
     },
     "execution_count": 8,
     "metadata": {},
     "output_type": "execute_result"
    },
    {
     "data": {
      "text/plain": [
       "'C:\\\\Users\\\\steka\\\\Competition_Image_Classification\\\\MaskDataset\\\\validation\\\\11470.jpg'"
      ]
     },
     "execution_count": 8,
     "metadata": {},
     "output_type": "execute_result"
    },
    {
     "data": {
      "text/plain": [
       "'C:\\\\Users\\\\steka\\\\Competition_Image_Classification\\\\MaskDataset\\\\validation\\\\17690.jpg'"
      ]
     },
     "execution_count": 8,
     "metadata": {},
     "output_type": "execute_result"
    },
    {
     "data": {
      "text/plain": [
       "'C:\\\\Users\\\\steka\\\\Competition_Image_Classification\\\\MaskDataset\\\\validation\\\\12800.jpg'"
      ]
     },
     "execution_count": 8,
     "metadata": {},
     "output_type": "execute_result"
    },
    {
     "data": {
      "text/plain": [
       "'C:\\\\Users\\\\steka\\\\Competition_Image_Classification\\\\MaskDataset\\\\validation\\\\11438.jpg'"
      ]
     },
     "execution_count": 8,
     "metadata": {},
     "output_type": "execute_result"
    },
    {
     "data": {
      "text/plain": [
       "'C:\\\\Users\\\\steka\\\\Competition_Image_Classification\\\\MaskDataset\\\\validation\\\\16537.jpg'"
      ]
     },
     "execution_count": 8,
     "metadata": {},
     "output_type": "execute_result"
    },
    {
     "data": {
      "text/plain": [
       "'C:\\\\Users\\\\steka\\\\Competition_Image_Classification\\\\MaskDataset\\\\validation\\\\17678.jpg'"
      ]
     },
     "execution_count": 8,
     "metadata": {},
     "output_type": "execute_result"
    },
    {
     "data": {
      "text/plain": [
       "'C:\\\\Users\\\\steka\\\\Competition_Image_Classification\\\\MaskDataset\\\\validation\\\\15453.jpg'"
      ]
     },
     "execution_count": 8,
     "metadata": {},
     "output_type": "execute_result"
    },
    {
     "data": {
      "text/plain": [
       "'C:\\\\Users\\\\steka\\\\Competition_Image_Classification\\\\MaskDataset\\\\validation\\\\17214.jpg'"
      ]
     },
     "execution_count": 8,
     "metadata": {},
     "output_type": "execute_result"
    },
    {
     "data": {
      "text/plain": [
       "'C:\\\\Users\\\\steka\\\\Competition_Image_Classification\\\\MaskDataset\\\\validation\\\\12806.jpg'"
      ]
     },
     "execution_count": 8,
     "metadata": {},
     "output_type": "execute_result"
    },
    {
     "data": {
      "text/plain": [
       "'C:\\\\Users\\\\steka\\\\Competition_Image_Classification\\\\MaskDataset\\\\validation\\\\14848.jpg'"
      ]
     },
     "execution_count": 8,
     "metadata": {},
     "output_type": "execute_result"
    },
    {
     "data": {
      "text/plain": [
       "'C:\\\\Users\\\\steka\\\\Competition_Image_Classification\\\\MaskDataset\\\\validation\\\\16566.jpg'"
      ]
     },
     "execution_count": 8,
     "metadata": {},
     "output_type": "execute_result"
    },
    {
     "data": {
      "text/plain": [
       "'C:\\\\Users\\\\steka\\\\Competition_Image_Classification\\\\MaskDataset\\\\validation\\\\10344.jpg'"
      ]
     },
     "execution_count": 8,
     "metadata": {},
     "output_type": "execute_result"
    },
    {
     "data": {
      "text/plain": [
       "'C:\\\\Users\\\\steka\\\\Competition_Image_Classification\\\\MaskDataset\\\\validation\\\\12192.jpg'"
      ]
     },
     "execution_count": 8,
     "metadata": {},
     "output_type": "execute_result"
    },
    {
     "data": {
      "text/plain": [
       "'C:\\\\Users\\\\steka\\\\Competition_Image_Classification\\\\MaskDataset\\\\validation\\\\16524.jpg'"
      ]
     },
     "execution_count": 8,
     "metadata": {},
     "output_type": "execute_result"
    },
    {
     "data": {
      "text/plain": [
       "'C:\\\\Users\\\\steka\\\\Competition_Image_Classification\\\\MaskDataset\\\\validation\\\\15925.jpg'"
      ]
     },
     "execution_count": 8,
     "metadata": {},
     "output_type": "execute_result"
    },
    {
     "data": {
      "text/plain": [
       "'C:\\\\Users\\\\steka\\\\Competition_Image_Classification\\\\MaskDataset\\\\validation\\\\11831.jpg'"
      ]
     },
     "execution_count": 8,
     "metadata": {},
     "output_type": "execute_result"
    },
    {
     "data": {
      "text/plain": [
       "'C:\\\\Users\\\\steka\\\\Competition_Image_Classification\\\\MaskDataset\\\\validation\\\\16867.jpg'"
      ]
     },
     "execution_count": 8,
     "metadata": {},
     "output_type": "execute_result"
    },
    {
     "data": {
      "text/plain": [
       "'C:\\\\Users\\\\steka\\\\Competition_Image_Classification\\\\MaskDataset\\\\validation\\\\15319.jpg'"
      ]
     },
     "execution_count": 8,
     "metadata": {},
     "output_type": "execute_result"
    },
    {
     "data": {
      "text/plain": [
       "'C:\\\\Users\\\\steka\\\\Competition_Image_Classification\\\\MaskDataset\\\\validation\\\\12190.jpg'"
      ]
     },
     "execution_count": 8,
     "metadata": {},
     "output_type": "execute_result"
    },
    {
     "data": {
      "text/plain": [
       "'C:\\\\Users\\\\steka\\\\Competition_Image_Classification\\\\MaskDataset\\\\validation\\\\10833.jpg'"
      ]
     },
     "execution_count": 8,
     "metadata": {},
     "output_type": "execute_result"
    },
    {
     "data": {
      "text/plain": [
       "'C:\\\\Users\\\\steka\\\\Competition_Image_Classification\\\\MaskDataset\\\\validation\\\\14255.jpg'"
      ]
     },
     "execution_count": 8,
     "metadata": {},
     "output_type": "execute_result"
    },
    {
     "data": {
      "text/plain": [
       "'C:\\\\Users\\\\steka\\\\Competition_Image_Classification\\\\MaskDataset\\\\validation\\\\15894.jpg'"
      ]
     },
     "execution_count": 8,
     "metadata": {},
     "output_type": "execute_result"
    },
    {
     "data": {
      "text/plain": [
       "'C:\\\\Users\\\\steka\\\\Competition_Image_Classification\\\\MaskDataset\\\\validation\\\\11239.jpg'"
      ]
     },
     "execution_count": 8,
     "metadata": {},
     "output_type": "execute_result"
    },
    {
     "data": {
      "text/plain": [
       "'C:\\\\Users\\\\steka\\\\Competition_Image_Classification\\\\MaskDataset\\\\validation\\\\11568.jpg'"
      ]
     },
     "execution_count": 8,
     "metadata": {},
     "output_type": "execute_result"
    },
    {
     "data": {
      "text/plain": [
       "'C:\\\\Users\\\\steka\\\\Competition_Image_Classification\\\\MaskDataset\\\\validation\\\\13874.jpg'"
      ]
     },
     "execution_count": 8,
     "metadata": {},
     "output_type": "execute_result"
    },
    {
     "data": {
      "text/plain": [
       "'C:\\\\Users\\\\steka\\\\Competition_Image_Classification\\\\MaskDataset\\\\validation\\\\14836.jpg'"
      ]
     },
     "execution_count": 8,
     "metadata": {},
     "output_type": "execute_result"
    },
    {
     "data": {
      "text/plain": [
       "'C:\\\\Users\\\\steka\\\\Competition_Image_Classification\\\\MaskDataset\\\\validation\\\\11566.jpg'"
      ]
     },
     "execution_count": 8,
     "metadata": {},
     "output_type": "execute_result"
    },
    {
     "data": {
      "text/plain": [
       "'C:\\\\Users\\\\steka\\\\Competition_Image_Classification\\\\MaskDataset\\\\validation\\\\17103.jpg'"
      ]
     },
     "execution_count": 8,
     "metadata": {},
     "output_type": "execute_result"
    },
    {
     "data": {
      "text/plain": [
       "'C:\\\\Users\\\\steka\\\\Competition_Image_Classification\\\\MaskDataset\\\\validation\\\\16045.jpg'"
      ]
     },
     "execution_count": 8,
     "metadata": {},
     "output_type": "execute_result"
    },
    {
     "data": {
      "text/plain": [
       "'C:\\\\Users\\\\steka\\\\Competition_Image_Classification\\\\MaskDataset\\\\validation\\\\15984.jpg'"
      ]
     },
     "execution_count": 8,
     "metadata": {},
     "output_type": "execute_result"
    },
    {
     "data": {
      "text/plain": [
       "'C:\\\\Users\\\\steka\\\\Competition_Image_Classification\\\\MaskDataset\\\\validation\\\\11931.jpg'"
      ]
     },
     "execution_count": 8,
     "metadata": {},
     "output_type": "execute_result"
    },
    {
     "data": {
      "text/plain": [
       "'C:\\\\Users\\\\steka\\\\Competition_Image_Classification\\\\MaskDataset\\\\validation\\\\15927.jpg'"
      ]
     },
     "execution_count": 8,
     "metadata": {},
     "output_type": "execute_result"
    },
    {
     "data": {
      "text/plain": [
       "'C:\\\\Users\\\\steka\\\\Competition_Image_Classification\\\\MaskDataset\\\\validation\\\\15825.jpg'"
      ]
     },
     "execution_count": 8,
     "metadata": {},
     "output_type": "execute_result"
    },
    {
     "data": {
      "text/plain": [
       "'C:\\\\Users\\\\steka\\\\Competition_Image_Classification\\\\MaskDataset\\\\validation\\\\16507.jpg'"
      ]
     },
     "execution_count": 8,
     "metadata": {},
     "output_type": "execute_result"
    },
    {
     "data": {
      "text/plain": [
       "'C:\\\\Users\\\\steka\\\\Competition_Image_Classification\\\\MaskDataset\\\\validation\\\\11019.jpg'"
      ]
     },
     "execution_count": 8,
     "metadata": {},
     "output_type": "execute_result"
    },
    {
     "data": {
      "text/plain": [
       "'C:\\\\Users\\\\steka\\\\Competition_Image_Classification\\\\MaskDataset\\\\validation\\\\16026.jpg'"
      ]
     },
     "execution_count": 8,
     "metadata": {},
     "output_type": "execute_result"
    },
    {
     "data": {
      "text/plain": [
       "'C:\\\\Users\\\\steka\\\\Competition_Image_Classification\\\\MaskDataset\\\\validation\\\\13792.jpg'"
      ]
     },
     "execution_count": 8,
     "metadata": {},
     "output_type": "execute_result"
    },
    {
     "data": {
      "text/plain": [
       "'C:\\\\Users\\\\steka\\\\Competition_Image_Classification\\\\MaskDataset\\\\validation\\\\15312.jpg'"
      ]
     },
     "execution_count": 8,
     "metadata": {},
     "output_type": "execute_result"
    },
    {
     "data": {
      "text/plain": [
       "'C:\\\\Users\\\\steka\\\\Competition_Image_Classification\\\\MaskDataset\\\\validation\\\\13159.jpg'"
      ]
     },
     "execution_count": 8,
     "metadata": {},
     "output_type": "execute_result"
    },
    {
     "data": {
      "text/plain": [
       "'C:\\\\Users\\\\steka\\\\Competition_Image_Classification\\\\MaskDataset\\\\validation\\\\17840.jpg'"
      ]
     },
     "execution_count": 8,
     "metadata": {},
     "output_type": "execute_result"
    },
    {
     "data": {
      "text/plain": [
       "'C:\\\\Users\\\\steka\\\\Competition_Image_Classification\\\\MaskDataset\\\\validation\\\\12138.jpg'"
      ]
     },
     "execution_count": 8,
     "metadata": {},
     "output_type": "execute_result"
    },
    {
     "data": {
      "text/plain": [
       "'C:\\\\Users\\\\steka\\\\Competition_Image_Classification\\\\MaskDataset\\\\validation\\\\17998.jpg'"
      ]
     },
     "execution_count": 8,
     "metadata": {},
     "output_type": "execute_result"
    },
    {
     "data": {
      "text/plain": [
       "'C:\\\\Users\\\\steka\\\\Competition_Image_Classification\\\\MaskDataset\\\\validation\\\\11882.jpg'"
      ]
     },
     "execution_count": 8,
     "metadata": {},
     "output_type": "execute_result"
    },
    {
     "data": {
      "text/plain": [
       "'C:\\\\Users\\\\steka\\\\Competition_Image_Classification\\\\MaskDataset\\\\validation\\\\16673.jpg'"
      ]
     },
     "execution_count": 8,
     "metadata": {},
     "output_type": "execute_result"
    },
    {
     "data": {
      "text/plain": [
       "'C:\\\\Users\\\\steka\\\\Competition_Image_Classification\\\\MaskDataset\\\\validation\\\\12831.jpg'"
      ]
     },
     "execution_count": 8,
     "metadata": {},
     "output_type": "execute_result"
    },
    {
     "data": {
      "text/plain": [
       "'C:\\\\Users\\\\steka\\\\Competition_Image_Classification\\\\MaskDataset\\\\validation\\\\12278.jpg'"
      ]
     },
     "execution_count": 8,
     "metadata": {},
     "output_type": "execute_result"
    },
    {
     "data": {
      "text/plain": [
       "'C:\\\\Users\\\\steka\\\\Competition_Image_Classification\\\\MaskDataset\\\\validation\\\\10825.jpg'"
      ]
     },
     "execution_count": 8,
     "metadata": {},
     "output_type": "execute_result"
    },
    {
     "data": {
      "text/plain": [
       "'C:\\\\Users\\\\steka\\\\Competition_Image_Classification\\\\MaskDataset\\\\validation\\\\16751.jpg'"
      ]
     },
     "execution_count": 8,
     "metadata": {},
     "output_type": "execute_result"
    },
    {
     "data": {
      "text/plain": [
       "'C:\\\\Users\\\\steka\\\\Competition_Image_Classification\\\\MaskDataset\\\\validation\\\\15640.jpg'"
      ]
     },
     "execution_count": 8,
     "metadata": {},
     "output_type": "execute_result"
    },
    {
     "data": {
      "text/plain": [
       "'C:\\\\Users\\\\steka\\\\Competition_Image_Classification\\\\MaskDataset\\\\validation\\\\10911.jpg'"
      ]
     },
     "execution_count": 8,
     "metadata": {},
     "output_type": "execute_result"
    },
    {
     "data": {
      "text/plain": [
       "'C:\\\\Users\\\\steka\\\\Competition_Image_Classification\\\\MaskDataset\\\\validation\\\\16807.jpg'"
      ]
     },
     "execution_count": 8,
     "metadata": {},
     "output_type": "execute_result"
    },
    {
     "data": {
      "text/plain": [
       "'C:\\\\Users\\\\steka\\\\Competition_Image_Classification\\\\MaskDataset\\\\validation\\\\12844.jpg'"
      ]
     },
     "execution_count": 8,
     "metadata": {},
     "output_type": "execute_result"
    },
    {
     "data": {
      "text/plain": [
       "'C:\\\\Users\\\\steka\\\\Competition_Image_Classification\\\\MaskDataset\\\\validation\\\\17592.jpg'"
      ]
     },
     "execution_count": 8,
     "metadata": {},
     "output_type": "execute_result"
    },
    {
     "data": {
      "text/plain": [
       "'C:\\\\Users\\\\steka\\\\Competition_Image_Classification\\\\MaskDataset\\\\validation\\\\14330.jpg'"
      ]
     },
     "execution_count": 8,
     "metadata": {},
     "output_type": "execute_result"
    },
    {
     "data": {
      "text/plain": [
       "'C:\\\\Users\\\\steka\\\\Competition_Image_Classification\\\\MaskDataset\\\\validation\\\\15725.jpg'"
      ]
     },
     "execution_count": 8,
     "metadata": {},
     "output_type": "execute_result"
    },
    {
     "data": {
      "text/plain": [
       "'C:\\\\Users\\\\steka\\\\Competition_Image_Classification\\\\MaskDataset\\\\validation\\\\14876.jpg'"
      ]
     },
     "execution_count": 8,
     "metadata": {},
     "output_type": "execute_result"
    },
    {
     "data": {
      "text/plain": [
       "'C:\\\\Users\\\\steka\\\\Competition_Image_Classification\\\\MaskDataset\\\\validation\\\\15171.jpg'"
      ]
     },
     "execution_count": 8,
     "metadata": {},
     "output_type": "execute_result"
    },
    {
     "data": {
      "text/plain": [
       "'C:\\\\Users\\\\steka\\\\Competition_Image_Classification\\\\MaskDataset\\\\validation\\\\12148.jpg'"
      ]
     },
     "execution_count": 8,
     "metadata": {},
     "output_type": "execute_result"
    },
    {
     "data": {
      "text/plain": [
       "'C:\\\\Users\\\\steka\\\\Competition_Image_Classification\\\\MaskDataset\\\\validation\\\\18017.jpg'"
      ]
     },
     "execution_count": 8,
     "metadata": {},
     "output_type": "execute_result"
    },
    {
     "data": {
      "text/plain": [
       "'C:\\\\Users\\\\steka\\\\Competition_Image_Classification\\\\MaskDataset\\\\validation\\\\17657.jpg'"
      ]
     },
     "execution_count": 8,
     "metadata": {},
     "output_type": "execute_result"
    },
    {
     "data": {
      "text/plain": [
       "'C:\\\\Users\\\\steka\\\\Competition_Image_Classification\\\\MaskDataset\\\\validation\\\\15681.jpg'"
      ]
     },
     "execution_count": 8,
     "metadata": {},
     "output_type": "execute_result"
    },
    {
     "data": {
      "text/plain": [
       "'C:\\\\Users\\\\steka\\\\Competition_Image_Classification\\\\MaskDataset\\\\validation\\\\11888.jpg'"
      ]
     },
     "execution_count": 8,
     "metadata": {},
     "output_type": "execute_result"
    },
    {
     "data": {
      "text/plain": [
       "'C:\\\\Users\\\\steka\\\\Competition_Image_Classification\\\\MaskDataset\\\\validation\\\\12393.jpg'"
      ]
     },
     "execution_count": 8,
     "metadata": {},
     "output_type": "execute_result"
    },
    {
     "data": {
      "text/plain": [
       "'C:\\\\Users\\\\steka\\\\Competition_Image_Classification\\\\MaskDataset\\\\validation\\\\13141.jpg'"
      ]
     },
     "execution_count": 8,
     "metadata": {},
     "output_type": "execute_result"
    },
    {
     "data": {
      "text/plain": [
       "'C:\\\\Users\\\\steka\\\\Competition_Image_Classification\\\\MaskDataset\\\\validation\\\\12877.jpg'"
      ]
     },
     "execution_count": 8,
     "metadata": {},
     "output_type": "execute_result"
    },
    {
     "data": {
      "text/plain": [
       "'C:\\\\Users\\\\steka\\\\Competition_Image_Classification\\\\MaskDataset\\\\validation\\\\13612.jpg'"
      ]
     },
     "execution_count": 8,
     "metadata": {},
     "output_type": "execute_result"
    },
    {
     "data": {
      "text/plain": [
       "'C:\\\\Users\\\\steka\\\\Competition_Image_Classification\\\\MaskDataset\\\\validation\\\\12751.jpg'"
      ]
     },
     "execution_count": 8,
     "metadata": {},
     "output_type": "execute_result"
    },
    {
     "data": {
      "text/plain": [
       "'C:\\\\Users\\\\steka\\\\Competition_Image_Classification\\\\MaskDataset\\\\validation\\\\17693.jpg'"
      ]
     },
     "execution_count": 8,
     "metadata": {},
     "output_type": "execute_result"
    },
    {
     "data": {
      "text/plain": [
       "'C:\\\\Users\\\\steka\\\\Competition_Image_Classification\\\\MaskDataset\\\\validation\\\\12626.jpg'"
      ]
     },
     "execution_count": 8,
     "metadata": {},
     "output_type": "execute_result"
    },
    {
     "data": {
      "text/plain": [
       "'C:\\\\Users\\\\steka\\\\Competition_Image_Classification\\\\MaskDataset\\\\validation\\\\11577.jpg'"
      ]
     },
     "execution_count": 8,
     "metadata": {},
     "output_type": "execute_result"
    },
    {
     "data": {
      "text/plain": [
       "'C:\\\\Users\\\\steka\\\\Competition_Image_Classification\\\\MaskDataset\\\\validation\\\\14502.jpg'"
      ]
     },
     "execution_count": 8,
     "metadata": {},
     "output_type": "execute_result"
    },
    {
     "data": {
      "text/plain": [
       "'C:\\\\Users\\\\steka\\\\Competition_Image_Classification\\\\MaskDataset\\\\validation\\\\10416.jpg'"
      ]
     },
     "execution_count": 8,
     "metadata": {},
     "output_type": "execute_result"
    },
    {
     "data": {
      "text/plain": [
       "'C:\\\\Users\\\\steka\\\\Competition_Image_Classification\\\\MaskDataset\\\\validation\\\\12718.jpg'"
      ]
     },
     "execution_count": 8,
     "metadata": {},
     "output_type": "execute_result"
    },
    {
     "data": {
      "text/plain": [
       "'C:\\\\Users\\\\steka\\\\Competition_Image_Classification\\\\MaskDataset\\\\validation\\\\18070.jpg'"
      ]
     },
     "execution_count": 8,
     "metadata": {},
     "output_type": "execute_result"
    },
    {
     "data": {
      "text/plain": [
       "'C:\\\\Users\\\\steka\\\\Competition_Image_Classification\\\\MaskDataset\\\\validation\\\\15791.jpg'"
      ]
     },
     "execution_count": 8,
     "metadata": {},
     "output_type": "execute_result"
    },
    {
     "data": {
      "text/plain": [
       "'C:\\\\Users\\\\steka\\\\Competition_Image_Classification\\\\MaskDataset\\\\validation\\\\15263.jpg'"
      ]
     },
     "execution_count": 8,
     "metadata": {},
     "output_type": "execute_result"
    },
    {
     "data": {
      "text/plain": [
       "'C:\\\\Users\\\\steka\\\\Competition_Image_Classification\\\\MaskDataset\\\\validation\\\\17071.jpg'"
      ]
     },
     "execution_count": 8,
     "metadata": {},
     "output_type": "execute_result"
    },
    {
     "data": {
      "text/plain": [
       "'C:\\\\Users\\\\steka\\\\Competition_Image_Classification\\\\MaskDataset\\\\validation\\\\10163.jpg'"
      ]
     },
     "execution_count": 8,
     "metadata": {},
     "output_type": "execute_result"
    },
    {
     "data": {
      "text/plain": [
       "'C:\\\\Users\\\\steka\\\\Competition_Image_Classification\\\\MaskDataset\\\\validation\\\\10736.jpg'"
      ]
     },
     "execution_count": 8,
     "metadata": {},
     "output_type": "execute_result"
    },
    {
     "data": {
      "text/plain": [
       "'C:\\\\Users\\\\steka\\\\Competition_Image_Classification\\\\MaskDataset\\\\validation\\\\11490.jpg'"
      ]
     },
     "execution_count": 8,
     "metadata": {},
     "output_type": "execute_result"
    },
    {
     "data": {
      "text/plain": [
       "'C:\\\\Users\\\\steka\\\\Competition_Image_Classification\\\\MaskDataset\\\\validation\\\\13690.jpg'"
      ]
     },
     "execution_count": 8,
     "metadata": {},
     "output_type": "execute_result"
    },
    {
     "data": {
      "text/plain": [
       "'C:\\\\Users\\\\steka\\\\Competition_Image_Classification\\\\MaskDataset\\\\validation\\\\12266.jpg'"
      ]
     },
     "execution_count": 8,
     "metadata": {},
     "output_type": "execute_result"
    },
    {
     "data": {
      "text/plain": [
       "'C:\\\\Users\\\\steka\\\\Competition_Image_Classification\\\\MaskDataset\\\\validation\\\\11516.jpg'"
      ]
     },
     "execution_count": 8,
     "metadata": {},
     "output_type": "execute_result"
    },
    {
     "data": {
      "text/plain": [
       "'C:\\\\Users\\\\steka\\\\Competition_Image_Classification\\\\MaskDataset\\\\validation\\\\13863.jpg'"
      ]
     },
     "execution_count": 8,
     "metadata": {},
     "output_type": "execute_result"
    },
    {
     "data": {
      "text/plain": [
       "'C:\\\\Users\\\\steka\\\\Competition_Image_Classification\\\\MaskDataset\\\\validation\\\\10079.jpg'"
      ]
     },
     "execution_count": 8,
     "metadata": {},
     "output_type": "execute_result"
    },
    {
     "data": {
      "text/plain": [
       "'C:\\\\Users\\\\steka\\\\Competition_Image_Classification\\\\MaskDataset\\\\validation\\\\11248.jpg'"
      ]
     },
     "execution_count": 8,
     "metadata": {},
     "output_type": "execute_result"
    },
    {
     "data": {
      "text/plain": [
       "'C:\\\\Users\\\\steka\\\\Competition_Image_Classification\\\\MaskDataset\\\\validation\\\\14468.jpg'"
      ]
     },
     "execution_count": 8,
     "metadata": {},
     "output_type": "execute_result"
    },
    {
     "data": {
      "text/plain": [
       "'C:\\\\Users\\\\steka\\\\Competition_Image_Classification\\\\MaskDataset\\\\validation\\\\15234.jpg'"
      ]
     },
     "execution_count": 8,
     "metadata": {},
     "output_type": "execute_result"
    },
    {
     "data": {
      "text/plain": [
       "'C:\\\\Users\\\\steka\\\\Competition_Image_Classification\\\\MaskDataset\\\\validation\\\\16700.jpg'"
      ]
     },
     "execution_count": 8,
     "metadata": {},
     "output_type": "execute_result"
    },
    {
     "data": {
      "text/plain": [
       "'C:\\\\Users\\\\steka\\\\Competition_Image_Classification\\\\MaskDataset\\\\validation\\\\12024.jpg'"
      ]
     },
     "execution_count": 8,
     "metadata": {},
     "output_type": "execute_result"
    },
    {
     "data": {
      "text/plain": [
       "'C:\\\\Users\\\\steka\\\\Competition_Image_Classification\\\\MaskDataset\\\\validation\\\\13015.jpg'"
      ]
     },
     "execution_count": 8,
     "metadata": {},
     "output_type": "execute_result"
    },
    {
     "data": {
      "text/plain": [
       "'C:\\\\Users\\\\steka\\\\Competition_Image_Classification\\\\MaskDataset\\\\validation\\\\16958.jpg'"
      ]
     },
     "execution_count": 8,
     "metadata": {},
     "output_type": "execute_result"
    },
    {
     "data": {
      "text/plain": [
       "'C:\\\\Users\\\\steka\\\\Competition_Image_Classification\\\\MaskDataset\\\\validation\\\\11118.jpg'"
      ]
     },
     "execution_count": 8,
     "metadata": {},
     "output_type": "execute_result"
    },
    {
     "data": {
      "text/plain": [
       "'C:\\\\Users\\\\steka\\\\Competition_Image_Classification\\\\MaskDataset\\\\validation\\\\16649.jpg'"
      ]
     },
     "execution_count": 8,
     "metadata": {},
     "output_type": "execute_result"
    },
    {
     "data": {
      "text/plain": [
       "'C:\\\\Users\\\\steka\\\\Competition_Image_Classification\\\\MaskDataset\\\\validation\\\\11548.jpg'"
      ]
     },
     "execution_count": 8,
     "metadata": {},
     "output_type": "execute_result"
    },
    {
     "data": {
      "text/plain": [
       "'C:\\\\Users\\\\steka\\\\Competition_Image_Classification\\\\MaskDataset\\\\validation\\\\14591.jpg'"
      ]
     },
     "execution_count": 8,
     "metadata": {},
     "output_type": "execute_result"
    },
    {
     "data": {
      "text/plain": [
       "'C:\\\\Users\\\\steka\\\\Competition_Image_Classification\\\\MaskDataset\\\\validation\\\\12905.jpg'"
      ]
     },
     "execution_count": 8,
     "metadata": {},
     "output_type": "execute_result"
    },
    {
     "data": {
      "text/plain": [
       "'C:\\\\Users\\\\steka\\\\Competition_Image_Classification\\\\MaskDataset\\\\validation\\\\16257.jpg'"
      ]
     },
     "execution_count": 8,
     "metadata": {},
     "output_type": "execute_result"
    },
    {
     "data": {
      "text/plain": [
       "'C:\\\\Users\\\\steka\\\\Competition_Image_Classification\\\\MaskDataset\\\\validation\\\\13186.jpg'"
      ]
     },
     "execution_count": 8,
     "metadata": {},
     "output_type": "execute_result"
    },
    {
     "data": {
      "text/plain": [
       "'C:\\\\Users\\\\steka\\\\Competition_Image_Classification\\\\MaskDataset\\\\validation\\\\10375.jpg'"
      ]
     },
     "execution_count": 8,
     "metadata": {},
     "output_type": "execute_result"
    },
    {
     "data": {
      "text/plain": [
       "'C:\\\\Users\\\\steka\\\\Competition_Image_Classification\\\\MaskDataset\\\\validation\\\\13324.jpg'"
      ]
     },
     "execution_count": 8,
     "metadata": {},
     "output_type": "execute_result"
    },
    {
     "data": {
      "text/plain": [
       "'C:\\\\Users\\\\steka\\\\Competition_Image_Classification\\\\MaskDataset\\\\validation\\\\16680.jpg'"
      ]
     },
     "execution_count": 8,
     "metadata": {},
     "output_type": "execute_result"
    },
    {
     "data": {
      "text/plain": [
       "'C:\\\\Users\\\\steka\\\\Competition_Image_Classification\\\\MaskDataset\\\\validation\\\\11842.jpg'"
      ]
     },
     "execution_count": 8,
     "metadata": {},
     "output_type": "execute_result"
    },
    {
     "data": {
      "text/plain": [
       "'C:\\\\Users\\\\steka\\\\Competition_Image_Classification\\\\MaskDataset\\\\validation\\\\17614.jpg'"
      ]
     },
     "execution_count": 8,
     "metadata": {},
     "output_type": "execute_result"
    },
    {
     "data": {
      "text/plain": [
       "'C:\\\\Users\\\\steka\\\\Competition_Image_Classification\\\\MaskDataset\\\\validation\\\\17095.jpg'"
      ]
     },
     "execution_count": 8,
     "metadata": {},
     "output_type": "execute_result"
    },
    {
     "data": {
      "text/plain": [
       "'C:\\\\Users\\\\steka\\\\Competition_Image_Classification\\\\MaskDataset\\\\validation\\\\15207.jpg'"
      ]
     },
     "execution_count": 8,
     "metadata": {},
     "output_type": "execute_result"
    },
    {
     "data": {
      "text/plain": [
       "'C:\\\\Users\\\\steka\\\\Competition_Image_Classification\\\\MaskDataset\\\\validation\\\\14635.jpg'"
      ]
     },
     "execution_count": 8,
     "metadata": {},
     "output_type": "execute_result"
    },
    {
     "data": {
      "text/plain": [
       "'C:\\\\Users\\\\steka\\\\Competition_Image_Classification\\\\MaskDataset\\\\validation\\\\11917.jpg'"
      ]
     },
     "execution_count": 8,
     "metadata": {},
     "output_type": "execute_result"
    },
    {
     "data": {
      "text/plain": [
       "'C:\\\\Users\\\\steka\\\\Competition_Image_Classification\\\\MaskDataset\\\\validation\\\\10052.jpg'"
      ]
     },
     "execution_count": 8,
     "metadata": {},
     "output_type": "execute_result"
    },
    {
     "data": {
      "text/plain": [
       "'C:\\\\Users\\\\steka\\\\Competition_Image_Classification\\\\MaskDataset\\\\validation\\\\12668.jpg'"
      ]
     },
     "execution_count": 8,
     "metadata": {},
     "output_type": "execute_result"
    },
    {
     "data": {
      "text/plain": [
       "'C:\\\\Users\\\\steka\\\\Competition_Image_Classification\\\\MaskDataset\\\\validation\\\\16287.jpg'"
      ]
     },
     "execution_count": 8,
     "metadata": {},
     "output_type": "execute_result"
    },
    {
     "data": {
      "text/plain": [
       "'C:\\\\Users\\\\steka\\\\Competition_Image_Classification\\\\MaskDataset\\\\validation\\\\15946.jpg'"
      ]
     },
     "execution_count": 8,
     "metadata": {},
     "output_type": "execute_result"
    },
    {
     "data": {
      "text/plain": [
       "'C:\\\\Users\\\\steka\\\\Competition_Image_Classification\\\\MaskDataset\\\\validation\\\\12917.jpg'"
      ]
     },
     "execution_count": 8,
     "metadata": {},
     "output_type": "execute_result"
    },
    {
     "data": {
      "text/plain": [
       "'C:\\\\Users\\\\steka\\\\Competition_Image_Classification\\\\MaskDataset\\\\validation\\\\16848.jpg'"
      ]
     },
     "execution_count": 8,
     "metadata": {},
     "output_type": "execute_result"
    },
    {
     "data": {
      "text/plain": [
       "'C:\\\\Users\\\\steka\\\\Competition_Image_Classification\\\\MaskDataset\\\\validation\\\\10498.jpg'"
      ]
     },
     "execution_count": 8,
     "metadata": {},
     "output_type": "execute_result"
    },
    {
     "data": {
      "text/plain": [
       "'C:\\\\Users\\\\steka\\\\Competition_Image_Classification\\\\MaskDataset\\\\validation\\\\13856.jpg'"
      ]
     },
     "execution_count": 8,
     "metadata": {},
     "output_type": "execute_result"
    },
    {
     "data": {
      "text/plain": [
       "'C:\\\\Users\\\\steka\\\\Competition_Image_Classification\\\\MaskDataset\\\\validation\\\\12328.jpg'"
      ]
     },
     "execution_count": 8,
     "metadata": {},
     "output_type": "execute_result"
    },
    {
     "data": {
      "text/plain": [
       "'C:\\\\Users\\\\steka\\\\Competition_Image_Classification\\\\MaskDataset\\\\validation\\\\17448.jpg'"
      ]
     },
     "execution_count": 8,
     "metadata": {},
     "output_type": "execute_result"
    },
    {
     "data": {
      "text/plain": [
       "'C:\\\\Users\\\\steka\\\\Competition_Image_Classification\\\\MaskDataset\\\\validation\\\\16090.jpg'"
      ]
     },
     "execution_count": 8,
     "metadata": {},
     "output_type": "execute_result"
    },
    {
     "data": {
      "text/plain": [
       "'C:\\\\Users\\\\steka\\\\Competition_Image_Classification\\\\MaskDataset\\\\validation\\\\15269.jpg'"
      ]
     },
     "execution_count": 8,
     "metadata": {},
     "output_type": "execute_result"
    },
    {
     "data": {
      "text/plain": [
       "'C:\\\\Users\\\\steka\\\\Competition_Image_Classification\\\\MaskDataset\\\\validation\\\\13728.jpg'"
      ]
     },
     "execution_count": 8,
     "metadata": {},
     "output_type": "execute_result"
    },
    {
     "data": {
      "text/plain": [
       "'C:\\\\Users\\\\steka\\\\Competition_Image_Classification\\\\MaskDataset\\\\validation\\\\11011.jpg'"
      ]
     },
     "execution_count": 8,
     "metadata": {},
     "output_type": "execute_result"
    },
    {
     "data": {
      "text/plain": [
       "'C:\\\\Users\\\\steka\\\\Competition_Image_Classification\\\\MaskDataset\\\\validation\\\\17561.jpg'"
      ]
     },
     "execution_count": 8,
     "metadata": {},
     "output_type": "execute_result"
    },
    {
     "data": {
      "text/plain": [
       "'C:\\\\Users\\\\steka\\\\Competition_Image_Classification\\\\MaskDataset\\\\validation\\\\17656.jpg'"
      ]
     },
     "execution_count": 8,
     "metadata": {},
     "output_type": "execute_result"
    },
    {
     "data": {
      "text/plain": [
       "'C:\\\\Users\\\\steka\\\\Competition_Image_Classification\\\\MaskDataset\\\\validation\\\\16884.jpg'"
      ]
     },
     "execution_count": 8,
     "metadata": {},
     "output_type": "execute_result"
    },
    {
     "data": {
      "text/plain": [
       "'C:\\\\Users\\\\steka\\\\Competition_Image_Classification\\\\MaskDataset\\\\validation\\\\17493.jpg'"
      ]
     },
     "execution_count": 8,
     "metadata": {},
     "output_type": "execute_result"
    },
    {
     "data": {
      "text/plain": [
       "'C:\\\\Users\\\\steka\\\\Competition_Image_Classification\\\\MaskDataset\\\\validation\\\\10645.jpg'"
      ]
     },
     "execution_count": 8,
     "metadata": {},
     "output_type": "execute_result"
    },
    {
     "data": {
      "text/plain": [
       "'C:\\\\Users\\\\steka\\\\Competition_Image_Classification\\\\MaskDataset\\\\validation\\\\16557.jpg'"
      ]
     },
     "execution_count": 8,
     "metadata": {},
     "output_type": "execute_result"
    },
    {
     "data": {
      "text/plain": [
       "'C:\\\\Users\\\\steka\\\\Competition_Image_Classification\\\\MaskDataset\\\\validation\\\\13073.jpg'"
      ]
     },
     "execution_count": 8,
     "metadata": {},
     "output_type": "execute_result"
    },
    {
     "data": {
      "text/plain": [
       "'C:\\\\Users\\\\steka\\\\Competition_Image_Classification\\\\MaskDataset\\\\validation\\\\12770.jpg'"
      ]
     },
     "execution_count": 8,
     "metadata": {},
     "output_type": "execute_result"
    },
    {
     "data": {
      "text/plain": [
       "'C:\\\\Users\\\\steka\\\\Competition_Image_Classification\\\\MaskDataset\\\\validation\\\\12180.jpg'"
      ]
     },
     "execution_count": 8,
     "metadata": {},
     "output_type": "execute_result"
    },
    {
     "data": {
      "text/plain": [
       "'C:\\\\Users\\\\steka\\\\Competition_Image_Classification\\\\MaskDataset\\\\validation\\\\15347.jpg'"
      ]
     },
     "execution_count": 8,
     "metadata": {},
     "output_type": "execute_result"
    },
    {
     "data": {
      "text/plain": [
       "'C:\\\\Users\\\\steka\\\\Competition_Image_Classification\\\\MaskDataset\\\\validation\\\\11072.jpg'"
      ]
     },
     "execution_count": 8,
     "metadata": {},
     "output_type": "execute_result"
    },
    {
     "data": {
      "text/plain": [
       "'C:\\\\Users\\\\steka\\\\Competition_Image_Classification\\\\MaskDataset\\\\validation\\\\18053.jpg'"
      ]
     },
     "execution_count": 8,
     "metadata": {},
     "output_type": "execute_result"
    },
    {
     "data": {
      "text/plain": [
       "'C:\\\\Users\\\\steka\\\\Competition_Image_Classification\\\\MaskDataset\\\\validation\\\\17293.jpg'"
      ]
     },
     "execution_count": 8,
     "metadata": {},
     "output_type": "execute_result"
    },
    {
     "data": {
      "text/plain": [
       "'C:\\\\Users\\\\steka\\\\Competition_Image_Classification\\\\MaskDataset\\\\validation\\\\10534.jpg'"
      ]
     },
     "execution_count": 8,
     "metadata": {},
     "output_type": "execute_result"
    },
    {
     "data": {
      "text/plain": [
       "'C:\\\\Users\\\\steka\\\\Competition_Image_Classification\\\\MaskDataset\\\\validation\\\\18181.jpg'"
      ]
     },
     "execution_count": 8,
     "metadata": {},
     "output_type": "execute_result"
    },
    {
     "data": {
      "text/plain": [
       "'C:\\\\Users\\\\steka\\\\Competition_Image_Classification\\\\MaskDataset\\\\validation\\\\11934.jpg'"
      ]
     },
     "execution_count": 8,
     "metadata": {},
     "output_type": "execute_result"
    },
    {
     "data": {
      "text/plain": [
       "'C:\\\\Users\\\\steka\\\\Competition_Image_Classification\\\\MaskDataset\\\\validation\\\\13287.jpg'"
      ]
     },
     "execution_count": 8,
     "metadata": {},
     "output_type": "execute_result"
    },
    {
     "data": {
      "text/plain": [
       "'C:\\\\Users\\\\steka\\\\Competition_Image_Classification\\\\MaskDataset\\\\validation\\\\16363.jpg'"
      ]
     },
     "execution_count": 8,
     "metadata": {},
     "output_type": "execute_result"
    },
    {
     "data": {
      "text/plain": [
       "'C:\\\\Users\\\\steka\\\\Competition_Image_Classification\\\\MaskDataset\\\\validation\\\\18048.jpg'"
      ]
     },
     "execution_count": 8,
     "metadata": {},
     "output_type": "execute_result"
    },
    {
     "data": {
      "text/plain": [
       "'C:\\\\Users\\\\steka\\\\Competition_Image_Classification\\\\MaskDataset\\\\validation\\\\16684.jpg'"
      ]
     },
     "execution_count": 8,
     "metadata": {},
     "output_type": "execute_result"
    },
    {
     "data": {
      "text/plain": [
       "'C:\\\\Users\\\\steka\\\\Competition_Image_Classification\\\\MaskDataset\\\\validation\\\\11529.jpg'"
      ]
     },
     "execution_count": 8,
     "metadata": {},
     "output_type": "execute_result"
    },
    {
     "data": {
      "text/plain": [
       "'C:\\\\Users\\\\steka\\\\Competition_Image_Classification\\\\MaskDataset\\\\validation\\\\17675.jpg'"
      ]
     },
     "execution_count": 8,
     "metadata": {},
     "output_type": "execute_result"
    },
    {
     "data": {
      "text/plain": [
       "'C:\\\\Users\\\\steka\\\\Competition_Image_Classification\\\\MaskDataset\\\\validation\\\\12264.jpg'"
      ]
     },
     "execution_count": 8,
     "metadata": {},
     "output_type": "execute_result"
    },
    {
     "data": {
      "text/plain": [
       "'C:\\\\Users\\\\steka\\\\Competition_Image_Classification\\\\MaskDataset\\\\validation\\\\16409.jpg'"
      ]
     },
     "execution_count": 8,
     "metadata": {},
     "output_type": "execute_result"
    },
    {
     "data": {
      "text/plain": [
       "'C:\\\\Users\\\\steka\\\\Competition_Image_Classification\\\\MaskDataset\\\\validation\\\\16063.jpg'"
      ]
     },
     "execution_count": 8,
     "metadata": {},
     "output_type": "execute_result"
    },
    {
     "data": {
      "text/plain": [
       "'C:\\\\Users\\\\steka\\\\Competition_Image_Classification\\\\MaskDataset\\\\validation\\\\17591.jpg'"
      ]
     },
     "execution_count": 8,
     "metadata": {},
     "output_type": "execute_result"
    },
    {
     "data": {
      "text/plain": [
       "'C:\\\\Users\\\\steka\\\\Competition_Image_Classification\\\\MaskDataset\\\\validation\\\\12102.jpg'"
      ]
     },
     "execution_count": 8,
     "metadata": {},
     "output_type": "execute_result"
    },
    {
     "data": {
      "text/plain": [
       "'C:\\\\Users\\\\steka\\\\Competition_Image_Classification\\\\MaskDataset\\\\validation\\\\13174.jpg'"
      ]
     },
     "execution_count": 8,
     "metadata": {},
     "output_type": "execute_result"
    },
    {
     "data": {
      "text/plain": [
       "'C:\\\\Users\\\\steka\\\\Competition_Image_Classification\\\\MaskDataset\\\\validation\\\\13809.jpg'"
      ]
     },
     "execution_count": 8,
     "metadata": {},
     "output_type": "execute_result"
    },
    {
     "data": {
      "text/plain": [
       "'C:\\\\Users\\\\steka\\\\Competition_Image_Classification\\\\MaskDataset\\\\validation\\\\12738.jpg'"
      ]
     },
     "execution_count": 8,
     "metadata": {},
     "output_type": "execute_result"
    },
    {
     "data": {
      "text/plain": [
       "'C:\\\\Users\\\\steka\\\\Competition_Image_Classification\\\\MaskDataset\\\\validation\\\\15290.jpg'"
      ]
     },
     "execution_count": 8,
     "metadata": {},
     "output_type": "execute_result"
    },
    {
     "data": {
      "text/plain": [
       "'C:\\\\Users\\\\steka\\\\Competition_Image_Classification\\\\MaskDataset\\\\validation\\\\12495.jpg'"
      ]
     },
     "execution_count": 8,
     "metadata": {},
     "output_type": "execute_result"
    },
    {
     "data": {
      "text/plain": [
       "'C:\\\\Users\\\\steka\\\\Competition_Image_Classification\\\\MaskDataset\\\\validation\\\\10582.jpg'"
      ]
     },
     "execution_count": 8,
     "metadata": {},
     "output_type": "execute_result"
    },
    {
     "data": {
      "text/plain": [
       "'C:\\\\Users\\\\steka\\\\Competition_Image_Classification\\\\MaskDataset\\\\validation\\\\16486.jpg'"
      ]
     },
     "execution_count": 8,
     "metadata": {},
     "output_type": "execute_result"
    },
    {
     "data": {
      "text/plain": [
       "'C:\\\\Users\\\\steka\\\\Competition_Image_Classification\\\\MaskDataset\\\\validation\\\\10612.jpg'"
      ]
     },
     "execution_count": 8,
     "metadata": {},
     "output_type": "execute_result"
    },
    {
     "data": {
      "text/plain": [
       "'C:\\\\Users\\\\steka\\\\Competition_Image_Classification\\\\MaskDataset\\\\validation\\\\17410.jpg'"
      ]
     },
     "execution_count": 8,
     "metadata": {},
     "output_type": "execute_result"
    },
    {
     "data": {
      "text/plain": [
       "'C:\\\\Users\\\\steka\\\\Competition_Image_Classification\\\\MaskDataset\\\\validation\\\\11122.jpg'"
      ]
     },
     "execution_count": 8,
     "metadata": {},
     "output_type": "execute_result"
    },
    {
     "data": {
      "text/plain": [
       "'C:\\\\Users\\\\steka\\\\Competition_Image_Classification\\\\MaskDataset\\\\validation\\\\15396.jpg'"
      ]
     },
     "execution_count": 8,
     "metadata": {},
     "output_type": "execute_result"
    },
    {
     "data": {
      "text/plain": [
       "'C:\\\\Users\\\\steka\\\\Competition_Image_Classification\\\\MaskDataset\\\\validation\\\\10749.jpg'"
      ]
     },
     "execution_count": 8,
     "metadata": {},
     "output_type": "execute_result"
    },
    {
     "data": {
      "text/plain": [
       "'C:\\\\Users\\\\steka\\\\Competition_Image_Classification\\\\MaskDataset\\\\validation\\\\17246.jpg'"
      ]
     },
     "execution_count": 8,
     "metadata": {},
     "output_type": "execute_result"
    },
    {
     "data": {
      "text/plain": [
       "'C:\\\\Users\\\\steka\\\\Competition_Image_Classification\\\\MaskDataset\\\\validation\\\\10037.jpg'"
      ]
     },
     "execution_count": 8,
     "metadata": {},
     "output_type": "execute_result"
    },
    {
     "data": {
      "text/plain": [
       "'C:\\\\Users\\\\steka\\\\Competition_Image_Classification\\\\MaskDataset\\\\validation\\\\16129.jpg'"
      ]
     },
     "execution_count": 8,
     "metadata": {},
     "output_type": "execute_result"
    },
    {
     "data": {
      "text/plain": [
       "'C:\\\\Users\\\\steka\\\\Competition_Image_Classification\\\\MaskDataset\\\\validation\\\\13386.jpg'"
      ]
     },
     "execution_count": 8,
     "metadata": {},
     "output_type": "execute_result"
    },
    {
     "data": {
      "text/plain": [
       "'C:\\\\Users\\\\steka\\\\Competition_Image_Classification\\\\MaskDataset\\\\validation\\\\17237.jpg'"
      ]
     },
     "execution_count": 8,
     "metadata": {},
     "output_type": "execute_result"
    },
    {
     "data": {
      "text/plain": [
       "'C:\\\\Users\\\\steka\\\\Competition_Image_Classification\\\\MaskDataset\\\\validation\\\\14913.jpg'"
      ]
     },
     "execution_count": 8,
     "metadata": {},
     "output_type": "execute_result"
    },
    {
     "data": {
      "text/plain": [
       "'C:\\\\Users\\\\steka\\\\Competition_Image_Classification\\\\MaskDataset\\\\validation\\\\16226.jpg'"
      ]
     },
     "execution_count": 8,
     "metadata": {},
     "output_type": "execute_result"
    },
    {
     "data": {
      "text/plain": [
       "'C:\\\\Users\\\\steka\\\\Competition_Image_Classification\\\\MaskDataset\\\\validation\\\\11543.jpg'"
      ]
     },
     "execution_count": 8,
     "metadata": {},
     "output_type": "execute_result"
    },
    {
     "data": {
      "text/plain": [
       "'C:\\\\Users\\\\steka\\\\Competition_Image_Classification\\\\MaskDataset\\\\validation\\\\17577.jpg'"
      ]
     },
     "execution_count": 8,
     "metadata": {},
     "output_type": "execute_result"
    },
    {
     "data": {
      "text/plain": [
       "'C:\\\\Users\\\\steka\\\\Competition_Image_Classification\\\\MaskDataset\\\\validation\\\\10915.jpg'"
      ]
     },
     "execution_count": 8,
     "metadata": {},
     "output_type": "execute_result"
    },
    {
     "data": {
      "text/plain": [
       "'C:\\\\Users\\\\steka\\\\Competition_Image_Classification\\\\MaskDataset\\\\validation\\\\16632.jpg'"
      ]
     },
     "execution_count": 8,
     "metadata": {},
     "output_type": "execute_result"
    },
    {
     "data": {
      "text/plain": [
       "'C:\\\\Users\\\\steka\\\\Competition_Image_Classification\\\\MaskDataset\\\\validation\\\\11209.jpg'"
      ]
     },
     "execution_count": 8,
     "metadata": {},
     "output_type": "execute_result"
    },
    {
     "data": {
      "text/plain": [
       "'C:\\\\Users\\\\steka\\\\Competition_Image_Classification\\\\MaskDataset\\\\validation\\\\13930.jpg'"
      ]
     },
     "execution_count": 8,
     "metadata": {},
     "output_type": "execute_result"
    },
    {
     "data": {
      "text/plain": [
       "'C:\\\\Users\\\\steka\\\\Competition_Image_Classification\\\\MaskDataset\\\\validation\\\\10167.jpg'"
      ]
     },
     "execution_count": 8,
     "metadata": {},
     "output_type": "execute_result"
    },
    {
     "data": {
      "text/plain": [
       "'C:\\\\Users\\\\steka\\\\Competition_Image_Classification\\\\MaskDataset\\\\validation\\\\13703.jpg'"
      ]
     },
     "execution_count": 8,
     "metadata": {},
     "output_type": "execute_result"
    },
    {
     "data": {
      "text/plain": [
       "'C:\\\\Users\\\\steka\\\\Competition_Image_Classification\\\\MaskDataset\\\\validation\\\\16584.jpg'"
      ]
     },
     "execution_count": 8,
     "metadata": {},
     "output_type": "execute_result"
    },
    {
     "data": {
      "text/plain": [
       "'C:\\\\Users\\\\steka\\\\Competition_Image_Classification\\\\MaskDataset\\\\validation\\\\12020.jpg'"
      ]
     },
     "execution_count": 8,
     "metadata": {},
     "output_type": "execute_result"
    },
    {
     "data": {
      "text/plain": [
       "'C:\\\\Users\\\\steka\\\\Competition_Image_Classification\\\\MaskDataset\\\\validation\\\\14441.jpg'"
      ]
     },
     "execution_count": 8,
     "metadata": {},
     "output_type": "execute_result"
    },
    {
     "data": {
      "text/plain": [
       "'C:\\\\Users\\\\steka\\\\Competition_Image_Classification\\\\MaskDataset\\\\validation\\\\12136.jpg'"
      ]
     },
     "execution_count": 8,
     "metadata": {},
     "output_type": "execute_result"
    },
    {
     "data": {
      "text/plain": [
       "'C:\\\\Users\\\\steka\\\\Competition_Image_Classification\\\\MaskDataset\\\\validation\\\\12807.jpg'"
      ]
     },
     "execution_count": 8,
     "metadata": {},
     "output_type": "execute_result"
    },
    {
     "data": {
      "text/plain": [
       "'C:\\\\Users\\\\steka\\\\Competition_Image_Classification\\\\MaskDataset\\\\validation\\\\17384.jpg'"
      ]
     },
     "execution_count": 8,
     "metadata": {},
     "output_type": "execute_result"
    },
    {
     "data": {
      "text/plain": [
       "'C:\\\\Users\\\\steka\\\\Competition_Image_Classification\\\\MaskDataset\\\\validation\\\\14474.jpg'"
      ]
     },
     "execution_count": 8,
     "metadata": {},
     "output_type": "execute_result"
    },
    {
     "data": {
      "text/plain": [
       "'C:\\\\Users\\\\steka\\\\Competition_Image_Classification\\\\MaskDataset\\\\validation\\\\16010.jpg'"
      ]
     },
     "execution_count": 8,
     "metadata": {},
     "output_type": "execute_result"
    },
    {
     "data": {
      "text/plain": [
       "'C:\\\\Users\\\\steka\\\\Competition_Image_Classification\\\\MaskDataset\\\\validation\\\\17510.jpg'"
      ]
     },
     "execution_count": 8,
     "metadata": {},
     "output_type": "execute_result"
    },
    {
     "data": {
      "text/plain": [
       "'C:\\\\Users\\\\steka\\\\Competition_Image_Classification\\\\MaskDataset\\\\validation\\\\16905.jpg'"
      ]
     },
     "execution_count": 8,
     "metadata": {},
     "output_type": "execute_result"
    },
    {
     "data": {
      "text/plain": [
       "'C:\\\\Users\\\\steka\\\\Competition_Image_Classification\\\\MaskDataset\\\\validation\\\\14599.jpg'"
      ]
     },
     "execution_count": 8,
     "metadata": {},
     "output_type": "execute_result"
    },
    {
     "data": {
      "text/plain": [
       "'C:\\\\Users\\\\steka\\\\Competition_Image_Classification\\\\MaskDataset\\\\validation\\\\16915.jpg'"
      ]
     },
     "execution_count": 8,
     "metadata": {},
     "output_type": "execute_result"
    },
    {
     "data": {
      "text/plain": [
       "'C:\\\\Users\\\\steka\\\\Competition_Image_Classification\\\\MaskDataset\\\\validation\\\\10066.jpg'"
      ]
     },
     "execution_count": 8,
     "metadata": {},
     "output_type": "execute_result"
    },
    {
     "data": {
      "text/plain": [
       "'C:\\\\Users\\\\steka\\\\Competition_Image_Classification\\\\MaskDataset\\\\validation\\\\12991.jpg'"
      ]
     },
     "execution_count": 8,
     "metadata": {},
     "output_type": "execute_result"
    },
    {
     "data": {
      "text/plain": [
       "'C:\\\\Users\\\\steka\\\\Competition_Image_Classification\\\\MaskDataset\\\\validation\\\\12320.jpg'"
      ]
     },
     "execution_count": 8,
     "metadata": {},
     "output_type": "execute_result"
    },
    {
     "data": {
      "text/plain": [
       "'C:\\\\Users\\\\steka\\\\Competition_Image_Classification\\\\MaskDataset\\\\validation\\\\15968.jpg'"
      ]
     },
     "execution_count": 8,
     "metadata": {},
     "output_type": "execute_result"
    },
    {
     "data": {
      "text/plain": [
       "'C:\\\\Users\\\\steka\\\\Competition_Image_Classification\\\\MaskDataset\\\\validation\\\\17704.jpg'"
      ]
     },
     "execution_count": 8,
     "metadata": {},
     "output_type": "execute_result"
    },
    {
     "data": {
      "text/plain": [
       "'C:\\\\Users\\\\steka\\\\Competition_Image_Classification\\\\MaskDataset\\\\validation\\\\10716.jpg'"
      ]
     },
     "execution_count": 8,
     "metadata": {},
     "output_type": "execute_result"
    },
    {
     "data": {
      "text/plain": [
       "'C:\\\\Users\\\\steka\\\\Competition_Image_Classification\\\\MaskDataset\\\\validation\\\\17453.jpg'"
      ]
     },
     "execution_count": 8,
     "metadata": {},
     "output_type": "execute_result"
    },
    {
     "data": {
      "text/plain": [
       "'C:\\\\Users\\\\steka\\\\Competition_Image_Classification\\\\MaskDataset\\\\validation\\\\14911.jpg'"
      ]
     },
     "execution_count": 8,
     "metadata": {},
     "output_type": "execute_result"
    },
    {
     "data": {
      "text/plain": [
       "'C:\\\\Users\\\\steka\\\\Competition_Image_Classification\\\\MaskDataset\\\\validation\\\\17033.jpg'"
      ]
     },
     "execution_count": 8,
     "metadata": {},
     "output_type": "execute_result"
    },
    {
     "data": {
      "text/plain": [
       "'C:\\\\Users\\\\steka\\\\Competition_Image_Classification\\\\MaskDataset\\\\validation\\\\12074.jpg'"
      ]
     },
     "execution_count": 8,
     "metadata": {},
     "output_type": "execute_result"
    },
    {
     "data": {
      "text/plain": [
       "'C:\\\\Users\\\\steka\\\\Competition_Image_Classification\\\\MaskDataset\\\\validation\\\\13990.jpg'"
      ]
     },
     "execution_count": 8,
     "metadata": {},
     "output_type": "execute_result"
    },
    {
     "data": {
      "text/plain": [
       "'C:\\\\Users\\\\steka\\\\Competition_Image_Classification\\\\MaskDataset\\\\validation\\\\10668.jpg'"
      ]
     },
     "execution_count": 8,
     "metadata": {},
     "output_type": "execute_result"
    },
    {
     "data": {
      "text/plain": [
       "'C:\\\\Users\\\\steka\\\\Competition_Image_Classification\\\\MaskDataset\\\\validation\\\\11807.jpg'"
      ]
     },
     "execution_count": 8,
     "metadata": {},
     "output_type": "execute_result"
    },
    {
     "data": {
      "text/plain": [
       "'C:\\\\Users\\\\steka\\\\Competition_Image_Classification\\\\MaskDataset\\\\validation\\\\14007.jpg'"
      ]
     },
     "execution_count": 8,
     "metadata": {},
     "output_type": "execute_result"
    },
    {
     "data": {
      "text/plain": [
       "'C:\\\\Users\\\\steka\\\\Competition_Image_Classification\\\\MaskDataset\\\\validation\\\\11606.jpg'"
      ]
     },
     "execution_count": 8,
     "metadata": {},
     "output_type": "execute_result"
    },
    {
     "data": {
      "text/plain": [
       "'C:\\\\Users\\\\steka\\\\Competition_Image_Classification\\\\MaskDataset\\\\validation\\\\14594.jpg'"
      ]
     },
     "execution_count": 8,
     "metadata": {},
     "output_type": "execute_result"
    },
    {
     "data": {
      "text/plain": [
       "'C:\\\\Users\\\\steka\\\\Competition_Image_Classification\\\\MaskDataset\\\\validation\\\\11591.jpg'"
      ]
     },
     "execution_count": 8,
     "metadata": {},
     "output_type": "execute_result"
    },
    {
     "data": {
      "text/plain": [
       "'C:\\\\Users\\\\steka\\\\Competition_Image_Classification\\\\MaskDataset\\\\validation\\\\10635.jpg'"
      ]
     },
     "execution_count": 8,
     "metadata": {},
     "output_type": "execute_result"
    },
    {
     "data": {
      "text/plain": [
       "'C:\\\\Users\\\\steka\\\\Competition_Image_Classification\\\\MaskDataset\\\\validation\\\\11388.jpg'"
      ]
     },
     "execution_count": 8,
     "metadata": {},
     "output_type": "execute_result"
    },
    {
     "data": {
      "text/plain": [
       "'C:\\\\Users\\\\steka\\\\Competition_Image_Classification\\\\MaskDataset\\\\validation\\\\16599.jpg'"
      ]
     },
     "execution_count": 8,
     "metadata": {},
     "output_type": "execute_result"
    },
    {
     "data": {
      "text/plain": [
       "'C:\\\\Users\\\\steka\\\\Competition_Image_Classification\\\\MaskDataset\\\\validation\\\\14823.jpg'"
      ]
     },
     "execution_count": 8,
     "metadata": {},
     "output_type": "execute_result"
    },
    {
     "data": {
      "text/plain": [
       "'C:\\\\Users\\\\steka\\\\Competition_Image_Classification\\\\MaskDataset\\\\validation\\\\11482.jpg'"
      ]
     },
     "execution_count": 8,
     "metadata": {},
     "output_type": "execute_result"
    },
    {
     "data": {
      "text/plain": [
       "'C:\\\\Users\\\\steka\\\\Competition_Image_Classification\\\\MaskDataset\\\\validation\\\\14312.jpg'"
      ]
     },
     "execution_count": 8,
     "metadata": {},
     "output_type": "execute_result"
    },
    {
     "data": {
      "text/plain": [
       "'C:\\\\Users\\\\steka\\\\Competition_Image_Classification\\\\MaskDataset\\\\validation\\\\15821.jpg'"
      ]
     },
     "execution_count": 8,
     "metadata": {},
     "output_type": "execute_result"
    },
    {
     "data": {
      "text/plain": [
       "'C:\\\\Users\\\\steka\\\\Competition_Image_Classification\\\\MaskDataset\\\\validation\\\\13502.jpg'"
      ]
     },
     "execution_count": 8,
     "metadata": {},
     "output_type": "execute_result"
    },
    {
     "data": {
      "text/plain": [
       "'C:\\\\Users\\\\steka\\\\Competition_Image_Classification\\\\MaskDataset\\\\validation\\\\11832.jpg'"
      ]
     },
     "execution_count": 8,
     "metadata": {},
     "output_type": "execute_result"
    },
    {
     "data": {
      "text/plain": [
       "'C:\\\\Users\\\\steka\\\\Competition_Image_Classification\\\\MaskDataset\\\\validation\\\\13235.jpg'"
      ]
     },
     "execution_count": 8,
     "metadata": {},
     "output_type": "execute_result"
    },
    {
     "data": {
      "text/plain": [
       "'C:\\\\Users\\\\steka\\\\Competition_Image_Classification\\\\MaskDataset\\\\validation\\\\17721.jpg'"
      ]
     },
     "execution_count": 8,
     "metadata": {},
     "output_type": "execute_result"
    },
    {
     "data": {
      "text/plain": [
       "'C:\\\\Users\\\\steka\\\\Competition_Image_Classification\\\\MaskDataset\\\\validation\\\\15573.jpg'"
      ]
     },
     "execution_count": 8,
     "metadata": {},
     "output_type": "execute_result"
    },
    {
     "data": {
      "text/plain": [
       "'C:\\\\Users\\\\steka\\\\Competition_Image_Classification\\\\MaskDataset\\\\validation\\\\11608.jpg'"
      ]
     },
     "execution_count": 8,
     "metadata": {},
     "output_type": "execute_result"
    },
    {
     "data": {
      "text/plain": [
       "'C:\\\\Users\\\\steka\\\\Competition_Image_Classification\\\\MaskDataset\\\\validation\\\\11184.jpg'"
      ]
     },
     "execution_count": 8,
     "metadata": {},
     "output_type": "execute_result"
    },
    {
     "data": {
      "text/plain": [
       "'C:\\\\Users\\\\steka\\\\Competition_Image_Classification\\\\MaskDataset\\\\validation\\\\11745.jpg'"
      ]
     },
     "execution_count": 8,
     "metadata": {},
     "output_type": "execute_result"
    },
    {
     "data": {
      "text/plain": [
       "'C:\\\\Users\\\\steka\\\\Competition_Image_Classification\\\\MaskDataset\\\\validation\\\\16487.jpg'"
      ]
     },
     "execution_count": 8,
     "metadata": {},
     "output_type": "execute_result"
    },
    {
     "data": {
      "text/plain": [
       "'C:\\\\Users\\\\steka\\\\Competition_Image_Classification\\\\MaskDataset\\\\validation\\\\13794.jpg'"
      ]
     },
     "execution_count": 8,
     "metadata": {},
     "output_type": "execute_result"
    },
    {
     "data": {
      "text/plain": [
       "'C:\\\\Users\\\\steka\\\\Competition_Image_Classification\\\\MaskDataset\\\\validation\\\\15131.jpg'"
      ]
     },
     "execution_count": 8,
     "metadata": {},
     "output_type": "execute_result"
    },
    {
     "data": {
      "text/plain": [
       "'C:\\\\Users\\\\steka\\\\Competition_Image_Classification\\\\MaskDataset\\\\validation\\\\14208.jpg'"
      ]
     },
     "execution_count": 8,
     "metadata": {},
     "output_type": "execute_result"
    },
    {
     "data": {
      "text/plain": [
       "'C:\\\\Users\\\\steka\\\\Competition_Image_Classification\\\\MaskDataset\\\\validation\\\\15280.jpg'"
      ]
     },
     "execution_count": 8,
     "metadata": {},
     "output_type": "execute_result"
    },
    {
     "data": {
      "text/plain": [
       "'C:\\\\Users\\\\steka\\\\Competition_Image_Classification\\\\MaskDataset\\\\validation\\\\16362.jpg'"
      ]
     },
     "execution_count": 8,
     "metadata": {},
     "output_type": "execute_result"
    },
    {
     "data": {
      "text/plain": [
       "'C:\\\\Users\\\\steka\\\\Competition_Image_Classification\\\\MaskDataset\\\\validation\\\\14026.jpg'"
      ]
     },
     "execution_count": 8,
     "metadata": {},
     "output_type": "execute_result"
    },
    {
     "data": {
      "text/plain": [
       "'C:\\\\Users\\\\steka\\\\Competition_Image_Classification\\\\MaskDataset\\\\validation\\\\16353.jpg'"
      ]
     },
     "execution_count": 8,
     "metadata": {},
     "output_type": "execute_result"
    },
    {
     "data": {
      "text/plain": [
       "'C:\\\\Users\\\\steka\\\\Competition_Image_Classification\\\\MaskDataset\\\\validation\\\\16710.jpg'"
      ]
     },
     "execution_count": 8,
     "metadata": {},
     "output_type": "execute_result"
    },
    {
     "data": {
      "text/plain": [
       "'C:\\\\Users\\\\steka\\\\Competition_Image_Classification\\\\MaskDataset\\\\validation\\\\16687.jpg'"
      ]
     },
     "execution_count": 8,
     "metadata": {},
     "output_type": "execute_result"
    },
    {
     "data": {
      "text/plain": [
       "'C:\\\\Users\\\\steka\\\\Competition_Image_Classification\\\\MaskDataset\\\\validation\\\\14986.jpg'"
      ]
     },
     "execution_count": 8,
     "metadata": {},
     "output_type": "execute_result"
    },
    {
     "data": {
      "text/plain": [
       "'C:\\\\Users\\\\steka\\\\Competition_Image_Classification\\\\MaskDataset\\\\validation\\\\13798.jpg'"
      ]
     },
     "execution_count": 8,
     "metadata": {},
     "output_type": "execute_result"
    },
    {
     "data": {
      "text/plain": [
       "'C:\\\\Users\\\\steka\\\\Competition_Image_Classification\\\\MaskDataset\\\\validation\\\\11360.jpg'"
      ]
     },
     "execution_count": 8,
     "metadata": {},
     "output_type": "execute_result"
    },
    {
     "data": {
      "text/plain": [
       "'C:\\\\Users\\\\steka\\\\Competition_Image_Classification\\\\MaskDataset\\\\validation\\\\10425.jpg'"
      ]
     },
     "execution_count": 8,
     "metadata": {},
     "output_type": "execute_result"
    },
    {
     "data": {
      "text/plain": [
       "'C:\\\\Users\\\\steka\\\\Competition_Image_Classification\\\\MaskDataset\\\\validation\\\\12468.jpg'"
      ]
     },
     "execution_count": 8,
     "metadata": {},
     "output_type": "execute_result"
    },
    {
     "data": {
      "text/plain": [
       "'C:\\\\Users\\\\steka\\\\Competition_Image_Classification\\\\MaskDataset\\\\validation\\\\15428.jpg'"
      ]
     },
     "execution_count": 8,
     "metadata": {},
     "output_type": "execute_result"
    },
    {
     "data": {
      "text/plain": [
       "'C:\\\\Users\\\\steka\\\\Competition_Image_Classification\\\\MaskDataset\\\\validation\\\\17418.jpg'"
      ]
     },
     "execution_count": 8,
     "metadata": {},
     "output_type": "execute_result"
    },
    {
     "data": {
      "text/plain": [
       "'C:\\\\Users\\\\steka\\\\Competition_Image_Classification\\\\MaskDataset\\\\validation\\\\11513.jpg'"
      ]
     },
     "execution_count": 8,
     "metadata": {},
     "output_type": "execute_result"
    },
    {
     "data": {
      "text/plain": [
       "'C:\\\\Users\\\\steka\\\\Competition_Image_Classification\\\\MaskDataset\\\\validation\\\\11962.jpg'"
      ]
     },
     "execution_count": 8,
     "metadata": {},
     "output_type": "execute_result"
    },
    {
     "data": {
      "text/plain": [
       "'C:\\\\Users\\\\steka\\\\Competition_Image_Classification\\\\MaskDataset\\\\validation\\\\10698.jpg'"
      ]
     },
     "execution_count": 8,
     "metadata": {},
     "output_type": "execute_result"
    },
    {
     "data": {
      "text/plain": [
       "'C:\\\\Users\\\\steka\\\\Competition_Image_Classification\\\\MaskDataset\\\\validation\\\\16135.jpg'"
      ]
     },
     "execution_count": 8,
     "metadata": {},
     "output_type": "execute_result"
    },
    {
     "data": {
      "text/plain": [
       "'C:\\\\Users\\\\steka\\\\Competition_Image_Classification\\\\MaskDataset\\\\validation\\\\16491.jpg'"
      ]
     },
     "execution_count": 8,
     "metadata": {},
     "output_type": "execute_result"
    },
    {
     "data": {
      "text/plain": [
       "'C:\\\\Users\\\\steka\\\\Competition_Image_Classification\\\\MaskDataset\\\\validation\\\\17875.jpg'"
      ]
     },
     "execution_count": 8,
     "metadata": {},
     "output_type": "execute_result"
    },
    {
     "data": {
      "text/plain": [
       "'C:\\\\Users\\\\steka\\\\Competition_Image_Classification\\\\MaskDataset\\\\validation\\\\11371.jpg'"
      ]
     },
     "execution_count": 8,
     "metadata": {},
     "output_type": "execute_result"
    },
    {
     "data": {
      "text/plain": [
       "'C:\\\\Users\\\\steka\\\\Competition_Image_Classification\\\\MaskDataset\\\\validation\\\\17257.jpg'"
      ]
     },
     "execution_count": 8,
     "metadata": {},
     "output_type": "execute_result"
    },
    {
     "data": {
      "text/plain": [
       "'C:\\\\Users\\\\steka\\\\Competition_Image_Classification\\\\MaskDataset\\\\validation\\\\11493.jpg'"
      ]
     },
     "execution_count": 8,
     "metadata": {},
     "output_type": "execute_result"
    },
    {
     "data": {
      "text/plain": [
       "'C:\\\\Users\\\\steka\\\\Competition_Image_Classification\\\\MaskDataset\\\\validation\\\\11017.jpg'"
      ]
     },
     "execution_count": 8,
     "metadata": {},
     "output_type": "execute_result"
    },
    {
     "data": {
      "text/plain": [
       "'C:\\\\Users\\\\steka\\\\Competition_Image_Classification\\\\MaskDataset\\\\validation\\\\11811.jpg'"
      ]
     },
     "execution_count": 8,
     "metadata": {},
     "output_type": "execute_result"
    },
    {
     "data": {
      "text/plain": [
       "'C:\\\\Users\\\\steka\\\\Competition_Image_Classification\\\\MaskDataset\\\\validation\\\\11054.jpg'"
      ]
     },
     "execution_count": 8,
     "metadata": {},
     "output_type": "execute_result"
    },
    {
     "data": {
      "text/plain": [
       "'C:\\\\Users\\\\steka\\\\Competition_Image_Classification\\\\MaskDataset\\\\validation\\\\15397.jpg'"
      ]
     },
     "execution_count": 8,
     "metadata": {},
     "output_type": "execute_result"
    },
    {
     "data": {
      "text/plain": [
       "'C:\\\\Users\\\\steka\\\\Competition_Image_Classification\\\\MaskDataset\\\\validation\\\\17789.jpg'"
      ]
     },
     "execution_count": 8,
     "metadata": {},
     "output_type": "execute_result"
    },
    {
     "data": {
      "text/plain": [
       "'C:\\\\Users\\\\steka\\\\Competition_Image_Classification\\\\MaskDataset\\\\validation\\\\11431.jpg'"
      ]
     },
     "execution_count": 8,
     "metadata": {},
     "output_type": "execute_result"
    },
    {
     "data": {
      "text/plain": [
       "'C:\\\\Users\\\\steka\\\\Competition_Image_Classification\\\\MaskDataset\\\\validation\\\\17105.jpg'"
      ]
     },
     "execution_count": 8,
     "metadata": {},
     "output_type": "execute_result"
    },
    {
     "data": {
      "text/plain": [
       "'C:\\\\Users\\\\steka\\\\Competition_Image_Classification\\\\MaskDataset\\\\validation\\\\13834.jpg'"
      ]
     },
     "execution_count": 8,
     "metadata": {},
     "output_type": "execute_result"
    },
    {
     "data": {
      "text/plain": [
       "'C:\\\\Users\\\\steka\\\\Competition_Image_Classification\\\\MaskDataset\\\\validation\\\\12242.jpg'"
      ]
     },
     "execution_count": 8,
     "metadata": {},
     "output_type": "execute_result"
    },
    {
     "data": {
      "text/plain": [
       "'C:\\\\Users\\\\steka\\\\Competition_Image_Classification\\\\MaskDataset\\\\validation\\\\11864.jpg'"
      ]
     },
     "execution_count": 8,
     "metadata": {},
     "output_type": "execute_result"
    },
    {
     "data": {
      "text/plain": [
       "'C:\\\\Users\\\\steka\\\\Competition_Image_Classification\\\\MaskDataset\\\\validation\\\\13678.jpg'"
      ]
     },
     "execution_count": 8,
     "metadata": {},
     "output_type": "execute_result"
    },
    {
     "data": {
      "text/plain": [
       "'C:\\\\Users\\\\steka\\\\Competition_Image_Classification\\\\MaskDataset\\\\validation\\\\11781.jpg'"
      ]
     },
     "execution_count": 8,
     "metadata": {},
     "output_type": "execute_result"
    },
    {
     "data": {
      "text/plain": [
       "'C:\\\\Users\\\\steka\\\\Competition_Image_Classification\\\\MaskDataset\\\\validation\\\\17226.jpg'"
      ]
     },
     "execution_count": 8,
     "metadata": {},
     "output_type": "execute_result"
    },
    {
     "data": {
      "text/plain": [
       "'C:\\\\Users\\\\steka\\\\Competition_Image_Classification\\\\MaskDataset\\\\validation\\\\12410.jpg'"
      ]
     },
     "execution_count": 8,
     "metadata": {},
     "output_type": "execute_result"
    },
    {
     "data": {
      "text/plain": [
       "'C:\\\\Users\\\\steka\\\\Competition_Image_Classification\\\\MaskDataset\\\\validation\\\\12476.jpg'"
      ]
     },
     "execution_count": 8,
     "metadata": {},
     "output_type": "execute_result"
    },
    {
     "data": {
      "text/plain": [
       "'C:\\\\Users\\\\steka\\\\Competition_Image_Classification\\\\MaskDataset\\\\validation\\\\11538.jpg'"
      ]
     },
     "execution_count": 8,
     "metadata": {},
     "output_type": "execute_result"
    },
    {
     "data": {
      "text/plain": [
       "'C:\\\\Users\\\\steka\\\\Competition_Image_Classification\\\\MaskDataset\\\\validation\\\\13441.jpg'"
      ]
     },
     "execution_count": 8,
     "metadata": {},
     "output_type": "execute_result"
    },
    {
     "data": {
      "text/plain": [
       "'C:\\\\Users\\\\steka\\\\Competition_Image_Classification\\\\MaskDataset\\\\validation\\\\14243.jpg'"
      ]
     },
     "execution_count": 8,
     "metadata": {},
     "output_type": "execute_result"
    },
    {
     "data": {
      "text/plain": [
       "'C:\\\\Users\\\\steka\\\\Competition_Image_Classification\\\\MaskDataset\\\\validation\\\\10783.jpg'"
      ]
     },
     "execution_count": 8,
     "metadata": {},
     "output_type": "execute_result"
    },
    {
     "data": {
      "text/plain": [
       "'C:\\\\Users\\\\steka\\\\Competition_Image_Classification\\\\MaskDataset\\\\validation\\\\15721.jpg'"
      ]
     },
     "execution_count": 8,
     "metadata": {},
     "output_type": "execute_result"
    },
    {
     "data": {
      "text/plain": [
       "'C:\\\\Users\\\\steka\\\\Competition_Image_Classification\\\\MaskDataset\\\\validation\\\\14791.jpg'"
      ]
     },
     "execution_count": 8,
     "metadata": {},
     "output_type": "execute_result"
    },
    {
     "data": {
      "text/plain": [
       "'C:\\\\Users\\\\steka\\\\Competition_Image_Classification\\\\MaskDataset\\\\validation\\\\16596.jpg'"
      ]
     },
     "execution_count": 8,
     "metadata": {},
     "output_type": "execute_result"
    },
    {
     "data": {
      "text/plain": [
       "'C:\\\\Users\\\\steka\\\\Competition_Image_Classification\\\\MaskDataset\\\\validation\\\\14089.jpg'"
      ]
     },
     "execution_count": 8,
     "metadata": {},
     "output_type": "execute_result"
    },
    {
     "data": {
      "text/plain": [
       "'C:\\\\Users\\\\steka\\\\Competition_Image_Classification\\\\MaskDataset\\\\validation\\\\11945.jpg'"
      ]
     },
     "execution_count": 8,
     "metadata": {},
     "output_type": "execute_result"
    },
    {
     "data": {
      "text/plain": [
       "'C:\\\\Users\\\\steka\\\\Competition_Image_Classification\\\\MaskDataset\\\\validation\\\\12108.jpg'"
      ]
     },
     "execution_count": 8,
     "metadata": {},
     "output_type": "execute_result"
    },
    {
     "data": {
      "text/plain": [
       "'C:\\\\Users\\\\steka\\\\Competition_Image_Classification\\\\MaskDataset\\\\validation\\\\12011.jpg'"
      ]
     },
     "execution_count": 8,
     "metadata": {},
     "output_type": "execute_result"
    },
    {
     "data": {
      "text/plain": [
       "'C:\\\\Users\\\\steka\\\\Competition_Image_Classification\\\\MaskDataset\\\\validation\\\\15860.jpg'"
      ]
     },
     "execution_count": 8,
     "metadata": {},
     "output_type": "execute_result"
    },
    {
     "data": {
      "text/plain": [
       "'C:\\\\Users\\\\steka\\\\Competition_Image_Classification\\\\MaskDataset\\\\validation\\\\16264.jpg'"
      ]
     },
     "execution_count": 8,
     "metadata": {},
     "output_type": "execute_result"
    },
    {
     "data": {
      "text/plain": [
       "'C:\\\\Users\\\\steka\\\\Competition_Image_Classification\\\\MaskDataset\\\\validation\\\\12373.jpg'"
      ]
     },
     "execution_count": 8,
     "metadata": {},
     "output_type": "execute_result"
    },
    {
     "data": {
      "text/plain": [
       "'C:\\\\Users\\\\steka\\\\Competition_Image_Classification\\\\MaskDataset\\\\validation\\\\16080.jpg'"
      ]
     },
     "execution_count": 8,
     "metadata": {},
     "output_type": "execute_result"
    },
    {
     "data": {
      "text/plain": [
       "'C:\\\\Users\\\\steka\\\\Competition_Image_Classification\\\\MaskDataset\\\\validation\\\\15513.jpg'"
      ]
     },
     "execution_count": 8,
     "metadata": {},
     "output_type": "execute_result"
    },
    {
     "data": {
      "text/plain": [
       "'C:\\\\Users\\\\steka\\\\Competition_Image_Classification\\\\MaskDataset\\\\validation\\\\13540.jpg'"
      ]
     },
     "execution_count": 8,
     "metadata": {},
     "output_type": "execute_result"
    },
    {
     "data": {
      "text/plain": [
       "'C:\\\\Users\\\\steka\\\\Competition_Image_Classification\\\\MaskDataset\\\\validation\\\\16592.jpg'"
      ]
     },
     "execution_count": 8,
     "metadata": {},
     "output_type": "execute_result"
    },
    {
     "data": {
      "text/plain": [
       "'C:\\\\Users\\\\steka\\\\Competition_Image_Classification\\\\MaskDataset\\\\validation\\\\12789.jpg'"
      ]
     },
     "execution_count": 8,
     "metadata": {},
     "output_type": "execute_result"
    },
    {
     "data": {
      "text/plain": [
       "'C:\\\\Users\\\\steka\\\\Competition_Image_Classification\\\\MaskDataset\\\\validation\\\\10542.jpg'"
      ]
     },
     "execution_count": 8,
     "metadata": {},
     "output_type": "execute_result"
    },
    {
     "data": {
      "text/plain": [
       "'C:\\\\Users\\\\steka\\\\Competition_Image_Classification\\\\MaskDataset\\\\validation\\\\17088.jpg'"
      ]
     },
     "execution_count": 8,
     "metadata": {},
     "output_type": "execute_result"
    },
    {
     "data": {
      "text/plain": [
       "'C:\\\\Users\\\\steka\\\\Competition_Image_Classification\\\\MaskDataset\\\\validation\\\\17264.jpg'"
      ]
     },
     "execution_count": 8,
     "metadata": {},
     "output_type": "execute_result"
    },
    {
     "data": {
      "text/plain": [
       "'C:\\\\Users\\\\steka\\\\Competition_Image_Classification\\\\MaskDataset\\\\validation\\\\10269.jpg'"
      ]
     },
     "execution_count": 8,
     "metadata": {},
     "output_type": "execute_result"
    },
    {
     "data": {
      "text/plain": [
       "'C:\\\\Users\\\\steka\\\\Competition_Image_Classification\\\\MaskDataset\\\\validation\\\\12536.jpg'"
      ]
     },
     "execution_count": 8,
     "metadata": {},
     "output_type": "execute_result"
    },
    {
     "data": {
      "text/plain": [
       "'C:\\\\Users\\\\steka\\\\Competition_Image_Classification\\\\MaskDataset\\\\validation\\\\10539.jpg'"
      ]
     },
     "execution_count": 8,
     "metadata": {},
     "output_type": "execute_result"
    },
    {
     "data": {
      "text/plain": [
       "'C:\\\\Users\\\\steka\\\\Competition_Image_Classification\\\\MaskDataset\\\\validation\\\\17501.jpg'"
      ]
     },
     "execution_count": 8,
     "metadata": {},
     "output_type": "execute_result"
    },
    {
     "data": {
      "text/plain": [
       "'C:\\\\Users\\\\steka\\\\Competition_Image_Classification\\\\MaskDataset\\\\validation\\\\14734.jpg'"
      ]
     },
     "execution_count": 8,
     "metadata": {},
     "output_type": "execute_result"
    },
    {
     "data": {
      "text/plain": [
       "'C:\\\\Users\\\\steka\\\\Competition_Image_Classification\\\\MaskDataset\\\\validation\\\\10585.jpg'"
      ]
     },
     "execution_count": 8,
     "metadata": {},
     "output_type": "execute_result"
    },
    {
     "data": {
      "text/plain": [
       "'C:\\\\Users\\\\steka\\\\Competition_Image_Classification\\\\MaskDataset\\\\validation\\\\10693.jpg'"
      ]
     },
     "execution_count": 8,
     "metadata": {},
     "output_type": "execute_result"
    },
    {
     "data": {
      "text/plain": [
       "'C:\\\\Users\\\\steka\\\\Competition_Image_Classification\\\\MaskDataset\\\\validation\\\\10647.jpg'"
      ]
     },
     "execution_count": 8,
     "metadata": {},
     "output_type": "execute_result"
    },
    {
     "data": {
      "text/plain": [
       "'C:\\\\Users\\\\steka\\\\Competition_Image_Classification\\\\MaskDataset\\\\validation\\\\13298.jpg'"
      ]
     },
     "execution_count": 8,
     "metadata": {},
     "output_type": "execute_result"
    },
    {
     "data": {
      "text/plain": [
       "'C:\\\\Users\\\\steka\\\\Competition_Image_Classification\\\\MaskDataset\\\\validation\\\\13146.jpg'"
      ]
     },
     "execution_count": 8,
     "metadata": {},
     "output_type": "execute_result"
    },
    {
     "data": {
      "text/plain": [
       "'C:\\\\Users\\\\steka\\\\Competition_Image_Classification\\\\MaskDataset\\\\validation\\\\16068.jpg'"
      ]
     },
     "execution_count": 8,
     "metadata": {},
     "output_type": "execute_result"
    },
    {
     "data": {
      "text/plain": [
       "'C:\\\\Users\\\\steka\\\\Competition_Image_Classification\\\\MaskDataset\\\\validation\\\\13960.jpg'"
      ]
     },
     "execution_count": 8,
     "metadata": {},
     "output_type": "execute_result"
    },
    {
     "data": {
      "text/plain": [
       "'C:\\\\Users\\\\steka\\\\Competition_Image_Classification\\\\MaskDataset\\\\validation\\\\11448.jpg'"
      ]
     },
     "execution_count": 8,
     "metadata": {},
     "output_type": "execute_result"
    },
    {
     "data": {
      "text/plain": [
       "'C:\\\\Users\\\\steka\\\\Competition_Image_Classification\\\\MaskDataset\\\\validation\\\\17496.jpg'"
      ]
     },
     "execution_count": 8,
     "metadata": {},
     "output_type": "execute_result"
    },
    {
     "data": {
      "text/plain": [
       "'C:\\\\Users\\\\steka\\\\Competition_Image_Classification\\\\MaskDataset\\\\validation\\\\15901.jpg'"
      ]
     },
     "execution_count": 8,
     "metadata": {},
     "output_type": "execute_result"
    },
    {
     "data": {
      "text/plain": [
       "'C:\\\\Users\\\\steka\\\\Competition_Image_Classification\\\\MaskDataset\\\\validation\\\\13640.jpg'"
      ]
     },
     "execution_count": 8,
     "metadata": {},
     "output_type": "execute_result"
    },
    {
     "data": {
      "text/plain": [
       "'C:\\\\Users\\\\steka\\\\Competition_Image_Classification\\\\MaskDataset\\\\validation\\\\18187.jpg'"
      ]
     },
     "execution_count": 8,
     "metadata": {},
     "output_type": "execute_result"
    },
    {
     "data": {
      "text/plain": [
       "'C:\\\\Users\\\\steka\\\\Competition_Image_Classification\\\\MaskDataset\\\\validation\\\\15868.jpg'"
      ]
     },
     "execution_count": 8,
     "metadata": {},
     "output_type": "execute_result"
    },
    {
     "data": {
      "text/plain": [
       "'C:\\\\Users\\\\steka\\\\Competition_Image_Classification\\\\MaskDataset\\\\validation\\\\13532.jpg'"
      ]
     },
     "execution_count": 8,
     "metadata": {},
     "output_type": "execute_result"
    },
    {
     "data": {
      "text/plain": [
       "'C:\\\\Users\\\\steka\\\\Competition_Image_Classification\\\\MaskDataset\\\\validation\\\\12280.jpg'"
      ]
     },
     "execution_count": 8,
     "metadata": {},
     "output_type": "execute_result"
    },
    {
     "data": {
      "text/plain": [
       "'C:\\\\Users\\\\steka\\\\Competition_Image_Classification\\\\MaskDataset\\\\validation\\\\10322.jpg'"
      ]
     },
     "execution_count": 8,
     "metadata": {},
     "output_type": "execute_result"
    },
    {
     "data": {
      "text/plain": [
       "'C:\\\\Users\\\\steka\\\\Competition_Image_Classification\\\\MaskDataset\\\\validation\\\\10089.jpg'"
      ]
     },
     "execution_count": 8,
     "metadata": {},
     "output_type": "execute_result"
    },
    {
     "data": {
      "text/plain": [
       "'C:\\\\Users\\\\steka\\\\Competition_Image_Classification\\\\MaskDataset\\\\validation\\\\17249.jpg'"
      ]
     },
     "execution_count": 8,
     "metadata": {},
     "output_type": "execute_result"
    },
    {
     "data": {
      "text/plain": [
       "'C:\\\\Users\\\\steka\\\\Competition_Image_Classification\\\\MaskDataset\\\\validation\\\\14247.jpg'"
      ]
     },
     "execution_count": 8,
     "metadata": {},
     "output_type": "execute_result"
    },
    {
     "data": {
      "text/plain": [
       "'C:\\\\Users\\\\steka\\\\Competition_Image_Classification\\\\MaskDataset\\\\validation\\\\11065.jpg'"
      ]
     },
     "execution_count": 8,
     "metadata": {},
     "output_type": "execute_result"
    },
    {
     "data": {
      "text/plain": [
       "'C:\\\\Users\\\\steka\\\\Competition_Image_Classification\\\\MaskDataset\\\\validation\\\\15134.jpg'"
      ]
     },
     "execution_count": 8,
     "metadata": {},
     "output_type": "execute_result"
    },
    {
     "data": {
      "text/plain": [
       "'C:\\\\Users\\\\steka\\\\Competition_Image_Classification\\\\MaskDataset\\\\validation\\\\17134.jpg'"
      ]
     },
     "execution_count": 8,
     "metadata": {},
     "output_type": "execute_result"
    },
    {
     "data": {
      "text/plain": [
       "'C:\\\\Users\\\\steka\\\\Competition_Image_Classification\\\\MaskDataset\\\\validation\\\\15766.jpg'"
      ]
     },
     "execution_count": 8,
     "metadata": {},
     "output_type": "execute_result"
    },
    {
     "data": {
      "text/plain": [
       "'C:\\\\Users\\\\steka\\\\Competition_Image_Classification\\\\MaskDataset\\\\validation\\\\10448.jpg'"
      ]
     },
     "execution_count": 8,
     "metadata": {},
     "output_type": "execute_result"
    },
    {
     "data": {
      "text/plain": [
       "'C:\\\\Users\\\\steka\\\\Competition_Image_Classification\\\\MaskDataset\\\\validation\\\\14646.jpg'"
      ]
     },
     "execution_count": 8,
     "metadata": {},
     "output_type": "execute_result"
    },
    {
     "data": {
      "text/plain": [
       "'C:\\\\Users\\\\steka\\\\Competition_Image_Classification\\\\MaskDataset\\\\validation\\\\10149.jpg'"
      ]
     },
     "execution_count": 8,
     "metadata": {},
     "output_type": "execute_result"
    },
    {
     "data": {
      "text/plain": [
       "'C:\\\\Users\\\\steka\\\\Competition_Image_Classification\\\\MaskDataset\\\\validation\\\\12796.jpg'"
      ]
     },
     "execution_count": 8,
     "metadata": {},
     "output_type": "execute_result"
    },
    {
     "data": {
      "text/plain": [
       "'C:\\\\Users\\\\steka\\\\Competition_Image_Classification\\\\MaskDataset\\\\validation\\\\11500.jpg'"
      ]
     },
     "execution_count": 8,
     "metadata": {},
     "output_type": "execute_result"
    },
    {
     "data": {
      "text/plain": [
       "'C:\\\\Users\\\\steka\\\\Competition_Image_Classification\\\\MaskDataset\\\\validation\\\\11326.jpg'"
      ]
     },
     "execution_count": 8,
     "metadata": {},
     "output_type": "execute_result"
    },
    {
     "data": {
      "text/plain": [
       "'C:\\\\Users\\\\steka\\\\Competition_Image_Classification\\\\MaskDataset\\\\validation\\\\14054.jpg'"
      ]
     },
     "execution_count": 8,
     "metadata": {},
     "output_type": "execute_result"
    },
    {
     "data": {
      "text/plain": [
       "'C:\\\\Users\\\\steka\\\\Competition_Image_Classification\\\\MaskDataset\\\\validation\\\\10080.jpg'"
      ]
     },
     "execution_count": 8,
     "metadata": {},
     "output_type": "execute_result"
    },
    {
     "data": {
      "text/plain": [
       "'C:\\\\Users\\\\steka\\\\Competition_Image_Classification\\\\MaskDataset\\\\validation\\\\14000.jpg'"
      ]
     },
     "execution_count": 8,
     "metadata": {},
     "output_type": "execute_result"
    },
    {
     "data": {
      "text/plain": [
       "'C:\\\\Users\\\\steka\\\\Competition_Image_Classification\\\\MaskDataset\\\\validation\\\\10978.jpg'"
      ]
     },
     "execution_count": 8,
     "metadata": {},
     "output_type": "execute_result"
    },
    {
     "data": {
      "text/plain": [
       "'C:\\\\Users\\\\steka\\\\Competition_Image_Classification\\\\MaskDataset\\\\validation\\\\15072.jpg'"
      ]
     },
     "execution_count": 8,
     "metadata": {},
     "output_type": "execute_result"
    },
    {
     "data": {
      "text/plain": [
       "'C:\\\\Users\\\\steka\\\\Competition_Image_Classification\\\\MaskDataset\\\\validation\\\\13345.jpg'"
      ]
     },
     "execution_count": 8,
     "metadata": {},
     "output_type": "execute_result"
    },
    {
     "data": {
      "text/plain": [
       "'C:\\\\Users\\\\steka\\\\Competition_Image_Classification\\\\MaskDataset\\\\validation\\\\16712.jpg'"
      ]
     },
     "execution_count": 8,
     "metadata": {},
     "output_type": "execute_result"
    },
    {
     "data": {
      "text/plain": [
       "'C:\\\\Users\\\\steka\\\\Competition_Image_Classification\\\\MaskDataset\\\\validation\\\\17640.jpg'"
      ]
     },
     "execution_count": 8,
     "metadata": {},
     "output_type": "execute_result"
    },
    {
     "data": {
      "text/plain": [
       "'C:\\\\Users\\\\steka\\\\Competition_Image_Classification\\\\MaskDataset\\\\validation\\\\13704.jpg'"
      ]
     },
     "execution_count": 8,
     "metadata": {},
     "output_type": "execute_result"
    },
    {
     "data": {
      "text/plain": [
       "'C:\\\\Users\\\\steka\\\\Competition_Image_Classification\\\\MaskDataset\\\\validation\\\\15409.jpg'"
      ]
     },
     "execution_count": 8,
     "metadata": {},
     "output_type": "execute_result"
    },
    {
     "data": {
      "text/plain": [
       "'C:\\\\Users\\\\steka\\\\Competition_Image_Classification\\\\MaskDataset\\\\validation\\\\17980.jpg'"
      ]
     },
     "execution_count": 8,
     "metadata": {},
     "output_type": "execute_result"
    },
    {
     "data": {
      "text/plain": [
       "'C:\\\\Users\\\\steka\\\\Competition_Image_Classification\\\\MaskDataset\\\\validation\\\\18154.jpg'"
      ]
     },
     "execution_count": 8,
     "metadata": {},
     "output_type": "execute_result"
    },
    {
     "data": {
      "text/plain": [
       "'C:\\\\Users\\\\steka\\\\Competition_Image_Classification\\\\MaskDataset\\\\validation\\\\16141.jpg'"
      ]
     },
     "execution_count": 8,
     "metadata": {},
     "output_type": "execute_result"
    },
    {
     "data": {
      "text/plain": [
       "'C:\\\\Users\\\\steka\\\\Competition_Image_Classification\\\\MaskDataset\\\\validation\\\\10097.jpg'"
      ]
     },
     "execution_count": 8,
     "metadata": {},
     "output_type": "execute_result"
    },
    {
     "data": {
      "text/plain": [
       "'C:\\\\Users\\\\steka\\\\Competition_Image_Classification\\\\MaskDataset\\\\validation\\\\14759.jpg'"
      ]
     },
     "execution_count": 8,
     "metadata": {},
     "output_type": "execute_result"
    },
    {
     "data": {
      "text/plain": [
       "'C:\\\\Users\\\\steka\\\\Competition_Image_Classification\\\\MaskDataset\\\\validation\\\\17271.jpg'"
      ]
     },
     "execution_count": 8,
     "metadata": {},
     "output_type": "execute_result"
    },
    {
     "data": {
      "text/plain": [
       "'C:\\\\Users\\\\steka\\\\Competition_Image_Classification\\\\MaskDataset\\\\validation\\\\14210.jpg'"
      ]
     },
     "execution_count": 8,
     "metadata": {},
     "output_type": "execute_result"
    },
    {
     "data": {
      "text/plain": [
       "'C:\\\\Users\\\\steka\\\\Competition_Image_Classification\\\\MaskDataset\\\\validation\\\\10497.jpg'"
      ]
     },
     "execution_count": 8,
     "metadata": {},
     "output_type": "execute_result"
    },
    {
     "data": {
      "text/plain": [
       "'C:\\\\Users\\\\steka\\\\Competition_Image_Classification\\\\MaskDataset\\\\validation\\\\12783.jpg'"
      ]
     },
     "execution_count": 8,
     "metadata": {},
     "output_type": "execute_result"
    },
    {
     "data": {
      "text/plain": [
       "'C:\\\\Users\\\\steka\\\\Competition_Image_Classification\\\\MaskDataset\\\\validation\\\\13881.jpg'"
      ]
     },
     "execution_count": 8,
     "metadata": {},
     "output_type": "execute_result"
    },
    {
     "data": {
      "text/plain": [
       "'C:\\\\Users\\\\steka\\\\Competition_Image_Classification\\\\MaskDataset\\\\validation\\\\15784.jpg'"
      ]
     },
     "execution_count": 8,
     "metadata": {},
     "output_type": "execute_result"
    },
    {
     "data": {
      "text/plain": [
       "'C:\\\\Users\\\\steka\\\\Competition_Image_Classification\\\\MaskDataset\\\\validation\\\\16394.jpg'"
      ]
     },
     "execution_count": 8,
     "metadata": {},
     "output_type": "execute_result"
    },
    {
     "data": {
      "text/plain": [
       "'C:\\\\Users\\\\steka\\\\Competition_Image_Classification\\\\MaskDataset\\\\validation\\\\14843.jpg'"
      ]
     },
     "execution_count": 8,
     "metadata": {},
     "output_type": "execute_result"
    },
    {
     "data": {
      "text/plain": [
       "'C:\\\\Users\\\\steka\\\\Competition_Image_Classification\\\\MaskDataset\\\\validation\\\\10611.jpg'"
      ]
     },
     "execution_count": 8,
     "metadata": {},
     "output_type": "execute_result"
    },
    {
     "data": {
      "text/plain": [
       "'C:\\\\Users\\\\steka\\\\Competition_Image_Classification\\\\MaskDataset\\\\validation\\\\10399.jpg'"
      ]
     },
     "execution_count": 8,
     "metadata": {},
     "output_type": "execute_result"
    },
    {
     "data": {
      "text/plain": [
       "'C:\\\\Users\\\\steka\\\\Competition_Image_Classification\\\\MaskDataset\\\\validation\\\\10223.jpg'"
      ]
     },
     "execution_count": 8,
     "metadata": {},
     "output_type": "execute_result"
    },
    {
     "data": {
      "text/plain": [
       "'C:\\\\Users\\\\steka\\\\Competition_Image_Classification\\\\MaskDataset\\\\validation\\\\15659.jpg'"
      ]
     },
     "execution_count": 8,
     "metadata": {},
     "output_type": "execute_result"
    },
    {
     "data": {
      "text/plain": [
       "'C:\\\\Users\\\\steka\\\\Competition_Image_Classification\\\\MaskDataset\\\\validation\\\\14233.jpg'"
      ]
     },
     "execution_count": 8,
     "metadata": {},
     "output_type": "execute_result"
    },
    {
     "data": {
      "text/plain": [
       "'C:\\\\Users\\\\steka\\\\Competition_Image_Classification\\\\MaskDataset\\\\validation\\\\12625.jpg'"
      ]
     },
     "execution_count": 8,
     "metadata": {},
     "output_type": "execute_result"
    },
    {
     "data": {
      "text/plain": [
       "'C:\\\\Users\\\\steka\\\\Competition_Image_Classification\\\\MaskDataset\\\\validation\\\\18069.jpg'"
      ]
     },
     "execution_count": 8,
     "metadata": {},
     "output_type": "execute_result"
    },
    {
     "data": {
      "text/plain": [
       "'C:\\\\Users\\\\steka\\\\Competition_Image_Classification\\\\MaskDataset\\\\validation\\\\17817.jpg'"
      ]
     },
     "execution_count": 8,
     "metadata": {},
     "output_type": "execute_result"
    },
    {
     "data": {
      "text/plain": [
       "'C:\\\\Users\\\\steka\\\\Competition_Image_Classification\\\\MaskDataset\\\\validation\\\\11878.jpg'"
      ]
     },
     "execution_count": 8,
     "metadata": {},
     "output_type": "execute_result"
    },
    {
     "data": {
      "text/plain": [
       "'C:\\\\Users\\\\steka\\\\Competition_Image_Classification\\\\MaskDataset\\\\validation\\\\10808.jpg'"
      ]
     },
     "execution_count": 8,
     "metadata": {},
     "output_type": "execute_result"
    },
    {
     "data": {
      "text/plain": [
       "'C:\\\\Users\\\\steka\\\\Competition_Image_Classification\\\\MaskDataset\\\\validation\\\\16177.jpg'"
      ]
     },
     "execution_count": 8,
     "metadata": {},
     "output_type": "execute_result"
    },
    {
     "data": {
      "text/plain": [
       "'C:\\\\Users\\\\steka\\\\Competition_Image_Classification\\\\MaskDataset\\\\validation\\\\16389.jpg'"
      ]
     },
     "execution_count": 8,
     "metadata": {},
     "output_type": "execute_result"
    },
    {
     "data": {
      "text/plain": [
       "'C:\\\\Users\\\\steka\\\\Competition_Image_Classification\\\\MaskDataset\\\\validation\\\\14262.jpg'"
      ]
     },
     "execution_count": 8,
     "metadata": {},
     "output_type": "execute_result"
    },
    {
     "data": {
      "text/plain": [
       "'C:\\\\Users\\\\steka\\\\Competition_Image_Classification\\\\MaskDataset\\\\validation\\\\16804.jpg'"
      ]
     },
     "execution_count": 8,
     "metadata": {},
     "output_type": "execute_result"
    },
    {
     "data": {
      "text/plain": [
       "'C:\\\\Users\\\\steka\\\\Competition_Image_Classification\\\\MaskDataset\\\\validation\\\\14948.jpg'"
      ]
     },
     "execution_count": 8,
     "metadata": {},
     "output_type": "execute_result"
    },
    {
     "data": {
      "text/plain": [
       "'C:\\\\Users\\\\steka\\\\Competition_Image_Classification\\\\MaskDataset\\\\validation\\\\11258.jpg'"
      ]
     },
     "execution_count": 8,
     "metadata": {},
     "output_type": "execute_result"
    },
    {
     "data": {
      "text/plain": [
       "'C:\\\\Users\\\\steka\\\\Competition_Image_Classification\\\\MaskDataset\\\\validation\\\\10337.jpg'"
      ]
     },
     "execution_count": 8,
     "metadata": {},
     "output_type": "execute_result"
    },
    {
     "data": {
      "text/plain": [
       "'C:\\\\Users\\\\steka\\\\Competition_Image_Classification\\\\MaskDataset\\\\validation\\\\11467.jpg'"
      ]
     },
     "execution_count": 8,
     "metadata": {},
     "output_type": "execute_result"
    },
    {
     "data": {
      "text/plain": [
       "'C:\\\\Users\\\\steka\\\\Competition_Image_Classification\\\\MaskDataset\\\\validation\\\\13440.jpg'"
      ]
     },
     "execution_count": 8,
     "metadata": {},
     "output_type": "execute_result"
    },
    {
     "data": {
      "text/plain": [
       "'C:\\\\Users\\\\steka\\\\Competition_Image_Classification\\\\MaskDataset\\\\validation\\\\10153.jpg'"
      ]
     },
     "execution_count": 8,
     "metadata": {},
     "output_type": "execute_result"
    },
    {
     "data": {
      "text/plain": [
       "'C:\\\\Users\\\\steka\\\\Competition_Image_Classification\\\\MaskDataset\\\\validation\\\\12437.jpg'"
      ]
     },
     "execution_count": 8,
     "metadata": {},
     "output_type": "execute_result"
    },
    {
     "data": {
      "text/plain": [
       "'C:\\\\Users\\\\steka\\\\Competition_Image_Classification\\\\MaskDataset\\\\validation\\\\10493.jpg'"
      ]
     },
     "execution_count": 8,
     "metadata": {},
     "output_type": "execute_result"
    },
    {
     "data": {
      "text/plain": [
       "'C:\\\\Users\\\\steka\\\\Competition_Image_Classification\\\\MaskDataset\\\\validation\\\\14964.jpg'"
      ]
     },
     "execution_count": 8,
     "metadata": {},
     "output_type": "execute_result"
    },
    {
     "data": {
      "text/plain": [
       "'C:\\\\Users\\\\steka\\\\Competition_Image_Classification\\\\MaskDataset\\\\validation\\\\14680.jpg'"
      ]
     },
     "execution_count": 8,
     "metadata": {},
     "output_type": "execute_result"
    },
    {
     "data": {
      "text/plain": [
       "'C:\\\\Users\\\\steka\\\\Competition_Image_Classification\\\\MaskDataset\\\\validation\\\\11036.jpg'"
      ]
     },
     "execution_count": 8,
     "metadata": {},
     "output_type": "execute_result"
    },
    {
     "data": {
      "text/plain": [
       "'C:\\\\Users\\\\steka\\\\Competition_Image_Classification\\\\MaskDataset\\\\validation\\\\12903.jpg'"
      ]
     },
     "execution_count": 8,
     "metadata": {},
     "output_type": "execute_result"
    },
    {
     "data": {
      "text/plain": [
       "'C:\\\\Users\\\\steka\\\\Competition_Image_Classification\\\\MaskDataset\\\\validation\\\\14661.jpg'"
      ]
     },
     "execution_count": 8,
     "metadata": {},
     "output_type": "execute_result"
    },
    {
     "data": {
      "text/plain": [
       "'C:\\\\Users\\\\steka\\\\Competition_Image_Classification\\\\MaskDataset\\\\validation\\\\11293.jpg'"
      ]
     },
     "execution_count": 8,
     "metadata": {},
     "output_type": "execute_result"
    },
    {
     "data": {
      "text/plain": [
       "'C:\\\\Users\\\\steka\\\\Competition_Image_Classification\\\\MaskDataset\\\\validation\\\\11939.jpg'"
      ]
     },
     "execution_count": 8,
     "metadata": {},
     "output_type": "execute_result"
    },
    {
     "data": {
      "text/plain": [
       "'C:\\\\Users\\\\steka\\\\Competition_Image_Classification\\\\MaskDataset\\\\validation\\\\15533.jpg'"
      ]
     },
     "execution_count": 8,
     "metadata": {},
     "output_type": "execute_result"
    },
    {
     "data": {
      "text/plain": [
       "'C:\\\\Users\\\\steka\\\\Competition_Image_Classification\\\\MaskDataset\\\\validation\\\\14245.jpg'"
      ]
     },
     "execution_count": 8,
     "metadata": {},
     "output_type": "execute_result"
    },
    {
     "data": {
      "text/plain": [
       "'C:\\\\Users\\\\steka\\\\Competition_Image_Classification\\\\MaskDataset\\\\validation\\\\17234.jpg'"
      ]
     },
     "execution_count": 8,
     "metadata": {},
     "output_type": "execute_result"
    },
    {
     "data": {
      "text/plain": [
       "'C:\\\\Users\\\\steka\\\\Competition_Image_Classification\\\\MaskDataset\\\\validation\\\\17327.jpg'"
      ]
     },
     "execution_count": 8,
     "metadata": {},
     "output_type": "execute_result"
    },
    {
     "data": {
      "text/plain": [
       "'C:\\\\Users\\\\steka\\\\Competition_Image_Classification\\\\MaskDataset\\\\validation\\\\13068.jpg'"
      ]
     },
     "execution_count": 8,
     "metadata": {},
     "output_type": "execute_result"
    },
    {
     "data": {
      "text/plain": [
       "'C:\\\\Users\\\\steka\\\\Competition_Image_Classification\\\\MaskDataset\\\\validation\\\\12973.jpg'"
      ]
     },
     "execution_count": 8,
     "metadata": {},
     "output_type": "execute_result"
    },
    {
     "data": {
      "text/plain": [
       "'C:\\\\Users\\\\steka\\\\Competition_Image_Classification\\\\MaskDataset\\\\validation\\\\10633.jpg'"
      ]
     },
     "execution_count": 8,
     "metadata": {},
     "output_type": "execute_result"
    },
    {
     "data": {
      "text/plain": [
       "'C:\\\\Users\\\\steka\\\\Competition_Image_Classification\\\\MaskDataset\\\\validation\\\\11620.jpg'"
      ]
     },
     "execution_count": 8,
     "metadata": {},
     "output_type": "execute_result"
    },
    {
     "data": {
      "text/plain": [
       "'C:\\\\Users\\\\steka\\\\Competition_Image_Classification\\\\MaskDataset\\\\validation\\\\11637.jpg'"
      ]
     },
     "execution_count": 8,
     "metadata": {},
     "output_type": "execute_result"
    },
    {
     "data": {
      "text/plain": [
       "'C:\\\\Users\\\\steka\\\\Competition_Image_Classification\\\\MaskDataset\\\\validation\\\\13254.jpg'"
      ]
     },
     "execution_count": 8,
     "metadata": {},
     "output_type": "execute_result"
    },
    {
     "data": {
      "text/plain": [
       "'C:\\\\Users\\\\steka\\\\Competition_Image_Classification\\\\MaskDataset\\\\validation\\\\10531.jpg'"
      ]
     },
     "execution_count": 8,
     "metadata": {},
     "output_type": "execute_result"
    },
    {
     "data": {
      "text/plain": [
       "'C:\\\\Users\\\\steka\\\\Competition_Image_Classification\\\\MaskDataset\\\\validation\\\\15754.jpg'"
      ]
     },
     "execution_count": 8,
     "metadata": {},
     "output_type": "execute_result"
    },
    {
     "data": {
      "text/plain": [
       "'C:\\\\Users\\\\steka\\\\Competition_Image_Classification\\\\MaskDataset\\\\validation\\\\14753.jpg'"
      ]
     },
     "execution_count": 8,
     "metadata": {},
     "output_type": "execute_result"
    },
    {
     "data": {
      "text/plain": [
       "'C:\\\\Users\\\\steka\\\\Competition_Image_Classification\\\\MaskDataset\\\\validation\\\\13239.jpg'"
      ]
     },
     "execution_count": 8,
     "metadata": {},
     "output_type": "execute_result"
    },
    {
     "data": {
      "text/plain": [
       "'C:\\\\Users\\\\steka\\\\Competition_Image_Classification\\\\MaskDataset\\\\validation\\\\11725.jpg'"
      ]
     },
     "execution_count": 8,
     "metadata": {},
     "output_type": "execute_result"
    },
    {
     "data": {
      "text/plain": [
       "'C:\\\\Users\\\\steka\\\\Competition_Image_Classification\\\\MaskDataset\\\\validation\\\\10618.jpg'"
      ]
     },
     "execution_count": 8,
     "metadata": {},
     "output_type": "execute_result"
    },
    {
     "data": {
      "text/plain": [
       "'C:\\\\Users\\\\steka\\\\Competition_Image_Classification\\\\MaskDataset\\\\validation\\\\12883.jpg'"
      ]
     },
     "execution_count": 8,
     "metadata": {},
     "output_type": "execute_result"
    },
    {
     "data": {
      "text/plain": [
       "'C:\\\\Users\\\\steka\\\\Competition_Image_Classification\\\\MaskDataset\\\\validation\\\\17639.jpg'"
      ]
     },
     "execution_count": 8,
     "metadata": {},
     "output_type": "execute_result"
    },
    {
     "data": {
      "text/plain": [
       "'C:\\\\Users\\\\steka\\\\Competition_Image_Classification\\\\MaskDataset\\\\validation\\\\14431.jpg'"
      ]
     },
     "execution_count": 8,
     "metadata": {},
     "output_type": "execute_result"
    },
    {
     "data": {
      "text/plain": [
       "'C:\\\\Users\\\\steka\\\\Competition_Image_Classification\\\\MaskDataset\\\\validation\\\\11531.jpg'"
      ]
     },
     "execution_count": 8,
     "metadata": {},
     "output_type": "execute_result"
    },
    {
     "data": {
      "text/plain": [
       "'C:\\\\Users\\\\steka\\\\Competition_Image_Classification\\\\MaskDataset\\\\validation\\\\17114.jpg'"
      ]
     },
     "execution_count": 8,
     "metadata": {},
     "output_type": "execute_result"
    },
    {
     "data": {
      "text/plain": [
       "'C:\\\\Users\\\\steka\\\\Competition_Image_Classification\\\\MaskDataset\\\\validation\\\\12779.jpg'"
      ]
     },
     "execution_count": 8,
     "metadata": {},
     "output_type": "execute_result"
    },
    {
     "data": {
      "text/plain": [
       "'C:\\\\Users\\\\steka\\\\Competition_Image_Classification\\\\MaskDataset\\\\validation\\\\11883.jpg'"
      ]
     },
     "execution_count": 8,
     "metadata": {},
     "output_type": "execute_result"
    },
    {
     "data": {
      "text/plain": [
       "'C:\\\\Users\\\\steka\\\\Competition_Image_Classification\\\\MaskDataset\\\\validation\\\\10133.jpg'"
      ]
     },
     "execution_count": 8,
     "metadata": {},
     "output_type": "execute_result"
    },
    {
     "data": {
      "text/plain": [
       "'C:\\\\Users\\\\steka\\\\Competition_Image_Classification\\\\MaskDataset\\\\validation\\\\16227.jpg'"
      ]
     },
     "execution_count": 8,
     "metadata": {},
     "output_type": "execute_result"
    },
    {
     "data": {
      "text/plain": [
       "'C:\\\\Users\\\\steka\\\\Competition_Image_Classification\\\\MaskDataset\\\\validation\\\\11649.jpg'"
      ]
     },
     "execution_count": 8,
     "metadata": {},
     "output_type": "execute_result"
    },
    {
     "data": {
      "text/plain": [
       "'C:\\\\Users\\\\steka\\\\Competition_Image_Classification\\\\MaskDataset\\\\validation\\\\17481.jpg'"
      ]
     },
     "execution_count": 8,
     "metadata": {},
     "output_type": "execute_result"
    },
    {
     "data": {
      "text/plain": [
       "'C:\\\\Users\\\\steka\\\\Competition_Image_Classification\\\\MaskDataset\\\\validation\\\\17970.jpg'"
      ]
     },
     "execution_count": 8,
     "metadata": {},
     "output_type": "execute_result"
    },
    {
     "data": {
      "text/plain": [
       "'C:\\\\Users\\\\steka\\\\Competition_Image_Classification\\\\MaskDataset\\\\validation\\\\11355.jpg'"
      ]
     },
     "execution_count": 8,
     "metadata": {},
     "output_type": "execute_result"
    },
    {
     "data": {
      "text/plain": [
       "'C:\\\\Users\\\\steka\\\\Competition_Image_Classification\\\\MaskDataset\\\\validation\\\\12520.jpg'"
      ]
     },
     "execution_count": 8,
     "metadata": {},
     "output_type": "execute_result"
    },
    {
     "data": {
      "text/plain": [
       "'C:\\\\Users\\\\steka\\\\Competition_Image_Classification\\\\MaskDataset\\\\validation\\\\12433.jpg'"
      ]
     },
     "execution_count": 8,
     "metadata": {},
     "output_type": "execute_result"
    },
    {
     "data": {
      "text/plain": [
       "'C:\\\\Users\\\\steka\\\\Competition_Image_Classification\\\\MaskDataset\\\\validation\\\\11530.jpg'"
      ]
     },
     "execution_count": 8,
     "metadata": {},
     "output_type": "execute_result"
    },
    {
     "data": {
      "text/plain": [
       "'C:\\\\Users\\\\steka\\\\Competition_Image_Classification\\\\MaskDataset\\\\validation\\\\10630.jpg'"
      ]
     },
     "execution_count": 8,
     "metadata": {},
     "output_type": "execute_result"
    },
    {
     "data": {
      "text/plain": [
       "'C:\\\\Users\\\\steka\\\\Competition_Image_Classification\\\\MaskDataset\\\\validation\\\\15303.jpg'"
      ]
     },
     "execution_count": 8,
     "metadata": {},
     "output_type": "execute_result"
    },
    {
     "data": {
      "text/plain": [
       "'C:\\\\Users\\\\steka\\\\Competition_Image_Classification\\\\MaskDataset\\\\validation\\\\14073.jpg'"
      ]
     },
     "execution_count": 8,
     "metadata": {},
     "output_type": "execute_result"
    },
    {
     "data": {
      "text/plain": [
       "'C:\\\\Users\\\\steka\\\\Competition_Image_Classification\\\\MaskDataset\\\\validation\\\\17405.jpg'"
      ]
     },
     "execution_count": 8,
     "metadata": {},
     "output_type": "execute_result"
    },
    {
     "data": {
      "text/plain": [
       "'C:\\\\Users\\\\steka\\\\Competition_Image_Classification\\\\MaskDataset\\\\validation\\\\17007.jpg'"
      ]
     },
     "execution_count": 8,
     "metadata": {},
     "output_type": "execute_result"
    },
    {
     "data": {
      "text/plain": [
       "'C:\\\\Users\\\\steka\\\\Competition_Image_Classification\\\\MaskDataset\\\\validation\\\\12707.jpg'"
      ]
     },
     "execution_count": 8,
     "metadata": {},
     "output_type": "execute_result"
    },
    {
     "data": {
      "text/plain": [
       "'C:\\\\Users\\\\steka\\\\Competition_Image_Classification\\\\MaskDataset\\\\validation\\\\17637.jpg'"
      ]
     },
     "execution_count": 8,
     "metadata": {},
     "output_type": "execute_result"
    },
    {
     "data": {
      "text/plain": [
       "'C:\\\\Users\\\\steka\\\\Competition_Image_Classification\\\\MaskDataset\\\\validation\\\\17943.jpg'"
      ]
     },
     "execution_count": 8,
     "metadata": {},
     "output_type": "execute_result"
    },
    {
     "data": {
      "text/plain": [
       "'C:\\\\Users\\\\steka\\\\Competition_Image_Classification\\\\MaskDataset\\\\validation\\\\16573.jpg'"
      ]
     },
     "execution_count": 8,
     "metadata": {},
     "output_type": "execute_result"
    },
    {
     "data": {
      "text/plain": [
       "'C:\\\\Users\\\\steka\\\\Competition_Image_Classification\\\\MaskDataset\\\\validation\\\\13463.jpg'"
      ]
     },
     "execution_count": 8,
     "metadata": {},
     "output_type": "execute_result"
    },
    {
     "data": {
      "text/plain": [
       "'C:\\\\Users\\\\steka\\\\Competition_Image_Classification\\\\MaskDataset\\\\validation\\\\16203.jpg'"
      ]
     },
     "execution_count": 8,
     "metadata": {},
     "output_type": "execute_result"
    },
    {
     "data": {
      "text/plain": [
       "'C:\\\\Users\\\\steka\\\\Competition_Image_Classification\\\\MaskDataset\\\\validation\\\\11071.jpg'"
      ]
     },
     "execution_count": 8,
     "metadata": {},
     "output_type": "execute_result"
    },
    {
     "data": {
      "text/plain": [
       "'C:\\\\Users\\\\steka\\\\Competition_Image_Classification\\\\MaskDataset\\\\validation\\\\11206.jpg'"
      ]
     },
     "execution_count": 8,
     "metadata": {},
     "output_type": "execute_result"
    },
    {
     "data": {
      "text/plain": [
       "'C:\\\\Users\\\\steka\\\\Competition_Image_Classification\\\\MaskDataset\\\\validation\\\\12497.jpg'"
      ]
     },
     "execution_count": 8,
     "metadata": {},
     "output_type": "execute_result"
    },
    {
     "data": {
      "text/plain": [
       "'C:\\\\Users\\\\steka\\\\Competition_Image_Classification\\\\MaskDataset\\\\validation\\\\15100.jpg'"
      ]
     },
     "execution_count": 8,
     "metadata": {},
     "output_type": "execute_result"
    },
    {
     "data": {
      "text/plain": [
       "'C:\\\\Users\\\\steka\\\\Competition_Image_Classification\\\\MaskDataset\\\\validation\\\\12263.jpg'"
      ]
     },
     "execution_count": 8,
     "metadata": {},
     "output_type": "execute_result"
    },
    {
     "data": {
      "text/plain": [
       "'C:\\\\Users\\\\steka\\\\Competition_Image_Classification\\\\MaskDataset\\\\validation\\\\15256.jpg'"
      ]
     },
     "execution_count": 8,
     "metadata": {},
     "output_type": "execute_result"
    },
    {
     "data": {
      "text/plain": [
       "'C:\\\\Users\\\\steka\\\\Competition_Image_Classification\\\\MaskDataset\\\\validation\\\\11933.jpg'"
      ]
     },
     "execution_count": 8,
     "metadata": {},
     "output_type": "execute_result"
    },
    {
     "data": {
      "text/plain": [
       "'C:\\\\Users\\\\steka\\\\Competition_Image_Classification\\\\MaskDataset\\\\validation\\\\17793.jpg'"
      ]
     },
     "execution_count": 8,
     "metadata": {},
     "output_type": "execute_result"
    },
    {
     "data": {
      "text/plain": [
       "'C:\\\\Users\\\\steka\\\\Competition_Image_Classification\\\\MaskDataset\\\\validation\\\\15481.jpg'"
      ]
     },
     "execution_count": 8,
     "metadata": {},
     "output_type": "execute_result"
    },
    {
     "data": {
      "text/plain": [
       "'C:\\\\Users\\\\steka\\\\Competition_Image_Classification\\\\MaskDataset\\\\validation\\\\10143.jpg'"
      ]
     },
     "execution_count": 8,
     "metadata": {},
     "output_type": "execute_result"
    },
    {
     "data": {
      "text/plain": [
       "'C:\\\\Users\\\\steka\\\\Competition_Image_Classification\\\\MaskDataset\\\\validation\\\\15611.jpg'"
      ]
     },
     "execution_count": 8,
     "metadata": {},
     "output_type": "execute_result"
    },
    {
     "data": {
      "text/plain": [
       "'C:\\\\Users\\\\steka\\\\Competition_Image_Classification\\\\MaskDataset\\\\validation\\\\11403.jpg'"
      ]
     },
     "execution_count": 8,
     "metadata": {},
     "output_type": "execute_result"
    },
    {
     "data": {
      "text/plain": [
       "'C:\\\\Users\\\\steka\\\\Competition_Image_Classification\\\\MaskDataset\\\\validation\\\\11331.jpg'"
      ]
     },
     "execution_count": 8,
     "metadata": {},
     "output_type": "execute_result"
    },
    {
     "data": {
      "text/plain": [
       "'C:\\\\Users\\\\steka\\\\Competition_Image_Classification\\\\MaskDataset\\\\validation\\\\13114.jpg'"
      ]
     },
     "execution_count": 8,
     "metadata": {},
     "output_type": "execute_result"
    },
    {
     "data": {
      "text/plain": [
       "'C:\\\\Users\\\\steka\\\\Competition_Image_Classification\\\\MaskDataset\\\\validation\\\\15068.jpg'"
      ]
     },
     "execution_count": 8,
     "metadata": {},
     "output_type": "execute_result"
    },
    {
     "data": {
      "text/plain": [
       "'C:\\\\Users\\\\steka\\\\Competition_Image_Classification\\\\MaskDataset\\\\validation\\\\18133.jpg'"
      ]
     },
     "execution_count": 8,
     "metadata": {},
     "output_type": "execute_result"
    },
    {
     "data": {
      "text/plain": [
       "'C:\\\\Users\\\\steka\\\\Competition_Image_Classification\\\\MaskDataset\\\\validation\\\\15237.jpg'"
      ]
     },
     "execution_count": 8,
     "metadata": {},
     "output_type": "execute_result"
    },
    {
     "data": {
      "text/plain": [
       "'C:\\\\Users\\\\steka\\\\Competition_Image_Classification\\\\MaskDataset\\\\validation\\\\16451.jpg'"
      ]
     },
     "execution_count": 8,
     "metadata": {},
     "output_type": "execute_result"
    },
    {
     "data": {
      "text/plain": [
       "'C:\\\\Users\\\\steka\\\\Competition_Image_Classification\\\\MaskDataset\\\\validation\\\\10267.jpg'"
      ]
     },
     "execution_count": 8,
     "metadata": {},
     "output_type": "execute_result"
    },
    {
     "data": {
      "text/plain": [
       "'C:\\\\Users\\\\steka\\\\Competition_Image_Classification\\\\MaskDataset\\\\validation\\\\11263.jpg'"
      ]
     },
     "execution_count": 8,
     "metadata": {},
     "output_type": "execute_result"
    },
    {
     "data": {
      "text/plain": [
       "'C:\\\\Users\\\\steka\\\\Competition_Image_Classification\\\\MaskDataset\\\\validation\\\\15076.jpg'"
      ]
     },
     "execution_count": 8,
     "metadata": {},
     "output_type": "execute_result"
    },
    {
     "data": {
      "text/plain": [
       "'C:\\\\Users\\\\steka\\\\Competition_Image_Classification\\\\MaskDataset\\\\validation\\\\16937.jpg'"
      ]
     },
     "execution_count": 8,
     "metadata": {},
     "output_type": "execute_result"
    },
    {
     "data": {
      "text/plain": [
       "'C:\\\\Users\\\\steka\\\\Competition_Image_Classification\\\\MaskDataset\\\\validation\\\\17210.jpg'"
      ]
     },
     "execution_count": 8,
     "metadata": {},
     "output_type": "execute_result"
    },
    {
     "data": {
      "text/plain": [
       "'C:\\\\Users\\\\steka\\\\Competition_Image_Classification\\\\MaskDataset\\\\validation\\\\17947.jpg'"
      ]
     },
     "execution_count": 8,
     "metadata": {},
     "output_type": "execute_result"
    },
    {
     "data": {
      "text/plain": [
       "'C:\\\\Users\\\\steka\\\\Competition_Image_Classification\\\\MaskDataset\\\\validation\\\\16189.jpg'"
      ]
     },
     "execution_count": 8,
     "metadata": {},
     "output_type": "execute_result"
    },
    {
     "data": {
      "text/plain": [
       "'C:\\\\Users\\\\steka\\\\Competition_Image_Classification\\\\MaskDataset\\\\validation\\\\15379.jpg'"
      ]
     },
     "execution_count": 8,
     "metadata": {},
     "output_type": "execute_result"
    },
    {
     "data": {
      "text/plain": [
       "'C:\\\\Users\\\\steka\\\\Competition_Image_Classification\\\\MaskDataset\\\\validation\\\\13934.jpg'"
      ]
     },
     "execution_count": 8,
     "metadata": {},
     "output_type": "execute_result"
    },
    {
     "data": {
      "text/plain": [
       "'C:\\\\Users\\\\steka\\\\Competition_Image_Classification\\\\MaskDataset\\\\validation\\\\12086.jpg'"
      ]
     },
     "execution_count": 8,
     "metadata": {},
     "output_type": "execute_result"
    },
    {
     "data": {
      "text/plain": [
       "'C:\\\\Users\\\\steka\\\\Competition_Image_Classification\\\\MaskDataset\\\\validation\\\\17138.jpg'"
      ]
     },
     "execution_count": 8,
     "metadata": {},
     "output_type": "execute_result"
    },
    {
     "data": {
      "text/plain": [
       "'C:\\\\Users\\\\steka\\\\Competition_Image_Classification\\\\MaskDataset\\\\validation\\\\10950.jpg'"
      ]
     },
     "execution_count": 8,
     "metadata": {},
     "output_type": "execute_result"
    },
    {
     "data": {
      "text/plain": [
       "'C:\\\\Users\\\\steka\\\\Competition_Image_Classification\\\\MaskDataset\\\\validation\\\\12543.jpg'"
      ]
     },
     "execution_count": 8,
     "metadata": {},
     "output_type": "execute_result"
    },
    {
     "data": {
      "text/plain": [
       "'C:\\\\Users\\\\steka\\\\Competition_Image_Classification\\\\MaskDataset\\\\validation\\\\16773.jpg'"
      ]
     },
     "execution_count": 8,
     "metadata": {},
     "output_type": "execute_result"
    },
    {
     "data": {
      "text/plain": [
       "'C:\\\\Users\\\\steka\\\\Competition_Image_Classification\\\\MaskDataset\\\\validation\\\\16113.jpg'"
      ]
     },
     "execution_count": 8,
     "metadata": {},
     "output_type": "execute_result"
    },
    {
     "data": {
      "text/plain": [
       "'C:\\\\Users\\\\steka\\\\Competition_Image_Classification\\\\MaskDataset\\\\validation\\\\17122.jpg'"
      ]
     },
     "execution_count": 8,
     "metadata": {},
     "output_type": "execute_result"
    },
    {
     "data": {
      "text/plain": [
       "'C:\\\\Users\\\\steka\\\\Competition_Image_Classification\\\\MaskDataset\\\\validation\\\\11319.jpg'"
      ]
     },
     "execution_count": 8,
     "metadata": {},
     "output_type": "execute_result"
    },
    {
     "data": {
      "text/plain": [
       "'C:\\\\Users\\\\steka\\\\Competition_Image_Classification\\\\MaskDataset\\\\validation\\\\16893.jpg'"
      ]
     },
     "execution_count": 8,
     "metadata": {},
     "output_type": "execute_result"
    },
    {
     "data": {
      "text/plain": [
       "'C:\\\\Users\\\\steka\\\\Competition_Image_Classification\\\\MaskDataset\\\\validation\\\\10802.jpg'"
      ]
     },
     "execution_count": 8,
     "metadata": {},
     "output_type": "execute_result"
    },
    {
     "data": {
      "text/plain": [
       "'C:\\\\Users\\\\steka\\\\Competition_Image_Classification\\\\MaskDataset\\\\validation\\\\11643.jpg'"
      ]
     },
     "execution_count": 8,
     "metadata": {},
     "output_type": "execute_result"
    },
    {
     "data": {
      "text/plain": [
       "'C:\\\\Users\\\\steka\\\\Competition_Image_Classification\\\\MaskDataset\\\\validation\\\\15982.jpg'"
      ]
     },
     "execution_count": 8,
     "metadata": {},
     "output_type": "execute_result"
    },
    {
     "data": {
      "text/plain": [
       "'C:\\\\Users\\\\steka\\\\Competition_Image_Classification\\\\MaskDataset\\\\validation\\\\17820.jpg'"
      ]
     },
     "execution_count": 8,
     "metadata": {},
     "output_type": "execute_result"
    },
    {
     "data": {
      "text/plain": [
       "'C:\\\\Users\\\\steka\\\\Competition_Image_Classification\\\\MaskDataset\\\\validation\\\\12087.jpg'"
      ]
     },
     "execution_count": 8,
     "metadata": {},
     "output_type": "execute_result"
    },
    {
     "data": {
      "text/plain": [
       "'C:\\\\Users\\\\steka\\\\Competition_Image_Classification\\\\MaskDataset\\\\validation\\\\11135.jpg'"
      ]
     },
     "execution_count": 8,
     "metadata": {},
     "output_type": "execute_result"
    },
    {
     "data": {
      "text/plain": [
       "'C:\\\\Users\\\\steka\\\\Competition_Image_Classification\\\\MaskDataset\\\\validation\\\\15841.jpg'"
      ]
     },
     "execution_count": 8,
     "metadata": {},
     "output_type": "execute_result"
    },
    {
     "data": {
      "text/plain": [
       "'C:\\\\Users\\\\steka\\\\Competition_Image_Classification\\\\MaskDataset\\\\validation\\\\16441.jpg'"
      ]
     },
     "execution_count": 8,
     "metadata": {},
     "output_type": "execute_result"
    },
    {
     "data": {
      "text/plain": [
       "'C:\\\\Users\\\\steka\\\\Competition_Image_Classification\\\\MaskDataset\\\\validation\\\\17036.jpg'"
      ]
     },
     "execution_count": 8,
     "metadata": {},
     "output_type": "execute_result"
    },
    {
     "data": {
      "text/plain": [
       "'C:\\\\Users\\\\steka\\\\Competition_Image_Classification\\\\MaskDataset\\\\validation\\\\15588.jpg'"
      ]
     },
     "execution_count": 8,
     "metadata": {},
     "output_type": "execute_result"
    },
    {
     "data": {
      "text/plain": [
       "'C:\\\\Users\\\\steka\\\\Competition_Image_Classification\\\\MaskDataset\\\\validation\\\\13021.jpg'"
      ]
     },
     "execution_count": 8,
     "metadata": {},
     "output_type": "execute_result"
    },
    {
     "data": {
      "text/plain": [
       "'C:\\\\Users\\\\steka\\\\Competition_Image_Classification\\\\MaskDataset\\\\validation\\\\10575.jpg'"
      ]
     },
     "execution_count": 8,
     "metadata": {},
     "output_type": "execute_result"
    },
    {
     "data": {
      "text/plain": [
       "'C:\\\\Users\\\\steka\\\\Competition_Image_Classification\\\\MaskDataset\\\\validation\\\\16254.jpg'"
      ]
     },
     "execution_count": 8,
     "metadata": {},
     "output_type": "execute_result"
    },
    {
     "data": {
      "text/plain": [
       "'C:\\\\Users\\\\steka\\\\Competition_Image_Classification\\\\MaskDataset\\\\validation\\\\12028.jpg'"
      ]
     },
     "execution_count": 8,
     "metadata": {},
     "output_type": "execute_result"
    },
    {
     "data": {
      "text/plain": [
       "'C:\\\\Users\\\\steka\\\\Competition_Image_Classification\\\\MaskDataset\\\\validation\\\\16255.jpg'"
      ]
     },
     "execution_count": 8,
     "metadata": {},
     "output_type": "execute_result"
    },
    {
     "data": {
      "text/plain": [
       "'C:\\\\Users\\\\steka\\\\Competition_Image_Classification\\\\MaskDataset\\\\validation\\\\10388.jpg'"
      ]
     },
     "execution_count": 8,
     "metadata": {},
     "output_type": "execute_result"
    },
    {
     "data": {
      "text/plain": [
       "'C:\\\\Users\\\\steka\\\\Competition_Image_Classification\\\\MaskDataset\\\\validation\\\\15133.jpg'"
      ]
     },
     "execution_count": 8,
     "metadata": {},
     "output_type": "execute_result"
    },
    {
     "data": {
      "text/plain": [
       "'C:\\\\Users\\\\steka\\\\Competition_Image_Classification\\\\MaskDataset\\\\validation\\\\11628.jpg'"
      ]
     },
     "execution_count": 8,
     "metadata": {},
     "output_type": "execute_result"
    },
    {
     "data": {
      "text/plain": [
       "'C:\\\\Users\\\\steka\\\\Competition_Image_Classification\\\\MaskDataset\\\\validation\\\\13993.jpg'"
      ]
     },
     "execution_count": 8,
     "metadata": {},
     "output_type": "execute_result"
    },
    {
     "data": {
      "text/plain": [
       "'C:\\\\Users\\\\steka\\\\Competition_Image_Classification\\\\MaskDataset\\\\validation\\\\15410.jpg'"
      ]
     },
     "execution_count": 8,
     "metadata": {},
     "output_type": "execute_result"
    },
    {
     "data": {
      "text/plain": [
       "'C:\\\\Users\\\\steka\\\\Competition_Image_Classification\\\\MaskDataset\\\\validation\\\\13568.jpg'"
      ]
     },
     "execution_count": 8,
     "metadata": {},
     "output_type": "execute_result"
    },
    {
     "data": {
      "text/plain": [
       "'C:\\\\Users\\\\steka\\\\Competition_Image_Classification\\\\MaskDataset\\\\validation\\\\17610.jpg'"
      ]
     },
     "execution_count": 8,
     "metadata": {},
     "output_type": "execute_result"
    },
    {
     "data": {
      "text/plain": [
       "'C:\\\\Users\\\\steka\\\\Competition_Image_Classification\\\\MaskDataset\\\\validation\\\\18033.jpg'"
      ]
     },
     "execution_count": 8,
     "metadata": {},
     "output_type": "execute_result"
    },
    {
     "data": {
      "text/plain": [
       "'C:\\\\Users\\\\steka\\\\Competition_Image_Classification\\\\MaskDataset\\\\validation\\\\16079.jpg'"
      ]
     },
     "execution_count": 8,
     "metadata": {},
     "output_type": "execute_result"
    },
    {
     "data": {
      "text/plain": [
       "'C:\\\\Users\\\\steka\\\\Competition_Image_Classification\\\\MaskDataset\\\\validation\\\\15479.jpg'"
      ]
     },
     "execution_count": 8,
     "metadata": {},
     "output_type": "execute_result"
    },
    {
     "data": {
      "text/plain": [
       "'C:\\\\Users\\\\steka\\\\Competition_Image_Classification\\\\MaskDataset\\\\validation\\\\14301.jpg'"
      ]
     },
     "execution_count": 8,
     "metadata": {},
     "output_type": "execute_result"
    },
    {
     "data": {
      "text/plain": [
       "'C:\\\\Users\\\\steka\\\\Competition_Image_Classification\\\\MaskDataset\\\\validation\\\\11943.jpg'"
      ]
     },
     "execution_count": 8,
     "metadata": {},
     "output_type": "execute_result"
    },
    {
     "data": {
      "text/plain": [
       "'C:\\\\Users\\\\steka\\\\Competition_Image_Classification\\\\MaskDataset\\\\validation\\\\12075.jpg'"
      ]
     },
     "execution_count": 8,
     "metadata": {},
     "output_type": "execute_result"
    },
    {
     "data": {
      "text/plain": [
       "'C:\\\\Users\\\\steka\\\\Competition_Image_Classification\\\\MaskDataset\\\\validation\\\\10228.jpg'"
      ]
     },
     "execution_count": 8,
     "metadata": {},
     "output_type": "execute_result"
    },
    {
     "data": {
      "text/plain": [
       "'C:\\\\Users\\\\steka\\\\Competition_Image_Classification\\\\MaskDataset\\\\validation\\\\17781.jpg'"
      ]
     },
     "execution_count": 8,
     "metadata": {},
     "output_type": "execute_result"
    },
    {
     "data": {
      "text/plain": [
       "'C:\\\\Users\\\\steka\\\\Competition_Image_Classification\\\\MaskDataset\\\\validation\\\\15803.jpg'"
      ]
     },
     "execution_count": 8,
     "metadata": {},
     "output_type": "execute_result"
    },
    {
     "data": {
      "text/plain": [
       "'C:\\\\Users\\\\steka\\\\Competition_Image_Classification\\\\MaskDataset\\\\validation\\\\15697.jpg'"
      ]
     },
     "execution_count": 8,
     "metadata": {},
     "output_type": "execute_result"
    },
    {
     "data": {
      "text/plain": [
       "'C:\\\\Users\\\\steka\\\\Competition_Image_Classification\\\\MaskDataset\\\\validation\\\\14551.jpg'"
      ]
     },
     "execution_count": 8,
     "metadata": {},
     "output_type": "execute_result"
    },
    {
     "data": {
      "text/plain": [
       "'C:\\\\Users\\\\steka\\\\Competition_Image_Classification\\\\MaskDataset\\\\validation\\\\11900.jpg'"
      ]
     },
     "execution_count": 8,
     "metadata": {},
     "output_type": "execute_result"
    },
    {
     "data": {
      "text/plain": [
       "'C:\\\\Users\\\\steka\\\\Competition_Image_Classification\\\\MaskDataset\\\\validation\\\\10123.jpg'"
      ]
     },
     "execution_count": 8,
     "metadata": {},
     "output_type": "execute_result"
    },
    {
     "data": {
      "text/plain": [
       "'C:\\\\Users\\\\steka\\\\Competition_Image_Classification\\\\MaskDataset\\\\validation\\\\18071.jpg'"
      ]
     },
     "execution_count": 8,
     "metadata": {},
     "output_type": "execute_result"
    },
    {
     "data": {
      "text/plain": [
       "'C:\\\\Users\\\\steka\\\\Competition_Image_Classification\\\\MaskDataset\\\\validation\\\\11948.jpg'"
      ]
     },
     "execution_count": 8,
     "metadata": {},
     "output_type": "execute_result"
    },
    {
     "data": {
      "text/plain": [
       "'C:\\\\Users\\\\steka\\\\Competition_Image_Classification\\\\MaskDataset\\\\validation\\\\16983.jpg'"
      ]
     },
     "execution_count": 8,
     "metadata": {},
     "output_type": "execute_result"
    },
    {
     "data": {
      "text/plain": [
       "'C:\\\\Users\\\\steka\\\\Competition_Image_Classification\\\\MaskDataset\\\\validation\\\\12123.jpg'"
      ]
     },
     "execution_count": 8,
     "metadata": {},
     "output_type": "execute_result"
    },
    {
     "data": {
      "text/plain": [
       "'C:\\\\Users\\\\steka\\\\Competition_Image_Classification\\\\MaskDataset\\\\validation\\\\10489.jpg'"
      ]
     },
     "execution_count": 8,
     "metadata": {},
     "output_type": "execute_result"
    },
    {
     "data": {
      "text/plain": [
       "'C:\\\\Users\\\\steka\\\\Competition_Image_Classification\\\\MaskDataset\\\\validation\\\\13108.jpg'"
      ]
     },
     "execution_count": 8,
     "metadata": {},
     "output_type": "execute_result"
    },
    {
     "data": {
      "text/plain": [
       "'C:\\\\Users\\\\steka\\\\Competition_Image_Classification\\\\MaskDataset\\\\validation\\\\10944.jpg'"
      ]
     },
     "execution_count": 8,
     "metadata": {},
     "output_type": "execute_result"
    },
    {
     "data": {
      "text/plain": [
       "'C:\\\\Users\\\\steka\\\\Competition_Image_Classification\\\\MaskDataset\\\\validation\\\\14656.jpg'"
      ]
     },
     "execution_count": 8,
     "metadata": {},
     "output_type": "execute_result"
    },
    {
     "data": {
      "text/plain": [
       "'C:\\\\Users\\\\steka\\\\Competition_Image_Classification\\\\MaskDataset\\\\validation\\\\15646.jpg'"
      ]
     },
     "execution_count": 8,
     "metadata": {},
     "output_type": "execute_result"
    },
    {
     "data": {
      "text/plain": [
       "'C:\\\\Users\\\\steka\\\\Competition_Image_Classification\\\\MaskDataset\\\\validation\\\\14235.jpg'"
      ]
     },
     "execution_count": 8,
     "metadata": {},
     "output_type": "execute_result"
    },
    {
     "data": {
      "text/plain": [
       "'C:\\\\Users\\\\steka\\\\Competition_Image_Classification\\\\MaskDataset\\\\validation\\\\15015.jpg'"
      ]
     },
     "execution_count": 8,
     "metadata": {},
     "output_type": "execute_result"
    },
    {
     "data": {
      "text/plain": [
       "'C:\\\\Users\\\\steka\\\\Competition_Image_Classification\\\\MaskDataset\\\\validation\\\\11810.jpg'"
      ]
     },
     "execution_count": 8,
     "metadata": {},
     "output_type": "execute_result"
    },
    {
     "data": {
      "text/plain": [
       "'C:\\\\Users\\\\steka\\\\Competition_Image_Classification\\\\MaskDataset\\\\validation\\\\12275.jpg'"
      ]
     },
     "execution_count": 8,
     "metadata": {},
     "output_type": "execute_result"
    },
    {
     "data": {
      "text/plain": [
       "'C:\\\\Users\\\\steka\\\\Competition_Image_Classification\\\\MaskDataset\\\\validation\\\\11372.jpg'"
      ]
     },
     "execution_count": 8,
     "metadata": {},
     "output_type": "execute_result"
    },
    {
     "data": {
      "text/plain": [
       "'C:\\\\Users\\\\steka\\\\Competition_Image_Classification\\\\MaskDataset\\\\validation\\\\14564.jpg'"
      ]
     },
     "execution_count": 8,
     "metadata": {},
     "output_type": "execute_result"
    },
    {
     "data": {
      "text/plain": [
       "'C:\\\\Users\\\\steka\\\\Competition_Image_Classification\\\\MaskDataset\\\\validation\\\\11057.jpg'"
      ]
     },
     "execution_count": 8,
     "metadata": {},
     "output_type": "execute_result"
    },
    {
     "data": {
      "text/plain": [
       "'C:\\\\Users\\\\steka\\\\Competition_Image_Classification\\\\MaskDataset\\\\validation\\\\14538.jpg'"
      ]
     },
     "execution_count": 8,
     "metadata": {},
     "output_type": "execute_result"
    },
    {
     "data": {
      "text/plain": [
       "'C:\\\\Users\\\\steka\\\\Competition_Image_Classification\\\\MaskDataset\\\\validation\\\\15095.jpg'"
      ]
     },
     "execution_count": 8,
     "metadata": {},
     "output_type": "execute_result"
    },
    {
     "data": {
      "text/plain": [
       "'C:\\\\Users\\\\steka\\\\Competition_Image_Classification\\\\MaskDataset\\\\validation\\\\15717.jpg'"
      ]
     },
     "execution_count": 8,
     "metadata": {},
     "output_type": "execute_result"
    },
    {
     "data": {
      "text/plain": [
       "'C:\\\\Users\\\\steka\\\\Competition_Image_Classification\\\\MaskDataset\\\\validation\\\\16644.jpg'"
      ]
     },
     "execution_count": 8,
     "metadata": {},
     "output_type": "execute_result"
    },
    {
     "data": {
      "text/plain": [
       "'C:\\\\Users\\\\steka\\\\Competition_Image_Classification\\\\MaskDataset\\\\validation\\\\12153.jpg'"
      ]
     },
     "execution_count": 8,
     "metadata": {},
     "output_type": "execute_result"
    },
    {
     "data": {
      "text/plain": [
       "'C:\\\\Users\\\\steka\\\\Competition_Image_Classification\\\\MaskDataset\\\\validation\\\\11359.jpg'"
      ]
     },
     "execution_count": 8,
     "metadata": {},
     "output_type": "execute_result"
    },
    {
     "data": {
      "text/plain": [
       "'C:\\\\Users\\\\steka\\\\Competition_Image_Classification\\\\MaskDataset\\\\validation\\\\17198.jpg'"
      ]
     },
     "execution_count": 8,
     "metadata": {},
     "output_type": "execute_result"
    },
    {
     "data": {
      "text/plain": [
       "'C:\\\\Users\\\\steka\\\\Competition_Image_Classification\\\\MaskDataset\\\\validation\\\\10708.jpg'"
      ]
     },
     "execution_count": 8,
     "metadata": {},
     "output_type": "execute_result"
    },
    {
     "data": {
      "text/plain": [
       "'C:\\\\Users\\\\steka\\\\Competition_Image_Classification\\\\MaskDataset\\\\validation\\\\13311.jpg'"
      ]
     },
     "execution_count": 8,
     "metadata": {},
     "output_type": "execute_result"
    },
    {
     "data": {
      "text/plain": [
       "'C:\\\\Users\\\\steka\\\\Competition_Image_Classification\\\\MaskDataset\\\\validation\\\\17539.jpg'"
      ]
     },
     "execution_count": 8,
     "metadata": {},
     "output_type": "execute_result"
    },
    {
     "data": {
      "text/plain": [
       "'C:\\\\Users\\\\steka\\\\Competition_Image_Classification\\\\MaskDataset\\\\validation\\\\16408.jpg'"
      ]
     },
     "execution_count": 8,
     "metadata": {},
     "output_type": "execute_result"
    },
    {
     "data": {
      "text/plain": [
       "'C:\\\\Users\\\\steka\\\\Competition_Image_Classification\\\\MaskDataset\\\\validation\\\\16377.jpg'"
      ]
     },
     "execution_count": 8,
     "metadata": {},
     "output_type": "execute_result"
    },
    {
     "data": {
      "text/plain": [
       "'C:\\\\Users\\\\steka\\\\Competition_Image_Classification\\\\MaskDataset\\\\validation\\\\13667.jpg'"
      ]
     },
     "execution_count": 8,
     "metadata": {},
     "output_type": "execute_result"
    },
    {
     "data": {
      "text/plain": [
       "'C:\\\\Users\\\\steka\\\\Competition_Image_Classification\\\\MaskDataset\\\\validation\\\\13637.jpg'"
      ]
     },
     "execution_count": 8,
     "metadata": {},
     "output_type": "execute_result"
    },
    {
     "data": {
      "text/plain": [
       "'C:\\\\Users\\\\steka\\\\Competition_Image_Classification\\\\MaskDataset\\\\validation\\\\13958.jpg'"
      ]
     },
     "execution_count": 8,
     "metadata": {},
     "output_type": "execute_result"
    },
    {
     "data": {
      "text/plain": [
       "'C:\\\\Users\\\\steka\\\\Competition_Image_Classification\\\\MaskDataset\\\\validation\\\\16354.jpg'"
      ]
     },
     "execution_count": 8,
     "metadata": {},
     "output_type": "execute_result"
    },
    {
     "data": {
      "text/plain": [
       "'C:\\\\Users\\\\steka\\\\Competition_Image_Classification\\\\MaskDataset\\\\validation\\\\16381.jpg'"
      ]
     },
     "execution_count": 8,
     "metadata": {},
     "output_type": "execute_result"
    },
    {
     "data": {
      "text/plain": [
       "'C:\\\\Users\\\\steka\\\\Competition_Image_Classification\\\\MaskDataset\\\\validation\\\\16335.jpg'"
      ]
     },
     "execution_count": 8,
     "metadata": {},
     "output_type": "execute_result"
    },
    {
     "data": {
      "text/plain": [
       "'C:\\\\Users\\\\steka\\\\Competition_Image_Classification\\\\MaskDataset\\\\validation\\\\10268.jpg'"
      ]
     },
     "execution_count": 8,
     "metadata": {},
     "output_type": "execute_result"
    },
    {
     "data": {
      "text/plain": [
       "'C:\\\\Users\\\\steka\\\\Competition_Image_Classification\\\\MaskDataset\\\\validation\\\\12494.jpg'"
      ]
     },
     "execution_count": 8,
     "metadata": {},
     "output_type": "execute_result"
    },
    {
     "data": {
      "text/plain": [
       "'C:\\\\Users\\\\steka\\\\Competition_Image_Classification\\\\MaskDataset\\\\validation\\\\11699.jpg'"
      ]
     },
     "execution_count": 8,
     "metadata": {},
     "output_type": "execute_result"
    },
    {
     "data": {
      "text/plain": [
       "'C:\\\\Users\\\\steka\\\\Competition_Image_Classification\\\\MaskDataset\\\\validation\\\\10872.jpg'"
      ]
     },
     "execution_count": 8,
     "metadata": {},
     "output_type": "execute_result"
    },
    {
     "data": {
      "text/plain": [
       "'C:\\\\Users\\\\steka\\\\Competition_Image_Classification\\\\MaskDataset\\\\validation\\\\11382.jpg'"
      ]
     },
     "execution_count": 8,
     "metadata": {},
     "output_type": "execute_result"
    },
    {
     "data": {
      "text/plain": [
       "'C:\\\\Users\\\\steka\\\\Competition_Image_Classification\\\\MaskDataset\\\\validation\\\\13062.jpg'"
      ]
     },
     "execution_count": 8,
     "metadata": {},
     "output_type": "execute_result"
    },
    {
     "data": {
      "text/plain": [
       "'C:\\\\Users\\\\steka\\\\Competition_Image_Classification\\\\MaskDataset\\\\validation\\\\18055.jpg'"
      ]
     },
     "execution_count": 8,
     "metadata": {},
     "output_type": "execute_result"
    },
    {
     "data": {
      "text/plain": [
       "'C:\\\\Users\\\\steka\\\\Competition_Image_Classification\\\\MaskDataset\\\\validation\\\\12055.jpg'"
      ]
     },
     "execution_count": 8,
     "metadata": {},
     "output_type": "execute_result"
    },
    {
     "data": {
      "text/plain": [
       "'C:\\\\Users\\\\steka\\\\Competition_Image_Classification\\\\MaskDataset\\\\validation\\\\12184.jpg'"
      ]
     },
     "execution_count": 8,
     "metadata": {},
     "output_type": "execute_result"
    },
    {
     "data": {
      "text/plain": [
       "'C:\\\\Users\\\\steka\\\\Competition_Image_Classification\\\\MaskDataset\\\\validation\\\\11316.jpg'"
      ]
     },
     "execution_count": 8,
     "metadata": {},
     "output_type": "execute_result"
    },
    {
     "data": {
      "text/plain": [
       "'C:\\\\Users\\\\steka\\\\Competition_Image_Classification\\\\MaskDataset\\\\validation\\\\14171.jpg'"
      ]
     },
     "execution_count": 8,
     "metadata": {},
     "output_type": "execute_result"
    },
    {
     "data": {
      "text/plain": [
       "'C:\\\\Users\\\\steka\\\\Competition_Image_Classification\\\\MaskDataset\\\\validation\\\\15158.jpg'"
      ]
     },
     "execution_count": 8,
     "metadata": {},
     "output_type": "execute_result"
    },
    {
     "data": {
      "text/plain": [
       "'C:\\\\Users\\\\steka\\\\Competition_Image_Classification\\\\MaskDataset\\\\validation\\\\10734.jpg'"
      ]
     },
     "execution_count": 8,
     "metadata": {},
     "output_type": "execute_result"
    },
    {
     "data": {
      "text/plain": [
       "'C:\\\\Users\\\\steka\\\\Competition_Image_Classification\\\\MaskDataset\\\\validation\\\\17707.jpg'"
      ]
     },
     "execution_count": 8,
     "metadata": {},
     "output_type": "execute_result"
    },
    {
     "data": {
      "text/plain": [
       "'C:\\\\Users\\\\steka\\\\Competition_Image_Classification\\\\MaskDataset\\\\validation\\\\12133.jpg'"
      ]
     },
     "execution_count": 8,
     "metadata": {},
     "output_type": "execute_result"
    },
    {
     "data": {
      "text/plain": [
       "'C:\\\\Users\\\\steka\\\\Competition_Image_Classification\\\\MaskDataset\\\\validation\\\\17485.jpg'"
      ]
     },
     "execution_count": 8,
     "metadata": {},
     "output_type": "execute_result"
    },
    {
     "data": {
      "text/plain": [
       "'C:\\\\Users\\\\steka\\\\Competition_Image_Classification\\\\MaskDataset\\\\validation\\\\13264.jpg'"
      ]
     },
     "execution_count": 8,
     "metadata": {},
     "output_type": "execute_result"
    },
    {
     "data": {
      "text/plain": [
       "'C:\\\\Users\\\\steka\\\\Competition_Image_Classification\\\\MaskDataset\\\\validation\\\\15125.jpg'"
      ]
     },
     "execution_count": 8,
     "metadata": {},
     "output_type": "execute_result"
    },
    {
     "data": {
      "text/plain": [
       "'C:\\\\Users\\\\steka\\\\Competition_Image_Classification\\\\MaskDataset\\\\validation\\\\10644.jpg'"
      ]
     },
     "execution_count": 8,
     "metadata": {},
     "output_type": "execute_result"
    },
    {
     "data": {
      "text/plain": [
       "'C:\\\\Users\\\\steka\\\\Competition_Image_Classification\\\\MaskDataset\\\\validation\\\\15735.jpg'"
      ]
     },
     "execution_count": 8,
     "metadata": {},
     "output_type": "execute_result"
    },
    {
     "data": {
      "text/plain": [
       "'C:\\\\Users\\\\steka\\\\Competition_Image_Classification\\\\MaskDataset\\\\validation\\\\15273.jpg'"
      ]
     },
     "execution_count": 8,
     "metadata": {},
     "output_type": "execute_result"
    },
    {
     "data": {
      "text/plain": [
       "'C:\\\\Users\\\\steka\\\\Competition_Image_Classification\\\\MaskDataset\\\\validation\\\\11812.jpg'"
      ]
     },
     "execution_count": 8,
     "metadata": {},
     "output_type": "execute_result"
    },
    {
     "data": {
      "text/plain": [
       "'C:\\\\Users\\\\steka\\\\Competition_Image_Classification\\\\MaskDataset\\\\validation\\\\11272.jpg'"
      ]
     },
     "execution_count": 8,
     "metadata": {},
     "output_type": "execute_result"
    },
    {
     "data": {
      "text/plain": [
       "'C:\\\\Users\\\\steka\\\\Competition_Image_Classification\\\\MaskDataset\\\\validation\\\\13064.jpg'"
      ]
     },
     "execution_count": 8,
     "metadata": {},
     "output_type": "execute_result"
    },
    {
     "data": {
      "text/plain": [
       "'C:\\\\Users\\\\steka\\\\Competition_Image_Classification\\\\MaskDataset\\\\validation\\\\11177.jpg'"
      ]
     },
     "execution_count": 8,
     "metadata": {},
     "output_type": "execute_result"
    },
    {
     "data": {
      "text/plain": [
       "'C:\\\\Users\\\\steka\\\\Competition_Image_Classification\\\\MaskDataset\\\\validation\\\\16575.jpg'"
      ]
     },
     "execution_count": 8,
     "metadata": {},
     "output_type": "execute_result"
    },
    {
     "data": {
      "text/plain": [
       "'C:\\\\Users\\\\steka\\\\Competition_Image_Classification\\\\MaskDataset\\\\validation\\\\15045.jpg'"
      ]
     },
     "execution_count": 8,
     "metadata": {},
     "output_type": "execute_result"
    },
    {
     "data": {
      "text/plain": [
       "'C:\\\\Users\\\\steka\\\\Competition_Image_Classification\\\\MaskDataset\\\\validation\\\\11708.jpg'"
      ]
     },
     "execution_count": 8,
     "metadata": {},
     "output_type": "execute_result"
    },
    {
     "data": {
      "text/plain": [
       "'C:\\\\Users\\\\steka\\\\Competition_Image_Classification\\\\MaskDataset\\\\validation\\\\12680.jpg'"
      ]
     },
     "execution_count": 8,
     "metadata": {},
     "output_type": "execute_result"
    },
    {
     "data": {
      "text/plain": [
       "'C:\\\\Users\\\\steka\\\\Competition_Image_Classification\\\\MaskDataset\\\\validation\\\\15398.jpg'"
      ]
     },
     "execution_count": 8,
     "metadata": {},
     "output_type": "execute_result"
    },
    {
     "data": {
      "text/plain": [
       "'C:\\\\Users\\\\steka\\\\Competition_Image_Classification\\\\MaskDataset\\\\validation\\\\17914.jpg'"
      ]
     },
     "execution_count": 8,
     "metadata": {},
     "output_type": "execute_result"
    },
    {
     "data": {
      "text/plain": [
       "'C:\\\\Users\\\\steka\\\\Competition_Image_Classification\\\\MaskDataset\\\\validation\\\\13474.jpg'"
      ]
     },
     "execution_count": 8,
     "metadata": {},
     "output_type": "execute_result"
    },
    {
     "data": {
      "text/plain": [
       "'C:\\\\Users\\\\steka\\\\Competition_Image_Classification\\\\MaskDataset\\\\validation\\\\12287.jpg'"
      ]
     },
     "execution_count": 8,
     "metadata": {},
     "output_type": "execute_result"
    },
    {
     "data": {
      "text/plain": [
       "'C:\\\\Users\\\\steka\\\\Competition_Image_Classification\\\\MaskDataset\\\\validation\\\\11120.jpg'"
      ]
     },
     "execution_count": 8,
     "metadata": {},
     "output_type": "execute_result"
    },
    {
     "data": {
      "text/plain": [
       "'C:\\\\Users\\\\steka\\\\Competition_Image_Classification\\\\MaskDataset\\\\validation\\\\16861.jpg'"
      ]
     },
     "execution_count": 8,
     "metadata": {},
     "output_type": "execute_result"
    },
    {
     "data": {
      "text/plain": [
       "'C:\\\\Users\\\\steka\\\\Competition_Image_Classification\\\\MaskDataset\\\\validation\\\\11727.jpg'"
      ]
     },
     "execution_count": 8,
     "metadata": {},
     "output_type": "execute_result"
    },
    {
     "data": {
      "text/plain": [
       "'C:\\\\Users\\\\steka\\\\Competition_Image_Classification\\\\MaskDataset\\\\validation\\\\14008.jpg'"
      ]
     },
     "execution_count": 8,
     "metadata": {},
     "output_type": "execute_result"
    },
    {
     "data": {
      "text/plain": [
       "'C:\\\\Users\\\\steka\\\\Competition_Image_Classification\\\\MaskDataset\\\\validation\\\\17985.jpg'"
      ]
     },
     "execution_count": 8,
     "metadata": {},
     "output_type": "execute_result"
    },
    {
     "data": {
      "text/plain": [
       "'C:\\\\Users\\\\steka\\\\Competition_Image_Classification\\\\MaskDataset\\\\validation\\\\16088.jpg'"
      ]
     },
     "execution_count": 8,
     "metadata": {},
     "output_type": "execute_result"
    },
    {
     "data": {
      "text/plain": [
       "'C:\\\\Users\\\\steka\\\\Competition_Image_Classification\\\\MaskDataset\\\\validation\\\\14728.jpg'"
      ]
     },
     "execution_count": 8,
     "metadata": {},
     "output_type": "execute_result"
    },
    {
     "data": {
      "text/plain": [
       "'C:\\\\Users\\\\steka\\\\Competition_Image_Classification\\\\MaskDataset\\\\validation\\\\16196.jpg'"
      ]
     },
     "execution_count": 8,
     "metadata": {},
     "output_type": "execute_result"
    },
    {
     "data": {
      "text/plain": [
       "'C:\\\\Users\\\\steka\\\\Competition_Image_Classification\\\\MaskDataset\\\\validation\\\\17129.jpg'"
      ]
     },
     "execution_count": 8,
     "metadata": {},
     "output_type": "execute_result"
    },
    {
     "data": {
      "text/plain": [
       "'C:\\\\Users\\\\steka\\\\Competition_Image_Classification\\\\MaskDataset\\\\validation\\\\17719.jpg'"
      ]
     },
     "execution_count": 8,
     "metadata": {},
     "output_type": "execute_result"
    },
    {
     "data": {
      "text/plain": [
       "'C:\\\\Users\\\\steka\\\\Competition_Image_Classification\\\\MaskDataset\\\\validation\\\\15385.jpg'"
      ]
     },
     "execution_count": 8,
     "metadata": {},
     "output_type": "execute_result"
    },
    {
     "data": {
      "text/plain": [
       "'C:\\\\Users\\\\steka\\\\Competition_Image_Classification\\\\MaskDataset\\\\validation\\\\12421.jpg'"
      ]
     },
     "execution_count": 8,
     "metadata": {},
     "output_type": "execute_result"
    },
    {
     "data": {
      "text/plain": [
       "'C:\\\\Users\\\\steka\\\\Competition_Image_Classification\\\\MaskDataset\\\\validation\\\\15382.jpg'"
      ]
     },
     "execution_count": 8,
     "metadata": {},
     "output_type": "execute_result"
    },
    {
     "data": {
      "text/plain": [
       "'C:\\\\Users\\\\steka\\\\Competition_Image_Classification\\\\MaskDataset\\\\validation\\\\10199.jpg'"
      ]
     },
     "execution_count": 8,
     "metadata": {},
     "output_type": "execute_result"
    },
    {
     "data": {
      "text/plain": [
       "'C:\\\\Users\\\\steka\\\\Competition_Image_Classification\\\\MaskDataset\\\\validation\\\\14505.jpg'"
      ]
     },
     "execution_count": 8,
     "metadata": {},
     "output_type": "execute_result"
    },
    {
     "data": {
      "text/plain": [
       "'C:\\\\Users\\\\steka\\\\Competition_Image_Classification\\\\MaskDataset\\\\validation\\\\12380.jpg'"
      ]
     },
     "execution_count": 8,
     "metadata": {},
     "output_type": "execute_result"
    },
    {
     "data": {
      "text/plain": [
       "'C:\\\\Users\\\\steka\\\\Competition_Image_Classification\\\\MaskDataset\\\\validation\\\\12093.jpg'"
      ]
     },
     "execution_count": 8,
     "metadata": {},
     "output_type": "execute_result"
    },
    {
     "data": {
      "text/plain": [
       "'C:\\\\Users\\\\steka\\\\Competition_Image_Classification\\\\MaskDataset\\\\validation\\\\15138.jpg'"
      ]
     },
     "execution_count": 8,
     "metadata": {},
     "output_type": "execute_result"
    },
    {
     "data": {
      "text/plain": [
       "'C:\\\\Users\\\\steka\\\\Competition_Image_Classification\\\\MaskDataset\\\\validation\\\\10187.jpg'"
      ]
     },
     "execution_count": 8,
     "metadata": {},
     "output_type": "execute_result"
    },
    {
     "data": {
      "text/plain": [
       "'C:\\\\Users\\\\steka\\\\Competition_Image_Classification\\\\MaskDataset\\\\validation\\\\12876.jpg'"
      ]
     },
     "execution_count": 8,
     "metadata": {},
     "output_type": "execute_result"
    },
    {
     "data": {
      "text/plain": [
       "'C:\\\\Users\\\\steka\\\\Competition_Image_Classification\\\\MaskDataset\\\\validation\\\\12674.jpg'"
      ]
     },
     "execution_count": 8,
     "metadata": {},
     "output_type": "execute_result"
    },
    {
     "data": {
      "text/plain": [
       "'C:\\\\Users\\\\steka\\\\Competition_Image_Classification\\\\MaskDataset\\\\validation\\\\10941.jpg'"
      ]
     },
     "execution_count": 8,
     "metadata": {},
     "output_type": "execute_result"
    },
    {
     "data": {
      "text/plain": [
       "'C:\\\\Users\\\\steka\\\\Competition_Image_Classification\\\\MaskDataset\\\\validation\\\\10180.jpg'"
      ]
     },
     "execution_count": 8,
     "metadata": {},
     "output_type": "execute_result"
    },
    {
     "data": {
      "text/plain": [
       "'C:\\\\Users\\\\steka\\\\Competition_Image_Classification\\\\MaskDataset\\\\validation\\\\13299.jpg'"
      ]
     },
     "execution_count": 8,
     "metadata": {},
     "output_type": "execute_result"
    },
    {
     "data": {
      "text/plain": [
       "'C:\\\\Users\\\\steka\\\\Competition_Image_Classification\\\\MaskDataset\\\\validation\\\\12346.jpg'"
      ]
     },
     "execution_count": 8,
     "metadata": {},
     "output_type": "execute_result"
    },
    {
     "data": {
      "text/plain": [
       "'C:\\\\Users\\\\steka\\\\Competition_Image_Classification\\\\MaskDataset\\\\validation\\\\12088.jpg'"
      ]
     },
     "execution_count": 8,
     "metadata": {},
     "output_type": "execute_result"
    },
    {
     "data": {
      "text/plain": [
       "'C:\\\\Users\\\\steka\\\\Competition_Image_Classification\\\\MaskDataset\\\\validation\\\\11932.jpg'"
      ]
     },
     "execution_count": 8,
     "metadata": {},
     "output_type": "execute_result"
    },
    {
     "data": {
      "text/plain": [
       "'C:\\\\Users\\\\steka\\\\Competition_Image_Classification\\\\MaskDataset\\\\validation\\\\11553.jpg'"
      ]
     },
     "execution_count": 8,
     "metadata": {},
     "output_type": "execute_result"
    },
    {
     "data": {
      "text/plain": [
       "'C:\\\\Users\\\\steka\\\\Competition_Image_Classification\\\\MaskDataset\\\\validation\\\\11567.jpg'"
      ]
     },
     "execution_count": 8,
     "metadata": {},
     "output_type": "execute_result"
    },
    {
     "data": {
      "text/plain": [
       "'C:\\\\Users\\\\steka\\\\Competition_Image_Classification\\\\MaskDataset\\\\validation\\\\12872.jpg'"
      ]
     },
     "execution_count": 8,
     "metadata": {},
     "output_type": "execute_result"
    },
    {
     "data": {
      "text/plain": [
       "'C:\\\\Users\\\\steka\\\\Competition_Image_Classification\\\\MaskDataset\\\\validation\\\\18177.jpg'"
      ]
     },
     "execution_count": 8,
     "metadata": {},
     "output_type": "execute_result"
    },
    {
     "data": {
      "text/plain": [
       "'C:\\\\Users\\\\steka\\\\Competition_Image_Classification\\\\MaskDataset\\\\validation\\\\10478.jpg'"
      ]
     },
     "execution_count": 8,
     "metadata": {},
     "output_type": "execute_result"
    },
    {
     "data": {
      "text/plain": [
       "'C:\\\\Users\\\\steka\\\\Competition_Image_Classification\\\\MaskDataset\\\\validation\\\\17951.jpg'"
      ]
     },
     "execution_count": 8,
     "metadata": {},
     "output_type": "execute_result"
    },
    {
     "data": {
      "text/plain": [
       "'C:\\\\Users\\\\steka\\\\Competition_Image_Classification\\\\MaskDataset\\\\validation\\\\14906.jpg'"
      ]
     },
     "execution_count": 8,
     "metadata": {},
     "output_type": "execute_result"
    },
    {
     "data": {
      "text/plain": [
       "'C:\\\\Users\\\\steka\\\\Competition_Image_Classification\\\\MaskDataset\\\\validation\\\\14621.jpg'"
      ]
     },
     "execution_count": 8,
     "metadata": {},
     "output_type": "execute_result"
    },
    {
     "data": {
      "text/plain": [
       "'C:\\\\Users\\\\steka\\\\Competition_Image_Classification\\\\MaskDataset\\\\validation\\\\11003.jpg'"
      ]
     },
     "execution_count": 8,
     "metadata": {},
     "output_type": "execute_result"
    },
    {
     "data": {
      "text/plain": [
       "'C:\\\\Users\\\\steka\\\\Competition_Image_Classification\\\\MaskDataset\\\\validation\\\\11614.jpg'"
      ]
     },
     "execution_count": 8,
     "metadata": {},
     "output_type": "execute_result"
    },
    {
     "data": {
      "text/plain": [
       "'C:\\\\Users\\\\steka\\\\Competition_Image_Classification\\\\MaskDataset\\\\validation\\\\10806.jpg'"
      ]
     },
     "execution_count": 8,
     "metadata": {},
     "output_type": "execute_result"
    },
    {
     "data": {
      "text/plain": [
       "'C:\\\\Users\\\\steka\\\\Competition_Image_Classification\\\\MaskDataset\\\\validation\\\\11777.jpg'"
      ]
     },
     "execution_count": 8,
     "metadata": {},
     "output_type": "execute_result"
    },
    {
     "data": {
      "text/plain": [
       "'C:\\\\Users\\\\steka\\\\Competition_Image_Classification\\\\MaskDataset\\\\validation\\\\10467.jpg'"
      ]
     },
     "execution_count": 8,
     "metadata": {},
     "output_type": "execute_result"
    },
    {
     "data": {
      "text/plain": [
       "'C:\\\\Users\\\\steka\\\\Competition_Image_Classification\\\\MaskDataset\\\\validation\\\\13964.jpg'"
      ]
     },
     "execution_count": 8,
     "metadata": {},
     "output_type": "execute_result"
    },
    {
     "data": {
      "text/plain": [
       "'C:\\\\Users\\\\steka\\\\Competition_Image_Classification\\\\MaskDataset\\\\validation\\\\15087.jpg'"
      ]
     },
     "execution_count": 8,
     "metadata": {},
     "output_type": "execute_result"
    },
    {
     "data": {
      "text/plain": [
       "'C:\\\\Users\\\\steka\\\\Competition_Image_Classification\\\\MaskDataset\\\\validation\\\\13389.jpg'"
      ]
     },
     "execution_count": 8,
     "metadata": {},
     "output_type": "execute_result"
    },
    {
     "data": {
      "text/plain": [
       "'C:\\\\Users\\\\steka\\\\Competition_Image_Classification\\\\MaskDataset\\\\validation\\\\12253.jpg'"
      ]
     },
     "execution_count": 8,
     "metadata": {},
     "output_type": "execute_result"
    },
    {
     "data": {
      "text/plain": [
       "'C:\\\\Users\\\\steka\\\\Competition_Image_Classification\\\\MaskDataset\\\\validation\\\\11549.jpg'"
      ]
     },
     "execution_count": 8,
     "metadata": {},
     "output_type": "execute_result"
    },
    {
     "data": {
      "text/plain": [
       "'C:\\\\Users\\\\steka\\\\Competition_Image_Classification\\\\MaskDataset\\\\validation\\\\11759.jpg'"
      ]
     },
     "execution_count": 8,
     "metadata": {},
     "output_type": "execute_result"
    },
    {
     "data": {
      "text/plain": [
       "'C:\\\\Users\\\\steka\\\\Competition_Image_Classification\\\\MaskDataset\\\\validation\\\\11465.jpg'"
      ]
     },
     "execution_count": 8,
     "metadata": {},
     "output_type": "execute_result"
    },
    {
     "data": {
      "text/plain": [
       "'C:\\\\Users\\\\steka\\\\Competition_Image_Classification\\\\MaskDataset\\\\validation\\\\17720.jpg'"
      ]
     },
     "execution_count": 8,
     "metadata": {},
     "output_type": "execute_result"
    },
    {
     "data": {
      "text/plain": [
       "'C:\\\\Users\\\\steka\\\\Competition_Image_Classification\\\\MaskDataset\\\\validation\\\\11514.jpg'"
      ]
     },
     "execution_count": 8,
     "metadata": {},
     "output_type": "execute_result"
    },
    {
     "data": {
      "text/plain": [
       "'C:\\\\Users\\\\steka\\\\Competition_Image_Classification\\\\MaskDataset\\\\validation\\\\13148.jpg'"
      ]
     },
     "execution_count": 8,
     "metadata": {},
     "output_type": "execute_result"
    },
    {
     "data": {
      "text/plain": [
       "'C:\\\\Users\\\\steka\\\\Competition_Image_Classification\\\\MaskDataset\\\\validation\\\\17009.jpg'"
      ]
     },
     "execution_count": 8,
     "metadata": {},
     "output_type": "execute_result"
    },
    {
     "data": {
      "text/plain": [
       "'C:\\\\Users\\\\steka\\\\Competition_Image_Classification\\\\MaskDataset\\\\validation\\\\17603.jpg'"
      ]
     },
     "execution_count": 8,
     "metadata": {},
     "output_type": "execute_result"
    },
    {
     "data": {
      "text/plain": [
       "'C:\\\\Users\\\\steka\\\\Competition_Image_Classification\\\\MaskDataset\\\\validation\\\\10525.jpg'"
      ]
     },
     "execution_count": 8,
     "metadata": {},
     "output_type": "execute_result"
    },
    {
     "data": {
      "text/plain": [
       "'C:\\\\Users\\\\steka\\\\Competition_Image_Classification\\\\MaskDataset\\\\validation\\\\13925.jpg'"
      ]
     },
     "execution_count": 8,
     "metadata": {},
     "output_type": "execute_result"
    },
    {
     "data": {
      "text/plain": [
       "'C:\\\\Users\\\\steka\\\\Competition_Image_Classification\\\\MaskDataset\\\\validation\\\\18012.jpg'"
      ]
     },
     "execution_count": 8,
     "metadata": {},
     "output_type": "execute_result"
    },
    {
     "data": {
      "text/plain": [
       "'C:\\\\Users\\\\steka\\\\Competition_Image_Classification\\\\MaskDataset\\\\validation\\\\11214.jpg'"
      ]
     },
     "execution_count": 8,
     "metadata": {},
     "output_type": "execute_result"
    },
    {
     "data": {
      "text/plain": [
       "'C:\\\\Users\\\\steka\\\\Competition_Image_Classification\\\\MaskDataset\\\\validation\\\\17051.jpg'"
      ]
     },
     "execution_count": 8,
     "metadata": {},
     "output_type": "execute_result"
    },
    {
     "data": {
      "text/plain": [
       "'C:\\\\Users\\\\steka\\\\Competition_Image_Classification\\\\MaskDataset\\\\validation\\\\16745.jpg'"
      ]
     },
     "execution_count": 8,
     "metadata": {},
     "output_type": "execute_result"
    },
    {
     "data": {
      "text/plain": [
       "'C:\\\\Users\\\\steka\\\\Competition_Image_Classification\\\\MaskDataset\\\\validation\\\\13510.jpg'"
      ]
     },
     "execution_count": 8,
     "metadata": {},
     "output_type": "execute_result"
    },
    {
     "data": {
      "text/plain": [
       "'C:\\\\Users\\\\steka\\\\Competition_Image_Classification\\\\MaskDataset\\\\validation\\\\16711.jpg'"
      ]
     },
     "execution_count": 8,
     "metadata": {},
     "output_type": "execute_result"
    },
    {
     "data": {
      "text/plain": [
       "'C:\\\\Users\\\\steka\\\\Competition_Image_Classification\\\\MaskDataset\\\\validation\\\\14936.jpg'"
      ]
     },
     "execution_count": 8,
     "metadata": {},
     "output_type": "execute_result"
    },
    {
     "data": {
      "text/plain": [
       "'C:\\\\Users\\\\steka\\\\Competition_Image_Classification\\\\MaskDataset\\\\validation\\\\11519.jpg'"
      ]
     },
     "execution_count": 8,
     "metadata": {},
     "output_type": "execute_result"
    },
    {
     "data": {
      "text/plain": [
       "'C:\\\\Users\\\\steka\\\\Competition_Image_Classification\\\\MaskDataset\\\\validation\\\\15838.jpg'"
      ]
     },
     "execution_count": 8,
     "metadata": {},
     "output_type": "execute_result"
    },
    {
     "data": {
      "text/plain": [
       "'C:\\\\Users\\\\steka\\\\Competition_Image_Classification\\\\MaskDataset\\\\validation\\\\12239.jpg'"
      ]
     },
     "execution_count": 8,
     "metadata": {},
     "output_type": "execute_result"
    },
    {
     "data": {
      "text/plain": [
       "'C:\\\\Users\\\\steka\\\\Competition_Image_Classification\\\\MaskDataset\\\\validation\\\\11922.jpg'"
      ]
     },
     "execution_count": 8,
     "metadata": {},
     "output_type": "execute_result"
    },
    {
     "data": {
      "text/plain": [
       "'C:\\\\Users\\\\steka\\\\Competition_Image_Classification\\\\MaskDataset\\\\validation\\\\17173.jpg'"
      ]
     },
     "execution_count": 8,
     "metadata": {},
     "output_type": "execute_result"
    },
    {
     "data": {
      "text/plain": [
       "'C:\\\\Users\\\\steka\\\\Competition_Image_Classification\\\\MaskDataset\\\\validation\\\\15249.jpg'"
      ]
     },
     "execution_count": 8,
     "metadata": {},
     "output_type": "execute_result"
    },
    {
     "data": {
      "text/plain": [
       "'C:\\\\Users\\\\steka\\\\Competition_Image_Classification\\\\MaskDataset\\\\validation\\\\15287.jpg'"
      ]
     },
     "execution_count": 8,
     "metadata": {},
     "output_type": "execute_result"
    },
    {
     "data": {
      "text/plain": [
       "'C:\\\\Users\\\\steka\\\\Competition_Image_Classification\\\\MaskDataset\\\\validation\\\\17635.jpg'"
      ]
     },
     "execution_count": 8,
     "metadata": {},
     "output_type": "execute_result"
    },
    {
     "data": {
      "text/plain": [
       "'C:\\\\Users\\\\steka\\\\Competition_Image_Classification\\\\MaskDataset\\\\validation\\\\14672.jpg'"
      ]
     },
     "execution_count": 8,
     "metadata": {},
     "output_type": "execute_result"
    },
    {
     "data": {
      "text/plain": [
       "'C:\\\\Users\\\\steka\\\\Competition_Image_Classification\\\\MaskDataset\\\\validation\\\\15605.jpg'"
      ]
     },
     "execution_count": 8,
     "metadata": {},
     "output_type": "execute_result"
    },
    {
     "data": {
      "text/plain": [
       "'C:\\\\Users\\\\steka\\\\Competition_Image_Classification\\\\MaskDataset\\\\validation\\\\14719.jpg'"
      ]
     },
     "execution_count": 8,
     "metadata": {},
     "output_type": "execute_result"
    },
    {
     "data": {
      "text/plain": [
       "'C:\\\\Users\\\\steka\\\\Competition_Image_Classification\\\\MaskDataset\\\\validation\\\\16646.jpg'"
      ]
     },
     "execution_count": 8,
     "metadata": {},
     "output_type": "execute_result"
    },
    {
     "data": {
      "text/plain": [
       "'C:\\\\Users\\\\steka\\\\Competition_Image_Classification\\\\MaskDataset\\\\validation\\\\17717.jpg'"
      ]
     },
     "execution_count": 8,
     "metadata": {},
     "output_type": "execute_result"
    },
    {
     "data": {
      "text/plain": [
       "'C:\\\\Users\\\\steka\\\\Competition_Image_Classification\\\\MaskDataset\\\\validation\\\\16990.jpg'"
      ]
     },
     "execution_count": 8,
     "metadata": {},
     "output_type": "execute_result"
    },
    {
     "data": {
      "text/plain": [
       "'C:\\\\Users\\\\steka\\\\Competition_Image_Classification\\\\MaskDataset\\\\validation\\\\14595.jpg'"
      ]
     },
     "execution_count": 8,
     "metadata": {},
     "output_type": "execute_result"
    },
    {
     "data": {
      "text/plain": [
       "'C:\\\\Users\\\\steka\\\\Competition_Image_Classification\\\\MaskDataset\\\\validation\\\\11796.jpg'"
      ]
     },
     "execution_count": 8,
     "metadata": {},
     "output_type": "execute_result"
    },
    {
     "data": {
      "text/plain": [
       "'C:\\\\Users\\\\steka\\\\Competition_Image_Classification\\\\MaskDataset\\\\validation\\\\16312.jpg'"
      ]
     },
     "execution_count": 8,
     "metadata": {},
     "output_type": "execute_result"
    },
    {
     "data": {
      "text/plain": [
       "'C:\\\\Users\\\\steka\\\\Competition_Image_Classification\\\\MaskDataset\\\\validation\\\\13884.jpg'"
      ]
     },
     "execution_count": 8,
     "metadata": {},
     "output_type": "execute_result"
    },
    {
     "data": {
      "text/plain": [
       "'C:\\\\Users\\\\steka\\\\Competition_Image_Classification\\\\MaskDataset\\\\validation\\\\14447.jpg'"
      ]
     },
     "execution_count": 8,
     "metadata": {},
     "output_type": "execute_result"
    },
    {
     "data": {
      "text/plain": [
       "'C:\\\\Users\\\\steka\\\\Competition_Image_Classification\\\\MaskDataset\\\\validation\\\\11367.jpg'"
      ]
     },
     "execution_count": 8,
     "metadata": {},
     "output_type": "execute_result"
    },
    {
     "data": {
      "text/plain": [
       "'C:\\\\Users\\\\steka\\\\Competition_Image_Classification\\\\MaskDataset\\\\validation\\\\10874.jpg'"
      ]
     },
     "execution_count": 8,
     "metadata": {},
     "output_type": "execute_result"
    },
    {
     "data": {
      "text/plain": [
       "'C:\\\\Users\\\\steka\\\\Competition_Image_Classification\\\\MaskDataset\\\\validation\\\\16400.jpg'"
      ]
     },
     "execution_count": 8,
     "metadata": {},
     "output_type": "execute_result"
    },
    {
     "data": {
      "text/plain": [
       "'C:\\\\Users\\\\steka\\\\Competition_Image_Classification\\\\MaskDataset\\\\validation\\\\16145.jpg'"
      ]
     },
     "execution_count": 8,
     "metadata": {},
     "output_type": "execute_result"
    },
    {
     "data": {
      "text/plain": [
       "'C:\\\\Users\\\\steka\\\\Competition_Image_Classification\\\\MaskDataset\\\\validation\\\\11552.jpg'"
      ]
     },
     "execution_count": 8,
     "metadata": {},
     "output_type": "execute_result"
    },
    {
     "data": {
      "text/plain": [
       "'C:\\\\Users\\\\steka\\\\Competition_Image_Classification\\\\MaskDataset\\\\validation\\\\11165.jpg'"
      ]
     },
     "execution_count": 8,
     "metadata": {},
     "output_type": "execute_result"
    },
    {
     "data": {
      "text/plain": [
       "'C:\\\\Users\\\\steka\\\\Competition_Image_Classification\\\\MaskDataset\\\\validation\\\\11960.jpg'"
      ]
     },
     "execution_count": 8,
     "metadata": {},
     "output_type": "execute_result"
    },
    {
     "data": {
      "text/plain": [
       "'C:\\\\Users\\\\steka\\\\Competition_Image_Classification\\\\MaskDataset\\\\validation\\\\10675.jpg'"
      ]
     },
     "execution_count": 8,
     "metadata": {},
     "output_type": "execute_result"
    },
    {
     "data": {
      "text/plain": [
       "'C:\\\\Users\\\\steka\\\\Competition_Image_Classification\\\\MaskDataset\\\\validation\\\\14631.jpg'"
      ]
     },
     "execution_count": 8,
     "metadata": {},
     "output_type": "execute_result"
    },
    {
     "data": {
      "text/plain": [
       "'C:\\\\Users\\\\steka\\\\Competition_Image_Classification\\\\MaskDataset\\\\validation\\\\17049.jpg'"
      ]
     },
     "execution_count": 8,
     "metadata": {},
     "output_type": "execute_result"
    },
    {
     "data": {
      "text/plain": [
       "'C:\\\\Users\\\\steka\\\\Competition_Image_Classification\\\\MaskDataset\\\\validation\\\\17364.jpg'"
      ]
     },
     "execution_count": 8,
     "metadata": {},
     "output_type": "execute_result"
    },
    {
     "data": {
      "text/plain": [
       "'C:\\\\Users\\\\steka\\\\Competition_Image_Classification\\\\MaskDataset\\\\validation\\\\13515.jpg'"
      ]
     },
     "execution_count": 8,
     "metadata": {},
     "output_type": "execute_result"
    },
    {
     "data": {
      "text/plain": [
       "'C:\\\\Users\\\\steka\\\\Competition_Image_Classification\\\\MaskDataset\\\\validation\\\\17486.jpg'"
      ]
     },
     "execution_count": 8,
     "metadata": {},
     "output_type": "execute_result"
    },
    {
     "data": {
      "text/plain": [
       "'C:\\\\Users\\\\steka\\\\Competition_Image_Classification\\\\MaskDataset\\\\validation\\\\15252.jpg'"
      ]
     },
     "execution_count": 8,
     "metadata": {},
     "output_type": "execute_result"
    },
    {
     "data": {
      "text/plain": [
       "'C:\\\\Users\\\\steka\\\\Competition_Image_Classification\\\\MaskDataset\\\\validation\\\\11225.jpg'"
      ]
     },
     "execution_count": 8,
     "metadata": {},
     "output_type": "execute_result"
    },
    {
     "data": {
      "text/plain": [
       "'C:\\\\Users\\\\steka\\\\Competition_Image_Classification\\\\MaskDataset\\\\validation\\\\14281.jpg'"
      ]
     },
     "execution_count": 8,
     "metadata": {},
     "output_type": "execute_result"
    },
    {
     "data": {
      "text/plain": [
       "'C:\\\\Users\\\\steka\\\\Competition_Image_Classification\\\\MaskDataset\\\\validation\\\\18006.jpg'"
      ]
     },
     "execution_count": 8,
     "metadata": {},
     "output_type": "execute_result"
    },
    {
     "data": {
      "text/plain": [
       "'C:\\\\Users\\\\steka\\\\Competition_Image_Classification\\\\MaskDataset\\\\validation\\\\11086.jpg'"
      ]
     },
     "execution_count": 8,
     "metadata": {},
     "output_type": "execute_result"
    },
    {
     "data": {
      "text/plain": [
       "'C:\\\\Users\\\\steka\\\\Competition_Image_Classification\\\\MaskDataset\\\\validation\\\\11841.jpg'"
      ]
     },
     "execution_count": 8,
     "metadata": {},
     "output_type": "execute_result"
    },
    {
     "data": {
      "text/plain": [
       "'C:\\\\Users\\\\steka\\\\Competition_Image_Classification\\\\MaskDataset\\\\validation\\\\11818.jpg'"
      ]
     },
     "execution_count": 8,
     "metadata": {},
     "output_type": "execute_result"
    },
    {
     "data": {
      "text/plain": [
       "'C:\\\\Users\\\\steka\\\\Competition_Image_Classification\\\\MaskDataset\\\\validation\\\\10729.jpg'"
      ]
     },
     "execution_count": 8,
     "metadata": {},
     "output_type": "execute_result"
    },
    {
     "data": {
      "text/plain": [
       "'C:\\\\Users\\\\steka\\\\Competition_Image_Classification\\\\MaskDataset\\\\validation\\\\17387.jpg'"
      ]
     },
     "execution_count": 8,
     "metadata": {},
     "output_type": "execute_result"
    },
    {
     "data": {
      "text/plain": [
       "'C:\\\\Users\\\\steka\\\\Competition_Image_Classification\\\\MaskDataset\\\\validation\\\\16436.jpg'"
      ]
     },
     "execution_count": 8,
     "metadata": {},
     "output_type": "execute_result"
    },
    {
     "data": {
      "text/plain": [
       "'C:\\\\Users\\\\steka\\\\Competition_Image_Classification\\\\MaskDataset\\\\validation\\\\16492.jpg'"
      ]
     },
     "execution_count": 8,
     "metadata": {},
     "output_type": "execute_result"
    },
    {
     "data": {
      "text/plain": [
       "'C:\\\\Users\\\\steka\\\\Competition_Image_Classification\\\\MaskDataset\\\\validation\\\\12551.jpg'"
      ]
     },
     "execution_count": 8,
     "metadata": {},
     "output_type": "execute_result"
    },
    {
     "data": {
      "text/plain": [
       "'C:\\\\Users\\\\steka\\\\Competition_Image_Classification\\\\MaskDataset\\\\validation\\\\14446.jpg'"
      ]
     },
     "execution_count": 8,
     "metadata": {},
     "output_type": "execute_result"
    },
    {
     "data": {
      "text/plain": [
       "'C:\\\\Users\\\\steka\\\\Competition_Image_Classification\\\\MaskDataset\\\\validation\\\\11101.jpg'"
      ]
     },
     "execution_count": 8,
     "metadata": {},
     "output_type": "execute_result"
    },
    {
     "data": {
      "text/plain": [
       "'C:\\\\Users\\\\steka\\\\Competition_Image_Classification\\\\MaskDataset\\\\validation\\\\15142.jpg'"
      ]
     },
     "execution_count": 8,
     "metadata": {},
     "output_type": "execute_result"
    },
    {
     "data": {
      "text/plain": [
       "'C:\\\\Users\\\\steka\\\\Competition_Image_Classification\\\\MaskDataset\\\\validation\\\\15796.jpg'"
      ]
     },
     "execution_count": 8,
     "metadata": {},
     "output_type": "execute_result"
    },
    {
     "data": {
      "text/plain": [
       "'C:\\\\Users\\\\steka\\\\Competition_Image_Classification\\\\MaskDataset\\\\validation\\\\15202.jpg'"
      ]
     },
     "execution_count": 8,
     "metadata": {},
     "output_type": "execute_result"
    },
    {
     "data": {
      "text/plain": [
       "'C:\\\\Users\\\\steka\\\\Competition_Image_Classification\\\\MaskDataset\\\\validation\\\\10609.jpg'"
      ]
     },
     "execution_count": 8,
     "metadata": {},
     "output_type": "execute_result"
    },
    {
     "data": {
      "text/plain": [
       "'C:\\\\Users\\\\steka\\\\Competition_Image_Classification\\\\MaskDataset\\\\validation\\\\16150.jpg'"
      ]
     },
     "execution_count": 8,
     "metadata": {},
     "output_type": "execute_result"
    },
    {
     "data": {
      "text/plain": [
       "'C:\\\\Users\\\\steka\\\\Competition_Image_Classification\\\\MaskDataset\\\\validation\\\\17679.jpg'"
      ]
     },
     "execution_count": 8,
     "metadata": {},
     "output_type": "execute_result"
    },
    {
     "data": {
      "text/plain": [
       "'C:\\\\Users\\\\steka\\\\Competition_Image_Classification\\\\MaskDataset\\\\validation\\\\11458.jpg'"
      ]
     },
     "execution_count": 8,
     "metadata": {},
     "output_type": "execute_result"
    },
    {
     "data": {
      "text/plain": [
       "'C:\\\\Users\\\\steka\\\\Competition_Image_Classification\\\\MaskDataset\\\\validation\\\\14961.jpg'"
      ]
     },
     "execution_count": 8,
     "metadata": {},
     "output_type": "execute_result"
    },
    {
     "data": {
      "text/plain": [
       "'C:\\\\Users\\\\steka\\\\Competition_Image_Classification\\\\MaskDataset\\\\validation\\\\10613.jpg'"
      ]
     },
     "execution_count": 8,
     "metadata": {},
     "output_type": "execute_result"
    },
    {
     "data": {
      "text/plain": [
       "'C:\\\\Users\\\\steka\\\\Competition_Image_Classification\\\\MaskDataset\\\\validation\\\\11804.jpg'"
      ]
     },
     "execution_count": 8,
     "metadata": {},
     "output_type": "execute_result"
    },
    {
     "data": {
      "text/plain": [
       "'C:\\\\Users\\\\steka\\\\Competition_Image_Classification\\\\MaskDataset\\\\validation\\\\16784.jpg'"
      ]
     },
     "execution_count": 8,
     "metadata": {},
     "output_type": "execute_result"
    },
    {
     "data": {
      "text/plain": [
       "'C:\\\\Users\\\\steka\\\\Competition_Image_Classification\\\\MaskDataset\\\\validation\\\\18007.jpg'"
      ]
     },
     "execution_count": 8,
     "metadata": {},
     "output_type": "execute_result"
    },
    {
     "data": {
      "text/plain": [
       "'C:\\\\Users\\\\steka\\\\Competition_Image_Classification\\\\MaskDataset\\\\validation\\\\16030.jpg'"
      ]
     },
     "execution_count": 8,
     "metadata": {},
     "output_type": "execute_result"
    },
    {
     "data": {
      "text/plain": [
       "'C:\\\\Users\\\\steka\\\\Competition_Image_Classification\\\\MaskDataset\\\\validation\\\\14387.jpg'"
      ]
     },
     "execution_count": 8,
     "metadata": {},
     "output_type": "execute_result"
    },
    {
     "data": {
      "text/plain": [
       "'C:\\\\Users\\\\steka\\\\Competition_Image_Classification\\\\MaskDataset\\\\validation\\\\11639.jpg'"
      ]
     },
     "execution_count": 8,
     "metadata": {},
     "output_type": "execute_result"
    },
    {
     "data": {
      "text/plain": [
       "'C:\\\\Users\\\\steka\\\\Competition_Image_Classification\\\\MaskDataset\\\\validation\\\\17142.jpg'"
      ]
     },
     "execution_count": 8,
     "metadata": {},
     "output_type": "execute_result"
    },
    {
     "data": {
      "text/plain": [
       "'C:\\\\Users\\\\steka\\\\Competition_Image_Classification\\\\MaskDataset\\\\validation\\\\18045.jpg'"
      ]
     },
     "execution_count": 8,
     "metadata": {},
     "output_type": "execute_result"
    },
    {
     "data": {
      "text/plain": [
       "'C:\\\\Users\\\\steka\\\\Competition_Image_Classification\\\\MaskDataset\\\\validation\\\\14203.jpg'"
      ]
     },
     "execution_count": 8,
     "metadata": {},
     "output_type": "execute_result"
    },
    {
     "data": {
      "text/plain": [
       "'C:\\\\Users\\\\steka\\\\Competition_Image_Classification\\\\MaskDataset\\\\validation\\\\17104.jpg'"
      ]
     },
     "execution_count": 8,
     "metadata": {},
     "output_type": "execute_result"
    },
    {
     "data": {
      "text/plain": [
       "'C:\\\\Users\\\\steka\\\\Competition_Image_Classification\\\\MaskDataset\\\\validation\\\\10329.jpg'"
      ]
     },
     "execution_count": 8,
     "metadata": {},
     "output_type": "execute_result"
    },
    {
     "data": {
      "text/plain": [
       "'C:\\\\Users\\\\steka\\\\Competition_Image_Classification\\\\MaskDataset\\\\validation\\\\14749.jpg'"
      ]
     },
     "execution_count": 8,
     "metadata": {},
     "output_type": "execute_result"
    },
    {
     "data": {
      "text/plain": [
       "'C:\\\\Users\\\\steka\\\\Competition_Image_Classification\\\\MaskDataset\\\\validation\\\\10865.jpg'"
      ]
     },
     "execution_count": 8,
     "metadata": {},
     "output_type": "execute_result"
    },
    {
     "data": {
      "text/plain": [
       "'C:\\\\Users\\\\steka\\\\Competition_Image_Classification\\\\MaskDataset\\\\validation\\\\15109.jpg'"
      ]
     },
     "execution_count": 8,
     "metadata": {},
     "output_type": "execute_result"
    },
    {
     "data": {
      "text/plain": [
       "'C:\\\\Users\\\\steka\\\\Competition_Image_Classification\\\\MaskDataset\\\\validation\\\\11472.jpg'"
      ]
     },
     "execution_count": 8,
     "metadata": {},
     "output_type": "execute_result"
    },
    {
     "data": {
      "text/plain": [
       "'C:\\\\Users\\\\steka\\\\Competition_Image_Classification\\\\MaskDataset\\\\validation\\\\17544.jpg'"
      ]
     },
     "execution_count": 8,
     "metadata": {},
     "output_type": "execute_result"
    },
    {
     "data": {
      "text/plain": [
       "'C:\\\\Users\\\\steka\\\\Competition_Image_Classification\\\\MaskDataset\\\\validation\\\\13945.jpg'"
      ]
     },
     "execution_count": 8,
     "metadata": {},
     "output_type": "execute_result"
    },
    {
     "data": {
      "text/plain": [
       "'C:\\\\Users\\\\steka\\\\Competition_Image_Classification\\\\MaskDataset\\\\validation\\\\15603.jpg'"
      ]
     },
     "execution_count": 8,
     "metadata": {},
     "output_type": "execute_result"
    },
    {
     "data": {
      "text/plain": [
       "'C:\\\\Users\\\\steka\\\\Competition_Image_Classification\\\\MaskDataset\\\\validation\\\\17631.jpg'"
      ]
     },
     "execution_count": 8,
     "metadata": {},
     "output_type": "execute_result"
    },
    {
     "data": {
      "text/plain": [
       "'C:\\\\Users\\\\steka\\\\Competition_Image_Classification\\\\MaskDataset\\\\validation\\\\14628.jpg'"
      ]
     },
     "execution_count": 8,
     "metadata": {},
     "output_type": "execute_result"
    },
    {
     "data": {
      "text/plain": [
       "'C:\\\\Users\\\\steka\\\\Competition_Image_Classification\\\\MaskDataset\\\\validation\\\\17929.jpg'"
      ]
     },
     "execution_count": 8,
     "metadata": {},
     "output_type": "execute_result"
    },
    {
     "data": {
      "text/plain": [
       "'C:\\\\Users\\\\steka\\\\Competition_Image_Classification\\\\MaskDataset\\\\validation\\\\12705.jpg'"
      ]
     },
     "execution_count": 8,
     "metadata": {},
     "output_type": "execute_result"
    },
    {
     "data": {
      "text/plain": [
       "'C:\\\\Users\\\\steka\\\\Competition_Image_Classification\\\\MaskDataset\\\\validation\\\\15805.jpg'"
      ]
     },
     "execution_count": 8,
     "metadata": {},
     "output_type": "execute_result"
    },
    {
     "data": {
      "text/plain": [
       "'C:\\\\Users\\\\steka\\\\Competition_Image_Classification\\\\MaskDataset\\\\validation\\\\12340.jpg'"
      ]
     },
     "execution_count": 8,
     "metadata": {},
     "output_type": "execute_result"
    },
    {
     "data": {
      "text/plain": [
       "'C:\\\\Users\\\\steka\\\\Competition_Image_Classification\\\\MaskDataset\\\\validation\\\\17400.jpg'"
      ]
     },
     "execution_count": 8,
     "metadata": {},
     "output_type": "execute_result"
    },
    {
     "data": {
      "text/plain": [
       "'C:\\\\Users\\\\steka\\\\Competition_Image_Classification\\\\MaskDataset\\\\validation\\\\14677.jpg'"
      ]
     },
     "execution_count": 8,
     "metadata": {},
     "output_type": "execute_result"
    },
    {
     "data": {
      "text/plain": [
       "'C:\\\\Users\\\\steka\\\\Competition_Image_Classification\\\\MaskDataset\\\\validation\\\\12027.jpg'"
      ]
     },
     "execution_count": 8,
     "metadata": {},
     "output_type": "execute_result"
    },
    {
     "data": {
      "text/plain": [
       "'C:\\\\Users\\\\steka\\\\Competition_Image_Classification\\\\MaskDataset\\\\validation\\\\11542.jpg'"
      ]
     },
     "execution_count": 8,
     "metadata": {},
     "output_type": "execute_result"
    },
    {
     "data": {
      "text/plain": [
       "'C:\\\\Users\\\\steka\\\\Competition_Image_Classification\\\\MaskDataset\\\\validation\\\\11927.jpg'"
      ]
     },
     "execution_count": 8,
     "metadata": {},
     "output_type": "execute_result"
    },
    {
     "data": {
      "text/plain": [
       "'C:\\\\Users\\\\steka\\\\Competition_Image_Classification\\\\MaskDataset\\\\validation\\\\11511.jpg'"
      ]
     },
     "execution_count": 8,
     "metadata": {},
     "output_type": "execute_result"
    },
    {
     "data": {
      "text/plain": [
       "'C:\\\\Users\\\\steka\\\\Competition_Image_Classification\\\\MaskDataset\\\\validation\\\\10302.jpg'"
      ]
     },
     "execution_count": 8,
     "metadata": {},
     "output_type": "execute_result"
    },
    {
     "data": {
      "text/plain": [
       "'C:\\\\Users\\\\steka\\\\Competition_Image_Classification\\\\MaskDataset\\\\validation\\\\13488.jpg'"
      ]
     },
     "execution_count": 8,
     "metadata": {},
     "output_type": "execute_result"
    },
    {
     "data": {
      "text/plain": [
       "'C:\\\\Users\\\\steka\\\\Competition_Image_Classification\\\\MaskDataset\\\\validation\\\\10568.jpg'"
      ]
     },
     "execution_count": 8,
     "metadata": {},
     "output_type": "execute_result"
    },
    {
     "data": {
      "text/plain": [
       "'C:\\\\Users\\\\steka\\\\Competition_Image_Classification\\\\MaskDataset\\\\validation\\\\16852.jpg'"
      ]
     },
     "execution_count": 8,
     "metadata": {},
     "output_type": "execute_result"
    },
    {
     "data": {
      "text/plain": [
       "'C:\\\\Users\\\\steka\\\\Competition_Image_Classification\\\\MaskDataset\\\\validation\\\\10546.jpg'"
      ]
     },
     "execution_count": 8,
     "metadata": {},
     "output_type": "execute_result"
    },
    {
     "data": {
      "text/plain": [
       "'C:\\\\Users\\\\steka\\\\Competition_Image_Classification\\\\MaskDataset\\\\validation\\\\17197.jpg'"
      ]
     },
     "execution_count": 8,
     "metadata": {},
     "output_type": "execute_result"
    },
    {
     "data": {
      "text/plain": [
       "'C:\\\\Users\\\\steka\\\\Competition_Image_Classification\\\\MaskDataset\\\\validation\\\\13167.jpg'"
      ]
     },
     "execution_count": 8,
     "metadata": {},
     "output_type": "execute_result"
    },
    {
     "data": {
      "text/plain": [
       "'C:\\\\Users\\\\steka\\\\Competition_Image_Classification\\\\MaskDataset\\\\validation\\\\13460.jpg'"
      ]
     },
     "execution_count": 8,
     "metadata": {},
     "output_type": "execute_result"
    },
    {
     "data": {
      "text/plain": [
       "'C:\\\\Users\\\\steka\\\\Competition_Image_Classification\\\\MaskDataset\\\\validation\\\\16185.jpg'"
      ]
     },
     "execution_count": 8,
     "metadata": {},
     "output_type": "execute_result"
    },
    {
     "data": {
      "text/plain": [
       "'C:\\\\Users\\\\steka\\\\Competition_Image_Classification\\\\MaskDataset\\\\validation\\\\13303.jpg'"
      ]
     },
     "execution_count": 8,
     "metadata": {},
     "output_type": "execute_result"
    },
    {
     "data": {
      "text/plain": [
       "'C:\\\\Users\\\\steka\\\\Competition_Image_Classification\\\\MaskDataset\\\\validation\\\\14567.jpg'"
      ]
     },
     "execution_count": 8,
     "metadata": {},
     "output_type": "execute_result"
    },
    {
     "data": {
      "text/plain": [
       "'C:\\\\Users\\\\steka\\\\Competition_Image_Classification\\\\MaskDataset\\\\validation\\\\17794.jpg'"
      ]
     },
     "execution_count": 8,
     "metadata": {},
     "output_type": "execute_result"
    },
    {
     "data": {
      "text/plain": [
       "'C:\\\\Users\\\\steka\\\\Competition_Image_Classification\\\\MaskDataset\\\\validation\\\\13242.jpg'"
      ]
     },
     "execution_count": 8,
     "metadata": {},
     "output_type": "execute_result"
    },
    {
     "data": {
      "text/plain": [
       "'C:\\\\Users\\\\steka\\\\Competition_Image_Classification\\\\MaskDataset\\\\validation\\\\14082.jpg'"
      ]
     },
     "execution_count": 8,
     "metadata": {},
     "output_type": "execute_result"
    },
    {
     "data": {
      "text/plain": [
       "'C:\\\\Users\\\\steka\\\\Competition_Image_Classification\\\\MaskDataset\\\\validation\\\\14831.jpg'"
      ]
     },
     "execution_count": 8,
     "metadata": {},
     "output_type": "execute_result"
    },
    {
     "data": {
      "text/plain": [
       "'C:\\\\Users\\\\steka\\\\Competition_Image_Classification\\\\MaskDataset\\\\validation\\\\14975.jpg'"
      ]
     },
     "execution_count": 8,
     "metadata": {},
     "output_type": "execute_result"
    },
    {
     "data": {
      "text/plain": [
       "'C:\\\\Users\\\\steka\\\\Competition_Image_Classification\\\\MaskDataset\\\\validation\\\\16655.jpg'"
      ]
     },
     "execution_count": 8,
     "metadata": {},
     "output_type": "execute_result"
    },
    {
     "data": {
      "text/plain": [
       "'C:\\\\Users\\\\steka\\\\Competition_Image_Classification\\\\MaskDataset\\\\validation\\\\11417.jpg'"
      ]
     },
     "execution_count": 8,
     "metadata": {},
     "output_type": "execute_result"
    },
    {
     "data": {
      "text/plain": [
       "'C:\\\\Users\\\\steka\\\\Competition_Image_Classification\\\\MaskDataset\\\\validation\\\\10868.jpg'"
      ]
     },
     "execution_count": 8,
     "metadata": {},
     "output_type": "execute_result"
    },
    {
     "data": {
      "text/plain": [
       "'C:\\\\Users\\\\steka\\\\Competition_Image_Classification\\\\MaskDataset\\\\validation\\\\15437.jpg'"
      ]
     },
     "execution_count": 8,
     "metadata": {},
     "output_type": "execute_result"
    },
    {
     "data": {
      "text/plain": [
       "'C:\\\\Users\\\\steka\\\\Competition_Image_Classification\\\\MaskDataset\\\\validation\\\\17143.jpg'"
      ]
     },
     "execution_count": 8,
     "metadata": {},
     "output_type": "execute_result"
    },
    {
     "data": {
      "text/plain": [
       "'C:\\\\Users\\\\steka\\\\Competition_Image_Classification\\\\MaskDataset\\\\validation\\\\13564.jpg'"
      ]
     },
     "execution_count": 8,
     "metadata": {},
     "output_type": "execute_result"
    },
    {
     "data": {
      "text/plain": [
       "'C:\\\\Users\\\\steka\\\\Competition_Image_Classification\\\\MaskDataset\\\\validation\\\\14691.jpg'"
      ]
     },
     "execution_count": 8,
     "metadata": {},
     "output_type": "execute_result"
    },
    {
     "data": {
      "text/plain": [
       "'C:\\\\Users\\\\steka\\\\Competition_Image_Classification\\\\MaskDataset\\\\validation\\\\10470.jpg'"
      ]
     },
     "execution_count": 8,
     "metadata": {},
     "output_type": "execute_result"
    },
    {
     "data": {
      "text/plain": [
       "'C:\\\\Users\\\\steka\\\\Competition_Image_Classification\\\\MaskDataset\\\\validation\\\\16865.jpg'"
      ]
     },
     "execution_count": 8,
     "metadata": {},
     "output_type": "execute_result"
    },
    {
     "data": {
      "text/plain": [
       "'C:\\\\Users\\\\steka\\\\Competition_Image_Classification\\\\MaskDataset\\\\validation\\\\15755.jpg'"
      ]
     },
     "execution_count": 8,
     "metadata": {},
     "output_type": "execute_result"
    },
    {
     "data": {
      "text/plain": [
       "'C:\\\\Users\\\\steka\\\\Competition_Image_Classification\\\\MaskDataset\\\\validation\\\\15748.jpg'"
      ]
     },
     "execution_count": 8,
     "metadata": {},
     "output_type": "execute_result"
    },
    {
     "data": {
      "text/plain": [
       "'C:\\\\Users\\\\steka\\\\Competition_Image_Classification\\\\MaskDataset\\\\validation\\\\17495.jpg'"
      ]
     },
     "execution_count": 8,
     "metadata": {},
     "output_type": "execute_result"
    },
    {
     "data": {
      "text/plain": [
       "'C:\\\\Users\\\\steka\\\\Competition_Image_Classification\\\\MaskDataset\\\\validation\\\\14750.jpg'"
      ]
     },
     "execution_count": 8,
     "metadata": {},
     "output_type": "execute_result"
    },
    {
     "data": {
      "text/plain": [
       "'C:\\\\Users\\\\steka\\\\Competition_Image_Classification\\\\MaskDataset\\\\validation\\\\12777.jpg'"
      ]
     },
     "execution_count": 8,
     "metadata": {},
     "output_type": "execute_result"
    },
    {
     "data": {
      "text/plain": [
       "'C:\\\\Users\\\\steka\\\\Competition_Image_Classification\\\\MaskDataset\\\\validation\\\\12484.jpg'"
      ]
     },
     "execution_count": 8,
     "metadata": {},
     "output_type": "execute_result"
    },
    {
     "data": {
      "text/plain": [
       "'C:\\\\Users\\\\steka\\\\Competition_Image_Classification\\\\MaskDataset\\\\validation\\\\17204.jpg'"
      ]
     },
     "execution_count": 8,
     "metadata": {},
     "output_type": "execute_result"
    },
    {
     "data": {
      "text/plain": [
       "'C:\\\\Users\\\\steka\\\\Competition_Image_Classification\\\\MaskDataset\\\\validation\\\\12865.jpg'"
      ]
     },
     "execution_count": 8,
     "metadata": {},
     "output_type": "execute_result"
    },
    {
     "data": {
      "text/plain": [
       "'C:\\\\Users\\\\steka\\\\Competition_Image_Classification\\\\MaskDataset\\\\validation\\\\14758.jpg'"
      ]
     },
     "execution_count": 8,
     "metadata": {},
     "output_type": "execute_result"
    },
    {
     "data": {
      "text/plain": [
       "'C:\\\\Users\\\\steka\\\\Competition_Image_Classification\\\\MaskDataset\\\\validation\\\\11965.jpg'"
      ]
     },
     "execution_count": 8,
     "metadata": {},
     "output_type": "execute_result"
    },
    {
     "data": {
      "text/plain": [
       "'C:\\\\Users\\\\steka\\\\Competition_Image_Classification\\\\MaskDataset\\\\validation\\\\12420.jpg'"
      ]
     },
     "execution_count": 8,
     "metadata": {},
     "output_type": "execute_result"
    },
    {
     "data": {
      "text/plain": [
       "'C:\\\\Users\\\\steka\\\\Competition_Image_Classification\\\\MaskDataset\\\\validation\\\\14991.jpg'"
      ]
     },
     "execution_count": 8,
     "metadata": {},
     "output_type": "execute_result"
    },
    {
     "data": {
      "text/plain": [
       "'C:\\\\Users\\\\steka\\\\Competition_Image_Classification\\\\MaskDataset\\\\validation\\\\13256.jpg'"
      ]
     },
     "execution_count": 8,
     "metadata": {},
     "output_type": "execute_result"
    },
    {
     "data": {
      "text/plain": [
       "'C:\\\\Users\\\\steka\\\\Competition_Image_Classification\\\\MaskDataset\\\\validation\\\\13557.jpg'"
      ]
     },
     "execution_count": 8,
     "metadata": {},
     "output_type": "execute_result"
    },
    {
     "data": {
      "text/plain": [
       "'C:\\\\Users\\\\steka\\\\Competition_Image_Classification\\\\MaskDataset\\\\validation\\\\10070.jpg'"
      ]
     },
     "execution_count": 8,
     "metadata": {},
     "output_type": "execute_result"
    },
    {
     "data": {
      "text/plain": [
       "'C:\\\\Users\\\\steka\\\\Competition_Image_Classification\\\\MaskDataset\\\\validation\\\\16398.jpg'"
      ]
     },
     "execution_count": 8,
     "metadata": {},
     "output_type": "execute_result"
    },
    {
     "data": {
      "text/plain": [
       "'C:\\\\Users\\\\steka\\\\Competition_Image_Classification\\\\MaskDataset\\\\validation\\\\15220.jpg'"
      ]
     },
     "execution_count": 8,
     "metadata": {},
     "output_type": "execute_result"
    },
    {
     "data": {
      "text/plain": [
       "'C:\\\\Users\\\\steka\\\\Competition_Image_Classification\\\\MaskDataset\\\\validation\\\\14715.jpg'"
      ]
     },
     "execution_count": 8,
     "metadata": {},
     "output_type": "execute_result"
    },
    {
     "data": {
      "text/plain": [
       "'C:\\\\Users\\\\steka\\\\Competition_Image_Classification\\\\MaskDataset\\\\validation\\\\12847.jpg'"
      ]
     },
     "execution_count": 8,
     "metadata": {},
     "output_type": "execute_result"
    },
    {
     "data": {
      "text/plain": [
       "'C:\\\\Users\\\\steka\\\\Competition_Image_Classification\\\\MaskDataset\\\\validation\\\\15054.jpg'"
      ]
     },
     "execution_count": 8,
     "metadata": {},
     "output_type": "execute_result"
    },
    {
     "data": {
      "text/plain": [
       "'C:\\\\Users\\\\steka\\\\Competition_Image_Classification\\\\MaskDataset\\\\validation\\\\16772.jpg'"
      ]
     },
     "execution_count": 8,
     "metadata": {},
     "output_type": "execute_result"
    },
    {
     "data": {
      "text/plain": [
       "'C:\\\\Users\\\\steka\\\\Competition_Image_Classification\\\\MaskDataset\\\\validation\\\\11686.jpg'"
      ]
     },
     "execution_count": 8,
     "metadata": {},
     "output_type": "execute_result"
    },
    {
     "data": {
      "text/plain": [
       "'C:\\\\Users\\\\steka\\\\Competition_Image_Classification\\\\MaskDataset\\\\validation\\\\11329.jpg'"
      ]
     },
     "execution_count": 8,
     "metadata": {},
     "output_type": "execute_result"
    },
    {
     "data": {
      "text/plain": [
       "'C:\\\\Users\\\\steka\\\\Competition_Image_Classification\\\\MaskDataset\\\\validation\\\\18076.jpg'"
      ]
     },
     "execution_count": 8,
     "metadata": {},
     "output_type": "execute_result"
    },
    {
     "data": {
      "text/plain": [
       "'C:\\\\Users\\\\steka\\\\Competition_Image_Classification\\\\MaskDataset\\\\validation\\\\15543.jpg'"
      ]
     },
     "execution_count": 8,
     "metadata": {},
     "output_type": "execute_result"
    },
    {
     "data": {
      "text/plain": [
       "'C:\\\\Users\\\\steka\\\\Competition_Image_Classification\\\\MaskDataset\\\\validation\\\\14781.jpg'"
      ]
     },
     "execution_count": 8,
     "metadata": {},
     "output_type": "execute_result"
    },
    {
     "data": {
      "text/plain": [
       "'C:\\\\Users\\\\steka\\\\Competition_Image_Classification\\\\MaskDataset\\\\validation\\\\12838.jpg'"
      ]
     },
     "execution_count": 8,
     "metadata": {},
     "output_type": "execute_result"
    },
    {
     "data": {
      "text/plain": [
       "'C:\\\\Users\\\\steka\\\\Competition_Image_Classification\\\\MaskDataset\\\\validation\\\\17732.jpg'"
      ]
     },
     "execution_count": 8,
     "metadata": {},
     "output_type": "execute_result"
    },
    {
     "data": {
      "text/plain": [
       "'C:\\\\Users\\\\steka\\\\Competition_Image_Classification\\\\MaskDataset\\\\validation\\\\11938.jpg'"
      ]
     },
     "execution_count": 8,
     "metadata": {},
     "output_type": "execute_result"
    },
    {
     "data": {
      "text/plain": [
       "'C:\\\\Users\\\\steka\\\\Competition_Image_Classification\\\\MaskDataset\\\\validation\\\\12907.jpg'"
      ]
     },
     "execution_count": 8,
     "metadata": {},
     "output_type": "execute_result"
    },
    {
     "data": {
      "text/plain": [
       "'C:\\\\Users\\\\steka\\\\Competition_Image_Classification\\\\MaskDataset\\\\validation\\\\13428.jpg'"
      ]
     },
     "execution_count": 8,
     "metadata": {},
     "output_type": "execute_result"
    },
    {
     "data": {
      "text/plain": [
       "'C:\\\\Users\\\\steka\\\\Competition_Image_Classification\\\\MaskDataset\\\\validation\\\\15115.jpg'"
      ]
     },
     "execution_count": 8,
     "metadata": {},
     "output_type": "execute_result"
    },
    {
     "data": {
      "text/plain": [
       "'C:\\\\Users\\\\steka\\\\Competition_Image_Classification\\\\MaskDataset\\\\validation\\\\13749.jpg'"
      ]
     },
     "execution_count": 8,
     "metadata": {},
     "output_type": "execute_result"
    },
    {
     "data": {
      "text/plain": [
       "'C:\\\\Users\\\\steka\\\\Competition_Image_Classification\\\\MaskDataset\\\\validation\\\\10726.jpg'"
      ]
     },
     "execution_count": 8,
     "metadata": {},
     "output_type": "execute_result"
    },
    {
     "data": {
      "text/plain": [
       "'C:\\\\Users\\\\steka\\\\Competition_Image_Classification\\\\MaskDataset\\\\validation\\\\13932.jpg'"
      ]
     },
     "execution_count": 8,
     "metadata": {},
     "output_type": "execute_result"
    },
    {
     "data": {
      "text/plain": [
       "'C:\\\\Users\\\\steka\\\\Competition_Image_Classification\\\\MaskDataset\\\\validation\\\\17550.jpg'"
      ]
     },
     "execution_count": 8,
     "metadata": {},
     "output_type": "execute_result"
    },
    {
     "data": {
      "text/plain": [
       "'C:\\\\Users\\\\steka\\\\Competition_Image_Classification\\\\MaskDataset\\\\validation\\\\15327.jpg'"
      ]
     },
     "execution_count": 8,
     "metadata": {},
     "output_type": "execute_result"
    },
    {
     "data": {
      "text/plain": [
       "'C:\\\\Users\\\\steka\\\\Competition_Image_Classification\\\\MaskDataset\\\\validation\\\\15965.jpg'"
      ]
     },
     "execution_count": 8,
     "metadata": {},
     "output_type": "execute_result"
    },
    {
     "data": {
      "text/plain": [
       "'C:\\\\Users\\\\steka\\\\Competition_Image_Classification\\\\MaskDataset\\\\validation\\\\10136.jpg'"
      ]
     },
     "execution_count": 8,
     "metadata": {},
     "output_type": "execute_result"
    },
    {
     "data": {
      "text/plain": [
       "'C:\\\\Users\\\\steka\\\\Competition_Image_Classification\\\\MaskDataset\\\\validation\\\\14694.jpg'"
      ]
     },
     "execution_count": 8,
     "metadata": {},
     "output_type": "execute_result"
    },
    {
     "data": {
      "text/plain": [
       "'C:\\\\Users\\\\steka\\\\Competition_Image_Classification\\\\MaskDataset\\\\validation\\\\14003.jpg'"
      ]
     },
     "execution_count": 8,
     "metadata": {},
     "output_type": "execute_result"
    },
    {
     "data": {
      "text/plain": [
       "'C:\\\\Users\\\\steka\\\\Competition_Image_Classification\\\\MaskDataset\\\\validation\\\\13747.jpg'"
      ]
     },
     "execution_count": 8,
     "metadata": {},
     "output_type": "execute_result"
    },
    {
     "data": {
      "text/plain": [
       "'C:\\\\Users\\\\steka\\\\Competition_Image_Classification\\\\MaskDataset\\\\validation\\\\13802.jpg'"
      ]
     },
     "execution_count": 8,
     "metadata": {},
     "output_type": "execute_result"
    },
    {
     "data": {
      "text/plain": [
       "'C:\\\\Users\\\\steka\\\\Competition_Image_Classification\\\\MaskDataset\\\\validation\\\\12769.jpg'"
      ]
     },
     "execution_count": 8,
     "metadata": {},
     "output_type": "execute_result"
    },
    {
     "data": {
      "text/plain": [
       "'C:\\\\Users\\\\steka\\\\Competition_Image_Classification\\\\MaskDataset\\\\validation\\\\13086.jpg'"
      ]
     },
     "execution_count": 8,
     "metadata": {},
     "output_type": "execute_result"
    },
    {
     "data": {
      "text/plain": [
       "'C:\\\\Users\\\\steka\\\\Competition_Image_Classification\\\\MaskDataset\\\\validation\\\\18043.jpg'"
      ]
     },
     "execution_count": 8,
     "metadata": {},
     "output_type": "execute_result"
    },
    {
     "data": {
      "text/plain": [
       "'C:\\\\Users\\\\steka\\\\Competition_Image_Classification\\\\MaskDataset\\\\validation\\\\12562.jpg'"
      ]
     },
     "execution_count": 8,
     "metadata": {},
     "output_type": "execute_result"
    },
    {
     "data": {
      "text/plain": [
       "'C:\\\\Users\\\\steka\\\\Competition_Image_Classification\\\\MaskDataset\\\\validation\\\\16882.jpg'"
      ]
     },
     "execution_count": 8,
     "metadata": {},
     "output_type": "execute_result"
    },
    {
     "data": {
      "text/plain": [
       "'C:\\\\Users\\\\steka\\\\Competition_Image_Classification\\\\MaskDataset\\\\validation\\\\15631.jpg'"
      ]
     },
     "execution_count": 8,
     "metadata": {},
     "output_type": "execute_result"
    },
    {
     "data": {
      "text/plain": [
       "'C:\\\\Users\\\\steka\\\\Competition_Image_Classification\\\\MaskDataset\\\\validation\\\\14542.jpg'"
      ]
     },
     "execution_count": 8,
     "metadata": {},
     "output_type": "execute_result"
    },
    {
     "data": {
      "text/plain": [
       "'C:\\\\Users\\\\steka\\\\Competition_Image_Classification\\\\MaskDataset\\\\validation\\\\12766.jpg'"
      ]
     },
     "execution_count": 8,
     "metadata": {},
     "output_type": "execute_result"
    },
    {
     "data": {
      "text/plain": [
       "'C:\\\\Users\\\\steka\\\\Competition_Image_Classification\\\\MaskDataset\\\\validation\\\\10657.jpg'"
      ]
     },
     "execution_count": 8,
     "metadata": {},
     "output_type": "execute_result"
    },
    {
     "data": {
      "text/plain": [
       "'C:\\\\Users\\\\steka\\\\Competition_Image_Classification\\\\MaskDataset\\\\validation\\\\10248.jpg'"
      ]
     },
     "execution_count": 8,
     "metadata": {},
     "output_type": "execute_result"
    },
    {
     "data": {
      "text/plain": [
       "'C:\\\\Users\\\\steka\\\\Competition_Image_Classification\\\\MaskDataset\\\\validation\\\\12248.jpg'"
      ]
     },
     "execution_count": 8,
     "metadata": {},
     "output_type": "execute_result"
    },
    {
     "data": {
      "text/plain": [
       "'C:\\\\Users\\\\steka\\\\Competition_Image_Classification\\\\MaskDataset\\\\validation\\\\14484.jpg'"
      ]
     },
     "execution_count": 8,
     "metadata": {},
     "output_type": "execute_result"
    },
    {
     "data": {
      "text/plain": [
       "'C:\\\\Users\\\\steka\\\\Competition_Image_Classification\\\\MaskDataset\\\\validation\\\\12473.jpg'"
      ]
     },
     "execution_count": 8,
     "metadata": {},
     "output_type": "execute_result"
    },
    {
     "data": {
      "text/plain": [
       "'C:\\\\Users\\\\steka\\\\Competition_Image_Classification\\\\MaskDataset\\\\validation\\\\16296.jpg'"
      ]
     },
     "execution_count": 8,
     "metadata": {},
     "output_type": "execute_result"
    },
    {
     "data": {
      "text/plain": [
       "'C:\\\\Users\\\\steka\\\\Competition_Image_Classification\\\\MaskDataset\\\\validation\\\\10807.jpg'"
      ]
     },
     "execution_count": 8,
     "metadata": {},
     "output_type": "execute_result"
    },
    {
     "data": {
      "text/plain": [
       "'C:\\\\Users\\\\steka\\\\Competition_Image_Classification\\\\MaskDataset\\\\validation\\\\17651.jpg'"
      ]
     },
     "execution_count": 8,
     "metadata": {},
     "output_type": "execute_result"
    },
    {
     "data": {
      "text/plain": [
       "'C:\\\\Users\\\\steka\\\\Competition_Image_Classification\\\\MaskDataset\\\\validation\\\\18159.jpg'"
      ]
     },
     "execution_count": 8,
     "metadata": {},
     "output_type": "execute_result"
    },
    {
     "data": {
      "text/plain": [
       "'C:\\\\Users\\\\steka\\\\Competition_Image_Classification\\\\MaskDataset\\\\validation\\\\12702.jpg'"
      ]
     },
     "execution_count": 8,
     "metadata": {},
     "output_type": "execute_result"
    },
    {
     "data": {
      "text/plain": [
       "'C:\\\\Users\\\\steka\\\\Competition_Image_Classification\\\\MaskDataset\\\\validation\\\\15088.jpg'"
      ]
     },
     "execution_count": 8,
     "metadata": {},
     "output_type": "execute_result"
    },
    {
     "data": {
      "text/plain": [
       "'C:\\\\Users\\\\steka\\\\Competition_Image_Classification\\\\MaskDataset\\\\validation\\\\14265.jpg'"
      ]
     },
     "execution_count": 8,
     "metadata": {},
     "output_type": "execute_result"
    },
    {
     "data": {
      "text/plain": [
       "'C:\\\\Users\\\\steka\\\\Competition_Image_Classification\\\\MaskDataset\\\\validation\\\\10103.jpg'"
      ]
     },
     "execution_count": 8,
     "metadata": {},
     "output_type": "execute_result"
    },
    {
     "data": {
      "text/plain": [
       "'C:\\\\Users\\\\steka\\\\Competition_Image_Classification\\\\MaskDataset\\\\validation\\\\16387.jpg'"
      ]
     },
     "execution_count": 8,
     "metadata": {},
     "output_type": "execute_result"
    },
    {
     "data": {
      "text/plain": [
       "'C:\\\\Users\\\\steka\\\\Competition_Image_Classification\\\\MaskDataset\\\\validation\\\\17381.jpg'"
      ]
     },
     "execution_count": 8,
     "metadata": {},
     "output_type": "execute_result"
    },
    {
     "data": {
      "text/plain": [
       "'C:\\\\Users\\\\steka\\\\Competition_Image_Classification\\\\MaskDataset\\\\validation\\\\10413.jpg'"
      ]
     },
     "execution_count": 8,
     "metadata": {},
     "output_type": "execute_result"
    },
    {
     "data": {
      "text/plain": [
       "'C:\\\\Users\\\\steka\\\\Competition_Image_Classification\\\\MaskDataset\\\\validation\\\\11200.jpg'"
      ]
     },
     "execution_count": 8,
     "metadata": {},
     "output_type": "execute_result"
    },
    {
     "data": {
      "text/plain": [
       "'C:\\\\Users\\\\steka\\\\Competition_Image_Classification\\\\MaskDataset\\\\validation\\\\14290.jpg'"
      ]
     },
     "execution_count": 8,
     "metadata": {},
     "output_type": "execute_result"
    },
    {
     "data": {
      "text/plain": [
       "'C:\\\\Users\\\\steka\\\\Competition_Image_Classification\\\\MaskDataset\\\\validation\\\\10832.jpg'"
      ]
     },
     "execution_count": 8,
     "metadata": {},
     "output_type": "execute_result"
    },
    {
     "data": {
      "text/plain": [
       "'C:\\\\Users\\\\steka\\\\Competition_Image_Classification\\\\MaskDataset\\\\validation\\\\17749.jpg'"
      ]
     },
     "execution_count": 8,
     "metadata": {},
     "output_type": "execute_result"
    },
    {
     "data": {
      "text/plain": [
       "'C:\\\\Users\\\\steka\\\\Competition_Image_Classification\\\\MaskDataset\\\\validation\\\\15321.jpg'"
      ]
     },
     "execution_count": 8,
     "metadata": {},
     "output_type": "execute_result"
    },
    {
     "data": {
      "text/plain": [
       "'C:\\\\Users\\\\steka\\\\Competition_Image_Classification\\\\MaskDataset\\\\validation\\\\10932.jpg'"
      ]
     },
     "execution_count": 8,
     "metadata": {},
     "output_type": "execute_result"
    },
    {
     "data": {
      "text/plain": [
       "'C:\\\\Users\\\\steka\\\\Competition_Image_Classification\\\\MaskDataset\\\\validation\\\\15939.jpg'"
      ]
     },
     "execution_count": 8,
     "metadata": {},
     "output_type": "execute_result"
    },
    {
     "data": {
      "text/plain": [
       "'C:\\\\Users\\\\steka\\\\Competition_Image_Classification\\\\MaskDataset\\\\validation\\\\17867.jpg'"
      ]
     },
     "execution_count": 8,
     "metadata": {},
     "output_type": "execute_result"
    },
    {
     "data": {
      "text/plain": [
       "'C:\\\\Users\\\\steka\\\\Competition_Image_Classification\\\\MaskDataset\\\\validation\\\\17124.jpg'"
      ]
     },
     "execution_count": 8,
     "metadata": {},
     "output_type": "execute_result"
    },
    {
     "data": {
      "text/plain": [
       "'C:\\\\Users\\\\steka\\\\Competition_Image_Classification\\\\MaskDataset\\\\validation\\\\16778.jpg'"
      ]
     },
     "execution_count": 8,
     "metadata": {},
     "output_type": "execute_result"
    },
    {
     "data": {
      "text/plain": [
       "'C:\\\\Users\\\\steka\\\\Competition_Image_Classification\\\\MaskDataset\\\\validation\\\\16648.jpg'"
      ]
     },
     "execution_count": 8,
     "metadata": {},
     "output_type": "execute_result"
    },
    {
     "data": {
      "text/plain": [
       "'C:\\\\Users\\\\steka\\\\Competition_Image_Classification\\\\MaskDataset\\\\validation\\\\15026.jpg'"
      ]
     },
     "execution_count": 8,
     "metadata": {},
     "output_type": "execute_result"
    },
    {
     "data": {
      "text/plain": [
       "'C:\\\\Users\\\\steka\\\\Competition_Image_Classification\\\\MaskDataset\\\\validation\\\\10002.jpg'"
      ]
     },
     "execution_count": 8,
     "metadata": {},
     "output_type": "execute_result"
    },
    {
     "data": {
      "text/plain": [
       "'C:\\\\Users\\\\steka\\\\Competition_Image_Classification\\\\MaskDataset\\\\validation\\\\17038.jpg'"
      ]
     },
     "execution_count": 8,
     "metadata": {},
     "output_type": "execute_result"
    },
    {
     "data": {
      "text/plain": [
       "'C:\\\\Users\\\\steka\\\\Competition_Image_Classification\\\\MaskDataset\\\\validation\\\\15248.jpg'"
      ]
     },
     "execution_count": 8,
     "metadata": {},
     "output_type": "execute_result"
    },
    {
     "data": {
      "text/plain": [
       "'C:\\\\Users\\\\steka\\\\Competition_Image_Classification\\\\MaskDataset\\\\validation\\\\16939.jpg'"
      ]
     },
     "execution_count": 8,
     "metadata": {},
     "output_type": "execute_result"
    },
    {
     "data": {
      "text/plain": [
       "'C:\\\\Users\\\\steka\\\\Competition_Image_Classification\\\\MaskDataset\\\\validation\\\\14450.jpg'"
      ]
     },
     "execution_count": 8,
     "metadata": {},
     "output_type": "execute_result"
    },
    {
     "data": {
      "text/plain": [
       "'C:\\\\Users\\\\steka\\\\Competition_Image_Classification\\\\MaskDataset\\\\validation\\\\16897.jpg'"
      ]
     },
     "execution_count": 8,
     "metadata": {},
     "output_type": "execute_result"
    },
    {
     "data": {
      "text/plain": [
       "'C:\\\\Users\\\\steka\\\\Competition_Image_Classification\\\\MaskDataset\\\\validation\\\\12256.jpg'"
      ]
     },
     "execution_count": 8,
     "metadata": {},
     "output_type": "execute_result"
    },
    {
     "data": {
      "text/plain": [
       "'C:\\\\Users\\\\steka\\\\Competition_Image_Classification\\\\MaskDataset\\\\validation\\\\17378.jpg'"
      ]
     },
     "execution_count": 8,
     "metadata": {},
     "output_type": "execute_result"
    },
    {
     "data": {
      "text/plain": [
       "'C:\\\\Users\\\\steka\\\\Competition_Image_Classification\\\\MaskDataset\\\\validation\\\\14187.jpg'"
      ]
     },
     "execution_count": 8,
     "metadata": {},
     "output_type": "execute_result"
    },
    {
     "data": {
      "text/plain": [
       "'C:\\\\Users\\\\steka\\\\Competition_Image_Classification\\\\MaskDataset\\\\validation\\\\17259.jpg'"
      ]
     },
     "execution_count": 8,
     "metadata": {},
     "output_type": "execute_result"
    },
    {
     "data": {
      "text/plain": [
       "'C:\\\\Users\\\\steka\\\\Competition_Image_Classification\\\\MaskDataset\\\\validation\\\\17541.jpg'"
      ]
     },
     "execution_count": 8,
     "metadata": {},
     "output_type": "execute_result"
    },
    {
     "data": {
      "text/plain": [
       "'C:\\\\Users\\\\steka\\\\Competition_Image_Classification\\\\MaskDataset\\\\validation\\\\13184.jpg'"
      ]
     },
     "execution_count": 8,
     "metadata": {},
     "output_type": "execute_result"
    },
    {
     "data": {
      "text/plain": [
       "'C:\\\\Users\\\\steka\\\\Competition_Image_Classification\\\\MaskDataset\\\\validation\\\\11132.jpg'"
      ]
     },
     "execution_count": 8,
     "metadata": {},
     "output_type": "execute_result"
    },
    {
     "data": {
      "text/plain": [
       "'C:\\\\Users\\\\steka\\\\Competition_Image_Classification\\\\MaskDataset\\\\validation\\\\10595.jpg'"
      ]
     },
     "execution_count": 8,
     "metadata": {},
     "output_type": "execute_result"
    },
    {
     "data": {
      "text/plain": [
       "'C:\\\\Users\\\\steka\\\\Competition_Image_Classification\\\\MaskDataset\\\\validation\\\\12019.jpg'"
      ]
     },
     "execution_count": 8,
     "metadata": {},
     "output_type": "execute_result"
    },
    {
     "data": {
      "text/plain": [
       "'C:\\\\Users\\\\steka\\\\Competition_Image_Classification\\\\MaskDataset\\\\validation\\\\16311.jpg'"
      ]
     },
     "execution_count": 8,
     "metadata": {},
     "output_type": "execute_result"
    },
    {
     "data": {
      "text/plain": [
       "'C:\\\\Users\\\\steka\\\\Competition_Image_Classification\\\\MaskDataset\\\\validation\\\\16973.jpg'"
      ]
     },
     "execution_count": 8,
     "metadata": {},
     "output_type": "execute_result"
    },
    {
     "data": {
      "text/plain": [
       "'C:\\\\Users\\\\steka\\\\Competition_Image_Classification\\\\MaskDataset\\\\validation\\\\11824.jpg'"
      ]
     },
     "execution_count": 8,
     "metadata": {},
     "output_type": "execute_result"
    },
    {
     "data": {
      "text/plain": [
       "'C:\\\\Users\\\\steka\\\\Competition_Image_Classification\\\\MaskDataset\\\\validation\\\\16868.jpg'"
      ]
     },
     "execution_count": 8,
     "metadata": {},
     "output_type": "execute_result"
    },
    {
     "data": {
      "text/plain": [
       "'C:\\\\Users\\\\steka\\\\Competition_Image_Classification\\\\MaskDataset\\\\validation\\\\11393.jpg'"
      ]
     },
     "execution_count": 8,
     "metadata": {},
     "output_type": "execute_result"
    },
    {
     "data": {
      "text/plain": [
       "'C:\\\\Users\\\\steka\\\\Competition_Image_Classification\\\\MaskDataset\\\\validation\\\\11321.jpg'"
      ]
     },
     "execution_count": 8,
     "metadata": {},
     "output_type": "execute_result"
    },
    {
     "data": {
      "text/plain": [
       "'C:\\\\Users\\\\steka\\\\Competition_Image_Classification\\\\MaskDataset\\\\validation\\\\17940.jpg'"
      ]
     },
     "execution_count": 8,
     "metadata": {},
     "output_type": "execute_result"
    },
    {
     "data": {
      "text/plain": [
       "'C:\\\\Users\\\\steka\\\\Competition_Image_Classification\\\\MaskDataset\\\\validation\\\\18174.jpg'"
      ]
     },
     "execution_count": 8,
     "metadata": {},
     "output_type": "execute_result"
    },
    {
     "data": {
      "text/plain": [
       "'C:\\\\Users\\\\steka\\\\Competition_Image_Classification\\\\MaskDataset\\\\validation\\\\12290.jpg'"
      ]
     },
     "execution_count": 8,
     "metadata": {},
     "output_type": "execute_result"
    },
    {
     "data": {
      "text/plain": [
       "'C:\\\\Users\\\\steka\\\\Competition_Image_Classification\\\\MaskDataset\\\\validation\\\\14268.jpg'"
      ]
     },
     "execution_count": 8,
     "metadata": {},
     "output_type": "execute_result"
    },
    {
     "data": {
      "text/plain": [
       "'C:\\\\Users\\\\steka\\\\Competition_Image_Classification\\\\MaskDataset\\\\validation\\\\10480.jpg'"
      ]
     },
     "execution_count": 8,
     "metadata": {},
     "output_type": "execute_result"
    },
    {
     "data": {
      "text/plain": [
       "'C:\\\\Users\\\\steka\\\\Competition_Image_Classification\\\\MaskDataset\\\\validation\\\\14692.jpg'"
      ]
     },
     "execution_count": 8,
     "metadata": {},
     "output_type": "execute_result"
    },
    {
     "data": {
      "text/plain": [
       "'C:\\\\Users\\\\steka\\\\Competition_Image_Classification\\\\MaskDataset\\\\validation\\\\14299.jpg'"
      ]
     },
     "execution_count": 8,
     "metadata": {},
     "output_type": "execute_result"
    },
    {
     "data": {
      "text/plain": [
       "'C:\\\\Users\\\\steka\\\\Competition_Image_Classification\\\\MaskDataset\\\\validation\\\\12422.jpg'"
      ]
     },
     "execution_count": 8,
     "metadata": {},
     "output_type": "execute_result"
    },
    {
     "data": {
      "text/plain": [
       "'C:\\\\Users\\\\steka\\\\Competition_Image_Classification\\\\MaskDataset\\\\validation\\\\17042.jpg'"
      ]
     },
     "execution_count": 8,
     "metadata": {},
     "output_type": "execute_result"
    },
    {
     "data": {
      "text/plain": [
       "'C:\\\\Users\\\\steka\\\\Competition_Image_Classification\\\\MaskDataset\\\\validation\\\\12724.jpg'"
      ]
     },
     "execution_count": 8,
     "metadata": {},
     "output_type": "execute_result"
    },
    {
     "data": {
      "text/plain": [
       "'C:\\\\Users\\\\steka\\\\Competition_Image_Classification\\\\MaskDataset\\\\validation\\\\15593.jpg'"
      ]
     },
     "execution_count": 8,
     "metadata": {},
     "output_type": "execute_result"
    },
    {
     "data": {
      "text/plain": [
       "'C:\\\\Users\\\\steka\\\\Competition_Image_Classification\\\\MaskDataset\\\\validation\\\\16742.jpg'"
      ]
     },
     "execution_count": 8,
     "metadata": {},
     "output_type": "execute_result"
    },
    {
     "data": {
      "text/plain": [
       "'C:\\\\Users\\\\steka\\\\Competition_Image_Classification\\\\MaskDataset\\\\validation\\\\17301.jpg'"
      ]
     },
     "execution_count": 8,
     "metadata": {},
     "output_type": "execute_result"
    },
    {
     "data": {
      "text/plain": [
       "'C:\\\\Users\\\\steka\\\\Competition_Image_Classification\\\\MaskDataset\\\\validation\\\\15768.jpg'"
      ]
     },
     "execution_count": 8,
     "metadata": {},
     "output_type": "execute_result"
    },
    {
     "data": {
      "text/plain": [
       "'C:\\\\Users\\\\steka\\\\Competition_Image_Classification\\\\MaskDataset\\\\validation\\\\17766.jpg'"
      ]
     },
     "execution_count": 8,
     "metadata": {},
     "output_type": "execute_result"
    },
    {
     "data": {
      "text/plain": [
       "'C:\\\\Users\\\\steka\\\\Competition_Image_Classification\\\\MaskDataset\\\\validation\\\\17779.jpg'"
      ]
     },
     "execution_count": 8,
     "metadata": {},
     "output_type": "execute_result"
    },
    {
     "data": {
      "text/plain": [
       "'C:\\\\Users\\\\steka\\\\Competition_Image_Classification\\\\MaskDataset\\\\validation\\\\16280.jpg'"
      ]
     },
     "execution_count": 8,
     "metadata": {},
     "output_type": "execute_result"
    },
    {
     "data": {
      "text/plain": [
       "'C:\\\\Users\\\\steka\\\\Competition_Image_Classification\\\\MaskDataset\\\\validation\\\\15182.jpg'"
      ]
     },
     "execution_count": 8,
     "metadata": {},
     "output_type": "execute_result"
    },
    {
     "data": {
      "text/plain": [
       "'C:\\\\Users\\\\steka\\\\Competition_Image_Classification\\\\MaskDataset\\\\validation\\\\11363.jpg'"
      ]
     },
     "execution_count": 8,
     "metadata": {},
     "output_type": "execute_result"
    },
    {
     "data": {
      "text/plain": [
       "'C:\\\\Users\\\\steka\\\\Competition_Image_Classification\\\\MaskDataset\\\\validation\\\\11469.jpg'"
      ]
     },
     "execution_count": 8,
     "metadata": {},
     "output_type": "execute_result"
    },
    {
     "data": {
      "text/plain": [
       "'C:\\\\Users\\\\steka\\\\Competition_Image_Classification\\\\MaskDataset\\\\validation\\\\17186.jpg'"
      ]
     },
     "execution_count": 8,
     "metadata": {},
     "output_type": "execute_result"
    },
    {
     "data": {
      "text/plain": [
       "'C:\\\\Users\\\\steka\\\\Competition_Image_Classification\\\\MaskDataset\\\\validation\\\\13469.jpg'"
      ]
     },
     "execution_count": 8,
     "metadata": {},
     "output_type": "execute_result"
    },
    {
     "data": {
      "text/plain": [
       "'C:\\\\Users\\\\steka\\\\Competition_Image_Classification\\\\MaskDataset\\\\validation\\\\17551.jpg'"
      ]
     },
     "execution_count": 8,
     "metadata": {},
     "output_type": "execute_result"
    },
    {
     "data": {
      "text/plain": [
       "'C:\\\\Users\\\\steka\\\\Competition_Image_Classification\\\\MaskDataset\\\\validation\\\\13806.jpg'"
      ]
     },
     "execution_count": 8,
     "metadata": {},
     "output_type": "execute_result"
    },
    {
     "data": {
      "text/plain": [
       "'C:\\\\Users\\\\steka\\\\Competition_Image_Classification\\\\MaskDataset\\\\validation\\\\15944.jpg'"
      ]
     },
     "execution_count": 8,
     "metadata": {},
     "output_type": "execute_result"
    },
    {
     "data": {
      "text/plain": [
       "'C:\\\\Users\\\\steka\\\\Competition_Image_Classification\\\\MaskDataset\\\\validation\\\\16131.jpg'"
      ]
     },
     "execution_count": 8,
     "metadata": {},
     "output_type": "execute_result"
    },
    {
     "data": {
      "text/plain": [
       "'C:\\\\Users\\\\steka\\\\Competition_Image_Classification\\\\MaskDataset\\\\validation\\\\10593.jpg'"
      ]
     },
     "execution_count": 8,
     "metadata": {},
     "output_type": "execute_result"
    },
    {
     "data": {
      "text/plain": [
       "'C:\\\\Users\\\\steka\\\\Competition_Image_Classification\\\\MaskDataset\\\\validation\\\\16258.jpg'"
      ]
     },
     "execution_count": 8,
     "metadata": {},
     "output_type": "execute_result"
    },
    {
     "data": {
      "text/plain": [
       "'C:\\\\Users\\\\steka\\\\Competition_Image_Classification\\\\MaskDataset\\\\validation\\\\16821.jpg'"
      ]
     },
     "execution_count": 8,
     "metadata": {},
     "output_type": "execute_result"
    },
    {
     "data": {
      "text/plain": [
       "'C:\\\\Users\\\\steka\\\\Competition_Image_Classification\\\\MaskDataset\\\\validation\\\\16081.jpg'"
      ]
     },
     "execution_count": 8,
     "metadata": {},
     "output_type": "execute_result"
    },
    {
     "data": {
      "text/plain": [
       "'C:\\\\Users\\\\steka\\\\Competition_Image_Classification\\\\MaskDataset\\\\validation\\\\13512.jpg'"
      ]
     },
     "execution_count": 8,
     "metadata": {},
     "output_type": "execute_result"
    },
    {
     "data": {
      "text/plain": [
       "'C:\\\\Users\\\\steka\\\\Competition_Image_Classification\\\\MaskDataset\\\\validation\\\\13882.jpg'"
      ]
     },
     "execution_count": 8,
     "metadata": {},
     "output_type": "execute_result"
    },
    {
     "data": {
      "text/plain": [
       "'C:\\\\Users\\\\steka\\\\Competition_Image_Classification\\\\MaskDataset\\\\validation\\\\18044.jpg'"
      ]
     },
     "execution_count": 8,
     "metadata": {},
     "output_type": "execute_result"
    },
    {
     "data": {
      "text/plain": [
       "'C:\\\\Users\\\\steka\\\\Competition_Image_Classification\\\\MaskDataset\\\\validation\\\\16319.jpg'"
      ]
     },
     "execution_count": 8,
     "metadata": {},
     "output_type": "execute_result"
    },
    {
     "data": {
      "text/plain": [
       "'C:\\\\Users\\\\steka\\\\Competition_Image_Classification\\\\MaskDataset\\\\validation\\\\14992.jpg'"
      ]
     },
     "execution_count": 8,
     "metadata": {},
     "output_type": "execute_result"
    },
    {
     "data": {
      "text/plain": [
       "'C:\\\\Users\\\\steka\\\\Competition_Image_Classification\\\\MaskDataset\\\\validation\\\\14618.jpg'"
      ]
     },
     "execution_count": 8,
     "metadata": {},
     "output_type": "execute_result"
    },
    {
     "data": {
      "text/plain": [
       "'C:\\\\Users\\\\steka\\\\Competition_Image_Classification\\\\MaskDataset\\\\validation\\\\14408.jpg'"
      ]
     },
     "execution_count": 8,
     "metadata": {},
     "output_type": "execute_result"
    },
    {
     "data": {
      "text/plain": [
       "'C:\\\\Users\\\\steka\\\\Competition_Image_Classification\\\\MaskDataset\\\\validation\\\\10664.jpg'"
      ]
     },
     "execution_count": 8,
     "metadata": {},
     "output_type": "execute_result"
    },
    {
     "data": {
      "text/plain": [
       "'C:\\\\Users\\\\steka\\\\Competition_Image_Classification\\\\MaskDataset\\\\validation\\\\17724.jpg'"
      ]
     },
     "execution_count": 8,
     "metadata": {},
     "output_type": "execute_result"
    },
    {
     "data": {
      "text/plain": [
       "'C:\\\\Users\\\\steka\\\\Competition_Image_Classification\\\\MaskDataset\\\\validation\\\\12187.jpg'"
      ]
     },
     "execution_count": 8,
     "metadata": {},
     "output_type": "execute_result"
    },
    {
     "data": {
      "text/plain": [
       "'C:\\\\Users\\\\steka\\\\Competition_Image_Classification\\\\MaskDataset\\\\validation\\\\16513.jpg'"
      ]
     },
     "execution_count": 8,
     "metadata": {},
     "output_type": "execute_result"
    },
    {
     "data": {
      "text/plain": [
       "'C:\\\\Users\\\\steka\\\\Competition_Image_Classification\\\\MaskDataset\\\\validation\\\\17235.jpg'"
      ]
     },
     "execution_count": 8,
     "metadata": {},
     "output_type": "execute_result"
    },
    {
     "data": {
      "text/plain": [
       "'C:\\\\Users\\\\steka\\\\Competition_Image_Classification\\\\MaskDataset\\\\validation\\\\12829.jpg'"
      ]
     },
     "execution_count": 8,
     "metadata": {},
     "output_type": "execute_result"
    },
    {
     "data": {
      "text/plain": [
       "'C:\\\\Users\\\\steka\\\\Competition_Image_Classification\\\\MaskDataset\\\\validation\\\\11252.jpg'"
      ]
     },
     "execution_count": 8,
     "metadata": {},
     "output_type": "execute_result"
    },
    {
     "data": {
      "text/plain": [
       "'C:\\\\Users\\\\steka\\\\Competition_Image_Classification\\\\MaskDataset\\\\validation\\\\15632.jpg'"
      ]
     },
     "execution_count": 8,
     "metadata": {},
     "output_type": "execute_result"
    },
    {
     "data": {
      "text/plain": [
       "'C:\\\\Users\\\\steka\\\\Competition_Image_Classification\\\\MaskDataset\\\\validation\\\\15172.jpg'"
      ]
     },
     "execution_count": 8,
     "metadata": {},
     "output_type": "execute_result"
    },
    {
     "data": {
      "text/plain": [
       "'C:\\\\Users\\\\steka\\\\Competition_Image_Classification\\\\MaskDataset\\\\validation\\\\17470.jpg'"
      ]
     },
     "execution_count": 8,
     "metadata": {},
     "output_type": "execute_result"
    },
    {
     "data": {
      "text/plain": [
       "'C:\\\\Users\\\\steka\\\\Competition_Image_Classification\\\\MaskDataset\\\\validation\\\\16018.jpg'"
      ]
     },
     "execution_count": 8,
     "metadata": {},
     "output_type": "execute_result"
    },
    {
     "data": {
      "text/plain": [
       "'C:\\\\Users\\\\steka\\\\Competition_Image_Classification\\\\MaskDataset\\\\validation\\\\11343.jpg'"
      ]
     },
     "execution_count": 8,
     "metadata": {},
     "output_type": "execute_result"
    },
    {
     "data": {
      "text/plain": [
       "'C:\\\\Users\\\\steka\\\\Competition_Image_Classification\\\\MaskDataset\\\\validation\\\\17521.jpg'"
      ]
     },
     "execution_count": 8,
     "metadata": {},
     "output_type": "execute_result"
    },
    {
     "data": {
      "text/plain": [
       "'C:\\\\Users\\\\steka\\\\Competition_Image_Classification\\\\MaskDataset\\\\validation\\\\12598.jpg'"
      ]
     },
     "execution_count": 8,
     "metadata": {},
     "output_type": "execute_result"
    },
    {
     "data": {
      "text/plain": [
       "'C:\\\\Users\\\\steka\\\\Competition_Image_Classification\\\\MaskDataset\\\\validation\\\\15635.jpg'"
      ]
     },
     "execution_count": 8,
     "metadata": {},
     "output_type": "execute_result"
    },
    {
     "data": {
      "text/plain": [
       "'C:\\\\Users\\\\steka\\\\Competition_Image_Classification\\\\MaskDataset\\\\validation\\\\12002.jpg'"
      ]
     },
     "execution_count": 8,
     "metadata": {},
     "output_type": "execute_result"
    },
    {
     "data": {
      "text/plain": [
       "'C:\\\\Users\\\\steka\\\\Competition_Image_Classification\\\\MaskDataset\\\\validation\\\\15200.jpg'"
      ]
     },
     "execution_count": 8,
     "metadata": {},
     "output_type": "execute_result"
    },
    {
     "data": {
      "text/plain": [
       "'C:\\\\Users\\\\steka\\\\Competition_Image_Classification\\\\MaskDataset\\\\validation\\\\12568.jpg'"
      ]
     },
     "execution_count": 8,
     "metadata": {},
     "output_type": "execute_result"
    },
    {
     "data": {
      "text/plain": [
       "'C:\\\\Users\\\\steka\\\\Competition_Image_Classification\\\\MaskDataset\\\\validation\\\\17155.jpg'"
      ]
     },
     "execution_count": 8,
     "metadata": {},
     "output_type": "execute_result"
    },
    {
     "data": {
      "text/plain": [
       "'C:\\\\Users\\\\steka\\\\Competition_Image_Classification\\\\MaskDataset\\\\validation\\\\13727.jpg'"
      ]
     },
     "execution_count": 8,
     "metadata": {},
     "output_type": "execute_result"
    },
    {
     "data": {
      "text/plain": [
       "'C:\\\\Users\\\\steka\\\\Competition_Image_Classification\\\\MaskDataset\\\\validation\\\\15271.jpg'"
      ]
     },
     "execution_count": 8,
     "metadata": {},
     "output_type": "execute_result"
    },
    {
     "data": {
      "text/plain": [
       "'C:\\\\Users\\\\steka\\\\Competition_Image_Classification\\\\MaskDataset\\\\validation\\\\16500.jpg'"
      ]
     },
     "execution_count": 8,
     "metadata": {},
     "output_type": "execute_result"
    },
    {
     "data": {
      "text/plain": [
       "'C:\\\\Users\\\\steka\\\\Competition_Image_Classification\\\\MaskDataset\\\\validation\\\\15931.jpg'"
      ]
     },
     "execution_count": 8,
     "metadata": {},
     "output_type": "execute_result"
    },
    {
     "data": {
      "text/plain": [
       "'C:\\\\Users\\\\steka\\\\Competition_Image_Classification\\\\MaskDataset\\\\validation\\\\13913.jpg'"
      ]
     },
     "execution_count": 8,
     "metadata": {},
     "output_type": "execute_result"
    },
    {
     "data": {
      "text/plain": [
       "'C:\\\\Users\\\\steka\\\\Competition_Image_Classification\\\\MaskDataset\\\\validation\\\\15885.jpg'"
      ]
     },
     "execution_count": 8,
     "metadata": {},
     "output_type": "execute_result"
    },
    {
     "data": {
      "text/plain": [
       "'C:\\\\Users\\\\steka\\\\Competition_Image_Classification\\\\MaskDataset\\\\validation\\\\13397.jpg'"
      ]
     },
     "execution_count": 8,
     "metadata": {},
     "output_type": "execute_result"
    },
    {
     "data": {
      "text/plain": [
       "'C:\\\\Users\\\\steka\\\\Competition_Image_Classification\\\\MaskDataset\\\\validation\\\\15168.jpg'"
      ]
     },
     "execution_count": 8,
     "metadata": {},
     "output_type": "execute_result"
    },
    {
     "data": {
      "text/plain": [
       "'C:\\\\Users\\\\steka\\\\Competition_Image_Classification\\\\MaskDataset\\\\validation\\\\16554.jpg'"
      ]
     },
     "execution_count": 8,
     "metadata": {},
     "output_type": "execute_result"
    },
    {
     "data": {
      "text/plain": [
       "'C:\\\\Users\\\\steka\\\\Competition_Image_Classification\\\\MaskDataset\\\\validation\\\\10971.jpg'"
      ]
     },
     "execution_count": 8,
     "metadata": {},
     "output_type": "execute_result"
    },
    {
     "data": {
      "text/plain": [
       "'C:\\\\Users\\\\steka\\\\Competition_Image_Classification\\\\MaskDataset\\\\validation\\\\17759.jpg'"
      ]
     },
     "execution_count": 8,
     "metadata": {},
     "output_type": "execute_result"
    },
    {
     "data": {
      "text/plain": [
       "'C:\\\\Users\\\\steka\\\\Competition_Image_Classification\\\\MaskDataset\\\\validation\\\\10758.jpg'"
      ]
     },
     "execution_count": 8,
     "metadata": {},
     "output_type": "execute_result"
    },
    {
     "data": {
      "text/plain": [
       "'C:\\\\Users\\\\steka\\\\Competition_Image_Classification\\\\MaskDataset\\\\validation\\\\11327.jpg'"
      ]
     },
     "execution_count": 8,
     "metadata": {},
     "output_type": "execute_result"
    },
    {
     "data": {
      "text/plain": [
       "'C:\\\\Users\\\\steka\\\\Competition_Image_Classification\\\\MaskDataset\\\\validation\\\\12577.jpg'"
      ]
     },
     "execution_count": 8,
     "metadata": {},
     "output_type": "execute_result"
    },
    {
     "data": {
      "text/plain": [
       "'C:\\\\Users\\\\steka\\\\Competition_Image_Classification\\\\MaskDataset\\\\validation\\\\12983.jpg'"
      ]
     },
     "execution_count": 8,
     "metadata": {},
     "output_type": "execute_result"
    },
    {
     "data": {
      "text/plain": [
       "'C:\\\\Users\\\\steka\\\\Competition_Image_Classification\\\\MaskDataset\\\\validation\\\\15235.jpg'"
      ]
     },
     "execution_count": 8,
     "metadata": {},
     "output_type": "execute_result"
    },
    {
     "data": {
      "text/plain": [
       "'C:\\\\Users\\\\steka\\\\Competition_Image_Classification\\\\MaskDataset\\\\validation\\\\15994.jpg'"
      ]
     },
     "execution_count": 8,
     "metadata": {},
     "output_type": "execute_result"
    },
    {
     "data": {
      "text/plain": [
       "'C:\\\\Users\\\\steka\\\\Competition_Image_Classification\\\\MaskDataset\\\\validation\\\\13626.jpg'"
      ]
     },
     "execution_count": 8,
     "metadata": {},
     "output_type": "execute_result"
    },
    {
     "data": {
      "text/plain": [
       "'C:\\\\Users\\\\steka\\\\Competition_Image_Classification\\\\MaskDataset\\\\validation\\\\16393.jpg'"
      ]
     },
     "execution_count": 8,
     "metadata": {},
     "output_type": "execute_result"
    },
    {
     "data": {
      "text/plain": [
       "'C:\\\\Users\\\\steka\\\\Competition_Image_Classification\\\\MaskDataset\\\\validation\\\\10655.jpg'"
      ]
     },
     "execution_count": 8,
     "metadata": {},
     "output_type": "execute_result"
    },
    {
     "data": {
      "text/plain": [
       "'C:\\\\Users\\\\steka\\\\Competition_Image_Classification\\\\MaskDataset\\\\validation\\\\14022.jpg'"
      ]
     },
     "execution_count": 8,
     "metadata": {},
     "output_type": "execute_result"
    },
    {
     "data": {
      "text/plain": [
       "'C:\\\\Users\\\\steka\\\\Competition_Image_Classification\\\\MaskDataset\\\\validation\\\\13741.jpg'"
      ]
     },
     "execution_count": 8,
     "metadata": {},
     "output_type": "execute_result"
    },
    {
     "data": {
      "text/plain": [
       "'C:\\\\Users\\\\steka\\\\Competition_Image_Classification\\\\MaskDataset\\\\validation\\\\16020.jpg'"
      ]
     },
     "execution_count": 8,
     "metadata": {},
     "output_type": "execute_result"
    },
    {
     "data": {
      "text/plain": [
       "'C:\\\\Users\\\\steka\\\\Competition_Image_Classification\\\\MaskDataset\\\\validation\\\\14829.jpg'"
      ]
     },
     "execution_count": 8,
     "metadata": {},
     "output_type": "execute_result"
    },
    {
     "data": {
      "text/plain": [
       "'C:\\\\Users\\\\steka\\\\Competition_Image_Classification\\\\MaskDataset\\\\validation\\\\16069.jpg'"
      ]
     },
     "execution_count": 8,
     "metadata": {},
     "output_type": "execute_result"
    },
    {
     "data": {
      "text/plain": [
       "'C:\\\\Users\\\\steka\\\\Competition_Image_Classification\\\\MaskDataset\\\\validation\\\\17834.jpg'"
      ]
     },
     "execution_count": 8,
     "metadata": {},
     "output_type": "execute_result"
    },
    {
     "data": {
      "text/plain": [
       "'C:\\\\Users\\\\steka\\\\Competition_Image_Classification\\\\MaskDataset\\\\validation\\\\13952.jpg'"
      ]
     },
     "execution_count": 8,
     "metadata": {},
     "output_type": "execute_result"
    },
    {
     "data": {
      "text/plain": [
       "'C:\\\\Users\\\\steka\\\\Competition_Image_Classification\\\\MaskDataset\\\\validation\\\\15433.jpg'"
      ]
     },
     "execution_count": 8,
     "metadata": {},
     "output_type": "execute_result"
    },
    {
     "data": {
      "text/plain": [
       "'C:\\\\Users\\\\steka\\\\Competition_Image_Classification\\\\MaskDataset\\\\validation\\\\14164.jpg'"
      ]
     },
     "execution_count": 8,
     "metadata": {},
     "output_type": "execute_result"
    },
    {
     "data": {
      "text/plain": [
       "'C:\\\\Users\\\\steka\\\\Competition_Image_Classification\\\\MaskDataset\\\\validation\\\\12370.jpg'"
      ]
     },
     "execution_count": 8,
     "metadata": {},
     "output_type": "execute_result"
    },
    {
     "data": {
      "text/plain": [
       "'C:\\\\Users\\\\steka\\\\Competition_Image_Classification\\\\MaskDataset\\\\validation\\\\17374.jpg'"
      ]
     },
     "execution_count": 8,
     "metadata": {},
     "output_type": "execute_result"
    },
    {
     "data": {
      "text/plain": [
       "'C:\\\\Users\\\\steka\\\\Competition_Image_Classification\\\\MaskDataset\\\\validation\\\\10769.jpg'"
      ]
     },
     "execution_count": 8,
     "metadata": {},
     "output_type": "execute_result"
    },
    {
     "data": {
      "text/plain": [
       "'C:\\\\Users\\\\steka\\\\Competition_Image_Classification\\\\MaskDataset\\\\validation\\\\14161.jpg'"
      ]
     },
     "execution_count": 8,
     "metadata": {},
     "output_type": "execute_result"
    },
    {
     "data": {
      "text/plain": [
       "'C:\\\\Users\\\\steka\\\\Competition_Image_Classification\\\\MaskDataset\\\\validation\\\\18059.jpg'"
      ]
     },
     "execution_count": 8,
     "metadata": {},
     "output_type": "execute_result"
    },
    {
     "data": {
      "text/plain": [
       "'C:\\\\Users\\\\steka\\\\Competition_Image_Classification\\\\MaskDataset\\\\validation\\\\17857.jpg'"
      ]
     },
     "execution_count": 8,
     "metadata": {},
     "output_type": "execute_result"
    },
    {
     "data": {
      "text/plain": [
       "'C:\\\\Users\\\\steka\\\\Competition_Image_Classification\\\\MaskDataset\\\\validation\\\\18164.jpg'"
      ]
     },
     "execution_count": 8,
     "metadata": {},
     "output_type": "execute_result"
    },
    {
     "data": {
      "text/plain": [
       "'C:\\\\Users\\\\steka\\\\Competition_Image_Classification\\\\MaskDataset\\\\validation\\\\13154.jpg'"
      ]
     },
     "execution_count": 8,
     "metadata": {},
     "output_type": "execute_result"
    },
    {
     "data": {
      "text/plain": [
       "'C:\\\\Users\\\\steka\\\\Competition_Image_Classification\\\\MaskDataset\\\\validation\\\\16651.jpg'"
      ]
     },
     "execution_count": 8,
     "metadata": {},
     "output_type": "execute_result"
    },
    {
     "data": {
      "text/plain": [
       "'C:\\\\Users\\\\steka\\\\Competition_Image_Classification\\\\MaskDataset\\\\validation\\\\16243.jpg'"
      ]
     },
     "execution_count": 8,
     "metadata": {},
     "output_type": "execute_result"
    },
    {
     "data": {
      "text/plain": [
       "'C:\\\\Users\\\\steka\\\\Competition_Image_Classification\\\\MaskDataset\\\\validation\\\\10974.jpg'"
      ]
     },
     "execution_count": 8,
     "metadata": {},
     "output_type": "execute_result"
    },
    {
     "data": {
      "text/plain": [
       "'C:\\\\Users\\\\steka\\\\Competition_Image_Classification\\\\MaskDataset\\\\validation\\\\16805.jpg'"
      ]
     },
     "execution_count": 8,
     "metadata": {},
     "output_type": "execute_result"
    },
    {
     "data": {
      "text/plain": [
       "'C:\\\\Users\\\\steka\\\\Competition_Image_Classification\\\\MaskDataset\\\\validation\\\\14496.jpg'"
      ]
     },
     "execution_count": 8,
     "metadata": {},
     "output_type": "execute_result"
    },
    {
     "data": {
      "text/plain": [
       "'C:\\\\Users\\\\steka\\\\Competition_Image_Classification\\\\MaskDataset\\\\validation\\\\14053.jpg'"
      ]
     },
     "execution_count": 8,
     "metadata": {},
     "output_type": "execute_result"
    },
    {
     "data": {
      "text/plain": [
       "'C:\\\\Users\\\\steka\\\\Competition_Image_Classification\\\\MaskDataset\\\\validation\\\\16757.jpg'"
      ]
     },
     "execution_count": 8,
     "metadata": {},
     "output_type": "execute_result"
    },
    {
     "data": {
      "text/plain": [
       "'C:\\\\Users\\\\steka\\\\Competition_Image_Classification\\\\MaskDataset\\\\validation\\\\16792.jpg'"
      ]
     },
     "execution_count": 8,
     "metadata": {},
     "output_type": "execute_result"
    },
    {
     "data": {
      "text/plain": [
       "'C:\\\\Users\\\\steka\\\\Competition_Image_Classification\\\\MaskDataset\\\\validation\\\\12819.jpg'"
      ]
     },
     "execution_count": 8,
     "metadata": {},
     "output_type": "execute_result"
    },
    {
     "data": {
      "text/plain": [
       "'C:\\\\Users\\\\steka\\\\Competition_Image_Classification\\\\MaskDataset\\\\validation\\\\12648.jpg'"
      ]
     },
     "execution_count": 8,
     "metadata": {},
     "output_type": "execute_result"
    },
    {
     "data": {
      "text/plain": [
       "'C:\\\\Users\\\\steka\\\\Competition_Image_Classification\\\\MaskDataset\\\\validation\\\\17221.jpg'"
      ]
     },
     "execution_count": 8,
     "metadata": {},
     "output_type": "execute_result"
    },
    {
     "data": {
      "text/plain": [
       "'C:\\\\Users\\\\steka\\\\Competition_Image_Classification\\\\MaskDataset\\\\validation\\\\12830.jpg'"
      ]
     },
     "execution_count": 8,
     "metadata": {},
     "output_type": "execute_result"
    },
    {
     "data": {
      "text/plain": [
       "'C:\\\\Users\\\\steka\\\\Competition_Image_Classification\\\\MaskDataset\\\\validation\\\\10559.jpg'"
      ]
     },
     "execution_count": 8,
     "metadata": {},
     "output_type": "execute_result"
    },
    {
     "data": {
      "text/plain": [
       "'C:\\\\Users\\\\steka\\\\Competition_Image_Classification\\\\MaskDataset\\\\validation\\\\15589.jpg'"
      ]
     },
     "execution_count": 8,
     "metadata": {},
     "output_type": "execute_result"
    },
    {
     "data": {
      "text/plain": [
       "'C:\\\\Users\\\\steka\\\\Competition_Image_Classification\\\\MaskDataset\\\\validation\\\\11040.jpg'"
      ]
     },
     "execution_count": 8,
     "metadata": {},
     "output_type": "execute_result"
    },
    {
     "data": {
      "text/plain": [
       "'C:\\\\Users\\\\steka\\\\Competition_Image_Classification\\\\MaskDataset\\\\validation\\\\15018.jpg'"
      ]
     },
     "execution_count": 8,
     "metadata": {},
     "output_type": "execute_result"
    },
    {
     "data": {
      "text/plain": [
       "'C:\\\\Users\\\\steka\\\\Competition_Image_Classification\\\\MaskDataset\\\\validation\\\\17263.jpg'"
      ]
     },
     "execution_count": 8,
     "metadata": {},
     "output_type": "execute_result"
    },
    {
     "data": {
      "text/plain": [
       "'C:\\\\Users\\\\steka\\\\Competition_Image_Classification\\\\MaskDataset\\\\validation\\\\10984.jpg'"
      ]
     },
     "execution_count": 8,
     "metadata": {},
     "output_type": "execute_result"
    },
    {
     "data": {
      "text/plain": [
       "'C:\\\\Users\\\\steka\\\\Competition_Image_Classification\\\\MaskDataset\\\\validation\\\\10573.jpg'"
      ]
     },
     "execution_count": 8,
     "metadata": {},
     "output_type": "execute_result"
    },
    {
     "data": {
      "text/plain": [
       "'C:\\\\Users\\\\steka\\\\Competition_Image_Classification\\\\MaskDataset\\\\validation\\\\14334.jpg'"
      ]
     },
     "execution_count": 8,
     "metadata": {},
     "output_type": "execute_result"
    },
    {
     "data": {
      "text/plain": [
       "'C:\\\\Users\\\\steka\\\\Competition_Image_Classification\\\\MaskDataset\\\\validation\\\\13361.jpg'"
      ]
     },
     "execution_count": 8,
     "metadata": {},
     "output_type": "execute_result"
    },
    {
     "data": {
      "text/plain": [
       "'C:\\\\Users\\\\steka\\\\Competition_Image_Classification\\\\MaskDataset\\\\validation\\\\11336.jpg'"
      ]
     },
     "execution_count": 8,
     "metadata": {},
     "output_type": "execute_result"
    },
    {
     "data": {
      "text/plain": [
       "'C:\\\\Users\\\\steka\\\\Competition_Image_Classification\\\\MaskDataset\\\\validation\\\\10905.jpg'"
      ]
     },
     "execution_count": 8,
     "metadata": {},
     "output_type": "execute_result"
    },
    {
     "data": {
      "text/plain": [
       "'C:\\\\Users\\\\steka\\\\Competition_Image_Classification\\\\MaskDataset\\\\validation\\\\10838.jpg'"
      ]
     },
     "execution_count": 8,
     "metadata": {},
     "output_type": "execute_result"
    },
    {
     "data": {
      "text/plain": [
       "'C:\\\\Users\\\\steka\\\\Competition_Image_Classification\\\\MaskDataset\\\\validation\\\\12150.jpg'"
      ]
     },
     "execution_count": 8,
     "metadata": {},
     "output_type": "execute_result"
    },
    {
     "data": {
      "text/plain": [
       "'C:\\\\Users\\\\steka\\\\Competition_Image_Classification\\\\MaskDataset\\\\validation\\\\14636.jpg'"
      ]
     },
     "execution_count": 8,
     "metadata": {},
     "output_type": "execute_result"
    },
    {
     "data": {
      "text/plain": [
       "'C:\\\\Users\\\\steka\\\\Competition_Image_Classification\\\\MaskDataset\\\\validation\\\\15102.jpg'"
      ]
     },
     "execution_count": 8,
     "metadata": {},
     "output_type": "execute_result"
    },
    {
     "data": {
      "text/plain": [
       "'C:\\\\Users\\\\steka\\\\Competition_Image_Classification\\\\MaskDataset\\\\validation\\\\15819.jpg'"
      ]
     },
     "execution_count": 8,
     "metadata": {},
     "output_type": "execute_result"
    },
    {
     "data": {
      "text/plain": [
       "'C:\\\\Users\\\\steka\\\\Competition_Image_Classification\\\\MaskDataset\\\\validation\\\\13078.jpg'"
      ]
     },
     "execution_count": 8,
     "metadata": {},
     "output_type": "execute_result"
    },
    {
     "data": {
      "text/plain": [
       "'C:\\\\Users\\\\steka\\\\Competition_Image_Classification\\\\MaskDataset\\\\validation\\\\14555.jpg'"
      ]
     },
     "execution_count": 8,
     "metadata": {},
     "output_type": "execute_result"
    },
    {
     "data": {
      "text/plain": [
       "'C:\\\\Users\\\\steka\\\\Competition_Image_Classification\\\\MaskDataset\\\\validation\\\\13865.jpg'"
      ]
     },
     "execution_count": 8,
     "metadata": {},
     "output_type": "execute_result"
    },
    {
     "data": {
      "text/plain": [
       "'C:\\\\Users\\\\steka\\\\Competition_Image_Classification\\\\MaskDataset\\\\validation\\\\13260.jpg'"
      ]
     },
     "execution_count": 8,
     "metadata": {},
     "output_type": "execute_result"
    },
    {
     "data": {
      "text/plain": [
       "'C:\\\\Users\\\\steka\\\\Competition_Image_Classification\\\\MaskDataset\\\\validation\\\\15809.jpg'"
      ]
     },
     "execution_count": 8,
     "metadata": {},
     "output_type": "execute_result"
    },
    {
     "data": {
      "text/plain": [
       "'C:\\\\Users\\\\steka\\\\Competition_Image_Classification\\\\MaskDataset\\\\validation\\\\14041.jpg'"
      ]
     },
     "execution_count": 8,
     "metadata": {},
     "output_type": "execute_result"
    },
    {
     "data": {
      "text/plain": [
       "'C:\\\\Users\\\\steka\\\\Competition_Image_Classification\\\\MaskDataset\\\\validation\\\\14451.jpg'"
      ]
     },
     "execution_count": 8,
     "metadata": {},
     "output_type": "execute_result"
    },
    {
     "data": {
      "text/plain": [
       "'C:\\\\Users\\\\steka\\\\Competition_Image_Classification\\\\MaskDataset\\\\validation\\\\14397.jpg'"
      ]
     },
     "execution_count": 8,
     "metadata": {},
     "output_type": "execute_result"
    },
    {
     "data": {
      "text/plain": [
       "'C:\\\\Users\\\\steka\\\\Competition_Image_Classification\\\\MaskDataset\\\\validation\\\\12899.jpg'"
      ]
     },
     "execution_count": 8,
     "metadata": {},
     "output_type": "execute_result"
    },
    {
     "data": {
      "text/plain": [
       "'C:\\\\Users\\\\steka\\\\Competition_Image_Classification\\\\MaskDataset\\\\validation\\\\10722.jpg'"
      ]
     },
     "execution_count": 8,
     "metadata": {},
     "output_type": "execute_result"
    },
    {
     "data": {
      "text/plain": [
       "'C:\\\\Users\\\\steka\\\\Competition_Image_Classification\\\\MaskDataset\\\\validation\\\\13589.jpg'"
      ]
     },
     "execution_count": 8,
     "metadata": {},
     "output_type": "execute_result"
    },
    {
     "data": {
      "text/plain": [
       "'C:\\\\Users\\\\steka\\\\Competition_Image_Classification\\\\MaskDataset\\\\validation\\\\11436.jpg'"
      ]
     },
     "execution_count": 8,
     "metadata": {},
     "output_type": "execute_result"
    },
    {
     "data": {
      "text/plain": [
       "'C:\\\\Users\\\\steka\\\\Competition_Image_Classification\\\\MaskDataset\\\\validation\\\\14278.jpg'"
      ]
     },
     "execution_count": 8,
     "metadata": {},
     "output_type": "execute_result"
    },
    {
     "data": {
      "text/plain": [
       "'C:\\\\Users\\\\steka\\\\Competition_Image_Classification\\\\MaskDataset\\\\validation\\\\12857.jpg'"
      ]
     },
     "execution_count": 8,
     "metadata": {},
     "output_type": "execute_result"
    },
    {
     "data": {
      "text/plain": [
       "'C:\\\\Users\\\\steka\\\\Competition_Image_Classification\\\\MaskDataset\\\\validation\\\\14346.jpg'"
      ]
     },
     "execution_count": 8,
     "metadata": {},
     "output_type": "execute_result"
    },
    {
     "data": {
      "text/plain": [
       "'C:\\\\Users\\\\steka\\\\Competition_Image_Classification\\\\MaskDataset\\\\validation\\\\10945.jpg'"
      ]
     },
     "execution_count": 8,
     "metadata": {},
     "output_type": "execute_result"
    },
    {
     "data": {
      "text/plain": [
       "'C:\\\\Users\\\\steka\\\\Competition_Image_Classification\\\\MaskDataset\\\\validation\\\\12368.jpg'"
      ]
     },
     "execution_count": 8,
     "metadata": {},
     "output_type": "execute_result"
    },
    {
     "data": {
      "text/plain": [
       "'C:\\\\Users\\\\steka\\\\Competition_Image_Classification\\\\MaskDataset\\\\validation\\\\13864.jpg'"
      ]
     },
     "execution_count": 8,
     "metadata": {},
     "output_type": "execute_result"
    },
    {
     "data": {
      "text/plain": [
       "'C:\\\\Users\\\\steka\\\\Competition_Image_Classification\\\\MaskDataset\\\\validation\\\\12233.jpg'"
      ]
     },
     "execution_count": 8,
     "metadata": {},
     "output_type": "execute_result"
    },
    {
     "data": {
      "text/plain": [
       "'C:\\\\Users\\\\steka\\\\Competition_Image_Classification\\\\MaskDataset\\\\validation\\\\15483.jpg'"
      ]
     },
     "execution_count": 8,
     "metadata": {},
     "output_type": "execute_result"
    },
    {
     "data": {
      "text/plain": [
       "'C:\\\\Users\\\\steka\\\\Competition_Image_Classification\\\\MaskDataset\\\\validation\\\\11595.jpg'"
      ]
     },
     "execution_count": 8,
     "metadata": {},
     "output_type": "execute_result"
    },
    {
     "data": {
      "text/plain": [
       "'C:\\\\Users\\\\steka\\\\Competition_Image_Classification\\\\MaskDataset\\\\validation\\\\16940.jpg'"
      ]
     },
     "execution_count": 8,
     "metadata": {},
     "output_type": "execute_result"
    },
    {
     "data": {
      "text/plain": [
       "'C:\\\\Users\\\\steka\\\\Competition_Image_Classification\\\\MaskDataset\\\\validation\\\\13481.jpg'"
      ]
     },
     "execution_count": 8,
     "metadata": {},
     "output_type": "execute_result"
    },
    {
     "data": {
      "text/plain": [
       "'C:\\\\Users\\\\steka\\\\Competition_Image_Classification\\\\MaskDataset\\\\validation\\\\11491.jpg'"
      ]
     },
     "execution_count": 8,
     "metadata": {},
     "output_type": "execute_result"
    },
    {
     "data": {
      "text/plain": [
       "'C:\\\\Users\\\\steka\\\\Competition_Image_Classification\\\\MaskDataset\\\\validation\\\\17159.jpg'"
      ]
     },
     "execution_count": 8,
     "metadata": {},
     "output_type": "execute_result"
    },
    {
     "data": {
      "text/plain": [
       "'C:\\\\Users\\\\steka\\\\Competition_Image_Classification\\\\MaskDataset\\\\validation\\\\14675.jpg'"
      ]
     },
     "execution_count": 8,
     "metadata": {},
     "output_type": "execute_result"
    },
    {
     "data": {
      "text/plain": [
       "'C:\\\\Users\\\\steka\\\\Competition_Image_Classification\\\\MaskDataset\\\\validation\\\\14963.jpg'"
      ]
     },
     "execution_count": 8,
     "metadata": {},
     "output_type": "execute_result"
    },
    {
     "data": {
      "text/plain": [
       "'C:\\\\Users\\\\steka\\\\Competition_Image_Classification\\\\MaskDataset\\\\validation\\\\11896.jpg'"
      ]
     },
     "execution_count": 8,
     "metadata": {},
     "output_type": "execute_result"
    },
    {
     "data": {
      "text/plain": [
       "'C:\\\\Users\\\\steka\\\\Competition_Image_Classification\\\\MaskDataset\\\\validation\\\\16683.jpg'"
      ]
     },
     "execution_count": 8,
     "metadata": {},
     "output_type": "execute_result"
    },
    {
     "data": {
      "text/plain": [
       "'C:\\\\Users\\\\steka\\\\Competition_Image_Classification\\\\MaskDataset\\\\validation\\\\14300.jpg'"
      ]
     },
     "execution_count": 8,
     "metadata": {},
     "output_type": "execute_result"
    },
    {
     "data": {
      "text/plain": [
       "'C:\\\\Users\\\\steka\\\\Competition_Image_Classification\\\\MaskDataset\\\\validation\\\\12909.jpg'"
      ]
     },
     "execution_count": 8,
     "metadata": {},
     "output_type": "execute_result"
    },
    {
     "data": {
      "text/plain": [
       "'C:\\\\Users\\\\steka\\\\Competition_Image_Classification\\\\MaskDataset\\\\validation\\\\11084.jpg'"
      ]
     },
     "execution_count": 8,
     "metadata": {},
     "output_type": "execute_result"
    },
    {
     "data": {
      "text/plain": [
       "'C:\\\\Users\\\\steka\\\\Competition_Image_Classification\\\\MaskDataset\\\\validation\\\\10403.jpg'"
      ]
     },
     "execution_count": 8,
     "metadata": {},
     "output_type": "execute_result"
    },
    {
     "data": {
      "text/plain": [
       "'C:\\\\Users\\\\steka\\\\Competition_Image_Classification\\\\MaskDataset\\\\validation\\\\15842.jpg'"
      ]
     },
     "execution_count": 8,
     "metadata": {},
     "output_type": "execute_result"
    },
    {
     "data": {
      "text/plain": [
       "'C:\\\\Users\\\\steka\\\\Competition_Image_Classification\\\\MaskDataset\\\\validation\\\\10380.jpg'"
      ]
     },
     "execution_count": 8,
     "metadata": {},
     "output_type": "execute_result"
    },
    {
     "data": {
      "text/plain": [
       "'C:\\\\Users\\\\steka\\\\Competition_Image_Classification\\\\MaskDataset\\\\validation\\\\14433.jpg'"
      ]
     },
     "execution_count": 8,
     "metadata": {},
     "output_type": "execute_result"
    },
    {
     "data": {
      "text/plain": [
       "'C:\\\\Users\\\\steka\\\\Competition_Image_Classification\\\\MaskDataset\\\\validation\\\\15449.jpg'"
      ]
     },
     "execution_count": 8,
     "metadata": {},
     "output_type": "execute_result"
    },
    {
     "data": {
      "text/plain": [
       "'C:\\\\Users\\\\steka\\\\Competition_Image_Classification\\\\MaskDataset\\\\validation\\\\15060.jpg'"
      ]
     },
     "execution_count": 8,
     "metadata": {},
     "output_type": "execute_result"
    },
    {
     "data": {
      "text/plain": [
       "'C:\\\\Users\\\\steka\\\\Competition_Image_Classification\\\\MaskDataset\\\\validation\\\\17185.jpg'"
      ]
     },
     "execution_count": 8,
     "metadata": {},
     "output_type": "execute_result"
    },
    {
     "data": {
      "text/plain": [
       "'C:\\\\Users\\\\steka\\\\Competition_Image_Classification\\\\MaskDataset\\\\validation\\\\13579.jpg'"
      ]
     },
     "execution_count": 8,
     "metadata": {},
     "output_type": "execute_result"
    },
    {
     "data": {
      "text/plain": [
       "'C:\\\\Users\\\\steka\\\\Competition_Image_Classification\\\\MaskDataset\\\\validation\\\\11125.jpg'"
      ]
     },
     "execution_count": 8,
     "metadata": {},
     "output_type": "execute_result"
    },
    {
     "data": {
      "text/plain": [
       "'C:\\\\Users\\\\steka\\\\Competition_Image_Classification\\\\MaskDataset\\\\validation\\\\10236.jpg'"
      ]
     },
     "execution_count": 8,
     "metadata": {},
     "output_type": "execute_result"
    },
    {
     "data": {
      "text/plain": [
       "'C:\\\\Users\\\\steka\\\\Competition_Image_Classification\\\\MaskDataset\\\\validation\\\\16346.jpg'"
      ]
     },
     "execution_count": 8,
     "metadata": {},
     "output_type": "execute_result"
    },
    {
     "data": {
      "text/plain": [
       "'C:\\\\Users\\\\steka\\\\Competition_Image_Classification\\\\MaskDataset\\\\validation\\\\17005.jpg'"
      ]
     },
     "execution_count": 8,
     "metadata": {},
     "output_type": "execute_result"
    },
    {
     "data": {
      "text/plain": [
       "'C:\\\\Users\\\\steka\\\\Competition_Image_Classification\\\\MaskDataset\\\\validation\\\\15313.jpg'"
      ]
     },
     "execution_count": 8,
     "metadata": {},
     "output_type": "execute_result"
    },
    {
     "data": {
      "text/plain": [
       "'C:\\\\Users\\\\steka\\\\Competition_Image_Classification\\\\MaskDataset\\\\validation\\\\16578.jpg'"
      ]
     },
     "execution_count": 8,
     "metadata": {},
     "output_type": "execute_result"
    },
    {
     "data": {
      "text/plain": [
       "'C:\\\\Users\\\\steka\\\\Competition_Image_Classification\\\\MaskDataset\\\\validation\\\\14275.jpg'"
      ]
     },
     "execution_count": 8,
     "metadata": {},
     "output_type": "execute_result"
    },
    {
     "data": {
      "text/plain": [
       "'C:\\\\Users\\\\steka\\\\Competition_Image_Classification\\\\MaskDataset\\\\validation\\\\15393.jpg'"
      ]
     },
     "execution_count": 8,
     "metadata": {},
     "output_type": "execute_result"
    },
    {
     "data": {
      "text/plain": [
       "'C:\\\\Users\\\\steka\\\\Competition_Image_Classification\\\\MaskDataset\\\\validation\\\\14629.jpg'"
      ]
     },
     "execution_count": 8,
     "metadata": {},
     "output_type": "execute_result"
    },
    {
     "data": {
      "text/plain": [
       "'C:\\\\Users\\\\steka\\\\Competition_Image_Classification\\\\MaskDataset\\\\validation\\\\13272.jpg'"
      ]
     },
     "execution_count": 8,
     "metadata": {},
     "output_type": "execute_result"
    },
    {
     "data": {
      "text/plain": [
       "'C:\\\\Users\\\\steka\\\\Competition_Image_Classification\\\\MaskDataset\\\\validation\\\\14075.jpg'"
      ]
     },
     "execution_count": 8,
     "metadata": {},
     "output_type": "execute_result"
    },
    {
     "data": {
      "text/plain": [
       "'C:\\\\Users\\\\steka\\\\Competition_Image_Classification\\\\MaskDataset\\\\validation\\\\11079.jpg'"
      ]
     },
     "execution_count": 8,
     "metadata": {},
     "output_type": "execute_result"
    },
    {
     "data": {
      "text/plain": [
       "'C:\\\\Users\\\\steka\\\\Competition_Image_Classification\\\\MaskDataset\\\\validation\\\\14125.jpg'"
      ]
     },
     "execution_count": 8,
     "metadata": {},
     "output_type": "execute_result"
    },
    {
     "data": {
      "text/plain": [
       "'C:\\\\Users\\\\steka\\\\Competition_Image_Classification\\\\MaskDataset\\\\validation\\\\11806.jpg'"
      ]
     },
     "execution_count": 8,
     "metadata": {},
     "output_type": "execute_result"
    },
    {
     "data": {
      "text/plain": [
       "'C:\\\\Users\\\\steka\\\\Competition_Image_Classification\\\\MaskDataset\\\\validation\\\\18201.jpg'"
      ]
     },
     "execution_count": 8,
     "metadata": {},
     "output_type": "execute_result"
    },
    {
     "data": {
      "text/plain": [
       "'C:\\\\Users\\\\steka\\\\Competition_Image_Classification\\\\MaskDataset\\\\validation\\\\14663.jpg'"
      ]
     },
     "execution_count": 8,
     "metadata": {},
     "output_type": "execute_result"
    },
    {
     "data": {
      "text/plain": [
       "'C:\\\\Users\\\\steka\\\\Competition_Image_Classification\\\\MaskDataset\\\\validation\\\\12569.jpg'"
      ]
     },
     "execution_count": 8,
     "metadata": {},
     "output_type": "execute_result"
    },
    {
     "data": {
      "text/plain": [
       "'C:\\\\Users\\\\steka\\\\Competition_Image_Classification\\\\MaskDataset\\\\validation\\\\15305.jpg'"
      ]
     },
     "execution_count": 8,
     "metadata": {},
     "output_type": "execute_result"
    },
    {
     "data": {
      "text/plain": [
       "'C:\\\\Users\\\\steka\\\\Competition_Image_Classification\\\\MaskDataset\\\\validation\\\\13163.jpg'"
      ]
     },
     "execution_count": 8,
     "metadata": {},
     "output_type": "execute_result"
    },
    {
     "data": {
      "text/plain": [
       "'C:\\\\Users\\\\steka\\\\Competition_Image_Classification\\\\MaskDataset\\\\validation\\\\10449.jpg'"
      ]
     },
     "execution_count": 8,
     "metadata": {},
     "output_type": "execute_result"
    },
    {
     "data": {
      "text/plain": [
       "'C:\\\\Users\\\\steka\\\\Competition_Image_Classification\\\\MaskDataset\\\\validation\\\\13245.jpg'"
      ]
     },
     "execution_count": 8,
     "metadata": {},
     "output_type": "execute_result"
    },
    {
     "data": {
      "text/plain": [
       "'C:\\\\Users\\\\steka\\\\Competition_Image_Classification\\\\MaskDataset\\\\validation\\\\14325.jpg'"
      ]
     },
     "execution_count": 8,
     "metadata": {},
     "output_type": "execute_result"
    },
    {
     "data": {
      "text/plain": [
       "'C:\\\\Users\\\\steka\\\\Competition_Image_Classification\\\\MaskDataset\\\\validation\\\\17932.jpg'"
      ]
     },
     "execution_count": 8,
     "metadata": {},
     "output_type": "execute_result"
    },
    {
     "data": {
      "text/plain": [
       "'C:\\\\Users\\\\steka\\\\Competition_Image_Classification\\\\MaskDataset\\\\validation\\\\17466.jpg'"
      ]
     },
     "execution_count": 8,
     "metadata": {},
     "output_type": "execute_result"
    },
    {
     "data": {
      "text/plain": [
       "'C:\\\\Users\\\\steka\\\\Competition_Image_Classification\\\\MaskDataset\\\\validation\\\\13850.jpg'"
      ]
     },
     "execution_count": 8,
     "metadata": {},
     "output_type": "execute_result"
    },
    {
     "data": {
      "text/plain": [
       "'C:\\\\Users\\\\steka\\\\Competition_Image_Classification\\\\MaskDataset\\\\validation\\\\12816.jpg'"
      ]
     },
     "execution_count": 8,
     "metadata": {},
     "output_type": "execute_result"
    },
    {
     "data": {
      "text/plain": [
       "'C:\\\\Users\\\\steka\\\\Competition_Image_Classification\\\\MaskDataset\\\\validation\\\\17021.jpg'"
      ]
     },
     "execution_count": 8,
     "metadata": {},
     "output_type": "execute_result"
    },
    {
     "data": {
      "text/plain": [
       "'C:\\\\Users\\\\steka\\\\Competition_Image_Classification\\\\MaskDataset\\\\validation\\\\13599.jpg'"
      ]
     },
     "execution_count": 8,
     "metadata": {},
     "output_type": "execute_result"
    },
    {
     "data": {
      "text/plain": [
       "'C:\\\\Users\\\\steka\\\\Competition_Image_Classification\\\\MaskDataset\\\\validation\\\\16182.jpg'"
      ]
     },
     "execution_count": 8,
     "metadata": {},
     "output_type": "execute_result"
    },
    {
     "data": {
      "text/plain": [
       "'C:\\\\Users\\\\steka\\\\Competition_Image_Classification\\\\MaskDataset\\\\validation\\\\11750.jpg'"
      ]
     },
     "execution_count": 8,
     "metadata": {},
     "output_type": "execute_result"
    },
    {
     "data": {
      "text/plain": [
       "'C:\\\\Users\\\\steka\\\\Competition_Image_Classification\\\\MaskDataset\\\\validation\\\\10854.jpg'"
      ]
     },
     "execution_count": 8,
     "metadata": {},
     "output_type": "execute_result"
    },
    {
     "data": {
      "text/plain": [
       "'C:\\\\Users\\\\steka\\\\Competition_Image_Classification\\\\MaskDataset\\\\validation\\\\16901.jpg'"
      ]
     },
     "execution_count": 8,
     "metadata": {},
     "output_type": "execute_result"
    },
    {
     "data": {
      "text/plain": [
       "'C:\\\\Users\\\\steka\\\\Competition_Image_Classification\\\\MaskDataset\\\\validation\\\\15429.jpg'"
      ]
     },
     "execution_count": 8,
     "metadata": {},
     "output_type": "execute_result"
    },
    {
     "data": {
      "text/plain": [
       "'C:\\\\Users\\\\steka\\\\Competition_Image_Classification\\\\MaskDataset\\\\validation\\\\15448.jpg'"
      ]
     },
     "execution_count": 8,
     "metadata": {},
     "output_type": "execute_result"
    },
    {
     "data": {
      "text/plain": [
       "'C:\\\\Users\\\\steka\\\\Competition_Image_Classification\\\\MaskDataset\\\\validation\\\\10670.jpg'"
      ]
     },
     "execution_count": 8,
     "metadata": {},
     "output_type": "execute_result"
    },
    {
     "data": {
      "text/plain": [
       "'C:\\\\Users\\\\steka\\\\Competition_Image_Classification\\\\MaskDataset\\\\validation\\\\11908.jpg'"
      ]
     },
     "execution_count": 8,
     "metadata": {},
     "output_type": "execute_result"
    },
    {
     "data": {
      "text/plain": [
       "'C:\\\\Users\\\\steka\\\\Competition_Image_Classification\\\\MaskDataset\\\\validation\\\\14650.jpg'"
      ]
     },
     "execution_count": 8,
     "metadata": {},
     "output_type": "execute_result"
    },
    {
     "data": {
      "text/plain": [
       "'C:\\\\Users\\\\steka\\\\Competition_Image_Classification\\\\MaskDataset\\\\validation\\\\13696.jpg'"
      ]
     },
     "execution_count": 8,
     "metadata": {},
     "output_type": "execute_result"
    },
    {
     "data": {
      "text/plain": [
       "'C:\\\\Users\\\\steka\\\\Competition_Image_Classification\\\\MaskDataset\\\\validation\\\\10350.jpg'"
      ]
     },
     "execution_count": 8,
     "metadata": {},
     "output_type": "execute_result"
    },
    {
     "data": {
      "text/plain": [
       "'C:\\\\Users\\\\steka\\\\Competition_Image_Classification\\\\MaskDataset\\\\validation\\\\12383.jpg'"
      ]
     },
     "execution_count": 8,
     "metadata": {},
     "output_type": "execute_result"
    },
    {
     "data": {
      "text/plain": [
       "'C:\\\\Users\\\\steka\\\\Competition_Image_Classification\\\\MaskDataset\\\\validation\\\\13473.jpg'"
      ]
     },
     "execution_count": 8,
     "metadata": {},
     "output_type": "execute_result"
    },
    {
     "data": {
      "text/plain": [
       "'C:\\\\Users\\\\steka\\\\Competition_Image_Classification\\\\MaskDataset\\\\validation\\\\15928.jpg'"
      ]
     },
     "execution_count": 8,
     "metadata": {},
     "output_type": "execute_result"
    },
    {
     "data": {
      "text/plain": [
       "'C:\\\\Users\\\\steka\\\\Competition_Image_Classification\\\\MaskDataset\\\\validation\\\\12398.jpg'"
      ]
     },
     "execution_count": 8,
     "metadata": {},
     "output_type": "execute_result"
    },
    {
     "data": {
      "text/plain": [
       "'C:\\\\Users\\\\steka\\\\Competition_Image_Classification\\\\MaskDataset\\\\validation\\\\10262.jpg'"
      ]
     },
     "execution_count": 8,
     "metadata": {},
     "output_type": "execute_result"
    },
    {
     "data": {
      "text/plain": [
       "'C:\\\\Users\\\\steka\\\\Competition_Image_Classification\\\\MaskDataset\\\\validation\\\\16130.jpg'"
      ]
     },
     "execution_count": 8,
     "metadata": {},
     "output_type": "execute_result"
    },
    {
     "data": {
      "text/plain": [
       "'C:\\\\Users\\\\steka\\\\Competition_Image_Classification\\\\MaskDataset\\\\validation\\\\17429.jpg'"
      ]
     },
     "execution_count": 8,
     "metadata": {},
     "output_type": "execute_result"
    },
    {
     "data": {
      "text/plain": [
       "'C:\\\\Users\\\\steka\\\\Competition_Image_Classification\\\\MaskDataset\\\\validation\\\\11428.jpg'"
      ]
     },
     "execution_count": 8,
     "metadata": {},
     "output_type": "execute_result"
    },
    {
     "data": {
      "text/plain": [
       "'C:\\\\Users\\\\steka\\\\Competition_Image_Classification\\\\MaskDataset\\\\validation\\\\12157.jpg'"
      ]
     },
     "execution_count": 8,
     "metadata": {},
     "output_type": "execute_result"
    },
    {
     "data": {
      "text/plain": [
       "'C:\\\\Users\\\\steka\\\\Competition_Image_Classification\\\\MaskDataset\\\\validation\\\\16960.jpg'"
      ]
     },
     "execution_count": 8,
     "metadata": {},
     "output_type": "execute_result"
    },
    {
     "data": {
      "text/plain": [
       "'C:\\\\Users\\\\steka\\\\Competition_Image_Classification\\\\MaskDataset\\\\validation\\\\17909.jpg'"
      ]
     },
     "execution_count": 8,
     "metadata": {},
     "output_type": "execute_result"
    },
    {
     "data": {
      "text/plain": [
       "'C:\\\\Users\\\\steka\\\\Competition_Image_Classification\\\\MaskDataset\\\\validation\\\\18047.jpg'"
      ]
     },
     "execution_count": 8,
     "metadata": {},
     "output_type": "execute_result"
    },
    {
     "data": {
      "text/plain": [
       "'C:\\\\Users\\\\steka\\\\Competition_Image_Classification\\\\MaskDataset\\\\validation\\\\14914.jpg'"
      ]
     },
     "execution_count": 8,
     "metadata": {},
     "output_type": "execute_result"
    },
    {
     "data": {
      "text/plain": [
       "'C:\\\\Users\\\\steka\\\\Competition_Image_Classification\\\\MaskDataset\\\\validation\\\\10303.jpg'"
      ]
     },
     "execution_count": 8,
     "metadata": {},
     "output_type": "execute_result"
    },
    {
     "data": {
      "text/plain": [
       "'C:\\\\Users\\\\steka\\\\Competition_Image_Classification\\\\MaskDataset\\\\validation\\\\15128.jpg'"
      ]
     },
     "execution_count": 8,
     "metadata": {},
     "output_type": "execute_result"
    },
    {
     "data": {
      "text/plain": [
       "'C:\\\\Users\\\\steka\\\\Competition_Image_Classification\\\\MaskDataset\\\\validation\\\\10485.jpg'"
      ]
     },
     "execution_count": 8,
     "metadata": {},
     "output_type": "execute_result"
    },
    {
     "data": {
      "text/plain": [
       "'C:\\\\Users\\\\steka\\\\Competition_Image_Classification\\\\MaskDataset\\\\validation\\\\16688.jpg'"
      ]
     },
     "execution_count": 8,
     "metadata": {},
     "output_type": "execute_result"
    },
    {
     "data": {
      "text/plain": [
       "'C:\\\\Users\\\\steka\\\\Competition_Image_Classification\\\\MaskDataset\\\\validation\\\\17859.jpg'"
      ]
     },
     "execution_count": 8,
     "metadata": {},
     "output_type": "execute_result"
    },
    {
     "data": {
      "text/plain": [
       "'C:\\\\Users\\\\steka\\\\Competition_Image_Classification\\\\MaskDataset\\\\validation\\\\14362.jpg'"
      ]
     },
     "execution_count": 8,
     "metadata": {},
     "output_type": "execute_result"
    },
    {
     "data": {
      "text/plain": [
       "'C:\\\\Users\\\\steka\\\\Competition_Image_Classification\\\\MaskDataset\\\\validation\\\\11565.jpg'"
      ]
     },
     "execution_count": 8,
     "metadata": {},
     "output_type": "execute_result"
    },
    {
     "data": {
      "text/plain": [
       "'C:\\\\Users\\\\steka\\\\Competition_Image_Classification\\\\MaskDataset\\\\validation\\\\15033.jpg'"
      ]
     },
     "execution_count": 8,
     "metadata": {},
     "output_type": "execute_result"
    },
    {
     "data": {
      "text/plain": [
       "'C:\\\\Users\\\\steka\\\\Competition_Image_Classification\\\\MaskDataset\\\\validation\\\\16871.jpg'"
      ]
     },
     "execution_count": 8,
     "metadata": {},
     "output_type": "execute_result"
    },
    {
     "data": {
      "text/plain": [
       "'C:\\\\Users\\\\steka\\\\Competition_Image_Classification\\\\MaskDataset\\\\validation\\\\13427.jpg'"
      ]
     },
     "execution_count": 8,
     "metadata": {},
     "output_type": "execute_result"
    },
    {
     "data": {
      "text/plain": [
       "'C:\\\\Users\\\\steka\\\\Competition_Image_Classification\\\\MaskDataset\\\\validation\\\\17752.jpg'"
      ]
     },
     "execution_count": 8,
     "metadata": {},
     "output_type": "execute_result"
    },
    {
     "data": {
      "text/plain": [
       "'C:\\\\Users\\\\steka\\\\Competition_Image_Classification\\\\MaskDataset\\\\validation\\\\11161.jpg'"
      ]
     },
     "execution_count": 8,
     "metadata": {},
     "output_type": "execute_result"
    },
    {
     "data": {
      "text/plain": [
       "'C:\\\\Users\\\\steka\\\\Competition_Image_Classification\\\\MaskDataset\\\\validation\\\\15151.jpg'"
      ]
     },
     "execution_count": 8,
     "metadata": {},
     "output_type": "execute_result"
    },
    {
     "data": {
      "text/plain": [
       "'C:\\\\Users\\\\steka\\\\Competition_Image_Classification\\\\MaskDataset\\\\validation\\\\12001.jpg'"
      ]
     },
     "execution_count": 8,
     "metadata": {},
     "output_type": "execute_result"
    },
    {
     "data": {
      "text/plain": [
       "'C:\\\\Users\\\\steka\\\\Competition_Image_Classification\\\\MaskDataset\\\\validation\\\\11985.jpg'"
      ]
     },
     "execution_count": 8,
     "metadata": {},
     "output_type": "execute_result"
    },
    {
     "data": {
      "text/plain": [
       "'C:\\\\Users\\\\steka\\\\Competition_Image_Classification\\\\MaskDataset\\\\validation\\\\12506.jpg'"
      ]
     },
     "execution_count": 8,
     "metadata": {},
     "output_type": "execute_result"
    },
    {
     "data": {
      "text/plain": [
       "'C:\\\\Users\\\\steka\\\\Competition_Image_Classification\\\\MaskDataset\\\\validation\\\\17269.jpg'"
      ]
     },
     "execution_count": 8,
     "metadata": {},
     "output_type": "execute_result"
    },
    {
     "data": {
      "text/plain": [
       "'C:\\\\Users\\\\steka\\\\Competition_Image_Classification\\\\MaskDataset\\\\validation\\\\17489.jpg'"
      ]
     },
     "execution_count": 8,
     "metadata": {},
     "output_type": "execute_result"
    },
    {
     "data": {
      "text/plain": [
       "'C:\\\\Users\\\\steka\\\\Competition_Image_Classification\\\\MaskDataset\\\\validation\\\\18082.jpg'"
      ]
     },
     "execution_count": 8,
     "metadata": {},
     "output_type": "execute_result"
    },
    {
     "data": {
      "text/plain": [
       "'C:\\\\Users\\\\steka\\\\Competition_Image_Classification\\\\MaskDataset\\\\validation\\\\15199.jpg'"
      ]
     },
     "execution_count": 8,
     "metadata": {},
     "output_type": "execute_result"
    },
    {
     "data": {
      "text/plain": [
       "'C:\\\\Users\\\\steka\\\\Competition_Image_Classification\\\\MaskDataset\\\\validation\\\\16292.jpg'"
      ]
     },
     "execution_count": 8,
     "metadata": {},
     "output_type": "execute_result"
    },
    {
     "data": {
      "text/plain": [
       "'C:\\\\Users\\\\steka\\\\Competition_Image_Classification\\\\MaskDataset\\\\validation\\\\17938.jpg'"
      ]
     },
     "execution_count": 8,
     "metadata": {},
     "output_type": "execute_result"
    },
    {
     "data": {
      "text/plain": [
       "'C:\\\\Users\\\\steka\\\\Competition_Image_Classification\\\\MaskDataset\\\\validation\\\\18168.jpg'"
      ]
     },
     "execution_count": 8,
     "metadata": {},
     "output_type": "execute_result"
    },
    {
     "data": {
      "text/plain": [
       "'C:\\\\Users\\\\steka\\\\Competition_Image_Classification\\\\MaskDataset\\\\validation\\\\11603.jpg'"
      ]
     },
     "execution_count": 8,
     "metadata": {},
     "output_type": "execute_result"
    },
    {
     "data": {
      "text/plain": [
       "'C:\\\\Users\\\\steka\\\\Competition_Image_Classification\\\\MaskDataset\\\\validation\\\\11673.jpg'"
      ]
     },
     "execution_count": 8,
     "metadata": {},
     "output_type": "execute_result"
    },
    {
     "data": {
      "text/plain": [
       "'C:\\\\Users\\\\steka\\\\Competition_Image_Classification\\\\MaskDataset\\\\validation\\\\17047.jpg'"
      ]
     },
     "execution_count": 8,
     "metadata": {},
     "output_type": "execute_result"
    },
    {
     "data": {
      "text/plain": [
       "'C:\\\\Users\\\\steka\\\\Competition_Image_Classification\\\\MaskDataset\\\\validation\\\\11815.jpg'"
      ]
     },
     "execution_count": 8,
     "metadata": {},
     "output_type": "execute_result"
    },
    {
     "data": {
      "text/plain": [
       "'C:\\\\Users\\\\steka\\\\Competition_Image_Classification\\\\MaskDataset\\\\validation\\\\10963.jpg'"
      ]
     },
     "execution_count": 8,
     "metadata": {},
     "output_type": "execute_result"
    },
    {
     "data": {
      "text/plain": [
       "'C:\\\\Users\\\\steka\\\\Competition_Image_Classification\\\\MaskDataset\\\\validation\\\\17333.jpg'"
      ]
     },
     "execution_count": 8,
     "metadata": {},
     "output_type": "execute_result"
    },
    {
     "data": {
      "text/plain": [
       "'C:\\\\Users\\\\steka\\\\Competition_Image_Classification\\\\MaskDataset\\\\validation\\\\14570.jpg'"
      ]
     },
     "execution_count": 8,
     "metadata": {},
     "output_type": "execute_result"
    },
    {
     "data": {
      "text/plain": [
       "'C:\\\\Users\\\\steka\\\\Competition_Image_Classification\\\\MaskDataset\\\\validation\\\\16108.jpg'"
      ]
     },
     "execution_count": 8,
     "metadata": {},
     "output_type": "execute_result"
    },
    {
     "data": {
      "text/plain": [
       "'C:\\\\Users\\\\steka\\\\Competition_Image_Classification\\\\MaskDataset\\\\validation\\\\11675.jpg'"
      ]
     },
     "execution_count": 8,
     "metadata": {},
     "output_type": "execute_result"
    },
    {
     "data": {
      "text/plain": [
       "'C:\\\\Users\\\\steka\\\\Competition_Image_Classification\\\\MaskDataset\\\\validation\\\\10183.jpg'"
      ]
     },
     "execution_count": 8,
     "metadata": {},
     "output_type": "execute_result"
    },
    {
     "data": {
      "text/plain": [
       "'C:\\\\Users\\\\steka\\\\Competition_Image_Classification\\\\MaskDataset\\\\validation\\\\10455.jpg'"
      ]
     },
     "execution_count": 8,
     "metadata": {},
     "output_type": "execute_result"
    },
    {
     "data": {
      "text/plain": [
       "'C:\\\\Users\\\\steka\\\\Competition_Image_Classification\\\\MaskDataset\\\\validation\\\\11110.jpg'"
      ]
     },
     "execution_count": 8,
     "metadata": {},
     "output_type": "execute_result"
    },
    {
     "data": {
      "text/plain": [
       "'C:\\\\Users\\\\steka\\\\Competition_Image_Classification\\\\MaskDataset\\\\validation\\\\10003.jpg'"
      ]
     },
     "execution_count": 8,
     "metadata": {},
     "output_type": "execute_result"
    },
    {
     "data": {
      "text/plain": [
       "'C:\\\\Users\\\\steka\\\\Competition_Image_Classification\\\\MaskDataset\\\\validation\\\\17995.jpg'"
      ]
     },
     "execution_count": 8,
     "metadata": {},
     "output_type": "execute_result"
    },
    {
     "data": {
      "text/plain": [
       "'C:\\\\Users\\\\steka\\\\Competition_Image_Classification\\\\MaskDataset\\\\validation\\\\14805.jpg'"
      ]
     },
     "execution_count": 8,
     "metadata": {},
     "output_type": "execute_result"
    },
    {
     "data": {
      "text/plain": [
       "'C:\\\\Users\\\\steka\\\\Competition_Image_Classification\\\\MaskDataset\\\\validation\\\\13657.jpg'"
      ]
     },
     "execution_count": 8,
     "metadata": {},
     "output_type": "execute_result"
    },
    {
     "data": {
      "text/plain": [
       "'C:\\\\Users\\\\steka\\\\Competition_Image_Classification\\\\MaskDataset\\\\validation\\\\15233.jpg'"
      ]
     },
     "execution_count": 8,
     "metadata": {},
     "output_type": "execute_result"
    },
    {
     "data": {
      "text/plain": [
       "'C:\\\\Users\\\\steka\\\\Competition_Image_Classification\\\\MaskDataset\\\\validation\\\\15129.jpg'"
      ]
     },
     "execution_count": 8,
     "metadata": {},
     "output_type": "execute_result"
    },
    {
     "data": {
      "text/plain": [
       "'C:\\\\Users\\\\steka\\\\Competition_Image_Classification\\\\MaskDataset\\\\validation\\\\15436.jpg'"
      ]
     },
     "execution_count": 8,
     "metadata": {},
     "output_type": "execute_result"
    },
    {
     "data": {
      "text/plain": [
       "'C:\\\\Users\\\\steka\\\\Competition_Image_Classification\\\\MaskDataset\\\\validation\\\\14445.jpg'"
      ]
     },
     "execution_count": 8,
     "metadata": {},
     "output_type": "execute_result"
    },
    {
     "data": {
      "text/plain": [
       "'C:\\\\Users\\\\steka\\\\Competition_Image_Classification\\\\MaskDataset\\\\validation\\\\12313.jpg'"
      ]
     },
     "execution_count": 8,
     "metadata": {},
     "output_type": "execute_result"
    },
    {
     "data": {
      "text/plain": [
       "'C:\\\\Users\\\\steka\\\\Competition_Image_Classification\\\\MaskDataset\\\\validation\\\\17207.jpg'"
      ]
     },
     "execution_count": 8,
     "metadata": {},
     "output_type": "execute_result"
    },
    {
     "data": {
      "text/plain": [
       "'C:\\\\Users\\\\steka\\\\Competition_Image_Classification\\\\MaskDataset\\\\validation\\\\11825.jpg'"
      ]
     },
     "execution_count": 8,
     "metadata": {},
     "output_type": "execute_result"
    },
    {
     "data": {
      "text/plain": [
       "'C:\\\\Users\\\\steka\\\\Competition_Image_Classification\\\\MaskDataset\\\\validation\\\\13839.jpg'"
      ]
     },
     "execution_count": 8,
     "metadata": {},
     "output_type": "execute_result"
    },
    {
     "data": {
      "text/plain": [
       "'C:\\\\Users\\\\steka\\\\Competition_Image_Classification\\\\MaskDataset\\\\validation\\\\11432.jpg'"
      ]
     },
     "execution_count": 8,
     "metadata": {},
     "output_type": "execute_result"
    },
    {
     "data": {
      "text/plain": [
       "'C:\\\\Users\\\\steka\\\\Competition_Image_Classification\\\\MaskDataset\\\\validation\\\\11979.jpg'"
      ]
     },
     "execution_count": 8,
     "metadata": {},
     "output_type": "execute_result"
    },
    {
     "data": {
      "text/plain": [
       "'C:\\\\Users\\\\steka\\\\Competition_Image_Classification\\\\MaskDataset\\\\validation\\\\17273.jpg'"
      ]
     },
     "execution_count": 8,
     "metadata": {},
     "output_type": "execute_result"
    },
    {
     "data": {
      "text/plain": [
       "'C:\\\\Users\\\\steka\\\\Competition_Image_Classification\\\\MaskDataset\\\\validation\\\\10173.jpg'"
      ]
     },
     "execution_count": 8,
     "metadata": {},
     "output_type": "execute_result"
    },
    {
     "data": {
      "text/plain": [
       "'C:\\\\Users\\\\steka\\\\Competition_Image_Classification\\\\MaskDataset\\\\validation\\\\12511.jpg'"
      ]
     },
     "execution_count": 8,
     "metadata": {},
     "output_type": "execute_result"
    },
    {
     "data": {
      "text/plain": [
       "'C:\\\\Users\\\\steka\\\\Competition_Image_Classification\\\\MaskDataset\\\\validation\\\\14611.jpg'"
      ]
     },
     "execution_count": 8,
     "metadata": {},
     "output_type": "execute_result"
    },
    {
     "data": {
      "text/plain": [
       "'C:\\\\Users\\\\steka\\\\Competition_Image_Classification\\\\MaskDataset\\\\validation\\\\13395.jpg'"
      ]
     },
     "execution_count": 8,
     "metadata": {},
     "output_type": "execute_result"
    },
    {
     "data": {
      "text/plain": [
       "'C:\\\\Users\\\\steka\\\\Competition_Image_Classification\\\\MaskDataset\\\\validation\\\\15508.jpg'"
      ]
     },
     "execution_count": 8,
     "metadata": {},
     "output_type": "execute_result"
    },
    {
     "data": {
      "text/plain": [
       "'C:\\\\Users\\\\steka\\\\Competition_Image_Classification\\\\MaskDataset\\\\validation\\\\14320.jpg'"
      ]
     },
     "execution_count": 8,
     "metadata": {},
     "output_type": "execute_result"
    },
    {
     "data": {
      "text/plain": [
       "'C:\\\\Users\\\\steka\\\\Competition_Image_Classification\\\\MaskDataset\\\\validation\\\\13649.jpg'"
      ]
     },
     "execution_count": 8,
     "metadata": {},
     "output_type": "execute_result"
    },
    {
     "data": {
      "text/plain": [
       "'C:\\\\Users\\\\steka\\\\Competition_Image_Classification\\\\MaskDataset\\\\validation\\\\15565.jpg'"
      ]
     },
     "execution_count": 8,
     "metadata": {},
     "output_type": "execute_result"
    },
    {
     "data": {
      "text/plain": [
       "'C:\\\\Users\\\\steka\\\\Competition_Image_Classification\\\\MaskDataset\\\\validation\\\\11732.jpg'"
      ]
     },
     "execution_count": 8,
     "metadata": {},
     "output_type": "execute_result"
    },
    {
     "data": {
      "text/plain": [
       "'C:\\\\Users\\\\steka\\\\Competition_Image_Classification\\\\MaskDataset\\\\validation\\\\12885.jpg'"
      ]
     },
     "execution_count": 8,
     "metadata": {},
     "output_type": "execute_result"
    },
    {
     "data": {
      "text/plain": [
       "'C:\\\\Users\\\\steka\\\\Competition_Image_Classification\\\\MaskDataset\\\\validation\\\\17806.jpg'"
      ]
     },
     "execution_count": 8,
     "metadata": {},
     "output_type": "execute_result"
    },
    {
     "data": {
      "text/plain": [
       "'C:\\\\Users\\\\steka\\\\Competition_Image_Classification\\\\MaskDataset\\\\validation\\\\18130.jpg'"
      ]
     },
     "execution_count": 8,
     "metadata": {},
     "output_type": "execute_result"
    },
    {
     "data": {
      "text/plain": [
       "'C:\\\\Users\\\\steka\\\\Competition_Image_Classification\\\\MaskDataset\\\\validation\\\\17488.jpg'"
      ]
     },
     "execution_count": 8,
     "metadata": {},
     "output_type": "execute_result"
    },
    {
     "data": {
      "text/plain": [
       "'C:\\\\Users\\\\steka\\\\Competition_Image_Classification\\\\MaskDataset\\\\validation\\\\14448.jpg'"
      ]
     },
     "execution_count": 8,
     "metadata": {},
     "output_type": "execute_result"
    },
    {
     "data": {
      "text/plain": [
       "'C:\\\\Users\\\\steka\\\\Competition_Image_Classification\\\\MaskDataset\\\\validation\\\\15515.jpg'"
      ]
     },
     "execution_count": 8,
     "metadata": {},
     "output_type": "execute_result"
    },
    {
     "data": {
      "text/plain": [
       "'C:\\\\Users\\\\steka\\\\Competition_Image_Classification\\\\MaskDataset\\\\validation\\\\13821.jpg'"
      ]
     },
     "execution_count": 8,
     "metadata": {},
     "output_type": "execute_result"
    },
    {
     "data": {
      "text/plain": [
       "'C:\\\\Users\\\\steka\\\\Competition_Image_Classification\\\\MaskDataset\\\\validation\\\\16692.jpg'"
      ]
     },
     "execution_count": 8,
     "metadata": {},
     "output_type": "execute_result"
    },
    {
     "data": {
      "text/plain": [
       "'C:\\\\Users\\\\steka\\\\Competition_Image_Classification\\\\MaskDataset\\\\validation\\\\10042.jpg'"
      ]
     },
     "execution_count": 8,
     "metadata": {},
     "output_type": "execute_result"
    },
    {
     "data": {
      "text/plain": [
       "'C:\\\\Users\\\\steka\\\\Competition_Image_Classification\\\\MaskDataset\\\\validation\\\\12599.jpg'"
      ]
     },
     "execution_count": 8,
     "metadata": {},
     "output_type": "execute_result"
    },
    {
     "data": {
      "text/plain": [
       "'C:\\\\Users\\\\steka\\\\Competition_Image_Classification\\\\MaskDataset\\\\validation\\\\15890.jpg'"
      ]
     },
     "execution_count": 8,
     "metadata": {},
     "output_type": "execute_result"
    },
    {
     "data": {
      "text/plain": [
       "'C:\\\\Users\\\\steka\\\\Competition_Image_Classification\\\\MaskDataset\\\\validation\\\\13234.jpg'"
      ]
     },
     "execution_count": 8,
     "metadata": {},
     "output_type": "execute_result"
    },
    {
     "data": {
      "text/plain": [
       "'C:\\\\Users\\\\steka\\\\Competition_Image_Classification\\\\MaskDataset\\\\validation\\\\13330.jpg'"
      ]
     },
     "execution_count": 8,
     "metadata": {},
     "output_type": "execute_result"
    },
    {
     "data": {
      "text/plain": [
       "'C:\\\\Users\\\\steka\\\\Competition_Image_Classification\\\\MaskDataset\\\\validation\\\\12823.jpg'"
      ]
     },
     "execution_count": 8,
     "metadata": {},
     "output_type": "execute_result"
    },
    {
     "data": {
      "text/plain": [
       "'C:\\\\Users\\\\steka\\\\Competition_Image_Classification\\\\MaskDataset\\\\validation\\\\13198.jpg'"
      ]
     },
     "execution_count": 8,
     "metadata": {},
     "output_type": "execute_result"
    },
    {
     "data": {
      "text/plain": [
       "'C:\\\\Users\\\\steka\\\\Competition_Image_Classification\\\\MaskDataset\\\\validation\\\\14865.jpg'"
      ]
     },
     "execution_count": 8,
     "metadata": {},
     "output_type": "execute_result"
    },
    {
     "data": {
      "text/plain": [
       "'C:\\\\Users\\\\steka\\\\Competition_Image_Classification\\\\MaskDataset\\\\validation\\\\17499.jpg'"
      ]
     },
     "execution_count": 8,
     "metadata": {},
     "output_type": "execute_result"
    },
    {
     "data": {
      "text/plain": [
       "'C:\\\\Users\\\\steka\\\\Competition_Image_Classification\\\\MaskDataset\\\\validation\\\\10797.jpg'"
      ]
     },
     "execution_count": 8,
     "metadata": {},
     "output_type": "execute_result"
    },
    {
     "data": {
      "text/plain": [
       "'C:\\\\Users\\\\steka\\\\Competition_Image_Classification\\\\MaskDataset\\\\validation\\\\12570.jpg'"
      ]
     },
     "execution_count": 8,
     "metadata": {},
     "output_type": "execute_result"
    },
    {
     "data": {
      "text/plain": [
       "'C:\\\\Users\\\\steka\\\\Competition_Image_Classification\\\\MaskDataset\\\\validation\\\\12757.jpg'"
      ]
     },
     "execution_count": 8,
     "metadata": {},
     "output_type": "execute_result"
    },
    {
     "data": {
      "text/plain": [
       "'C:\\\\Users\\\\steka\\\\Competition_Image_Classification\\\\MaskDataset\\\\validation\\\\11594.jpg'"
      ]
     },
     "execution_count": 8,
     "metadata": {},
     "output_type": "execute_result"
    },
    {
     "data": {
      "text/plain": [
       "'C:\\\\Users\\\\steka\\\\Competition_Image_Classification\\\\MaskDataset\\\\validation\\\\14871.jpg'"
      ]
     },
     "execution_count": 8,
     "metadata": {},
     "output_type": "execute_result"
    },
    {
     "data": {
      "text/plain": [
       "'C:\\\\Users\\\\steka\\\\Competition_Image_Classification\\\\MaskDataset\\\\validation\\\\17087.jpg'"
      ]
     },
     "execution_count": 8,
     "metadata": {},
     "output_type": "execute_result"
    },
    {
     "data": {
      "text/plain": [
       "'C:\\\\Users\\\\steka\\\\Competition_Image_Classification\\\\MaskDataset\\\\validation\\\\12618.jpg'"
      ]
     },
     "execution_count": 8,
     "metadata": {},
     "output_type": "execute_result"
    },
    {
     "data": {
      "text/plain": [
       "'C:\\\\Users\\\\steka\\\\Competition_Image_Classification\\\\MaskDataset\\\\validation\\\\13780.jpg'"
      ]
     },
     "execution_count": 8,
     "metadata": {},
     "output_type": "execute_result"
    },
    {
     "data": {
      "text/plain": [
       "'C:\\\\Users\\\\steka\\\\Competition_Image_Classification\\\\MaskDataset\\\\validation\\\\11813.jpg'"
      ]
     },
     "execution_count": 8,
     "metadata": {},
     "output_type": "execute_result"
    },
    {
     "data": {
      "text/plain": [
       "'C:\\\\Users\\\\steka\\\\Competition_Image_Classification\\\\MaskDataset\\\\validation\\\\14882.jpg'"
      ]
     },
     "execution_count": 8,
     "metadata": {},
     "output_type": "execute_result"
    },
    {
     "data": {
      "text/plain": [
       "'C:\\\\Users\\\\steka\\\\Competition_Image_Classification\\\\MaskDataset\\\\validation\\\\17734.jpg'"
      ]
     },
     "execution_count": 8,
     "metadata": {},
     "output_type": "execute_result"
    },
    {
     "data": {
      "text/plain": [
       "'C:\\\\Users\\\\steka\\\\Competition_Image_Classification\\\\MaskDataset\\\\validation\\\\16051.jpg'"
      ]
     },
     "execution_count": 8,
     "metadata": {},
     "output_type": "execute_result"
    },
    {
     "data": {
      "text/plain": [
       "'C:\\\\Users\\\\steka\\\\Competition_Image_Classification\\\\MaskDataset\\\\validation\\\\18085.jpg'"
      ]
     },
     "execution_count": 8,
     "metadata": {},
     "output_type": "execute_result"
    },
    {
     "data": {
      "text/plain": [
       "'C:\\\\Users\\\\steka\\\\Competition_Image_Classification\\\\MaskDataset\\\\validation\\\\12058.jpg'"
      ]
     },
     "execution_count": 8,
     "metadata": {},
     "output_type": "execute_result"
    },
    {
     "data": {
      "text/plain": [
       "'C:\\\\Users\\\\steka\\\\Competition_Image_Classification\\\\MaskDataset\\\\validation\\\\14347.jpg'"
      ]
     },
     "execution_count": 8,
     "metadata": {},
     "output_type": "execute_result"
    },
    {
     "data": {
      "text/plain": [
       "'C:\\\\Users\\\\steka\\\\Competition_Image_Classification\\\\MaskDataset\\\\validation\\\\16455.jpg'"
      ]
     },
     "execution_count": 8,
     "metadata": {},
     "output_type": "execute_result"
    }
   ],
   "source": [
    "for data in validation_set:\n",
    "    old_path = os.path.join(train_dir, data)\n",
    "    new_path = os.path.join(valid_dir, data)\n",
    "    shutil.move(old_path, new_path)"
   ]
  },
  {
   "cell_type": "code",
   "execution_count": 9,
   "metadata": {},
   "outputs": [
    {
     "data": {
      "text/plain": [
       "'C:\\\\Users\\\\steka\\\\Competition_Image_Classification\\\\MaskDataset\\\\test\\\\subfolder\\\\10001.jpg'"
      ]
     },
     "execution_count": 9,
     "metadata": {},
     "output_type": "execute_result"
    },
    {
     "data": {
      "text/plain": [
       "'C:\\\\Users\\\\steka\\\\Competition_Image_Classification\\\\MaskDataset\\\\test\\\\subfolder\\\\10040.jpg'"
      ]
     },
     "execution_count": 9,
     "metadata": {},
     "output_type": "execute_result"
    },
    {
     "data": {
      "text/plain": [
       "'C:\\\\Users\\\\steka\\\\Competition_Image_Classification\\\\MaskDataset\\\\test\\\\subfolder\\\\10074.jpg'"
      ]
     },
     "execution_count": 9,
     "metadata": {},
     "output_type": "execute_result"
    },
    {
     "data": {
      "text/plain": [
       "'C:\\\\Users\\\\steka\\\\Competition_Image_Classification\\\\MaskDataset\\\\test\\\\subfolder\\\\10084.jpg'"
      ]
     },
     "execution_count": 9,
     "metadata": {},
     "output_type": "execute_result"
    },
    {
     "data": {
      "text/plain": [
       "'C:\\\\Users\\\\steka\\\\Competition_Image_Classification\\\\MaskDataset\\\\test\\\\subfolder\\\\10100.jpg'"
      ]
     },
     "execution_count": 9,
     "metadata": {},
     "output_type": "execute_result"
    },
    {
     "data": {
      "text/plain": [
       "'C:\\\\Users\\\\steka\\\\Competition_Image_Classification\\\\MaskDataset\\\\test\\\\subfolder\\\\10120.jpg'"
      ]
     },
     "execution_count": 9,
     "metadata": {},
     "output_type": "execute_result"
    },
    {
     "data": {
      "text/plain": [
       "'C:\\\\Users\\\\steka\\\\Competition_Image_Classification\\\\MaskDataset\\\\test\\\\subfolder\\\\10125.jpg'"
      ]
     },
     "execution_count": 9,
     "metadata": {},
     "output_type": "execute_result"
    },
    {
     "data": {
      "text/plain": [
       "'C:\\\\Users\\\\steka\\\\Competition_Image_Classification\\\\MaskDataset\\\\test\\\\subfolder\\\\10148.jpg'"
      ]
     },
     "execution_count": 9,
     "metadata": {},
     "output_type": "execute_result"
    },
    {
     "data": {
      "text/plain": [
       "'C:\\\\Users\\\\steka\\\\Competition_Image_Classification\\\\MaskDataset\\\\test\\\\subfolder\\\\10213.jpg'"
      ]
     },
     "execution_count": 9,
     "metadata": {},
     "output_type": "execute_result"
    },
    {
     "data": {
      "text/plain": [
       "'C:\\\\Users\\\\steka\\\\Competition_Image_Classification\\\\MaskDataset\\\\test\\\\subfolder\\\\10239.jpg'"
      ]
     },
     "execution_count": 9,
     "metadata": {},
     "output_type": "execute_result"
    },
    {
     "data": {
      "text/plain": [
       "'C:\\\\Users\\\\steka\\\\Competition_Image_Classification\\\\MaskDataset\\\\test\\\\subfolder\\\\10242.jpg'"
      ]
     },
     "execution_count": 9,
     "metadata": {},
     "output_type": "execute_result"
    },
    {
     "data": {
      "text/plain": [
       "'C:\\\\Users\\\\steka\\\\Competition_Image_Classification\\\\MaskDataset\\\\test\\\\subfolder\\\\10259.jpg'"
      ]
     },
     "execution_count": 9,
     "metadata": {},
     "output_type": "execute_result"
    },
    {
     "data": {
      "text/plain": [
       "'C:\\\\Users\\\\steka\\\\Competition_Image_Classification\\\\MaskDataset\\\\test\\\\subfolder\\\\10289.jpg'"
      ]
     },
     "execution_count": 9,
     "metadata": {},
     "output_type": "execute_result"
    },
    {
     "data": {
      "text/plain": [
       "'C:\\\\Users\\\\steka\\\\Competition_Image_Classification\\\\MaskDataset\\\\test\\\\subfolder\\\\10296.jpg'"
      ]
     },
     "execution_count": 9,
     "metadata": {},
     "output_type": "execute_result"
    },
    {
     "data": {
      "text/plain": [
       "'C:\\\\Users\\\\steka\\\\Competition_Image_Classification\\\\MaskDataset\\\\test\\\\subfolder\\\\10323.jpg'"
      ]
     },
     "execution_count": 9,
     "metadata": {},
     "output_type": "execute_result"
    },
    {
     "data": {
      "text/plain": [
       "'C:\\\\Users\\\\steka\\\\Competition_Image_Classification\\\\MaskDataset\\\\test\\\\subfolder\\\\10324.jpg'"
      ]
     },
     "execution_count": 9,
     "metadata": {},
     "output_type": "execute_result"
    },
    {
     "data": {
      "text/plain": [
       "'C:\\\\Users\\\\steka\\\\Competition_Image_Classification\\\\MaskDataset\\\\test\\\\subfolder\\\\10326.jpg'"
      ]
     },
     "execution_count": 9,
     "metadata": {},
     "output_type": "execute_result"
    },
    {
     "data": {
      "text/plain": [
       "'C:\\\\Users\\\\steka\\\\Competition_Image_Classification\\\\MaskDataset\\\\test\\\\subfolder\\\\10328.jpg'"
      ]
     },
     "execution_count": 9,
     "metadata": {},
     "output_type": "execute_result"
    },
    {
     "data": {
      "text/plain": [
       "'C:\\\\Users\\\\steka\\\\Competition_Image_Classification\\\\MaskDataset\\\\test\\\\subfolder\\\\10330.jpg'"
      ]
     },
     "execution_count": 9,
     "metadata": {},
     "output_type": "execute_result"
    },
    {
     "data": {
      "text/plain": [
       "'C:\\\\Users\\\\steka\\\\Competition_Image_Classification\\\\MaskDataset\\\\test\\\\subfolder\\\\10346.jpg'"
      ]
     },
     "execution_count": 9,
     "metadata": {},
     "output_type": "execute_result"
    },
    {
     "data": {
      "text/plain": [
       "'C:\\\\Users\\\\steka\\\\Competition_Image_Classification\\\\MaskDataset\\\\test\\\\subfolder\\\\10349.jpg'"
      ]
     },
     "execution_count": 9,
     "metadata": {},
     "output_type": "execute_result"
    },
    {
     "data": {
      "text/plain": [
       "'C:\\\\Users\\\\steka\\\\Competition_Image_Classification\\\\MaskDataset\\\\test\\\\subfolder\\\\10370.jpg'"
      ]
     },
     "execution_count": 9,
     "metadata": {},
     "output_type": "execute_result"
    },
    {
     "data": {
      "text/plain": [
       "'C:\\\\Users\\\\steka\\\\Competition_Image_Classification\\\\MaskDataset\\\\test\\\\subfolder\\\\10382.jpg'"
      ]
     },
     "execution_count": 9,
     "metadata": {},
     "output_type": "execute_result"
    },
    {
     "data": {
      "text/plain": [
       "'C:\\\\Users\\\\steka\\\\Competition_Image_Classification\\\\MaskDataset\\\\test\\\\subfolder\\\\10396.jpg'"
      ]
     },
     "execution_count": 9,
     "metadata": {},
     "output_type": "execute_result"
    },
    {
     "data": {
      "text/plain": [
       "'C:\\\\Users\\\\steka\\\\Competition_Image_Classification\\\\MaskDataset\\\\test\\\\subfolder\\\\10411.jpg'"
      ]
     },
     "execution_count": 9,
     "metadata": {},
     "output_type": "execute_result"
    },
    {
     "data": {
      "text/plain": [
       "'C:\\\\Users\\\\steka\\\\Competition_Image_Classification\\\\MaskDataset\\\\test\\\\subfolder\\\\10437.jpg'"
      ]
     },
     "execution_count": 9,
     "metadata": {},
     "output_type": "execute_result"
    },
    {
     "data": {
      "text/plain": [
       "'C:\\\\Users\\\\steka\\\\Competition_Image_Classification\\\\MaskDataset\\\\test\\\\subfolder\\\\10459.jpg'"
      ]
     },
     "execution_count": 9,
     "metadata": {},
     "output_type": "execute_result"
    },
    {
     "data": {
      "text/plain": [
       "'C:\\\\Users\\\\steka\\\\Competition_Image_Classification\\\\MaskDataset\\\\test\\\\subfolder\\\\10473.jpg'"
      ]
     },
     "execution_count": 9,
     "metadata": {},
     "output_type": "execute_result"
    },
    {
     "data": {
      "text/plain": [
       "'C:\\\\Users\\\\steka\\\\Competition_Image_Classification\\\\MaskDataset\\\\test\\\\subfolder\\\\10477.jpg'"
      ]
     },
     "execution_count": 9,
     "metadata": {},
     "output_type": "execute_result"
    },
    {
     "data": {
      "text/plain": [
       "'C:\\\\Users\\\\steka\\\\Competition_Image_Classification\\\\MaskDataset\\\\test\\\\subfolder\\\\10494.jpg'"
      ]
     },
     "execution_count": 9,
     "metadata": {},
     "output_type": "execute_result"
    },
    {
     "data": {
      "text/plain": [
       "'C:\\\\Users\\\\steka\\\\Competition_Image_Classification\\\\MaskDataset\\\\test\\\\subfolder\\\\10520.jpg'"
      ]
     },
     "execution_count": 9,
     "metadata": {},
     "output_type": "execute_result"
    },
    {
     "data": {
      "text/plain": [
       "'C:\\\\Users\\\\steka\\\\Competition_Image_Classification\\\\MaskDataset\\\\test\\\\subfolder\\\\10530.jpg'"
      ]
     },
     "execution_count": 9,
     "metadata": {},
     "output_type": "execute_result"
    },
    {
     "data": {
      "text/plain": [
       "'C:\\\\Users\\\\steka\\\\Competition_Image_Classification\\\\MaskDataset\\\\test\\\\subfolder\\\\10571.jpg'"
      ]
     },
     "execution_count": 9,
     "metadata": {},
     "output_type": "execute_result"
    },
    {
     "data": {
      "text/plain": [
       "'C:\\\\Users\\\\steka\\\\Competition_Image_Classification\\\\MaskDataset\\\\test\\\\subfolder\\\\10572.jpg'"
      ]
     },
     "execution_count": 9,
     "metadata": {},
     "output_type": "execute_result"
    },
    {
     "data": {
      "text/plain": [
       "'C:\\\\Users\\\\steka\\\\Competition_Image_Classification\\\\MaskDataset\\\\test\\\\subfolder\\\\10581.jpg'"
      ]
     },
     "execution_count": 9,
     "metadata": {},
     "output_type": "execute_result"
    },
    {
     "data": {
      "text/plain": [
       "'C:\\\\Users\\\\steka\\\\Competition_Image_Classification\\\\MaskDataset\\\\test\\\\subfolder\\\\10620.jpg'"
      ]
     },
     "execution_count": 9,
     "metadata": {},
     "output_type": "execute_result"
    },
    {
     "data": {
      "text/plain": [
       "'C:\\\\Users\\\\steka\\\\Competition_Image_Classification\\\\MaskDataset\\\\test\\\\subfolder\\\\10641.jpg'"
      ]
     },
     "execution_count": 9,
     "metadata": {},
     "output_type": "execute_result"
    },
    {
     "data": {
      "text/plain": [
       "'C:\\\\Users\\\\steka\\\\Competition_Image_Classification\\\\MaskDataset\\\\test\\\\subfolder\\\\10643.jpg'"
      ]
     },
     "execution_count": 9,
     "metadata": {},
     "output_type": "execute_result"
    },
    {
     "data": {
      "text/plain": [
       "'C:\\\\Users\\\\steka\\\\Competition_Image_Classification\\\\MaskDataset\\\\test\\\\subfolder\\\\10662.jpg'"
      ]
     },
     "execution_count": 9,
     "metadata": {},
     "output_type": "execute_result"
    },
    {
     "data": {
      "text/plain": [
       "'C:\\\\Users\\\\steka\\\\Competition_Image_Classification\\\\MaskDataset\\\\test\\\\subfolder\\\\10691.jpg'"
      ]
     },
     "execution_count": 9,
     "metadata": {},
     "output_type": "execute_result"
    },
    {
     "data": {
      "text/plain": [
       "'C:\\\\Users\\\\steka\\\\Competition_Image_Classification\\\\MaskDataset\\\\test\\\\subfolder\\\\10715.jpg'"
      ]
     },
     "execution_count": 9,
     "metadata": {},
     "output_type": "execute_result"
    },
    {
     "data": {
      "text/plain": [
       "'C:\\\\Users\\\\steka\\\\Competition_Image_Classification\\\\MaskDataset\\\\test\\\\subfolder\\\\10727.jpg'"
      ]
     },
     "execution_count": 9,
     "metadata": {},
     "output_type": "execute_result"
    },
    {
     "data": {
      "text/plain": [
       "'C:\\\\Users\\\\steka\\\\Competition_Image_Classification\\\\MaskDataset\\\\test\\\\subfolder\\\\10760.jpg'"
      ]
     },
     "execution_count": 9,
     "metadata": {},
     "output_type": "execute_result"
    },
    {
     "data": {
      "text/plain": [
       "'C:\\\\Users\\\\steka\\\\Competition_Image_Classification\\\\MaskDataset\\\\test\\\\subfolder\\\\10771.jpg'"
      ]
     },
     "execution_count": 9,
     "metadata": {},
     "output_type": "execute_result"
    },
    {
     "data": {
      "text/plain": [
       "'C:\\\\Users\\\\steka\\\\Competition_Image_Classification\\\\MaskDataset\\\\test\\\\subfolder\\\\10782.jpg'"
      ]
     },
     "execution_count": 9,
     "metadata": {},
     "output_type": "execute_result"
    },
    {
     "data": {
      "text/plain": [
       "'C:\\\\Users\\\\steka\\\\Competition_Image_Classification\\\\MaskDataset\\\\test\\\\subfolder\\\\10800.jpg'"
      ]
     },
     "execution_count": 9,
     "metadata": {},
     "output_type": "execute_result"
    },
    {
     "data": {
      "text/plain": [
       "'C:\\\\Users\\\\steka\\\\Competition_Image_Classification\\\\MaskDataset\\\\test\\\\subfolder\\\\10812.jpg'"
      ]
     },
     "execution_count": 9,
     "metadata": {},
     "output_type": "execute_result"
    },
    {
     "data": {
      "text/plain": [
       "'C:\\\\Users\\\\steka\\\\Competition_Image_Classification\\\\MaskDataset\\\\test\\\\subfolder\\\\10845.jpg'"
      ]
     },
     "execution_count": 9,
     "metadata": {},
     "output_type": "execute_result"
    },
    {
     "data": {
      "text/plain": [
       "'C:\\\\Users\\\\steka\\\\Competition_Image_Classification\\\\MaskDataset\\\\test\\\\subfolder\\\\10850.jpg'"
      ]
     },
     "execution_count": 9,
     "metadata": {},
     "output_type": "execute_result"
    },
    {
     "data": {
      "text/plain": [
       "'C:\\\\Users\\\\steka\\\\Competition_Image_Classification\\\\MaskDataset\\\\test\\\\subfolder\\\\10853.jpg'"
      ]
     },
     "execution_count": 9,
     "metadata": {},
     "output_type": "execute_result"
    },
    {
     "data": {
      "text/plain": [
       "'C:\\\\Users\\\\steka\\\\Competition_Image_Classification\\\\MaskDataset\\\\test\\\\subfolder\\\\10863.jpg'"
      ]
     },
     "execution_count": 9,
     "metadata": {},
     "output_type": "execute_result"
    },
    {
     "data": {
      "text/plain": [
       "'C:\\\\Users\\\\steka\\\\Competition_Image_Classification\\\\MaskDataset\\\\test\\\\subfolder\\\\10873.jpg'"
      ]
     },
     "execution_count": 9,
     "metadata": {},
     "output_type": "execute_result"
    },
    {
     "data": {
      "text/plain": [
       "'C:\\\\Users\\\\steka\\\\Competition_Image_Classification\\\\MaskDataset\\\\test\\\\subfolder\\\\10999.jpg'"
      ]
     },
     "execution_count": 9,
     "metadata": {},
     "output_type": "execute_result"
    },
    {
     "data": {
      "text/plain": [
       "'C:\\\\Users\\\\steka\\\\Competition_Image_Classification\\\\MaskDataset\\\\test\\\\subfolder\\\\11012.jpg'"
      ]
     },
     "execution_count": 9,
     "metadata": {},
     "output_type": "execute_result"
    },
    {
     "data": {
      "text/plain": [
       "'C:\\\\Users\\\\steka\\\\Competition_Image_Classification\\\\MaskDataset\\\\test\\\\subfolder\\\\11026.jpg'"
      ]
     },
     "execution_count": 9,
     "metadata": {},
     "output_type": "execute_result"
    },
    {
     "data": {
      "text/plain": [
       "'C:\\\\Users\\\\steka\\\\Competition_Image_Classification\\\\MaskDataset\\\\test\\\\subfolder\\\\11045.jpg'"
      ]
     },
     "execution_count": 9,
     "metadata": {},
     "output_type": "execute_result"
    },
    {
     "data": {
      "text/plain": [
       "'C:\\\\Users\\\\steka\\\\Competition_Image_Classification\\\\MaskDataset\\\\test\\\\subfolder\\\\11115.jpg'"
      ]
     },
     "execution_count": 9,
     "metadata": {},
     "output_type": "execute_result"
    },
    {
     "data": {
      "text/plain": [
       "'C:\\\\Users\\\\steka\\\\Competition_Image_Classification\\\\MaskDataset\\\\test\\\\subfolder\\\\11130.jpg'"
      ]
     },
     "execution_count": 9,
     "metadata": {},
     "output_type": "execute_result"
    },
    {
     "data": {
      "text/plain": [
       "'C:\\\\Users\\\\steka\\\\Competition_Image_Classification\\\\MaskDataset\\\\test\\\\subfolder\\\\11136.jpg'"
      ]
     },
     "execution_count": 9,
     "metadata": {},
     "output_type": "execute_result"
    },
    {
     "data": {
      "text/plain": [
       "'C:\\\\Users\\\\steka\\\\Competition_Image_Classification\\\\MaskDataset\\\\test\\\\subfolder\\\\11137.jpg'"
      ]
     },
     "execution_count": 9,
     "metadata": {},
     "output_type": "execute_result"
    },
    {
     "data": {
      "text/plain": [
       "'C:\\\\Users\\\\steka\\\\Competition_Image_Classification\\\\MaskDataset\\\\test\\\\subfolder\\\\11175.jpg'"
      ]
     },
     "execution_count": 9,
     "metadata": {},
     "output_type": "execute_result"
    },
    {
     "data": {
      "text/plain": [
       "'C:\\\\Users\\\\steka\\\\Competition_Image_Classification\\\\MaskDataset\\\\test\\\\subfolder\\\\11176.jpg'"
      ]
     },
     "execution_count": 9,
     "metadata": {},
     "output_type": "execute_result"
    },
    {
     "data": {
      "text/plain": [
       "'C:\\\\Users\\\\steka\\\\Competition_Image_Classification\\\\MaskDataset\\\\test\\\\subfolder\\\\11202.jpg'"
      ]
     },
     "execution_count": 9,
     "metadata": {},
     "output_type": "execute_result"
    },
    {
     "data": {
      "text/plain": [
       "'C:\\\\Users\\\\steka\\\\Competition_Image_Classification\\\\MaskDataset\\\\test\\\\subfolder\\\\11204.jpg'"
      ]
     },
     "execution_count": 9,
     "metadata": {},
     "output_type": "execute_result"
    },
    {
     "data": {
      "text/plain": [
       "'C:\\\\Users\\\\steka\\\\Competition_Image_Classification\\\\MaskDataset\\\\test\\\\subfolder\\\\11205.jpg'"
      ]
     },
     "execution_count": 9,
     "metadata": {},
     "output_type": "execute_result"
    },
    {
     "data": {
      "text/plain": [
       "'C:\\\\Users\\\\steka\\\\Competition_Image_Classification\\\\MaskDataset\\\\test\\\\subfolder\\\\11210.jpg'"
      ]
     },
     "execution_count": 9,
     "metadata": {},
     "output_type": "execute_result"
    },
    {
     "data": {
      "text/plain": [
       "'C:\\\\Users\\\\steka\\\\Competition_Image_Classification\\\\MaskDataset\\\\test\\\\subfolder\\\\11221.jpg'"
      ]
     },
     "execution_count": 9,
     "metadata": {},
     "output_type": "execute_result"
    },
    {
     "data": {
      "text/plain": [
       "'C:\\\\Users\\\\steka\\\\Competition_Image_Classification\\\\MaskDataset\\\\test\\\\subfolder\\\\11222.jpg'"
      ]
     },
     "execution_count": 9,
     "metadata": {},
     "output_type": "execute_result"
    },
    {
     "data": {
      "text/plain": [
       "'C:\\\\Users\\\\steka\\\\Competition_Image_Classification\\\\MaskDataset\\\\test\\\\subfolder\\\\11233.jpg'"
      ]
     },
     "execution_count": 9,
     "metadata": {},
     "output_type": "execute_result"
    },
    {
     "data": {
      "text/plain": [
       "'C:\\\\Users\\\\steka\\\\Competition_Image_Classification\\\\MaskDataset\\\\test\\\\subfolder\\\\11260.jpg'"
      ]
     },
     "execution_count": 9,
     "metadata": {},
     "output_type": "execute_result"
    },
    {
     "data": {
      "text/plain": [
       "'C:\\\\Users\\\\steka\\\\Competition_Image_Classification\\\\MaskDataset\\\\test\\\\subfolder\\\\11277.jpg'"
      ]
     },
     "execution_count": 9,
     "metadata": {},
     "output_type": "execute_result"
    },
    {
     "data": {
      "text/plain": [
       "'C:\\\\Users\\\\steka\\\\Competition_Image_Classification\\\\MaskDataset\\\\test\\\\subfolder\\\\11286.jpg'"
      ]
     },
     "execution_count": 9,
     "metadata": {},
     "output_type": "execute_result"
    },
    {
     "data": {
      "text/plain": [
       "'C:\\\\Users\\\\steka\\\\Competition_Image_Classification\\\\MaskDataset\\\\test\\\\subfolder\\\\11300.jpg'"
      ]
     },
     "execution_count": 9,
     "metadata": {},
     "output_type": "execute_result"
    },
    {
     "data": {
      "text/plain": [
       "'C:\\\\Users\\\\steka\\\\Competition_Image_Classification\\\\MaskDataset\\\\test\\\\subfolder\\\\11315.jpg'"
      ]
     },
     "execution_count": 9,
     "metadata": {},
     "output_type": "execute_result"
    },
    {
     "data": {
      "text/plain": [
       "'C:\\\\Users\\\\steka\\\\Competition_Image_Classification\\\\MaskDataset\\\\test\\\\subfolder\\\\11322.jpg'"
      ]
     },
     "execution_count": 9,
     "metadata": {},
     "output_type": "execute_result"
    },
    {
     "data": {
      "text/plain": [
       "'C:\\\\Users\\\\steka\\\\Competition_Image_Classification\\\\MaskDataset\\\\test\\\\subfolder\\\\11345.jpg'"
      ]
     },
     "execution_count": 9,
     "metadata": {},
     "output_type": "execute_result"
    },
    {
     "data": {
      "text/plain": [
       "'C:\\\\Users\\\\steka\\\\Competition_Image_Classification\\\\MaskDataset\\\\test\\\\subfolder\\\\11362.jpg'"
      ]
     },
     "execution_count": 9,
     "metadata": {},
     "output_type": "execute_result"
    },
    {
     "data": {
      "text/plain": [
       "'C:\\\\Users\\\\steka\\\\Competition_Image_Classification\\\\MaskDataset\\\\test\\\\subfolder\\\\11365.jpg'"
      ]
     },
     "execution_count": 9,
     "metadata": {},
     "output_type": "execute_result"
    },
    {
     "data": {
      "text/plain": [
       "'C:\\\\Users\\\\steka\\\\Competition_Image_Classification\\\\MaskDataset\\\\test\\\\subfolder\\\\11377.jpg'"
      ]
     },
     "execution_count": 9,
     "metadata": {},
     "output_type": "execute_result"
    },
    {
     "data": {
      "text/plain": [
       "'C:\\\\Users\\\\steka\\\\Competition_Image_Classification\\\\MaskDataset\\\\test\\\\subfolder\\\\11398.jpg'"
      ]
     },
     "execution_count": 9,
     "metadata": {},
     "output_type": "execute_result"
    },
    {
     "data": {
      "text/plain": [
       "'C:\\\\Users\\\\steka\\\\Competition_Image_Classification\\\\MaskDataset\\\\test\\\\subfolder\\\\11412.jpg'"
      ]
     },
     "execution_count": 9,
     "metadata": {},
     "output_type": "execute_result"
    },
    {
     "data": {
      "text/plain": [
       "'C:\\\\Users\\\\steka\\\\Competition_Image_Classification\\\\MaskDataset\\\\test\\\\subfolder\\\\11425.jpg'"
      ]
     },
     "execution_count": 9,
     "metadata": {},
     "output_type": "execute_result"
    },
    {
     "data": {
      "text/plain": [
       "'C:\\\\Users\\\\steka\\\\Competition_Image_Classification\\\\MaskDataset\\\\test\\\\subfolder\\\\11439.jpg'"
      ]
     },
     "execution_count": 9,
     "metadata": {},
     "output_type": "execute_result"
    },
    {
     "data": {
      "text/plain": [
       "'C:\\\\Users\\\\steka\\\\Competition_Image_Classification\\\\MaskDataset\\\\test\\\\subfolder\\\\11488.jpg'"
      ]
     },
     "execution_count": 9,
     "metadata": {},
     "output_type": "execute_result"
    },
    {
     "data": {
      "text/plain": [
       "'C:\\\\Users\\\\steka\\\\Competition_Image_Classification\\\\MaskDataset\\\\test\\\\subfolder\\\\11499.jpg'"
      ]
     },
     "execution_count": 9,
     "metadata": {},
     "output_type": "execute_result"
    },
    {
     "data": {
      "text/plain": [
       "'C:\\\\Users\\\\steka\\\\Competition_Image_Classification\\\\MaskDataset\\\\test\\\\subfolder\\\\11522.jpg'"
      ]
     },
     "execution_count": 9,
     "metadata": {},
     "output_type": "execute_result"
    },
    {
     "data": {
      "text/plain": [
       "'C:\\\\Users\\\\steka\\\\Competition_Image_Classification\\\\MaskDataset\\\\test\\\\subfolder\\\\11558.jpg'"
      ]
     },
     "execution_count": 9,
     "metadata": {},
     "output_type": "execute_result"
    },
    {
     "data": {
      "text/plain": [
       "'C:\\\\Users\\\\steka\\\\Competition_Image_Classification\\\\MaskDataset\\\\test\\\\subfolder\\\\11559.jpg'"
      ]
     },
     "execution_count": 9,
     "metadata": {},
     "output_type": "execute_result"
    },
    {
     "data": {
      "text/plain": [
       "'C:\\\\Users\\\\steka\\\\Competition_Image_Classification\\\\MaskDataset\\\\test\\\\subfolder\\\\11579.jpg'"
      ]
     },
     "execution_count": 9,
     "metadata": {},
     "output_type": "execute_result"
    },
    {
     "data": {
      "text/plain": [
       "'C:\\\\Users\\\\steka\\\\Competition_Image_Classification\\\\MaskDataset\\\\test\\\\subfolder\\\\11587.jpg'"
      ]
     },
     "execution_count": 9,
     "metadata": {},
     "output_type": "execute_result"
    },
    {
     "data": {
      "text/plain": [
       "'C:\\\\Users\\\\steka\\\\Competition_Image_Classification\\\\MaskDataset\\\\test\\\\subfolder\\\\11612.jpg'"
      ]
     },
     "execution_count": 9,
     "metadata": {},
     "output_type": "execute_result"
    },
    {
     "data": {
      "text/plain": [
       "'C:\\\\Users\\\\steka\\\\Competition_Image_Classification\\\\MaskDataset\\\\test\\\\subfolder\\\\11616.jpg'"
      ]
     },
     "execution_count": 9,
     "metadata": {},
     "output_type": "execute_result"
    },
    {
     "data": {
      "text/plain": [
       "'C:\\\\Users\\\\steka\\\\Competition_Image_Classification\\\\MaskDataset\\\\test\\\\subfolder\\\\11638.jpg'"
      ]
     },
     "execution_count": 9,
     "metadata": {},
     "output_type": "execute_result"
    },
    {
     "data": {
      "text/plain": [
       "'C:\\\\Users\\\\steka\\\\Competition_Image_Classification\\\\MaskDataset\\\\test\\\\subfolder\\\\11653.jpg'"
      ]
     },
     "execution_count": 9,
     "metadata": {},
     "output_type": "execute_result"
    },
    {
     "data": {
      "text/plain": [
       "'C:\\\\Users\\\\steka\\\\Competition_Image_Classification\\\\MaskDataset\\\\test\\\\subfolder\\\\11680.jpg'"
      ]
     },
     "execution_count": 9,
     "metadata": {},
     "output_type": "execute_result"
    },
    {
     "data": {
      "text/plain": [
       "'C:\\\\Users\\\\steka\\\\Competition_Image_Classification\\\\MaskDataset\\\\test\\\\subfolder\\\\11681.jpg'"
      ]
     },
     "execution_count": 9,
     "metadata": {},
     "output_type": "execute_result"
    },
    {
     "data": {
      "text/plain": [
       "'C:\\\\Users\\\\steka\\\\Competition_Image_Classification\\\\MaskDataset\\\\test\\\\subfolder\\\\11702.jpg'"
      ]
     },
     "execution_count": 9,
     "metadata": {},
     "output_type": "execute_result"
    },
    {
     "data": {
      "text/plain": [
       "'C:\\\\Users\\\\steka\\\\Competition_Image_Classification\\\\MaskDataset\\\\test\\\\subfolder\\\\11734.jpg'"
      ]
     },
     "execution_count": 9,
     "metadata": {},
     "output_type": "execute_result"
    },
    {
     "data": {
      "text/plain": [
       "'C:\\\\Users\\\\steka\\\\Competition_Image_Classification\\\\MaskDataset\\\\test\\\\subfolder\\\\11739.jpg'"
      ]
     },
     "execution_count": 9,
     "metadata": {},
     "output_type": "execute_result"
    },
    {
     "data": {
      "text/plain": [
       "'C:\\\\Users\\\\steka\\\\Competition_Image_Classification\\\\MaskDataset\\\\test\\\\subfolder\\\\11740.jpg'"
      ]
     },
     "execution_count": 9,
     "metadata": {},
     "output_type": "execute_result"
    },
    {
     "data": {
      "text/plain": [
       "'C:\\\\Users\\\\steka\\\\Competition_Image_Classification\\\\MaskDataset\\\\test\\\\subfolder\\\\11754.jpg'"
      ]
     },
     "execution_count": 9,
     "metadata": {},
     "output_type": "execute_result"
    },
    {
     "data": {
      "text/plain": [
       "'C:\\\\Users\\\\steka\\\\Competition_Image_Classification\\\\MaskDataset\\\\test\\\\subfolder\\\\11755.jpg'"
      ]
     },
     "execution_count": 9,
     "metadata": {},
     "output_type": "execute_result"
    },
    {
     "data": {
      "text/plain": [
       "'C:\\\\Users\\\\steka\\\\Competition_Image_Classification\\\\MaskDataset\\\\test\\\\subfolder\\\\11764.jpg'"
      ]
     },
     "execution_count": 9,
     "metadata": {},
     "output_type": "execute_result"
    },
    {
     "data": {
      "text/plain": [
       "'C:\\\\Users\\\\steka\\\\Competition_Image_Classification\\\\MaskDataset\\\\test\\\\subfolder\\\\11773.jpg'"
      ]
     },
     "execution_count": 9,
     "metadata": {},
     "output_type": "execute_result"
    },
    {
     "data": {
      "text/plain": [
       "'C:\\\\Users\\\\steka\\\\Competition_Image_Classification\\\\MaskDataset\\\\test\\\\subfolder\\\\11783.jpg'"
      ]
     },
     "execution_count": 9,
     "metadata": {},
     "output_type": "execute_result"
    },
    {
     "data": {
      "text/plain": [
       "'C:\\\\Users\\\\steka\\\\Competition_Image_Classification\\\\MaskDataset\\\\test\\\\subfolder\\\\11785.jpg'"
      ]
     },
     "execution_count": 9,
     "metadata": {},
     "output_type": "execute_result"
    },
    {
     "data": {
      "text/plain": [
       "'C:\\\\Users\\\\steka\\\\Competition_Image_Classification\\\\MaskDataset\\\\test\\\\subfolder\\\\11790.jpg'"
      ]
     },
     "execution_count": 9,
     "metadata": {},
     "output_type": "execute_result"
    },
    {
     "data": {
      "text/plain": [
       "'C:\\\\Users\\\\steka\\\\Competition_Image_Classification\\\\MaskDataset\\\\test\\\\subfolder\\\\11839.jpg'"
      ]
     },
     "execution_count": 9,
     "metadata": {},
     "output_type": "execute_result"
    },
    {
     "data": {
      "text/plain": [
       "'C:\\\\Users\\\\steka\\\\Competition_Image_Classification\\\\MaskDataset\\\\test\\\\subfolder\\\\11850.jpg'"
      ]
     },
     "execution_count": 9,
     "metadata": {},
     "output_type": "execute_result"
    },
    {
     "data": {
      "text/plain": [
       "'C:\\\\Users\\\\steka\\\\Competition_Image_Classification\\\\MaskDataset\\\\test\\\\subfolder\\\\11852.jpg'"
      ]
     },
     "execution_count": 9,
     "metadata": {},
     "output_type": "execute_result"
    },
    {
     "data": {
      "text/plain": [
       "'C:\\\\Users\\\\steka\\\\Competition_Image_Classification\\\\MaskDataset\\\\test\\\\subfolder\\\\11877.jpg'"
      ]
     },
     "execution_count": 9,
     "metadata": {},
     "output_type": "execute_result"
    },
    {
     "data": {
      "text/plain": [
       "'C:\\\\Users\\\\steka\\\\Competition_Image_Classification\\\\MaskDataset\\\\test\\\\subfolder\\\\11880.jpg'"
      ]
     },
     "execution_count": 9,
     "metadata": {},
     "output_type": "execute_result"
    },
    {
     "data": {
      "text/plain": [
       "'C:\\\\Users\\\\steka\\\\Competition_Image_Classification\\\\MaskDataset\\\\test\\\\subfolder\\\\11897.jpg'"
      ]
     },
     "execution_count": 9,
     "metadata": {},
     "output_type": "execute_result"
    },
    {
     "data": {
      "text/plain": [
       "'C:\\\\Users\\\\steka\\\\Competition_Image_Classification\\\\MaskDataset\\\\test\\\\subfolder\\\\11904.jpg'"
      ]
     },
     "execution_count": 9,
     "metadata": {},
     "output_type": "execute_result"
    },
    {
     "data": {
      "text/plain": [
       "'C:\\\\Users\\\\steka\\\\Competition_Image_Classification\\\\MaskDataset\\\\test\\\\subfolder\\\\11906.jpg'"
      ]
     },
     "execution_count": 9,
     "metadata": {},
     "output_type": "execute_result"
    },
    {
     "data": {
      "text/plain": [
       "'C:\\\\Users\\\\steka\\\\Competition_Image_Classification\\\\MaskDataset\\\\test\\\\subfolder\\\\11941.jpg'"
      ]
     },
     "execution_count": 9,
     "metadata": {},
     "output_type": "execute_result"
    },
    {
     "data": {
      "text/plain": [
       "'C:\\\\Users\\\\steka\\\\Competition_Image_Classification\\\\MaskDataset\\\\test\\\\subfolder\\\\11955.jpg'"
      ]
     },
     "execution_count": 9,
     "metadata": {},
     "output_type": "execute_result"
    },
    {
     "data": {
      "text/plain": [
       "'C:\\\\Users\\\\steka\\\\Competition_Image_Classification\\\\MaskDataset\\\\test\\\\subfolder\\\\11980.jpg'"
      ]
     },
     "execution_count": 9,
     "metadata": {},
     "output_type": "execute_result"
    },
    {
     "data": {
      "text/plain": [
       "'C:\\\\Users\\\\steka\\\\Competition_Image_Classification\\\\MaskDataset\\\\test\\\\subfolder\\\\11986.jpg'"
      ]
     },
     "execution_count": 9,
     "metadata": {},
     "output_type": "execute_result"
    },
    {
     "data": {
      "text/plain": [
       "'C:\\\\Users\\\\steka\\\\Competition_Image_Classification\\\\MaskDataset\\\\test\\\\subfolder\\\\12008.jpg'"
      ]
     },
     "execution_count": 9,
     "metadata": {},
     "output_type": "execute_result"
    },
    {
     "data": {
      "text/plain": [
       "'C:\\\\Users\\\\steka\\\\Competition_Image_Classification\\\\MaskDataset\\\\test\\\\subfolder\\\\12128.jpg'"
      ]
     },
     "execution_count": 9,
     "metadata": {},
     "output_type": "execute_result"
    },
    {
     "data": {
      "text/plain": [
       "'C:\\\\Users\\\\steka\\\\Competition_Image_Classification\\\\MaskDataset\\\\test\\\\subfolder\\\\12142.jpg'"
      ]
     },
     "execution_count": 9,
     "metadata": {},
     "output_type": "execute_result"
    },
    {
     "data": {
      "text/plain": [
       "'C:\\\\Users\\\\steka\\\\Competition_Image_Classification\\\\MaskDataset\\\\test\\\\subfolder\\\\12158.jpg'"
      ]
     },
     "execution_count": 9,
     "metadata": {},
     "output_type": "execute_result"
    },
    {
     "data": {
      "text/plain": [
       "'C:\\\\Users\\\\steka\\\\Competition_Image_Classification\\\\MaskDataset\\\\test\\\\subfolder\\\\12172.jpg'"
      ]
     },
     "execution_count": 9,
     "metadata": {},
     "output_type": "execute_result"
    },
    {
     "data": {
      "text/plain": [
       "'C:\\\\Users\\\\steka\\\\Competition_Image_Classification\\\\MaskDataset\\\\test\\\\subfolder\\\\12191.jpg'"
      ]
     },
     "execution_count": 9,
     "metadata": {},
     "output_type": "execute_result"
    },
    {
     "data": {
      "text/plain": [
       "'C:\\\\Users\\\\steka\\\\Competition_Image_Classification\\\\MaskDataset\\\\test\\\\subfolder\\\\12223.jpg'"
      ]
     },
     "execution_count": 9,
     "metadata": {},
     "output_type": "execute_result"
    },
    {
     "data": {
      "text/plain": [
       "'C:\\\\Users\\\\steka\\\\Competition_Image_Classification\\\\MaskDataset\\\\test\\\\subfolder\\\\12243.jpg'"
      ]
     },
     "execution_count": 9,
     "metadata": {},
     "output_type": "execute_result"
    },
    {
     "data": {
      "text/plain": [
       "'C:\\\\Users\\\\steka\\\\Competition_Image_Classification\\\\MaskDataset\\\\test\\\\subfolder\\\\12251.jpg'"
      ]
     },
     "execution_count": 9,
     "metadata": {},
     "output_type": "execute_result"
    },
    {
     "data": {
      "text/plain": [
       "'C:\\\\Users\\\\steka\\\\Competition_Image_Classification\\\\MaskDataset\\\\test\\\\subfolder\\\\12270.jpg'"
      ]
     },
     "execution_count": 9,
     "metadata": {},
     "output_type": "execute_result"
    },
    {
     "data": {
      "text/plain": [
       "'C:\\\\Users\\\\steka\\\\Competition_Image_Classification\\\\MaskDataset\\\\test\\\\subfolder\\\\12277.jpg'"
      ]
     },
     "execution_count": 9,
     "metadata": {},
     "output_type": "execute_result"
    },
    {
     "data": {
      "text/plain": [
       "'C:\\\\Users\\\\steka\\\\Competition_Image_Classification\\\\MaskDataset\\\\test\\\\subfolder\\\\12332.jpg'"
      ]
     },
     "execution_count": 9,
     "metadata": {},
     "output_type": "execute_result"
    },
    {
     "data": {
      "text/plain": [
       "'C:\\\\Users\\\\steka\\\\Competition_Image_Classification\\\\MaskDataset\\\\test\\\\subfolder\\\\12352.jpg'"
      ]
     },
     "execution_count": 9,
     "metadata": {},
     "output_type": "execute_result"
    },
    {
     "data": {
      "text/plain": [
       "'C:\\\\Users\\\\steka\\\\Competition_Image_Classification\\\\MaskDataset\\\\test\\\\subfolder\\\\12359.jpg'"
      ]
     },
     "execution_count": 9,
     "metadata": {},
     "output_type": "execute_result"
    },
    {
     "data": {
      "text/plain": [
       "'C:\\\\Users\\\\steka\\\\Competition_Image_Classification\\\\MaskDataset\\\\test\\\\subfolder\\\\12385.jpg'"
      ]
     },
     "execution_count": 9,
     "metadata": {},
     "output_type": "execute_result"
    },
    {
     "data": {
      "text/plain": [
       "'C:\\\\Users\\\\steka\\\\Competition_Image_Classification\\\\MaskDataset\\\\test\\\\subfolder\\\\12424.jpg'"
      ]
     },
     "execution_count": 9,
     "metadata": {},
     "output_type": "execute_result"
    },
    {
     "data": {
      "text/plain": [
       "'C:\\\\Users\\\\steka\\\\Competition_Image_Classification\\\\MaskDataset\\\\test\\\\subfolder\\\\12448.jpg'"
      ]
     },
     "execution_count": 9,
     "metadata": {},
     "output_type": "execute_result"
    },
    {
     "data": {
      "text/plain": [
       "'C:\\\\Users\\\\steka\\\\Competition_Image_Classification\\\\MaskDataset\\\\test\\\\subfolder\\\\12489.jpg'"
      ]
     },
     "execution_count": 9,
     "metadata": {},
     "output_type": "execute_result"
    },
    {
     "data": {
      "text/plain": [
       "'C:\\\\Users\\\\steka\\\\Competition_Image_Classification\\\\MaskDataset\\\\test\\\\subfolder\\\\12503.jpg'"
      ]
     },
     "execution_count": 9,
     "metadata": {},
     "output_type": "execute_result"
    },
    {
     "data": {
      "text/plain": [
       "'C:\\\\Users\\\\steka\\\\Competition_Image_Classification\\\\MaskDataset\\\\test\\\\subfolder\\\\12532.jpg'"
      ]
     },
     "execution_count": 9,
     "metadata": {},
     "output_type": "execute_result"
    },
    {
     "data": {
      "text/plain": [
       "'C:\\\\Users\\\\steka\\\\Competition_Image_Classification\\\\MaskDataset\\\\test\\\\subfolder\\\\12533.jpg'"
      ]
     },
     "execution_count": 9,
     "metadata": {},
     "output_type": "execute_result"
    },
    {
     "data": {
      "text/plain": [
       "'C:\\\\Users\\\\steka\\\\Competition_Image_Classification\\\\MaskDataset\\\\test\\\\subfolder\\\\12535.jpg'"
      ]
     },
     "execution_count": 9,
     "metadata": {},
     "output_type": "execute_result"
    },
    {
     "data": {
      "text/plain": [
       "'C:\\\\Users\\\\steka\\\\Competition_Image_Classification\\\\MaskDataset\\\\test\\\\subfolder\\\\12557.jpg'"
      ]
     },
     "execution_count": 9,
     "metadata": {},
     "output_type": "execute_result"
    },
    {
     "data": {
      "text/plain": [
       "'C:\\\\Users\\\\steka\\\\Competition_Image_Classification\\\\MaskDataset\\\\test\\\\subfolder\\\\12567.jpg'"
      ]
     },
     "execution_count": 9,
     "metadata": {},
     "output_type": "execute_result"
    },
    {
     "data": {
      "text/plain": [
       "'C:\\\\Users\\\\steka\\\\Competition_Image_Classification\\\\MaskDataset\\\\test\\\\subfolder\\\\12615.jpg'"
      ]
     },
     "execution_count": 9,
     "metadata": {},
     "output_type": "execute_result"
    },
    {
     "data": {
      "text/plain": [
       "'C:\\\\Users\\\\steka\\\\Competition_Image_Classification\\\\MaskDataset\\\\test\\\\subfolder\\\\12619.jpg'"
      ]
     },
     "execution_count": 9,
     "metadata": {},
     "output_type": "execute_result"
    },
    {
     "data": {
      "text/plain": [
       "'C:\\\\Users\\\\steka\\\\Competition_Image_Classification\\\\MaskDataset\\\\test\\\\subfolder\\\\12634.jpg'"
      ]
     },
     "execution_count": 9,
     "metadata": {},
     "output_type": "execute_result"
    },
    {
     "data": {
      "text/plain": [
       "'C:\\\\Users\\\\steka\\\\Competition_Image_Classification\\\\MaskDataset\\\\test\\\\subfolder\\\\12636.jpg'"
      ]
     },
     "execution_count": 9,
     "metadata": {},
     "output_type": "execute_result"
    },
    {
     "data": {
      "text/plain": [
       "'C:\\\\Users\\\\steka\\\\Competition_Image_Classification\\\\MaskDataset\\\\test\\\\subfolder\\\\12646.jpg'"
      ]
     },
     "execution_count": 9,
     "metadata": {},
     "output_type": "execute_result"
    },
    {
     "data": {
      "text/plain": [
       "'C:\\\\Users\\\\steka\\\\Competition_Image_Classification\\\\MaskDataset\\\\test\\\\subfolder\\\\12679.jpg'"
      ]
     },
     "execution_count": 9,
     "metadata": {},
     "output_type": "execute_result"
    },
    {
     "data": {
      "text/plain": [
       "'C:\\\\Users\\\\steka\\\\Competition_Image_Classification\\\\MaskDataset\\\\test\\\\subfolder\\\\12710.jpg'"
      ]
     },
     "execution_count": 9,
     "metadata": {},
     "output_type": "execute_result"
    },
    {
     "data": {
      "text/plain": [
       "'C:\\\\Users\\\\steka\\\\Competition_Image_Classification\\\\MaskDataset\\\\test\\\\subfolder\\\\12717.jpg'"
      ]
     },
     "execution_count": 9,
     "metadata": {},
     "output_type": "execute_result"
    },
    {
     "data": {
      "text/plain": [
       "'C:\\\\Users\\\\steka\\\\Competition_Image_Classification\\\\MaskDataset\\\\test\\\\subfolder\\\\12772.jpg'"
      ]
     },
     "execution_count": 9,
     "metadata": {},
     "output_type": "execute_result"
    },
    {
     "data": {
      "text/plain": [
       "'C:\\\\Users\\\\steka\\\\Competition_Image_Classification\\\\MaskDataset\\\\test\\\\subfolder\\\\12775.jpg'"
      ]
     },
     "execution_count": 9,
     "metadata": {},
     "output_type": "execute_result"
    },
    {
     "data": {
      "text/plain": [
       "'C:\\\\Users\\\\steka\\\\Competition_Image_Classification\\\\MaskDataset\\\\test\\\\subfolder\\\\12786.jpg'"
      ]
     },
     "execution_count": 9,
     "metadata": {},
     "output_type": "execute_result"
    },
    {
     "data": {
      "text/plain": [
       "'C:\\\\Users\\\\steka\\\\Competition_Image_Classification\\\\MaskDataset\\\\test\\\\subfolder\\\\12799.jpg'"
      ]
     },
     "execution_count": 9,
     "metadata": {},
     "output_type": "execute_result"
    },
    {
     "data": {
      "text/plain": [
       "'C:\\\\Users\\\\steka\\\\Competition_Image_Classification\\\\MaskDataset\\\\test\\\\subfolder\\\\12802.jpg'"
      ]
     },
     "execution_count": 9,
     "metadata": {},
     "output_type": "execute_result"
    },
    {
     "data": {
      "text/plain": [
       "'C:\\\\Users\\\\steka\\\\Competition_Image_Classification\\\\MaskDataset\\\\test\\\\subfolder\\\\12809.jpg'"
      ]
     },
     "execution_count": 9,
     "metadata": {},
     "output_type": "execute_result"
    },
    {
     "data": {
      "text/plain": [
       "'C:\\\\Users\\\\steka\\\\Competition_Image_Classification\\\\MaskDataset\\\\test\\\\subfolder\\\\12822.jpg'"
      ]
     },
     "execution_count": 9,
     "metadata": {},
     "output_type": "execute_result"
    },
    {
     "data": {
      "text/plain": [
       "'C:\\\\Users\\\\steka\\\\Competition_Image_Classification\\\\MaskDataset\\\\test\\\\subfolder\\\\12833.jpg'"
      ]
     },
     "execution_count": 9,
     "metadata": {},
     "output_type": "execute_result"
    },
    {
     "data": {
      "text/plain": [
       "'C:\\\\Users\\\\steka\\\\Competition_Image_Classification\\\\MaskDataset\\\\test\\\\subfolder\\\\12846.jpg'"
      ]
     },
     "execution_count": 9,
     "metadata": {},
     "output_type": "execute_result"
    },
    {
     "data": {
      "text/plain": [
       "'C:\\\\Users\\\\steka\\\\Competition_Image_Classification\\\\MaskDataset\\\\test\\\\subfolder\\\\12912.jpg'"
      ]
     },
     "execution_count": 9,
     "metadata": {},
     "output_type": "execute_result"
    },
    {
     "data": {
      "text/plain": [
       "'C:\\\\Users\\\\steka\\\\Competition_Image_Classification\\\\MaskDataset\\\\test\\\\subfolder\\\\12918.jpg'"
      ]
     },
     "execution_count": 9,
     "metadata": {},
     "output_type": "execute_result"
    },
    {
     "data": {
      "text/plain": [
       "'C:\\\\Users\\\\steka\\\\Competition_Image_Classification\\\\MaskDataset\\\\test\\\\subfolder\\\\12964.jpg'"
      ]
     },
     "execution_count": 9,
     "metadata": {},
     "output_type": "execute_result"
    },
    {
     "data": {
      "text/plain": [
       "'C:\\\\Users\\\\steka\\\\Competition_Image_Classification\\\\MaskDataset\\\\test\\\\subfolder\\\\12970.jpg'"
      ]
     },
     "execution_count": 9,
     "metadata": {},
     "output_type": "execute_result"
    },
    {
     "data": {
      "text/plain": [
       "'C:\\\\Users\\\\steka\\\\Competition_Image_Classification\\\\MaskDataset\\\\test\\\\subfolder\\\\12972.jpg'"
      ]
     },
     "execution_count": 9,
     "metadata": {},
     "output_type": "execute_result"
    },
    {
     "data": {
      "text/plain": [
       "'C:\\\\Users\\\\steka\\\\Competition_Image_Classification\\\\MaskDataset\\\\test\\\\subfolder\\\\12988.jpg'"
      ]
     },
     "execution_count": 9,
     "metadata": {},
     "output_type": "execute_result"
    },
    {
     "data": {
      "text/plain": [
       "'C:\\\\Users\\\\steka\\\\Competition_Image_Classification\\\\MaskDataset\\\\test\\\\subfolder\\\\12992.jpg'"
      ]
     },
     "execution_count": 9,
     "metadata": {},
     "output_type": "execute_result"
    },
    {
     "data": {
      "text/plain": [
       "'C:\\\\Users\\\\steka\\\\Competition_Image_Classification\\\\MaskDataset\\\\test\\\\subfolder\\\\12995.jpg'"
      ]
     },
     "execution_count": 9,
     "metadata": {},
     "output_type": "execute_result"
    },
    {
     "data": {
      "text/plain": [
       "'C:\\\\Users\\\\steka\\\\Competition_Image_Classification\\\\MaskDataset\\\\test\\\\subfolder\\\\12996.jpg'"
      ]
     },
     "execution_count": 9,
     "metadata": {},
     "output_type": "execute_result"
    },
    {
     "data": {
      "text/plain": [
       "'C:\\\\Users\\\\steka\\\\Competition_Image_Classification\\\\MaskDataset\\\\test\\\\subfolder\\\\13030.jpg'"
      ]
     },
     "execution_count": 9,
     "metadata": {},
     "output_type": "execute_result"
    },
    {
     "data": {
      "text/plain": [
       "'C:\\\\Users\\\\steka\\\\Competition_Image_Classification\\\\MaskDataset\\\\test\\\\subfolder\\\\13031.jpg'"
      ]
     },
     "execution_count": 9,
     "metadata": {},
     "output_type": "execute_result"
    },
    {
     "data": {
      "text/plain": [
       "'C:\\\\Users\\\\steka\\\\Competition_Image_Classification\\\\MaskDataset\\\\test\\\\subfolder\\\\13046.jpg'"
      ]
     },
     "execution_count": 9,
     "metadata": {},
     "output_type": "execute_result"
    },
    {
     "data": {
      "text/plain": [
       "'C:\\\\Users\\\\steka\\\\Competition_Image_Classification\\\\MaskDataset\\\\test\\\\subfolder\\\\13056.jpg'"
      ]
     },
     "execution_count": 9,
     "metadata": {},
     "output_type": "execute_result"
    },
    {
     "data": {
      "text/plain": [
       "'C:\\\\Users\\\\steka\\\\Competition_Image_Classification\\\\MaskDataset\\\\test\\\\subfolder\\\\13087.jpg'"
      ]
     },
     "execution_count": 9,
     "metadata": {},
     "output_type": "execute_result"
    },
    {
     "data": {
      "text/plain": [
       "'C:\\\\Users\\\\steka\\\\Competition_Image_Classification\\\\MaskDataset\\\\test\\\\subfolder\\\\13091.jpg'"
      ]
     },
     "execution_count": 9,
     "metadata": {},
     "output_type": "execute_result"
    },
    {
     "data": {
      "text/plain": [
       "'C:\\\\Users\\\\steka\\\\Competition_Image_Classification\\\\MaskDataset\\\\test\\\\subfolder\\\\13100.jpg'"
      ]
     },
     "execution_count": 9,
     "metadata": {},
     "output_type": "execute_result"
    },
    {
     "data": {
      "text/plain": [
       "'C:\\\\Users\\\\steka\\\\Competition_Image_Classification\\\\MaskDataset\\\\test\\\\subfolder\\\\13107.jpg'"
      ]
     },
     "execution_count": 9,
     "metadata": {},
     "output_type": "execute_result"
    },
    {
     "data": {
      "text/plain": [
       "'C:\\\\Users\\\\steka\\\\Competition_Image_Classification\\\\MaskDataset\\\\test\\\\subfolder\\\\13161.jpg'"
      ]
     },
     "execution_count": 9,
     "metadata": {},
     "output_type": "execute_result"
    },
    {
     "data": {
      "text/plain": [
       "'C:\\\\Users\\\\steka\\\\Competition_Image_Classification\\\\MaskDataset\\\\test\\\\subfolder\\\\13219.jpg'"
      ]
     },
     "execution_count": 9,
     "metadata": {},
     "output_type": "execute_result"
    },
    {
     "data": {
      "text/plain": [
       "'C:\\\\Users\\\\steka\\\\Competition_Image_Classification\\\\MaskDataset\\\\test\\\\subfolder\\\\13220.jpg'"
      ]
     },
     "execution_count": 9,
     "metadata": {},
     "output_type": "execute_result"
    },
    {
     "data": {
      "text/plain": [
       "'C:\\\\Users\\\\steka\\\\Competition_Image_Classification\\\\MaskDataset\\\\test\\\\subfolder\\\\13273.jpg'"
      ]
     },
     "execution_count": 9,
     "metadata": {},
     "output_type": "execute_result"
    },
    {
     "data": {
      "text/plain": [
       "'C:\\\\Users\\\\steka\\\\Competition_Image_Classification\\\\MaskDataset\\\\test\\\\subfolder\\\\13318.jpg'"
      ]
     },
     "execution_count": 9,
     "metadata": {},
     "output_type": "execute_result"
    },
    {
     "data": {
      "text/plain": [
       "'C:\\\\Users\\\\steka\\\\Competition_Image_Classification\\\\MaskDataset\\\\test\\\\subfolder\\\\13322.jpg'"
      ]
     },
     "execution_count": 9,
     "metadata": {},
     "output_type": "execute_result"
    },
    {
     "data": {
      "text/plain": [
       "'C:\\\\Users\\\\steka\\\\Competition_Image_Classification\\\\MaskDataset\\\\test\\\\subfolder\\\\13326.jpg'"
      ]
     },
     "execution_count": 9,
     "metadata": {},
     "output_type": "execute_result"
    },
    {
     "data": {
      "text/plain": [
       "'C:\\\\Users\\\\steka\\\\Competition_Image_Classification\\\\MaskDataset\\\\test\\\\subfolder\\\\13344.jpg'"
      ]
     },
     "execution_count": 9,
     "metadata": {},
     "output_type": "execute_result"
    },
    {
     "data": {
      "text/plain": [
       "'C:\\\\Users\\\\steka\\\\Competition_Image_Classification\\\\MaskDataset\\\\test\\\\subfolder\\\\13348.jpg'"
      ]
     },
     "execution_count": 9,
     "metadata": {},
     "output_type": "execute_result"
    },
    {
     "data": {
      "text/plain": [
       "'C:\\\\Users\\\\steka\\\\Competition_Image_Classification\\\\MaskDataset\\\\test\\\\subfolder\\\\13373.jpg'"
      ]
     },
     "execution_count": 9,
     "metadata": {},
     "output_type": "execute_result"
    },
    {
     "data": {
      "text/plain": [
       "'C:\\\\Users\\\\steka\\\\Competition_Image_Classification\\\\MaskDataset\\\\test\\\\subfolder\\\\13381.jpg'"
      ]
     },
     "execution_count": 9,
     "metadata": {},
     "output_type": "execute_result"
    },
    {
     "data": {
      "text/plain": [
       "'C:\\\\Users\\\\steka\\\\Competition_Image_Classification\\\\MaskDataset\\\\test\\\\subfolder\\\\13392.jpg'"
      ]
     },
     "execution_count": 9,
     "metadata": {},
     "output_type": "execute_result"
    },
    {
     "data": {
      "text/plain": [
       "'C:\\\\Users\\\\steka\\\\Competition_Image_Classification\\\\MaskDataset\\\\test\\\\subfolder\\\\13407.jpg'"
      ]
     },
     "execution_count": 9,
     "metadata": {},
     "output_type": "execute_result"
    },
    {
     "data": {
      "text/plain": [
       "'C:\\\\Users\\\\steka\\\\Competition_Image_Classification\\\\MaskDataset\\\\test\\\\subfolder\\\\13475.jpg'"
      ]
     },
     "execution_count": 9,
     "metadata": {},
     "output_type": "execute_result"
    },
    {
     "data": {
      "text/plain": [
       "'C:\\\\Users\\\\steka\\\\Competition_Image_Classification\\\\MaskDataset\\\\test\\\\subfolder\\\\13490.jpg'"
      ]
     },
     "execution_count": 9,
     "metadata": {},
     "output_type": "execute_result"
    },
    {
     "data": {
      "text/plain": [
       "'C:\\\\Users\\\\steka\\\\Competition_Image_Classification\\\\MaskDataset\\\\test\\\\subfolder\\\\13503.jpg'"
      ]
     },
     "execution_count": 9,
     "metadata": {},
     "output_type": "execute_result"
    },
    {
     "data": {
      "text/plain": [
       "'C:\\\\Users\\\\steka\\\\Competition_Image_Classification\\\\MaskDataset\\\\test\\\\subfolder\\\\13506.jpg'"
      ]
     },
     "execution_count": 9,
     "metadata": {},
     "output_type": "execute_result"
    },
    {
     "data": {
      "text/plain": [
       "'C:\\\\Users\\\\steka\\\\Competition_Image_Classification\\\\MaskDataset\\\\test\\\\subfolder\\\\13524.jpg'"
      ]
     },
     "execution_count": 9,
     "metadata": {},
     "output_type": "execute_result"
    },
    {
     "data": {
      "text/plain": [
       "'C:\\\\Users\\\\steka\\\\Competition_Image_Classification\\\\MaskDataset\\\\test\\\\subfolder\\\\13527.jpg'"
      ]
     },
     "execution_count": 9,
     "metadata": {},
     "output_type": "execute_result"
    },
    {
     "data": {
      "text/plain": [
       "'C:\\\\Users\\\\steka\\\\Competition_Image_Classification\\\\MaskDataset\\\\test\\\\subfolder\\\\13536.jpg'"
      ]
     },
     "execution_count": 9,
     "metadata": {},
     "output_type": "execute_result"
    },
    {
     "data": {
      "text/plain": [
       "'C:\\\\Users\\\\steka\\\\Competition_Image_Classification\\\\MaskDataset\\\\test\\\\subfolder\\\\13543.jpg'"
      ]
     },
     "execution_count": 9,
     "metadata": {},
     "output_type": "execute_result"
    },
    {
     "data": {
      "text/plain": [
       "'C:\\\\Users\\\\steka\\\\Competition_Image_Classification\\\\MaskDataset\\\\test\\\\subfolder\\\\13554.jpg'"
      ]
     },
     "execution_count": 9,
     "metadata": {},
     "output_type": "execute_result"
    },
    {
     "data": {
      "text/plain": [
       "'C:\\\\Users\\\\steka\\\\Competition_Image_Classification\\\\MaskDataset\\\\test\\\\subfolder\\\\13584.jpg'"
      ]
     },
     "execution_count": 9,
     "metadata": {},
     "output_type": "execute_result"
    },
    {
     "data": {
      "text/plain": [
       "'C:\\\\Users\\\\steka\\\\Competition_Image_Classification\\\\MaskDataset\\\\test\\\\subfolder\\\\13617.jpg'"
      ]
     },
     "execution_count": 9,
     "metadata": {},
     "output_type": "execute_result"
    },
    {
     "data": {
      "text/plain": [
       "'C:\\\\Users\\\\steka\\\\Competition_Image_Classification\\\\MaskDataset\\\\test\\\\subfolder\\\\13633.jpg'"
      ]
     },
     "execution_count": 9,
     "metadata": {},
     "output_type": "execute_result"
    },
    {
     "data": {
      "text/plain": [
       "'C:\\\\Users\\\\steka\\\\Competition_Image_Classification\\\\MaskDataset\\\\test\\\\subfolder\\\\13656.jpg'"
      ]
     },
     "execution_count": 9,
     "metadata": {},
     "output_type": "execute_result"
    },
    {
     "data": {
      "text/plain": [
       "'C:\\\\Users\\\\steka\\\\Competition_Image_Classification\\\\MaskDataset\\\\test\\\\subfolder\\\\13663.jpg'"
      ]
     },
     "execution_count": 9,
     "metadata": {},
     "output_type": "execute_result"
    },
    {
     "data": {
      "text/plain": [
       "'C:\\\\Users\\\\steka\\\\Competition_Image_Classification\\\\MaskDataset\\\\test\\\\subfolder\\\\13693.jpg'"
      ]
     },
     "execution_count": 9,
     "metadata": {},
     "output_type": "execute_result"
    },
    {
     "data": {
      "text/plain": [
       "'C:\\\\Users\\\\steka\\\\Competition_Image_Classification\\\\MaskDataset\\\\test\\\\subfolder\\\\13701.jpg'"
      ]
     },
     "execution_count": 9,
     "metadata": {},
     "output_type": "execute_result"
    },
    {
     "data": {
      "text/plain": [
       "'C:\\\\Users\\\\steka\\\\Competition_Image_Classification\\\\MaskDataset\\\\test\\\\subfolder\\\\13710.jpg'"
      ]
     },
     "execution_count": 9,
     "metadata": {},
     "output_type": "execute_result"
    },
    {
     "data": {
      "text/plain": [
       "'C:\\\\Users\\\\steka\\\\Competition_Image_Classification\\\\MaskDataset\\\\test\\\\subfolder\\\\13760.jpg'"
      ]
     },
     "execution_count": 9,
     "metadata": {},
     "output_type": "execute_result"
    },
    {
     "data": {
      "text/plain": [
       "'C:\\\\Users\\\\steka\\\\Competition_Image_Classification\\\\MaskDataset\\\\test\\\\subfolder\\\\13818.jpg'"
      ]
     },
     "execution_count": 9,
     "metadata": {},
     "output_type": "execute_result"
    },
    {
     "data": {
      "text/plain": [
       "'C:\\\\Users\\\\steka\\\\Competition_Image_Classification\\\\MaskDataset\\\\test\\\\subfolder\\\\13830.jpg'"
      ]
     },
     "execution_count": 9,
     "metadata": {},
     "output_type": "execute_result"
    },
    {
     "data": {
      "text/plain": [
       "'C:\\\\Users\\\\steka\\\\Competition_Image_Classification\\\\MaskDataset\\\\test\\\\subfolder\\\\13870.jpg'"
      ]
     },
     "execution_count": 9,
     "metadata": {},
     "output_type": "execute_result"
    },
    {
     "data": {
      "text/plain": [
       "'C:\\\\Users\\\\steka\\\\Competition_Image_Classification\\\\MaskDataset\\\\test\\\\subfolder\\\\13888.jpg'"
      ]
     },
     "execution_count": 9,
     "metadata": {},
     "output_type": "execute_result"
    },
    {
     "data": {
      "text/plain": [
       "'C:\\\\Users\\\\steka\\\\Competition_Image_Classification\\\\MaskDataset\\\\test\\\\subfolder\\\\13892.jpg'"
      ]
     },
     "execution_count": 9,
     "metadata": {},
     "output_type": "execute_result"
    },
    {
     "data": {
      "text/plain": [
       "'C:\\\\Users\\\\steka\\\\Competition_Image_Classification\\\\MaskDataset\\\\test\\\\subfolder\\\\13894.jpg'"
      ]
     },
     "execution_count": 9,
     "metadata": {},
     "output_type": "execute_result"
    },
    {
     "data": {
      "text/plain": [
       "'C:\\\\Users\\\\steka\\\\Competition_Image_Classification\\\\MaskDataset\\\\test\\\\subfolder\\\\13911.jpg'"
      ]
     },
     "execution_count": 9,
     "metadata": {},
     "output_type": "execute_result"
    },
    {
     "data": {
      "text/plain": [
       "'C:\\\\Users\\\\steka\\\\Competition_Image_Classification\\\\MaskDataset\\\\test\\\\subfolder\\\\13916.jpg'"
      ]
     },
     "execution_count": 9,
     "metadata": {},
     "output_type": "execute_result"
    },
    {
     "data": {
      "text/plain": [
       "'C:\\\\Users\\\\steka\\\\Competition_Image_Classification\\\\MaskDataset\\\\test\\\\subfolder\\\\13926.jpg'"
      ]
     },
     "execution_count": 9,
     "metadata": {},
     "output_type": "execute_result"
    },
    {
     "data": {
      "text/plain": [
       "'C:\\\\Users\\\\steka\\\\Competition_Image_Classification\\\\MaskDataset\\\\test\\\\subfolder\\\\13931.jpg'"
      ]
     },
     "execution_count": 9,
     "metadata": {},
     "output_type": "execute_result"
    },
    {
     "data": {
      "text/plain": [
       "'C:\\\\Users\\\\steka\\\\Competition_Image_Classification\\\\MaskDataset\\\\test\\\\subfolder\\\\13938.jpg'"
      ]
     },
     "execution_count": 9,
     "metadata": {},
     "output_type": "execute_result"
    },
    {
     "data": {
      "text/plain": [
       "'C:\\\\Users\\\\steka\\\\Competition_Image_Classification\\\\MaskDataset\\\\test\\\\subfolder\\\\13942.jpg'"
      ]
     },
     "execution_count": 9,
     "metadata": {},
     "output_type": "execute_result"
    },
    {
     "data": {
      "text/plain": [
       "'C:\\\\Users\\\\steka\\\\Competition_Image_Classification\\\\MaskDataset\\\\test\\\\subfolder\\\\13974.jpg'"
      ]
     },
     "execution_count": 9,
     "metadata": {},
     "output_type": "execute_result"
    },
    {
     "data": {
      "text/plain": [
       "'C:\\\\Users\\\\steka\\\\Competition_Image_Classification\\\\MaskDataset\\\\test\\\\subfolder\\\\13980.jpg'"
      ]
     },
     "execution_count": 9,
     "metadata": {},
     "output_type": "execute_result"
    },
    {
     "data": {
      "text/plain": [
       "'C:\\\\Users\\\\steka\\\\Competition_Image_Classification\\\\MaskDataset\\\\test\\\\subfolder\\\\14014.jpg'"
      ]
     },
     "execution_count": 9,
     "metadata": {},
     "output_type": "execute_result"
    },
    {
     "data": {
      "text/plain": [
       "'C:\\\\Users\\\\steka\\\\Competition_Image_Classification\\\\MaskDataset\\\\test\\\\subfolder\\\\14033.jpg'"
      ]
     },
     "execution_count": 9,
     "metadata": {},
     "output_type": "execute_result"
    },
    {
     "data": {
      "text/plain": [
       "'C:\\\\Users\\\\steka\\\\Competition_Image_Classification\\\\MaskDataset\\\\test\\\\subfolder\\\\14077.jpg'"
      ]
     },
     "execution_count": 9,
     "metadata": {},
     "output_type": "execute_result"
    },
    {
     "data": {
      "text/plain": [
       "'C:\\\\Users\\\\steka\\\\Competition_Image_Classification\\\\MaskDataset\\\\test\\\\subfolder\\\\14078.jpg'"
      ]
     },
     "execution_count": 9,
     "metadata": {},
     "output_type": "execute_result"
    },
    {
     "data": {
      "text/plain": [
       "'C:\\\\Users\\\\steka\\\\Competition_Image_Classification\\\\MaskDataset\\\\test\\\\subfolder\\\\14094.jpg'"
      ]
     },
     "execution_count": 9,
     "metadata": {},
     "output_type": "execute_result"
    },
    {
     "data": {
      "text/plain": [
       "'C:\\\\Users\\\\steka\\\\Competition_Image_Classification\\\\MaskDataset\\\\test\\\\subfolder\\\\14113.jpg'"
      ]
     },
     "execution_count": 9,
     "metadata": {},
     "output_type": "execute_result"
    },
    {
     "data": {
      "text/plain": [
       "'C:\\\\Users\\\\steka\\\\Competition_Image_Classification\\\\MaskDataset\\\\test\\\\subfolder\\\\14120.jpg'"
      ]
     },
     "execution_count": 9,
     "metadata": {},
     "output_type": "execute_result"
    },
    {
     "data": {
      "text/plain": [
       "'C:\\\\Users\\\\steka\\\\Competition_Image_Classification\\\\MaskDataset\\\\test\\\\subfolder\\\\14169.jpg'"
      ]
     },
     "execution_count": 9,
     "metadata": {},
     "output_type": "execute_result"
    },
    {
     "data": {
      "text/plain": [
       "'C:\\\\Users\\\\steka\\\\Competition_Image_Classification\\\\MaskDataset\\\\test\\\\subfolder\\\\14175.jpg'"
      ]
     },
     "execution_count": 9,
     "metadata": {},
     "output_type": "execute_result"
    },
    {
     "data": {
      "text/plain": [
       "'C:\\\\Users\\\\steka\\\\Competition_Image_Classification\\\\MaskDataset\\\\test\\\\subfolder\\\\14195.jpg'"
      ]
     },
     "execution_count": 9,
     "metadata": {},
     "output_type": "execute_result"
    },
    {
     "data": {
      "text/plain": [
       "'C:\\\\Users\\\\steka\\\\Competition_Image_Classification\\\\MaskDataset\\\\test\\\\subfolder\\\\14199.jpg'"
      ]
     },
     "execution_count": 9,
     "metadata": {},
     "output_type": "execute_result"
    },
    {
     "data": {
      "text/plain": [
       "'C:\\\\Users\\\\steka\\\\Competition_Image_Classification\\\\MaskDataset\\\\test\\\\subfolder\\\\14201.jpg'"
      ]
     },
     "execution_count": 9,
     "metadata": {},
     "output_type": "execute_result"
    },
    {
     "data": {
      "text/plain": [
       "'C:\\\\Users\\\\steka\\\\Competition_Image_Classification\\\\MaskDataset\\\\test\\\\subfolder\\\\14207.jpg'"
      ]
     },
     "execution_count": 9,
     "metadata": {},
     "output_type": "execute_result"
    },
    {
     "data": {
      "text/plain": [
       "'C:\\\\Users\\\\steka\\\\Competition_Image_Classification\\\\MaskDataset\\\\test\\\\subfolder\\\\14215.jpg'"
      ]
     },
     "execution_count": 9,
     "metadata": {},
     "output_type": "execute_result"
    },
    {
     "data": {
      "text/plain": [
       "'C:\\\\Users\\\\steka\\\\Competition_Image_Classification\\\\MaskDataset\\\\test\\\\subfolder\\\\14217.jpg'"
      ]
     },
     "execution_count": 9,
     "metadata": {},
     "output_type": "execute_result"
    },
    {
     "data": {
      "text/plain": [
       "'C:\\\\Users\\\\steka\\\\Competition_Image_Classification\\\\MaskDataset\\\\test\\\\subfolder\\\\14230.jpg'"
      ]
     },
     "execution_count": 9,
     "metadata": {},
     "output_type": "execute_result"
    },
    {
     "data": {
      "text/plain": [
       "'C:\\\\Users\\\\steka\\\\Competition_Image_Classification\\\\MaskDataset\\\\test\\\\subfolder\\\\14264.jpg'"
      ]
     },
     "execution_count": 9,
     "metadata": {},
     "output_type": "execute_result"
    },
    {
     "data": {
      "text/plain": [
       "'C:\\\\Users\\\\steka\\\\Competition_Image_Classification\\\\MaskDataset\\\\test\\\\subfolder\\\\14314.jpg'"
      ]
     },
     "execution_count": 9,
     "metadata": {},
     "output_type": "execute_result"
    },
    {
     "data": {
      "text/plain": [
       "'C:\\\\Users\\\\steka\\\\Competition_Image_Classification\\\\MaskDataset\\\\test\\\\subfolder\\\\14327.jpg'"
      ]
     },
     "execution_count": 9,
     "metadata": {},
     "output_type": "execute_result"
    },
    {
     "data": {
      "text/plain": [
       "'C:\\\\Users\\\\steka\\\\Competition_Image_Classification\\\\MaskDataset\\\\test\\\\subfolder\\\\14391.jpg'"
      ]
     },
     "execution_count": 9,
     "metadata": {},
     "output_type": "execute_result"
    },
    {
     "data": {
      "text/plain": [
       "'C:\\\\Users\\\\steka\\\\Competition_Image_Classification\\\\MaskDataset\\\\test\\\\subfolder\\\\14403.jpg'"
      ]
     },
     "execution_count": 9,
     "metadata": {},
     "output_type": "execute_result"
    },
    {
     "data": {
      "text/plain": [
       "'C:\\\\Users\\\\steka\\\\Competition_Image_Classification\\\\MaskDataset\\\\test\\\\subfolder\\\\14404.jpg'"
      ]
     },
     "execution_count": 9,
     "metadata": {},
     "output_type": "execute_result"
    },
    {
     "data": {
      "text/plain": [
       "'C:\\\\Users\\\\steka\\\\Competition_Image_Classification\\\\MaskDataset\\\\test\\\\subfolder\\\\14412.jpg'"
      ]
     },
     "execution_count": 9,
     "metadata": {},
     "output_type": "execute_result"
    },
    {
     "data": {
      "text/plain": [
       "'C:\\\\Users\\\\steka\\\\Competition_Image_Classification\\\\MaskDataset\\\\test\\\\subfolder\\\\14422.jpg'"
      ]
     },
     "execution_count": 9,
     "metadata": {},
     "output_type": "execute_result"
    },
    {
     "data": {
      "text/plain": [
       "'C:\\\\Users\\\\steka\\\\Competition_Image_Classification\\\\MaskDataset\\\\test\\\\subfolder\\\\14435.jpg'"
      ]
     },
     "execution_count": 9,
     "metadata": {},
     "output_type": "execute_result"
    },
    {
     "data": {
      "text/plain": [
       "'C:\\\\Users\\\\steka\\\\Competition_Image_Classification\\\\MaskDataset\\\\test\\\\subfolder\\\\14466.jpg'"
      ]
     },
     "execution_count": 9,
     "metadata": {},
     "output_type": "execute_result"
    },
    {
     "data": {
      "text/plain": [
       "'C:\\\\Users\\\\steka\\\\Competition_Image_Classification\\\\MaskDataset\\\\test\\\\subfolder\\\\14491.jpg'"
      ]
     },
     "execution_count": 9,
     "metadata": {},
     "output_type": "execute_result"
    },
    {
     "data": {
      "text/plain": [
       "'C:\\\\Users\\\\steka\\\\Competition_Image_Classification\\\\MaskDataset\\\\test\\\\subfolder\\\\14514.jpg'"
      ]
     },
     "execution_count": 9,
     "metadata": {},
     "output_type": "execute_result"
    },
    {
     "data": {
      "text/plain": [
       "'C:\\\\Users\\\\steka\\\\Competition_Image_Classification\\\\MaskDataset\\\\test\\\\subfolder\\\\14533.jpg'"
      ]
     },
     "execution_count": 9,
     "metadata": {},
     "output_type": "execute_result"
    },
    {
     "data": {
      "text/plain": [
       "'C:\\\\Users\\\\steka\\\\Competition_Image_Classification\\\\MaskDataset\\\\test\\\\subfolder\\\\14541.jpg'"
      ]
     },
     "execution_count": 9,
     "metadata": {},
     "output_type": "execute_result"
    },
    {
     "data": {
      "text/plain": [
       "'C:\\\\Users\\\\steka\\\\Competition_Image_Classification\\\\MaskDataset\\\\test\\\\subfolder\\\\14543.jpg'"
      ]
     },
     "execution_count": 9,
     "metadata": {},
     "output_type": "execute_result"
    },
    {
     "data": {
      "text/plain": [
       "'C:\\\\Users\\\\steka\\\\Competition_Image_Classification\\\\MaskDataset\\\\test\\\\subfolder\\\\14548.jpg'"
      ]
     },
     "execution_count": 9,
     "metadata": {},
     "output_type": "execute_result"
    },
    {
     "data": {
      "text/plain": [
       "'C:\\\\Users\\\\steka\\\\Competition_Image_Classification\\\\MaskDataset\\\\test\\\\subfolder\\\\14554.jpg'"
      ]
     },
     "execution_count": 9,
     "metadata": {},
     "output_type": "execute_result"
    },
    {
     "data": {
      "text/plain": [
       "'C:\\\\Users\\\\steka\\\\Competition_Image_Classification\\\\MaskDataset\\\\test\\\\subfolder\\\\14619.jpg'"
      ]
     },
     "execution_count": 9,
     "metadata": {},
     "output_type": "execute_result"
    },
    {
     "data": {
      "text/plain": [
       "'C:\\\\Users\\\\steka\\\\Competition_Image_Classification\\\\MaskDataset\\\\test\\\\subfolder\\\\14626.jpg'"
      ]
     },
     "execution_count": 9,
     "metadata": {},
     "output_type": "execute_result"
    },
    {
     "data": {
      "text/plain": [
       "'C:\\\\Users\\\\steka\\\\Competition_Image_Classification\\\\MaskDataset\\\\test\\\\subfolder\\\\14648.jpg'"
      ]
     },
     "execution_count": 9,
     "metadata": {},
     "output_type": "execute_result"
    },
    {
     "data": {
      "text/plain": [
       "'C:\\\\Users\\\\steka\\\\Competition_Image_Classification\\\\MaskDataset\\\\test\\\\subfolder\\\\14655.jpg'"
      ]
     },
     "execution_count": 9,
     "metadata": {},
     "output_type": "execute_result"
    },
    {
     "data": {
      "text/plain": [
       "'C:\\\\Users\\\\steka\\\\Competition_Image_Classification\\\\MaskDataset\\\\test\\\\subfolder\\\\14658.jpg'"
      ]
     },
     "execution_count": 9,
     "metadata": {},
     "output_type": "execute_result"
    },
    {
     "data": {
      "text/plain": [
       "'C:\\\\Users\\\\steka\\\\Competition_Image_Classification\\\\MaskDataset\\\\test\\\\subfolder\\\\14726.jpg'"
      ]
     },
     "execution_count": 9,
     "metadata": {},
     "output_type": "execute_result"
    },
    {
     "data": {
      "text/plain": [
       "'C:\\\\Users\\\\steka\\\\Competition_Image_Classification\\\\MaskDataset\\\\test\\\\subfolder\\\\14729.jpg'"
      ]
     },
     "execution_count": 9,
     "metadata": {},
     "output_type": "execute_result"
    },
    {
     "data": {
      "text/plain": [
       "'C:\\\\Users\\\\steka\\\\Competition_Image_Classification\\\\MaskDataset\\\\test\\\\subfolder\\\\14740.jpg'"
      ]
     },
     "execution_count": 9,
     "metadata": {},
     "output_type": "execute_result"
    },
    {
     "data": {
      "text/plain": [
       "'C:\\\\Users\\\\steka\\\\Competition_Image_Classification\\\\MaskDataset\\\\test\\\\subfolder\\\\14742.jpg'"
      ]
     },
     "execution_count": 9,
     "metadata": {},
     "output_type": "execute_result"
    },
    {
     "data": {
      "text/plain": [
       "'C:\\\\Users\\\\steka\\\\Competition_Image_Classification\\\\MaskDataset\\\\test\\\\subfolder\\\\14760.jpg'"
      ]
     },
     "execution_count": 9,
     "metadata": {},
     "output_type": "execute_result"
    },
    {
     "data": {
      "text/plain": [
       "'C:\\\\Users\\\\steka\\\\Competition_Image_Classification\\\\MaskDataset\\\\test\\\\subfolder\\\\14767.jpg'"
      ]
     },
     "execution_count": 9,
     "metadata": {},
     "output_type": "execute_result"
    },
    {
     "data": {
      "text/plain": [
       "'C:\\\\Users\\\\steka\\\\Competition_Image_Classification\\\\MaskDataset\\\\test\\\\subfolder\\\\14779.jpg'"
      ]
     },
     "execution_count": 9,
     "metadata": {},
     "output_type": "execute_result"
    },
    {
     "data": {
      "text/plain": [
       "'C:\\\\Users\\\\steka\\\\Competition_Image_Classification\\\\MaskDataset\\\\test\\\\subfolder\\\\14780.jpg'"
      ]
     },
     "execution_count": 9,
     "metadata": {},
     "output_type": "execute_result"
    },
    {
     "data": {
      "text/plain": [
       "'C:\\\\Users\\\\steka\\\\Competition_Image_Classification\\\\MaskDataset\\\\test\\\\subfolder\\\\14790.jpg'"
      ]
     },
     "execution_count": 9,
     "metadata": {},
     "output_type": "execute_result"
    },
    {
     "data": {
      "text/plain": [
       "'C:\\\\Users\\\\steka\\\\Competition_Image_Classification\\\\MaskDataset\\\\test\\\\subfolder\\\\14842.jpg'"
      ]
     },
     "execution_count": 9,
     "metadata": {},
     "output_type": "execute_result"
    },
    {
     "data": {
      "text/plain": [
       "'C:\\\\Users\\\\steka\\\\Competition_Image_Classification\\\\MaskDataset\\\\test\\\\subfolder\\\\14864.jpg'"
      ]
     },
     "execution_count": 9,
     "metadata": {},
     "output_type": "execute_result"
    },
    {
     "data": {
      "text/plain": [
       "'C:\\\\Users\\\\steka\\\\Competition_Image_Classification\\\\MaskDataset\\\\test\\\\subfolder\\\\14932.jpg'"
      ]
     },
     "execution_count": 9,
     "metadata": {},
     "output_type": "execute_result"
    },
    {
     "data": {
      "text/plain": [
       "'C:\\\\Users\\\\steka\\\\Competition_Image_Classification\\\\MaskDataset\\\\test\\\\subfolder\\\\14956.jpg'"
      ]
     },
     "execution_count": 9,
     "metadata": {},
     "output_type": "execute_result"
    },
    {
     "data": {
      "text/plain": [
       "'C:\\\\Users\\\\steka\\\\Competition_Image_Classification\\\\MaskDataset\\\\test\\\\subfolder\\\\14981.jpg'"
      ]
     },
     "execution_count": 9,
     "metadata": {},
     "output_type": "execute_result"
    },
    {
     "data": {
      "text/plain": [
       "'C:\\\\Users\\\\steka\\\\Competition_Image_Classification\\\\MaskDataset\\\\test\\\\subfolder\\\\14984.jpg'"
      ]
     },
     "execution_count": 9,
     "metadata": {},
     "output_type": "execute_result"
    },
    {
     "data": {
      "text/plain": [
       "'C:\\\\Users\\\\steka\\\\Competition_Image_Classification\\\\MaskDataset\\\\test\\\\subfolder\\\\14993.jpg'"
      ]
     },
     "execution_count": 9,
     "metadata": {},
     "output_type": "execute_result"
    },
    {
     "data": {
      "text/plain": [
       "'C:\\\\Users\\\\steka\\\\Competition_Image_Classification\\\\MaskDataset\\\\test\\\\subfolder\\\\15010.jpg'"
      ]
     },
     "execution_count": 9,
     "metadata": {},
     "output_type": "execute_result"
    },
    {
     "data": {
      "text/plain": [
       "'C:\\\\Users\\\\steka\\\\Competition_Image_Classification\\\\MaskDataset\\\\test\\\\subfolder\\\\15017.jpg'"
      ]
     },
     "execution_count": 9,
     "metadata": {},
     "output_type": "execute_result"
    },
    {
     "data": {
      "text/plain": [
       "'C:\\\\Users\\\\steka\\\\Competition_Image_Classification\\\\MaskDataset\\\\test\\\\subfolder\\\\15040.jpg'"
      ]
     },
     "execution_count": 9,
     "metadata": {},
     "output_type": "execute_result"
    },
    {
     "data": {
      "text/plain": [
       "'C:\\\\Users\\\\steka\\\\Competition_Image_Classification\\\\MaskDataset\\\\test\\\\subfolder\\\\15043.jpg'"
      ]
     },
     "execution_count": 9,
     "metadata": {},
     "output_type": "execute_result"
    },
    {
     "data": {
      "text/plain": [
       "'C:\\\\Users\\\\steka\\\\Competition_Image_Classification\\\\MaskDataset\\\\test\\\\subfolder\\\\15050.jpg'"
      ]
     },
     "execution_count": 9,
     "metadata": {},
     "output_type": "execute_result"
    },
    {
     "data": {
      "text/plain": [
       "'C:\\\\Users\\\\steka\\\\Competition_Image_Classification\\\\MaskDataset\\\\test\\\\subfolder\\\\15062.jpg'"
      ]
     },
     "execution_count": 9,
     "metadata": {},
     "output_type": "execute_result"
    },
    {
     "data": {
      "text/plain": [
       "'C:\\\\Users\\\\steka\\\\Competition_Image_Classification\\\\MaskDataset\\\\test\\\\subfolder\\\\15116.jpg'"
      ]
     },
     "execution_count": 9,
     "metadata": {},
     "output_type": "execute_result"
    },
    {
     "data": {
      "text/plain": [
       "'C:\\\\Users\\\\steka\\\\Competition_Image_Classification\\\\MaskDataset\\\\test\\\\subfolder\\\\15119.jpg'"
      ]
     },
     "execution_count": 9,
     "metadata": {},
     "output_type": "execute_result"
    },
    {
     "data": {
      "text/plain": [
       "'C:\\\\Users\\\\steka\\\\Competition_Image_Classification\\\\MaskDataset\\\\test\\\\subfolder\\\\15135.jpg'"
      ]
     },
     "execution_count": 9,
     "metadata": {},
     "output_type": "execute_result"
    },
    {
     "data": {
      "text/plain": [
       "'C:\\\\Users\\\\steka\\\\Competition_Image_Classification\\\\MaskDataset\\\\test\\\\subfolder\\\\15159.jpg'"
      ]
     },
     "execution_count": 9,
     "metadata": {},
     "output_type": "execute_result"
    },
    {
     "data": {
      "text/plain": [
       "'C:\\\\Users\\\\steka\\\\Competition_Image_Classification\\\\MaskDataset\\\\test\\\\subfolder\\\\15190.jpg'"
      ]
     },
     "execution_count": 9,
     "metadata": {},
     "output_type": "execute_result"
    },
    {
     "data": {
      "text/plain": [
       "'C:\\\\Users\\\\steka\\\\Competition_Image_Classification\\\\MaskDataset\\\\test\\\\subfolder\\\\15231.jpg'"
      ]
     },
     "execution_count": 9,
     "metadata": {},
     "output_type": "execute_result"
    },
    {
     "data": {
      "text/plain": [
       "'C:\\\\Users\\\\steka\\\\Competition_Image_Classification\\\\MaskDataset\\\\test\\\\subfolder\\\\15238.jpg'"
      ]
     },
     "execution_count": 9,
     "metadata": {},
     "output_type": "execute_result"
    },
    {
     "data": {
      "text/plain": [
       "'C:\\\\Users\\\\steka\\\\Competition_Image_Classification\\\\MaskDataset\\\\test\\\\subfolder\\\\15240.jpg'"
      ]
     },
     "execution_count": 9,
     "metadata": {},
     "output_type": "execute_result"
    },
    {
     "data": {
      "text/plain": [
       "'C:\\\\Users\\\\steka\\\\Competition_Image_Classification\\\\MaskDataset\\\\test\\\\subfolder\\\\15242.jpg'"
      ]
     },
     "execution_count": 9,
     "metadata": {},
     "output_type": "execute_result"
    },
    {
     "data": {
      "text/plain": [
       "'C:\\\\Users\\\\steka\\\\Competition_Image_Classification\\\\MaskDataset\\\\test\\\\subfolder\\\\15244.jpg'"
      ]
     },
     "execution_count": 9,
     "metadata": {},
     "output_type": "execute_result"
    },
    {
     "data": {
      "text/plain": [
       "'C:\\\\Users\\\\steka\\\\Competition_Image_Classification\\\\MaskDataset\\\\test\\\\subfolder\\\\15247.jpg'"
      ]
     },
     "execution_count": 9,
     "metadata": {},
     "output_type": "execute_result"
    },
    {
     "data": {
      "text/plain": [
       "'C:\\\\Users\\\\steka\\\\Competition_Image_Classification\\\\MaskDataset\\\\test\\\\subfolder\\\\15292.jpg'"
      ]
     },
     "execution_count": 9,
     "metadata": {},
     "output_type": "execute_result"
    },
    {
     "data": {
      "text/plain": [
       "'C:\\\\Users\\\\steka\\\\Competition_Image_Classification\\\\MaskDataset\\\\test\\\\subfolder\\\\15341.jpg'"
      ]
     },
     "execution_count": 9,
     "metadata": {},
     "output_type": "execute_result"
    },
    {
     "data": {
      "text/plain": [
       "'C:\\\\Users\\\\steka\\\\Competition_Image_Classification\\\\MaskDataset\\\\test\\\\subfolder\\\\15356.jpg'"
      ]
     },
     "execution_count": 9,
     "metadata": {},
     "output_type": "execute_result"
    },
    {
     "data": {
      "text/plain": [
       "'C:\\\\Users\\\\steka\\\\Competition_Image_Classification\\\\MaskDataset\\\\test\\\\subfolder\\\\15359.jpg'"
      ]
     },
     "execution_count": 9,
     "metadata": {},
     "output_type": "execute_result"
    },
    {
     "data": {
      "text/plain": [
       "'C:\\\\Users\\\\steka\\\\Competition_Image_Classification\\\\MaskDataset\\\\test\\\\subfolder\\\\15365.jpg'"
      ]
     },
     "execution_count": 9,
     "metadata": {},
     "output_type": "execute_result"
    },
    {
     "data": {
      "text/plain": [
       "'C:\\\\Users\\\\steka\\\\Competition_Image_Classification\\\\MaskDataset\\\\test\\\\subfolder\\\\15371.jpg'"
      ]
     },
     "execution_count": 9,
     "metadata": {},
     "output_type": "execute_result"
    },
    {
     "data": {
      "text/plain": [
       "'C:\\\\Users\\\\steka\\\\Competition_Image_Classification\\\\MaskDataset\\\\test\\\\subfolder\\\\15419.jpg'"
      ]
     },
     "execution_count": 9,
     "metadata": {},
     "output_type": "execute_result"
    },
    {
     "data": {
      "text/plain": [
       "'C:\\\\Users\\\\steka\\\\Competition_Image_Classification\\\\MaskDataset\\\\test\\\\subfolder\\\\15422.jpg'"
      ]
     },
     "execution_count": 9,
     "metadata": {},
     "output_type": "execute_result"
    },
    {
     "data": {
      "text/plain": [
       "'C:\\\\Users\\\\steka\\\\Competition_Image_Classification\\\\MaskDataset\\\\test\\\\subfolder\\\\15423.jpg'"
      ]
     },
     "execution_count": 9,
     "metadata": {},
     "output_type": "execute_result"
    },
    {
     "data": {
      "text/plain": [
       "'C:\\\\Users\\\\steka\\\\Competition_Image_Classification\\\\MaskDataset\\\\test\\\\subfolder\\\\15482.jpg'"
      ]
     },
     "execution_count": 9,
     "metadata": {},
     "output_type": "execute_result"
    },
    {
     "data": {
      "text/plain": [
       "'C:\\\\Users\\\\steka\\\\Competition_Image_Classification\\\\MaskDataset\\\\test\\\\subfolder\\\\15498.jpg'"
      ]
     },
     "execution_count": 9,
     "metadata": {},
     "output_type": "execute_result"
    },
    {
     "data": {
      "text/plain": [
       "'C:\\\\Users\\\\steka\\\\Competition_Image_Classification\\\\MaskDataset\\\\test\\\\subfolder\\\\15505.jpg'"
      ]
     },
     "execution_count": 9,
     "metadata": {},
     "output_type": "execute_result"
    },
    {
     "data": {
      "text/plain": [
       "'C:\\\\Users\\\\steka\\\\Competition_Image_Classification\\\\MaskDataset\\\\test\\\\subfolder\\\\15509.jpg'"
      ]
     },
     "execution_count": 9,
     "metadata": {},
     "output_type": "execute_result"
    },
    {
     "data": {
      "text/plain": [
       "'C:\\\\Users\\\\steka\\\\Competition_Image_Classification\\\\MaskDataset\\\\test\\\\subfolder\\\\15532.jpg'"
      ]
     },
     "execution_count": 9,
     "metadata": {},
     "output_type": "execute_result"
    },
    {
     "data": {
      "text/plain": [
       "'C:\\\\Users\\\\steka\\\\Competition_Image_Classification\\\\MaskDataset\\\\test\\\\subfolder\\\\15539.jpg'"
      ]
     },
     "execution_count": 9,
     "metadata": {},
     "output_type": "execute_result"
    },
    {
     "data": {
      "text/plain": [
       "'C:\\\\Users\\\\steka\\\\Competition_Image_Classification\\\\MaskDataset\\\\test\\\\subfolder\\\\15625.jpg'"
      ]
     },
     "execution_count": 9,
     "metadata": {},
     "output_type": "execute_result"
    },
    {
     "data": {
      "text/plain": [
       "'C:\\\\Users\\\\steka\\\\Competition_Image_Classification\\\\MaskDataset\\\\test\\\\subfolder\\\\15641.jpg'"
      ]
     },
     "execution_count": 9,
     "metadata": {},
     "output_type": "execute_result"
    },
    {
     "data": {
      "text/plain": [
       "'C:\\\\Users\\\\steka\\\\Competition_Image_Classification\\\\MaskDataset\\\\test\\\\subfolder\\\\15644.jpg'"
      ]
     },
     "execution_count": 9,
     "metadata": {},
     "output_type": "execute_result"
    },
    {
     "data": {
      "text/plain": [
       "'C:\\\\Users\\\\steka\\\\Competition_Image_Classification\\\\MaskDataset\\\\test\\\\subfolder\\\\15660.jpg'"
      ]
     },
     "execution_count": 9,
     "metadata": {},
     "output_type": "execute_result"
    },
    {
     "data": {
      "text/plain": [
       "'C:\\\\Users\\\\steka\\\\Competition_Image_Classification\\\\MaskDataset\\\\test\\\\subfolder\\\\15661.jpg'"
      ]
     },
     "execution_count": 9,
     "metadata": {},
     "output_type": "execute_result"
    },
    {
     "data": {
      "text/plain": [
       "'C:\\\\Users\\\\steka\\\\Competition_Image_Classification\\\\MaskDataset\\\\test\\\\subfolder\\\\15700.jpg'"
      ]
     },
     "execution_count": 9,
     "metadata": {},
     "output_type": "execute_result"
    },
    {
     "data": {
      "text/plain": [
       "'C:\\\\Users\\\\steka\\\\Competition_Image_Classification\\\\MaskDataset\\\\test\\\\subfolder\\\\15710.jpg'"
      ]
     },
     "execution_count": 9,
     "metadata": {},
     "output_type": "execute_result"
    },
    {
     "data": {
      "text/plain": [
       "'C:\\\\Users\\\\steka\\\\Competition_Image_Classification\\\\MaskDataset\\\\test\\\\subfolder\\\\15737.jpg'"
      ]
     },
     "execution_count": 9,
     "metadata": {},
     "output_type": "execute_result"
    },
    {
     "data": {
      "text/plain": [
       "'C:\\\\Users\\\\steka\\\\Competition_Image_Classification\\\\MaskDataset\\\\test\\\\subfolder\\\\15782.jpg'"
      ]
     },
     "execution_count": 9,
     "metadata": {},
     "output_type": "execute_result"
    },
    {
     "data": {
      "text/plain": [
       "'C:\\\\Users\\\\steka\\\\Competition_Image_Classification\\\\MaskDataset\\\\test\\\\subfolder\\\\15824.jpg'"
      ]
     },
     "execution_count": 9,
     "metadata": {},
     "output_type": "execute_result"
    },
    {
     "data": {
      "text/plain": [
       "'C:\\\\Users\\\\steka\\\\Competition_Image_Classification\\\\MaskDataset\\\\test\\\\subfolder\\\\15851.jpg'"
      ]
     },
     "execution_count": 9,
     "metadata": {},
     "output_type": "execute_result"
    },
    {
     "data": {
      "text/plain": [
       "'C:\\\\Users\\\\steka\\\\Competition_Image_Classification\\\\MaskDataset\\\\test\\\\subfolder\\\\15855.jpg'"
      ]
     },
     "execution_count": 9,
     "metadata": {},
     "output_type": "execute_result"
    },
    {
     "data": {
      "text/plain": [
       "'C:\\\\Users\\\\steka\\\\Competition_Image_Classification\\\\MaskDataset\\\\test\\\\subfolder\\\\15867.jpg'"
      ]
     },
     "execution_count": 9,
     "metadata": {},
     "output_type": "execute_result"
    },
    {
     "data": {
      "text/plain": [
       "'C:\\\\Users\\\\steka\\\\Competition_Image_Classification\\\\MaskDataset\\\\test\\\\subfolder\\\\15872.jpg'"
      ]
     },
     "execution_count": 9,
     "metadata": {},
     "output_type": "execute_result"
    },
    {
     "data": {
      "text/plain": [
       "'C:\\\\Users\\\\steka\\\\Competition_Image_Classification\\\\MaskDataset\\\\test\\\\subfolder\\\\15910.jpg'"
      ]
     },
     "execution_count": 9,
     "metadata": {},
     "output_type": "execute_result"
    },
    {
     "data": {
      "text/plain": [
       "'C:\\\\Users\\\\steka\\\\Competition_Image_Classification\\\\MaskDataset\\\\test\\\\subfolder\\\\15918.jpg'"
      ]
     },
     "execution_count": 9,
     "metadata": {},
     "output_type": "execute_result"
    },
    {
     "data": {
      "text/plain": [
       "'C:\\\\Users\\\\steka\\\\Competition_Image_Classification\\\\MaskDataset\\\\test\\\\subfolder\\\\15940.jpg'"
      ]
     },
     "execution_count": 9,
     "metadata": {},
     "output_type": "execute_result"
    },
    {
     "data": {
      "text/plain": [
       "'C:\\\\Users\\\\steka\\\\Competition_Image_Classification\\\\MaskDataset\\\\test\\\\subfolder\\\\15953.jpg'"
      ]
     },
     "execution_count": 9,
     "metadata": {},
     "output_type": "execute_result"
    },
    {
     "data": {
      "text/plain": [
       "'C:\\\\Users\\\\steka\\\\Competition_Image_Classification\\\\MaskDataset\\\\test\\\\subfolder\\\\15956.jpg'"
      ]
     },
     "execution_count": 9,
     "metadata": {},
     "output_type": "execute_result"
    },
    {
     "data": {
      "text/plain": [
       "'C:\\\\Users\\\\steka\\\\Competition_Image_Classification\\\\MaskDataset\\\\test\\\\subfolder\\\\16006.jpg'"
      ]
     },
     "execution_count": 9,
     "metadata": {},
     "output_type": "execute_result"
    },
    {
     "data": {
      "text/plain": [
       "'C:\\\\Users\\\\steka\\\\Competition_Image_Classification\\\\MaskDataset\\\\test\\\\subfolder\\\\16019.jpg'"
      ]
     },
     "execution_count": 9,
     "metadata": {},
     "output_type": "execute_result"
    },
    {
     "data": {
      "text/plain": [
       "'C:\\\\Users\\\\steka\\\\Competition_Image_Classification\\\\MaskDataset\\\\test\\\\subfolder\\\\16024.jpg'"
      ]
     },
     "execution_count": 9,
     "metadata": {},
     "output_type": "execute_result"
    },
    {
     "data": {
      "text/plain": [
       "'C:\\\\Users\\\\steka\\\\Competition_Image_Classification\\\\MaskDataset\\\\test\\\\subfolder\\\\16052.jpg'"
      ]
     },
     "execution_count": 9,
     "metadata": {},
     "output_type": "execute_result"
    },
    {
     "data": {
      "text/plain": [
       "'C:\\\\Users\\\\steka\\\\Competition_Image_Classification\\\\MaskDataset\\\\test\\\\subfolder\\\\16065.jpg'"
      ]
     },
     "execution_count": 9,
     "metadata": {},
     "output_type": "execute_result"
    },
    {
     "data": {
      "text/plain": [
       "'C:\\\\Users\\\\steka\\\\Competition_Image_Classification\\\\MaskDataset\\\\test\\\\subfolder\\\\16071.jpg'"
      ]
     },
     "execution_count": 9,
     "metadata": {},
     "output_type": "execute_result"
    },
    {
     "data": {
      "text/plain": [
       "'C:\\\\Users\\\\steka\\\\Competition_Image_Classification\\\\MaskDataset\\\\test\\\\subfolder\\\\16192.jpg'"
      ]
     },
     "execution_count": 9,
     "metadata": {},
     "output_type": "execute_result"
    },
    {
     "data": {
      "text/plain": [
       "'C:\\\\Users\\\\steka\\\\Competition_Image_Classification\\\\MaskDataset\\\\test\\\\subfolder\\\\16195.jpg'"
      ]
     },
     "execution_count": 9,
     "metadata": {},
     "output_type": "execute_result"
    },
    {
     "data": {
      "text/plain": [
       "'C:\\\\Users\\\\steka\\\\Competition_Image_Classification\\\\MaskDataset\\\\test\\\\subfolder\\\\16253.jpg'"
      ]
     },
     "execution_count": 9,
     "metadata": {},
     "output_type": "execute_result"
    },
    {
     "data": {
      "text/plain": [
       "'C:\\\\Users\\\\steka\\\\Competition_Image_Classification\\\\MaskDataset\\\\test\\\\subfolder\\\\16259.jpg'"
      ]
     },
     "execution_count": 9,
     "metadata": {},
     "output_type": "execute_result"
    },
    {
     "data": {
      "text/plain": [
       "'C:\\\\Users\\\\steka\\\\Competition_Image_Classification\\\\MaskDataset\\\\test\\\\subfolder\\\\16276.jpg'"
      ]
     },
     "execution_count": 9,
     "metadata": {},
     "output_type": "execute_result"
    },
    {
     "data": {
      "text/plain": [
       "'C:\\\\Users\\\\steka\\\\Competition_Image_Classification\\\\MaskDataset\\\\test\\\\subfolder\\\\16278.jpg'"
      ]
     },
     "execution_count": 9,
     "metadata": {},
     "output_type": "execute_result"
    },
    {
     "data": {
      "text/plain": [
       "'C:\\\\Users\\\\steka\\\\Competition_Image_Classification\\\\MaskDataset\\\\test\\\\subfolder\\\\16324.jpg'"
      ]
     },
     "execution_count": 9,
     "metadata": {},
     "output_type": "execute_result"
    },
    {
     "data": {
      "text/plain": [
       "'C:\\\\Users\\\\steka\\\\Competition_Image_Classification\\\\MaskDataset\\\\test\\\\subfolder\\\\16325.jpg'"
      ]
     },
     "execution_count": 9,
     "metadata": {},
     "output_type": "execute_result"
    },
    {
     "data": {
      "text/plain": [
       "'C:\\\\Users\\\\steka\\\\Competition_Image_Classification\\\\MaskDataset\\\\test\\\\subfolder\\\\16330.jpg'"
      ]
     },
     "execution_count": 9,
     "metadata": {},
     "output_type": "execute_result"
    },
    {
     "data": {
      "text/plain": [
       "'C:\\\\Users\\\\steka\\\\Competition_Image_Classification\\\\MaskDataset\\\\test\\\\subfolder\\\\16336.jpg'"
      ]
     },
     "execution_count": 9,
     "metadata": {},
     "output_type": "execute_result"
    },
    {
     "data": {
      "text/plain": [
       "'C:\\\\Users\\\\steka\\\\Competition_Image_Classification\\\\MaskDataset\\\\test\\\\subfolder\\\\16337.jpg'"
      ]
     },
     "execution_count": 9,
     "metadata": {},
     "output_type": "execute_result"
    },
    {
     "data": {
      "text/plain": [
       "'C:\\\\Users\\\\steka\\\\Competition_Image_Classification\\\\MaskDataset\\\\test\\\\subfolder\\\\16348.jpg'"
      ]
     },
     "execution_count": 9,
     "metadata": {},
     "output_type": "execute_result"
    },
    {
     "data": {
      "text/plain": [
       "'C:\\\\Users\\\\steka\\\\Competition_Image_Classification\\\\MaskDataset\\\\test\\\\subfolder\\\\16356.jpg'"
      ]
     },
     "execution_count": 9,
     "metadata": {},
     "output_type": "execute_result"
    },
    {
     "data": {
      "text/plain": [
       "'C:\\\\Users\\\\steka\\\\Competition_Image_Classification\\\\MaskDataset\\\\test\\\\subfolder\\\\16392.jpg'"
      ]
     },
     "execution_count": 9,
     "metadata": {},
     "output_type": "execute_result"
    },
    {
     "data": {
      "text/plain": [
       "'C:\\\\Users\\\\steka\\\\Competition_Image_Classification\\\\MaskDataset\\\\test\\\\subfolder\\\\16426.jpg'"
      ]
     },
     "execution_count": 9,
     "metadata": {},
     "output_type": "execute_result"
    },
    {
     "data": {
      "text/plain": [
       "'C:\\\\Users\\\\steka\\\\Competition_Image_Classification\\\\MaskDataset\\\\test\\\\subfolder\\\\16446.jpg'"
      ]
     },
     "execution_count": 9,
     "metadata": {},
     "output_type": "execute_result"
    },
    {
     "data": {
      "text/plain": [
       "'C:\\\\Users\\\\steka\\\\Competition_Image_Classification\\\\MaskDataset\\\\test\\\\subfolder\\\\16470.jpg'"
      ]
     },
     "execution_count": 9,
     "metadata": {},
     "output_type": "execute_result"
    },
    {
     "data": {
      "text/plain": [
       "'C:\\\\Users\\\\steka\\\\Competition_Image_Classification\\\\MaskDataset\\\\test\\\\subfolder\\\\16505.jpg'"
      ]
     },
     "execution_count": 9,
     "metadata": {},
     "output_type": "execute_result"
    },
    {
     "data": {
      "text/plain": [
       "'C:\\\\Users\\\\steka\\\\Competition_Image_Classification\\\\MaskDataset\\\\test\\\\subfolder\\\\16570.jpg'"
      ]
     },
     "execution_count": 9,
     "metadata": {},
     "output_type": "execute_result"
    },
    {
     "data": {
      "text/plain": [
       "'C:\\\\Users\\\\steka\\\\Competition_Image_Classification\\\\MaskDataset\\\\test\\\\subfolder\\\\16591.jpg'"
      ]
     },
     "execution_count": 9,
     "metadata": {},
     "output_type": "execute_result"
    },
    {
     "data": {
      "text/plain": [
       "'C:\\\\Users\\\\steka\\\\Competition_Image_Classification\\\\MaskDataset\\\\test\\\\subfolder\\\\16610.jpg'"
      ]
     },
     "execution_count": 9,
     "metadata": {},
     "output_type": "execute_result"
    },
    {
     "data": {
      "text/plain": [
       "'C:\\\\Users\\\\steka\\\\Competition_Image_Classification\\\\MaskDataset\\\\test\\\\subfolder\\\\16628.jpg'"
      ]
     },
     "execution_count": 9,
     "metadata": {},
     "output_type": "execute_result"
    },
    {
     "data": {
      "text/plain": [
       "'C:\\\\Users\\\\steka\\\\Competition_Image_Classification\\\\MaskDataset\\\\test\\\\subfolder\\\\16682.jpg'"
      ]
     },
     "execution_count": 9,
     "metadata": {},
     "output_type": "execute_result"
    },
    {
     "data": {
      "text/plain": [
       "'C:\\\\Users\\\\steka\\\\Competition_Image_Classification\\\\MaskDataset\\\\test\\\\subfolder\\\\16717.jpg'"
      ]
     },
     "execution_count": 9,
     "metadata": {},
     "output_type": "execute_result"
    },
    {
     "data": {
      "text/plain": [
       "'C:\\\\Users\\\\steka\\\\Competition_Image_Classification\\\\MaskDataset\\\\test\\\\subfolder\\\\16719.jpg'"
      ]
     },
     "execution_count": 9,
     "metadata": {},
     "output_type": "execute_result"
    },
    {
     "data": {
      "text/plain": [
       "'C:\\\\Users\\\\steka\\\\Competition_Image_Classification\\\\MaskDataset\\\\test\\\\subfolder\\\\16748.jpg'"
      ]
     },
     "execution_count": 9,
     "metadata": {},
     "output_type": "execute_result"
    },
    {
     "data": {
      "text/plain": [
       "'C:\\\\Users\\\\steka\\\\Competition_Image_Classification\\\\MaskDataset\\\\test\\\\subfolder\\\\16761.jpg'"
      ]
     },
     "execution_count": 9,
     "metadata": {},
     "output_type": "execute_result"
    },
    {
     "data": {
      "text/plain": [
       "'C:\\\\Users\\\\steka\\\\Competition_Image_Classification\\\\MaskDataset\\\\test\\\\subfolder\\\\16779.jpg'"
      ]
     },
     "execution_count": 9,
     "metadata": {},
     "output_type": "execute_result"
    },
    {
     "data": {
      "text/plain": [
       "'C:\\\\Users\\\\steka\\\\Competition_Image_Classification\\\\MaskDataset\\\\test\\\\subfolder\\\\16793.jpg'"
      ]
     },
     "execution_count": 9,
     "metadata": {},
     "output_type": "execute_result"
    },
    {
     "data": {
      "text/plain": [
       "'C:\\\\Users\\\\steka\\\\Competition_Image_Classification\\\\MaskDataset\\\\test\\\\subfolder\\\\16826.jpg'"
      ]
     },
     "execution_count": 9,
     "metadata": {},
     "output_type": "execute_result"
    },
    {
     "data": {
      "text/plain": [
       "'C:\\\\Users\\\\steka\\\\Competition_Image_Classification\\\\MaskDataset\\\\test\\\\subfolder\\\\16831.jpg'"
      ]
     },
     "execution_count": 9,
     "metadata": {},
     "output_type": "execute_result"
    },
    {
     "data": {
      "text/plain": [
       "'C:\\\\Users\\\\steka\\\\Competition_Image_Classification\\\\MaskDataset\\\\test\\\\subfolder\\\\16837.jpg'"
      ]
     },
     "execution_count": 9,
     "metadata": {},
     "output_type": "execute_result"
    },
    {
     "data": {
      "text/plain": [
       "'C:\\\\Users\\\\steka\\\\Competition_Image_Classification\\\\MaskDataset\\\\test\\\\subfolder\\\\16843.jpg'"
      ]
     },
     "execution_count": 9,
     "metadata": {},
     "output_type": "execute_result"
    },
    {
     "data": {
      "text/plain": [
       "'C:\\\\Users\\\\steka\\\\Competition_Image_Classification\\\\MaskDataset\\\\test\\\\subfolder\\\\16850.jpg'"
      ]
     },
     "execution_count": 9,
     "metadata": {},
     "output_type": "execute_result"
    },
    {
     "data": {
      "text/plain": [
       "'C:\\\\Users\\\\steka\\\\Competition_Image_Classification\\\\MaskDataset\\\\test\\\\subfolder\\\\16853.jpg'"
      ]
     },
     "execution_count": 9,
     "metadata": {},
     "output_type": "execute_result"
    },
    {
     "data": {
      "text/plain": [
       "'C:\\\\Users\\\\steka\\\\Competition_Image_Classification\\\\MaskDataset\\\\test\\\\subfolder\\\\16888.jpg'"
      ]
     },
     "execution_count": 9,
     "metadata": {},
     "output_type": "execute_result"
    },
    {
     "data": {
      "text/plain": [
       "'C:\\\\Users\\\\steka\\\\Competition_Image_Classification\\\\MaskDataset\\\\test\\\\subfolder\\\\16906.jpg'"
      ]
     },
     "execution_count": 9,
     "metadata": {},
     "output_type": "execute_result"
    },
    {
     "data": {
      "text/plain": [
       "'C:\\\\Users\\\\steka\\\\Competition_Image_Classification\\\\MaskDataset\\\\test\\\\subfolder\\\\16911.jpg'"
      ]
     },
     "execution_count": 9,
     "metadata": {},
     "output_type": "execute_result"
    },
    {
     "data": {
      "text/plain": [
       "'C:\\\\Users\\\\steka\\\\Competition_Image_Classification\\\\MaskDataset\\\\test\\\\subfolder\\\\16920.jpg'"
      ]
     },
     "execution_count": 9,
     "metadata": {},
     "output_type": "execute_result"
    },
    {
     "data": {
      "text/plain": [
       "'C:\\\\Users\\\\steka\\\\Competition_Image_Classification\\\\MaskDataset\\\\test\\\\subfolder\\\\16930.jpg'"
      ]
     },
     "execution_count": 9,
     "metadata": {},
     "output_type": "execute_result"
    },
    {
     "data": {
      "text/plain": [
       "'C:\\\\Users\\\\steka\\\\Competition_Image_Classification\\\\MaskDataset\\\\test\\\\subfolder\\\\16956.jpg'"
      ]
     },
     "execution_count": 9,
     "metadata": {},
     "output_type": "execute_result"
    },
    {
     "data": {
      "text/plain": [
       "'C:\\\\Users\\\\steka\\\\Competition_Image_Classification\\\\MaskDataset\\\\test\\\\subfolder\\\\16966.jpg'"
      ]
     },
     "execution_count": 9,
     "metadata": {},
     "output_type": "execute_result"
    },
    {
     "data": {
      "text/plain": [
       "'C:\\\\Users\\\\steka\\\\Competition_Image_Classification\\\\MaskDataset\\\\test\\\\subfolder\\\\16971.jpg'"
      ]
     },
     "execution_count": 9,
     "metadata": {},
     "output_type": "execute_result"
    },
    {
     "data": {
      "text/plain": [
       "'C:\\\\Users\\\\steka\\\\Competition_Image_Classification\\\\MaskDataset\\\\test\\\\subfolder\\\\16999.jpg'"
      ]
     },
     "execution_count": 9,
     "metadata": {},
     "output_type": "execute_result"
    },
    {
     "data": {
      "text/plain": [
       "'C:\\\\Users\\\\steka\\\\Competition_Image_Classification\\\\MaskDataset\\\\test\\\\subfolder\\\\17052.jpg'"
      ]
     },
     "execution_count": 9,
     "metadata": {},
     "output_type": "execute_result"
    },
    {
     "data": {
      "text/plain": [
       "'C:\\\\Users\\\\steka\\\\Competition_Image_Classification\\\\MaskDataset\\\\test\\\\subfolder\\\\17055.jpg'"
      ]
     },
     "execution_count": 9,
     "metadata": {},
     "output_type": "execute_result"
    },
    {
     "data": {
      "text/plain": [
       "'C:\\\\Users\\\\steka\\\\Competition_Image_Classification\\\\MaskDataset\\\\test\\\\subfolder\\\\17078.jpg'"
      ]
     },
     "execution_count": 9,
     "metadata": {},
     "output_type": "execute_result"
    },
    {
     "data": {
      "text/plain": [
       "'C:\\\\Users\\\\steka\\\\Competition_Image_Classification\\\\MaskDataset\\\\test\\\\subfolder\\\\17108.jpg'"
      ]
     },
     "execution_count": 9,
     "metadata": {},
     "output_type": "execute_result"
    },
    {
     "data": {
      "text/plain": [
       "'C:\\\\Users\\\\steka\\\\Competition_Image_Classification\\\\MaskDataset\\\\test\\\\subfolder\\\\17116.jpg'"
      ]
     },
     "execution_count": 9,
     "metadata": {},
     "output_type": "execute_result"
    },
    {
     "data": {
      "text/plain": [
       "'C:\\\\Users\\\\steka\\\\Competition_Image_Classification\\\\MaskDataset\\\\test\\\\subfolder\\\\17130.jpg'"
      ]
     },
     "execution_count": 9,
     "metadata": {},
     "output_type": "execute_result"
    },
    {
     "data": {
      "text/plain": [
       "'C:\\\\Users\\\\steka\\\\Competition_Image_Classification\\\\MaskDataset\\\\test\\\\subfolder\\\\17153.jpg'"
      ]
     },
     "execution_count": 9,
     "metadata": {},
     "output_type": "execute_result"
    },
    {
     "data": {
      "text/plain": [
       "'C:\\\\Users\\\\steka\\\\Competition_Image_Classification\\\\MaskDataset\\\\test\\\\subfolder\\\\17156.jpg'"
      ]
     },
     "execution_count": 9,
     "metadata": {},
     "output_type": "execute_result"
    },
    {
     "data": {
      "text/plain": [
       "'C:\\\\Users\\\\steka\\\\Competition_Image_Classification\\\\MaskDataset\\\\test\\\\subfolder\\\\17164.jpg'"
      ]
     },
     "execution_count": 9,
     "metadata": {},
     "output_type": "execute_result"
    },
    {
     "data": {
      "text/plain": [
       "'C:\\\\Users\\\\steka\\\\Competition_Image_Classification\\\\MaskDataset\\\\test\\\\subfolder\\\\17223.jpg'"
      ]
     },
     "execution_count": 9,
     "metadata": {},
     "output_type": "execute_result"
    },
    {
     "data": {
      "text/plain": [
       "'C:\\\\Users\\\\steka\\\\Competition_Image_Classification\\\\MaskDataset\\\\test\\\\subfolder\\\\17229.jpg'"
      ]
     },
     "execution_count": 9,
     "metadata": {},
     "output_type": "execute_result"
    },
    {
     "data": {
      "text/plain": [
       "'C:\\\\Users\\\\steka\\\\Competition_Image_Classification\\\\MaskDataset\\\\test\\\\subfolder\\\\17236.jpg'"
      ]
     },
     "execution_count": 9,
     "metadata": {},
     "output_type": "execute_result"
    },
    {
     "data": {
      "text/plain": [
       "'C:\\\\Users\\\\steka\\\\Competition_Image_Classification\\\\MaskDataset\\\\test\\\\subfolder\\\\17278.jpg'"
      ]
     },
     "execution_count": 9,
     "metadata": {},
     "output_type": "execute_result"
    },
    {
     "data": {
      "text/plain": [
       "'C:\\\\Users\\\\steka\\\\Competition_Image_Classification\\\\MaskDataset\\\\test\\\\subfolder\\\\17294.jpg'"
      ]
     },
     "execution_count": 9,
     "metadata": {},
     "output_type": "execute_result"
    },
    {
     "data": {
      "text/plain": [
       "'C:\\\\Users\\\\steka\\\\Competition_Image_Classification\\\\MaskDataset\\\\test\\\\subfolder\\\\17318.jpg'"
      ]
     },
     "execution_count": 9,
     "metadata": {},
     "output_type": "execute_result"
    },
    {
     "data": {
      "text/plain": [
       "'C:\\\\Users\\\\steka\\\\Competition_Image_Classification\\\\MaskDataset\\\\test\\\\subfolder\\\\17319.jpg'"
      ]
     },
     "execution_count": 9,
     "metadata": {},
     "output_type": "execute_result"
    },
    {
     "data": {
      "text/plain": [
       "'C:\\\\Users\\\\steka\\\\Competition_Image_Classification\\\\MaskDataset\\\\test\\\\subfolder\\\\17338.jpg'"
      ]
     },
     "execution_count": 9,
     "metadata": {},
     "output_type": "execute_result"
    },
    {
     "data": {
      "text/plain": [
       "'C:\\\\Users\\\\steka\\\\Competition_Image_Classification\\\\MaskDataset\\\\test\\\\subfolder\\\\17363.jpg'"
      ]
     },
     "execution_count": 9,
     "metadata": {},
     "output_type": "execute_result"
    },
    {
     "data": {
      "text/plain": [
       "'C:\\\\Users\\\\steka\\\\Competition_Image_Classification\\\\MaskDataset\\\\test\\\\subfolder\\\\17392.jpg'"
      ]
     },
     "execution_count": 9,
     "metadata": {},
     "output_type": "execute_result"
    },
    {
     "data": {
      "text/plain": [
       "'C:\\\\Users\\\\steka\\\\Competition_Image_Classification\\\\MaskDataset\\\\test\\\\subfolder\\\\17404.jpg'"
      ]
     },
     "execution_count": 9,
     "metadata": {},
     "output_type": "execute_result"
    },
    {
     "data": {
      "text/plain": [
       "'C:\\\\Users\\\\steka\\\\Competition_Image_Classification\\\\MaskDataset\\\\test\\\\subfolder\\\\17415.jpg'"
      ]
     },
     "execution_count": 9,
     "metadata": {},
     "output_type": "execute_result"
    },
    {
     "data": {
      "text/plain": [
       "'C:\\\\Users\\\\steka\\\\Competition_Image_Classification\\\\MaskDataset\\\\test\\\\subfolder\\\\17422.jpg'"
      ]
     },
     "execution_count": 9,
     "metadata": {},
     "output_type": "execute_result"
    },
    {
     "data": {
      "text/plain": [
       "'C:\\\\Users\\\\steka\\\\Competition_Image_Classification\\\\MaskDataset\\\\test\\\\subfolder\\\\17424.jpg'"
      ]
     },
     "execution_count": 9,
     "metadata": {},
     "output_type": "execute_result"
    },
    {
     "data": {
      "text/plain": [
       "'C:\\\\Users\\\\steka\\\\Competition_Image_Classification\\\\MaskDataset\\\\test\\\\subfolder\\\\17427.jpg'"
      ]
     },
     "execution_count": 9,
     "metadata": {},
     "output_type": "execute_result"
    },
    {
     "data": {
      "text/plain": [
       "'C:\\\\Users\\\\steka\\\\Competition_Image_Classification\\\\MaskDataset\\\\test\\\\subfolder\\\\17468.jpg'"
      ]
     },
     "execution_count": 9,
     "metadata": {},
     "output_type": "execute_result"
    },
    {
     "data": {
      "text/plain": [
       "'C:\\\\Users\\\\steka\\\\Competition_Image_Classification\\\\MaskDataset\\\\test\\\\subfolder\\\\17475.jpg'"
      ]
     },
     "execution_count": 9,
     "metadata": {},
     "output_type": "execute_result"
    },
    {
     "data": {
      "text/plain": [
       "'C:\\\\Users\\\\steka\\\\Competition_Image_Classification\\\\MaskDataset\\\\test\\\\subfolder\\\\17492.jpg'"
      ]
     },
     "execution_count": 9,
     "metadata": {},
     "output_type": "execute_result"
    },
    {
     "data": {
      "text/plain": [
       "'C:\\\\Users\\\\steka\\\\Competition_Image_Classification\\\\MaskDataset\\\\test\\\\subfolder\\\\17498.jpg'"
      ]
     },
     "execution_count": 9,
     "metadata": {},
     "output_type": "execute_result"
    },
    {
     "data": {
      "text/plain": [
       "'C:\\\\Users\\\\steka\\\\Competition_Image_Classification\\\\MaskDataset\\\\test\\\\subfolder\\\\17512.jpg'"
      ]
     },
     "execution_count": 9,
     "metadata": {},
     "output_type": "execute_result"
    },
    {
     "data": {
      "text/plain": [
       "'C:\\\\Users\\\\steka\\\\Competition_Image_Classification\\\\MaskDataset\\\\test\\\\subfolder\\\\17514.jpg'"
      ]
     },
     "execution_count": 9,
     "metadata": {},
     "output_type": "execute_result"
    },
    {
     "data": {
      "text/plain": [
       "'C:\\\\Users\\\\steka\\\\Competition_Image_Classification\\\\MaskDataset\\\\test\\\\subfolder\\\\17520.jpg'"
      ]
     },
     "execution_count": 9,
     "metadata": {},
     "output_type": "execute_result"
    },
    {
     "data": {
      "text/plain": [
       "'C:\\\\Users\\\\steka\\\\Competition_Image_Classification\\\\MaskDataset\\\\test\\\\subfolder\\\\17523.jpg'"
      ]
     },
     "execution_count": 9,
     "metadata": {},
     "output_type": "execute_result"
    },
    {
     "data": {
      "text/plain": [
       "'C:\\\\Users\\\\steka\\\\Competition_Image_Classification\\\\MaskDataset\\\\test\\\\subfolder\\\\17524.jpg'"
      ]
     },
     "execution_count": 9,
     "metadata": {},
     "output_type": "execute_result"
    },
    {
     "data": {
      "text/plain": [
       "'C:\\\\Users\\\\steka\\\\Competition_Image_Classification\\\\MaskDataset\\\\test\\\\subfolder\\\\17530.jpg'"
      ]
     },
     "execution_count": 9,
     "metadata": {},
     "output_type": "execute_result"
    },
    {
     "data": {
      "text/plain": [
       "'C:\\\\Users\\\\steka\\\\Competition_Image_Classification\\\\MaskDataset\\\\test\\\\subfolder\\\\17532.jpg'"
      ]
     },
     "execution_count": 9,
     "metadata": {},
     "output_type": "execute_result"
    },
    {
     "data": {
      "text/plain": [
       "'C:\\\\Users\\\\steka\\\\Competition_Image_Classification\\\\MaskDataset\\\\test\\\\subfolder\\\\17536.jpg'"
      ]
     },
     "execution_count": 9,
     "metadata": {},
     "output_type": "execute_result"
    },
    {
     "data": {
      "text/plain": [
       "'C:\\\\Users\\\\steka\\\\Competition_Image_Classification\\\\MaskDataset\\\\test\\\\subfolder\\\\17557.jpg'"
      ]
     },
     "execution_count": 9,
     "metadata": {},
     "output_type": "execute_result"
    },
    {
     "data": {
      "text/plain": [
       "'C:\\\\Users\\\\steka\\\\Competition_Image_Classification\\\\MaskDataset\\\\test\\\\subfolder\\\\17566.jpg'"
      ]
     },
     "execution_count": 9,
     "metadata": {},
     "output_type": "execute_result"
    },
    {
     "data": {
      "text/plain": [
       "'C:\\\\Users\\\\steka\\\\Competition_Image_Classification\\\\MaskDataset\\\\test\\\\subfolder\\\\17598.jpg'"
      ]
     },
     "execution_count": 9,
     "metadata": {},
     "output_type": "execute_result"
    },
    {
     "data": {
      "text/plain": [
       "'C:\\\\Users\\\\steka\\\\Competition_Image_Classification\\\\MaskDataset\\\\test\\\\subfolder\\\\17636.jpg'"
      ]
     },
     "execution_count": 9,
     "metadata": {},
     "output_type": "execute_result"
    },
    {
     "data": {
      "text/plain": [
       "'C:\\\\Users\\\\steka\\\\Competition_Image_Classification\\\\MaskDataset\\\\test\\\\subfolder\\\\17649.jpg'"
      ]
     },
     "execution_count": 9,
     "metadata": {},
     "output_type": "execute_result"
    },
    {
     "data": {
      "text/plain": [
       "'C:\\\\Users\\\\steka\\\\Competition_Image_Classification\\\\MaskDataset\\\\test\\\\subfolder\\\\17692.jpg'"
      ]
     },
     "execution_count": 9,
     "metadata": {},
     "output_type": "execute_result"
    },
    {
     "data": {
      "text/plain": [
       "'C:\\\\Users\\\\steka\\\\Competition_Image_Classification\\\\MaskDataset\\\\test\\\\subfolder\\\\17715.jpg'"
      ]
     },
     "execution_count": 9,
     "metadata": {},
     "output_type": "execute_result"
    },
    {
     "data": {
      "text/plain": [
       "'C:\\\\Users\\\\steka\\\\Competition_Image_Classification\\\\MaskDataset\\\\test\\\\subfolder\\\\17743.jpg'"
      ]
     },
     "execution_count": 9,
     "metadata": {},
     "output_type": "execute_result"
    },
    {
     "data": {
      "text/plain": [
       "'C:\\\\Users\\\\steka\\\\Competition_Image_Classification\\\\MaskDataset\\\\test\\\\subfolder\\\\17744.jpg'"
      ]
     },
     "execution_count": 9,
     "metadata": {},
     "output_type": "execute_result"
    },
    {
     "data": {
      "text/plain": [
       "'C:\\\\Users\\\\steka\\\\Competition_Image_Classification\\\\MaskDataset\\\\test\\\\subfolder\\\\17755.jpg'"
      ]
     },
     "execution_count": 9,
     "metadata": {},
     "output_type": "execute_result"
    },
    {
     "data": {
      "text/plain": [
       "'C:\\\\Users\\\\steka\\\\Competition_Image_Classification\\\\MaskDataset\\\\test\\\\subfolder\\\\17758.jpg'"
      ]
     },
     "execution_count": 9,
     "metadata": {},
     "output_type": "execute_result"
    },
    {
     "data": {
      "text/plain": [
       "'C:\\\\Users\\\\steka\\\\Competition_Image_Classification\\\\MaskDataset\\\\test\\\\subfolder\\\\17762.jpg'"
      ]
     },
     "execution_count": 9,
     "metadata": {},
     "output_type": "execute_result"
    },
    {
     "data": {
      "text/plain": [
       "'C:\\\\Users\\\\steka\\\\Competition_Image_Classification\\\\MaskDataset\\\\test\\\\subfolder\\\\17773.jpg'"
      ]
     },
     "execution_count": 9,
     "metadata": {},
     "output_type": "execute_result"
    },
    {
     "data": {
      "text/plain": [
       "'C:\\\\Users\\\\steka\\\\Competition_Image_Classification\\\\MaskDataset\\\\test\\\\subfolder\\\\17803.jpg'"
      ]
     },
     "execution_count": 9,
     "metadata": {},
     "output_type": "execute_result"
    },
    {
     "data": {
      "text/plain": [
       "'C:\\\\Users\\\\steka\\\\Competition_Image_Classification\\\\MaskDataset\\\\test\\\\subfolder\\\\17816.jpg'"
      ]
     },
     "execution_count": 9,
     "metadata": {},
     "output_type": "execute_result"
    },
    {
     "data": {
      "text/plain": [
       "'C:\\\\Users\\\\steka\\\\Competition_Image_Classification\\\\MaskDataset\\\\test\\\\subfolder\\\\17855.jpg'"
      ]
     },
     "execution_count": 9,
     "metadata": {},
     "output_type": "execute_result"
    },
    {
     "data": {
      "text/plain": [
       "'C:\\\\Users\\\\steka\\\\Competition_Image_Classification\\\\MaskDataset\\\\test\\\\subfolder\\\\17864.jpg'"
      ]
     },
     "execution_count": 9,
     "metadata": {},
     "output_type": "execute_result"
    },
    {
     "data": {
      "text/plain": [
       "'C:\\\\Users\\\\steka\\\\Competition_Image_Classification\\\\MaskDataset\\\\test\\\\subfolder\\\\17893.jpg'"
      ]
     },
     "execution_count": 9,
     "metadata": {},
     "output_type": "execute_result"
    },
    {
     "data": {
      "text/plain": [
       "'C:\\\\Users\\\\steka\\\\Competition_Image_Classification\\\\MaskDataset\\\\test\\\\subfolder\\\\17897.jpg'"
      ]
     },
     "execution_count": 9,
     "metadata": {},
     "output_type": "execute_result"
    },
    {
     "data": {
      "text/plain": [
       "'C:\\\\Users\\\\steka\\\\Competition_Image_Classification\\\\MaskDataset\\\\test\\\\subfolder\\\\17901.jpg'"
      ]
     },
     "execution_count": 9,
     "metadata": {},
     "output_type": "execute_result"
    },
    {
     "data": {
      "text/plain": [
       "'C:\\\\Users\\\\steka\\\\Competition_Image_Classification\\\\MaskDataset\\\\test\\\\subfolder\\\\17921.jpg'"
      ]
     },
     "execution_count": 9,
     "metadata": {},
     "output_type": "execute_result"
    },
    {
     "data": {
      "text/plain": [
       "'C:\\\\Users\\\\steka\\\\Competition_Image_Classification\\\\MaskDataset\\\\test\\\\subfolder\\\\17939.jpg'"
      ]
     },
     "execution_count": 9,
     "metadata": {},
     "output_type": "execute_result"
    },
    {
     "data": {
      "text/plain": [
       "'C:\\\\Users\\\\steka\\\\Competition_Image_Classification\\\\MaskDataset\\\\test\\\\subfolder\\\\17967.jpg'"
      ]
     },
     "execution_count": 9,
     "metadata": {},
     "output_type": "execute_result"
    },
    {
     "data": {
      "text/plain": [
       "'C:\\\\Users\\\\steka\\\\Competition_Image_Classification\\\\MaskDataset\\\\test\\\\subfolder\\\\17983.jpg'"
      ]
     },
     "execution_count": 9,
     "metadata": {},
     "output_type": "execute_result"
    },
    {
     "data": {
      "text/plain": [
       "'C:\\\\Users\\\\steka\\\\Competition_Image_Classification\\\\MaskDataset\\\\test\\\\subfolder\\\\18000.jpg'"
      ]
     },
     "execution_count": 9,
     "metadata": {},
     "output_type": "execute_result"
    },
    {
     "data": {
      "text/plain": [
       "'C:\\\\Users\\\\steka\\\\Competition_Image_Classification\\\\MaskDataset\\\\test\\\\subfolder\\\\18029.jpg'"
      ]
     },
     "execution_count": 9,
     "metadata": {},
     "output_type": "execute_result"
    },
    {
     "data": {
      "text/plain": [
       "'C:\\\\Users\\\\steka\\\\Competition_Image_Classification\\\\MaskDataset\\\\test\\\\subfolder\\\\18049.jpg'"
      ]
     },
     "execution_count": 9,
     "metadata": {},
     "output_type": "execute_result"
    },
    {
     "data": {
      "text/plain": [
       "'C:\\\\Users\\\\steka\\\\Competition_Image_Classification\\\\MaskDataset\\\\test\\\\subfolder\\\\18063.jpg'"
      ]
     },
     "execution_count": 9,
     "metadata": {},
     "output_type": "execute_result"
    },
    {
     "data": {
      "text/plain": [
       "'C:\\\\Users\\\\steka\\\\Competition_Image_Classification\\\\MaskDataset\\\\test\\\\subfolder\\\\18067.jpg'"
      ]
     },
     "execution_count": 9,
     "metadata": {},
     "output_type": "execute_result"
    },
    {
     "data": {
      "text/plain": [
       "'C:\\\\Users\\\\steka\\\\Competition_Image_Classification\\\\MaskDataset\\\\test\\\\subfolder\\\\18078.jpg'"
      ]
     },
     "execution_count": 9,
     "metadata": {},
     "output_type": "execute_result"
    },
    {
     "data": {
      "text/plain": [
       "'C:\\\\Users\\\\steka\\\\Competition_Image_Classification\\\\MaskDataset\\\\test\\\\subfolder\\\\18099.jpg'"
      ]
     },
     "execution_count": 9,
     "metadata": {},
     "output_type": "execute_result"
    },
    {
     "data": {
      "text/plain": [
       "'C:\\\\Users\\\\steka\\\\Competition_Image_Classification\\\\MaskDataset\\\\test\\\\subfolder\\\\18102.jpg'"
      ]
     },
     "execution_count": 9,
     "metadata": {},
     "output_type": "execute_result"
    },
    {
     "data": {
      "text/plain": [
       "'C:\\\\Users\\\\steka\\\\Competition_Image_Classification\\\\MaskDataset\\\\test\\\\subfolder\\\\18123.jpg'"
      ]
     },
     "execution_count": 9,
     "metadata": {},
     "output_type": "execute_result"
    },
    {
     "data": {
      "text/plain": [
       "'C:\\\\Users\\\\steka\\\\Competition_Image_Classification\\\\MaskDataset\\\\test\\\\subfolder\\\\18125.jpg'"
      ]
     },
     "execution_count": 9,
     "metadata": {},
     "output_type": "execute_result"
    },
    {
     "data": {
      "text/plain": [
       "'C:\\\\Users\\\\steka\\\\Competition_Image_Classification\\\\MaskDataset\\\\test\\\\subfolder\\\\18153.jpg'"
      ]
     },
     "execution_count": 9,
     "metadata": {},
     "output_type": "execute_result"
    },
    {
     "data": {
      "text/plain": [
       "'C:\\\\Users\\\\steka\\\\Competition_Image_Classification\\\\MaskDataset\\\\test\\\\subfolder\\\\18162.jpg'"
      ]
     },
     "execution_count": 9,
     "metadata": {},
     "output_type": "execute_result"
    },
    {
     "data": {
      "text/plain": [
       "'C:\\\\Users\\\\steka\\\\Competition_Image_Classification\\\\MaskDataset\\\\test\\\\subfolder\\\\18203.jpg'"
      ]
     },
     "execution_count": 9,
     "metadata": {},
     "output_type": "execute_result"
    },
    {
     "ename": "Error",
     "evalue": "Cannot move a directory 'C:\\Users\\steka\\Competition_Image_Classification\\MaskDataset\\test\\subfolder' into itself 'C:\\Users\\steka\\Competition_Image_Classification\\MaskDataset\\test\\subfolder\\subfolder'.",
     "output_type": "error",
     "traceback": [
      "\u001b[1;31m---------------------------------------------------------------------------\u001b[0m",
      "\u001b[1;31mPermissionError\u001b[0m                           Traceback (most recent call last)",
      "\u001b[1;32mc:\\users\\steka\\anaconda3\\envs\\tf_env\\lib\\shutil.py\u001b[0m in \u001b[0;36mmove\u001b[1;34m(src, dst, copy_function)\u001b[0m\n\u001b[0;32m    565\u001b[0m     \u001b[1;32mtry\u001b[0m\u001b[1;33m:\u001b[0m\u001b[1;33m\u001b[0m\u001b[1;33m\u001b[0m\u001b[0m\n\u001b[1;32m--> 566\u001b[1;33m         \u001b[0mos\u001b[0m\u001b[1;33m.\u001b[0m\u001b[0mrename\u001b[0m\u001b[1;33m(\u001b[0m\u001b[0msrc\u001b[0m\u001b[1;33m,\u001b[0m \u001b[0mreal_dst\u001b[0m\u001b[1;33m)\u001b[0m\u001b[1;33m\u001b[0m\u001b[1;33m\u001b[0m\u001b[0m\n\u001b[0m\u001b[0;32m    567\u001b[0m     \u001b[1;32mexcept\u001b[0m \u001b[0mOSError\u001b[0m\u001b[1;33m:\u001b[0m\u001b[1;33m\u001b[0m\u001b[1;33m\u001b[0m\u001b[0m\n",
      "\u001b[1;31mPermissionError\u001b[0m: [WinError 32] Impossibile accedere al file. Il file è utilizzato da un altro processo: 'C:\\\\Users\\\\steka\\\\Competition_Image_Classification\\\\MaskDataset\\\\test\\\\subfolder' -> 'C:\\\\Users\\\\steka\\\\Competition_Image_Classification\\\\MaskDataset\\\\test\\\\subfolder\\\\subfolder'",
      "\nDuring handling of the above exception, another exception occurred:\n",
      "\u001b[1;31mError\u001b[0m                                     Traceback (most recent call last)",
      "\u001b[1;32m<ipython-input-9-fe9a0a319363>\u001b[0m in \u001b[0;36m<module>\u001b[1;34m()\u001b[0m\n\u001b[0;32m      2\u001b[0m     \u001b[0mold_path\u001b[0m \u001b[1;33m=\u001b[0m \u001b[0mos\u001b[0m\u001b[1;33m.\u001b[0m\u001b[0mpath\u001b[0m\u001b[1;33m.\u001b[0m\u001b[0mjoin\u001b[0m\u001b[1;33m(\u001b[0m\u001b[0mtest_dir\u001b[0m\u001b[1;33m,\u001b[0m \u001b[0mdata\u001b[0m\u001b[1;33m)\u001b[0m\u001b[1;33m\u001b[0m\u001b[1;33m\u001b[0m\u001b[0m\n\u001b[0;32m      3\u001b[0m     \u001b[0mnew_path\u001b[0m \u001b[1;33m=\u001b[0m \u001b[0mos\u001b[0m\u001b[1;33m.\u001b[0m\u001b[0mpath\u001b[0m\u001b[1;33m.\u001b[0m\u001b[0mjoin\u001b[0m\u001b[1;33m(\u001b[0m\u001b[0mos\u001b[0m\u001b[1;33m.\u001b[0m\u001b[0mpath\u001b[0m\u001b[1;33m.\u001b[0m\u001b[0mjoin\u001b[0m\u001b[1;33m(\u001b[0m\u001b[0mtest_dir\u001b[0m\u001b[1;33m,\u001b[0m \u001b[1;34m'subfolder'\u001b[0m\u001b[1;33m)\u001b[0m\u001b[1;33m,\u001b[0m \u001b[0mdata\u001b[0m\u001b[1;33m)\u001b[0m\u001b[1;33m\u001b[0m\u001b[1;33m\u001b[0m\u001b[0m\n\u001b[1;32m----> 4\u001b[1;33m     \u001b[0mshutil\u001b[0m\u001b[1;33m.\u001b[0m\u001b[0mmove\u001b[0m\u001b[1;33m(\u001b[0m\u001b[0mold_path\u001b[0m\u001b[1;33m,\u001b[0m \u001b[0mnew_path\u001b[0m\u001b[1;33m)\u001b[0m\u001b[1;33m\u001b[0m\u001b[1;33m\u001b[0m\u001b[0m\n\u001b[0m",
      "\u001b[1;32mc:\\users\\steka\\anaconda3\\envs\\tf_env\\lib\\shutil.py\u001b[0m in \u001b[0;36mmove\u001b[1;34m(src, dst, copy_function)\u001b[0m\n\u001b[0;32m    573\u001b[0m             \u001b[1;32mif\u001b[0m \u001b[0m_destinsrc\u001b[0m\u001b[1;33m(\u001b[0m\u001b[0msrc\u001b[0m\u001b[1;33m,\u001b[0m \u001b[0mdst\u001b[0m\u001b[1;33m)\u001b[0m\u001b[1;33m:\u001b[0m\u001b[1;33m\u001b[0m\u001b[1;33m\u001b[0m\u001b[0m\n\u001b[0;32m    574\u001b[0m                 raise Error(\"Cannot move a directory '%s' into itself\"\n\u001b[1;32m--> 575\u001b[1;33m                             \" '%s'.\" % (src, dst))\n\u001b[0m\u001b[0;32m    576\u001b[0m             copytree(src, real_dst, copy_function=copy_function,\n\u001b[0;32m    577\u001b[0m                      symlinks=True)\n",
      "\u001b[1;31mError\u001b[0m: Cannot move a directory 'C:\\Users\\steka\\Competition_Image_Classification\\MaskDataset\\test\\subfolder' into itself 'C:\\Users\\steka\\Competition_Image_Classification\\MaskDataset\\test\\subfolder\\subfolder'."
     ]
    }
   ],
   "source": [
    "for data in os.listdir(test_dir):\n",
    "    old_path = os.path.join(test_dir, data)\n",
    "    new_path = os.path.join(os.path.join(test_dir, 'subfolder'), data)\n",
    "    shutil.move(old_path, new_path)"
   ]
  }
 ],
 "metadata": {
  "kernelspec": {
   "display_name": "Python 3",
   "language": "python",
   "name": "python3"
  },
  "language_info": {
   "codemirror_mode": {
    "name": "ipython",
    "version": 3
   },
   "file_extension": ".py",
   "mimetype": "text/x-python",
   "name": "python",
   "nbconvert_exporter": "python",
   "pygments_lexer": "ipython3",
   "version": "3.7.9"
  }
 },
 "nbformat": 4,
 "nbformat_minor": 4
}
