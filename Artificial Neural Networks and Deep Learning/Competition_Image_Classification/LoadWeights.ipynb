{
 "cells": [
  {
   "cell_type": "markdown",
   "metadata": {},
   "source": [
    "## General notes\n",
    "Use this notebook if you want to generate a .csv for a pre-trained model starting from a certain epoch\n",
    "\n",
    "**N.B.: It is useful when applying early stopping**"
   ]
  },
  {
   "cell_type": "code",
   "execution_count": 1,
   "metadata": {},
   "outputs": [],
   "source": [
    "from IPython.core.interactiveshell import InteractiveShell\n",
    "InteractiveShell.ast_node_interactivity = \"all\""
   ]
  },
  {
   "cell_type": "code",
   "execution_count": 2,
   "metadata": {},
   "outputs": [],
   "source": [
    "import tensorflow as tf\n",
    "from tensorflow.compat.v1 import ConfigProto\n",
    "from tensorflow.compat.v1 import InteractiveSession\n",
    "\n",
    "config = ConfigProto()\n",
    "config.gpu_options.allow_growth = True\n",
    "session = InteractiveSession(config=config)"
   ]
  },
  {
   "cell_type": "code",
   "execution_count": 3,
   "metadata": {},
   "outputs": [],
   "source": [
    "import os\n",
    "import tensorflow as tf\n",
    "import numpy as np\n",
    " \n",
    "SEED = 1234\n",
    "tf.random.set_seed(SEED)  "
   ]
  },
  {
   "cell_type": "markdown",
   "metadata": {},
   "source": [
    "## We build the model exactly as it was when trained\n",
    "We distinguish the cases in which:\n",
    "    - we use a pretrained network\n",
    "    - we use a network built from scratch\n",
    "In both cases it is required to copy the **exact** structure of the model"
   ]
  },
  {
   "cell_type": "code",
   "execution_count": 6,
   "metadata": {},
   "outputs": [],
   "source": [
    "#img size\n",
    "img_h = 224\n",
    "img_w = 224\n",
    "\n",
    "#batches\n",
    "bs = 10\n",
    "\n",
    "num_classes = 3\n",
    "\n",
    "transfer_learning = True\n",
    "\n",
    "model = tf.keras.Sequential()\n",
    "\n",
    "if transfer_learning:\n",
    "    cnn = tf.keras.applications.VGG19(weights='imagenet', include_top=False, input_shape=(img_h, img_w, 3))\n",
    "else:\n",
    "    starting_feat = 32\n",
    "    depth = 5\n",
    "\n",
    "    # Features extraction\n",
    "    for i in range(depth):\n",
    "        if i == 0:\n",
    "            input_shape = [img_h, img_w, 3]\n",
    "        else:\n",
    "            input_shape=[None]\n",
    "\n",
    "        # Conv block: Conv2D -> Activation -> Pooling\n",
    "        if i == 0 or i == 1:\n",
    "            repeat = 2\n",
    "        else:\n",
    "            repeat = 3\n",
    "        for reps in range(repeat):\n",
    "            model.add(tf.keras.layers.Conv2D(filters=starting_feat, \n",
    "                                             kernel_size=(3, 3),\n",
    "                                             strides=(1, 1),\n",
    "                                             padding='same',\n",
    "                                             input_shape=input_shape))\n",
    "            model.add(tf.keras.layers.ReLU())\n",
    "        model.add(tf.keras.layers.MaxPool2D(pool_size=(2, 2)))\n",
    "\n",
    "# Classifier\n",
    "model.add(cnn)\n",
    "for i in range(4):\n",
    "    model.add(tf.keras.layers.Conv2D(filters=512, \n",
    "                                     kernel_size=(3, 3),\n",
    "                                     strides=(1, 1),\n",
    "                                     padding='same'))\n",
    "    model.add(tf.keras.layers.ReLU())\n",
    "    model.add(tf.keras.layers.BatchNormalization())\n",
    "model.add(tf.keras.layers.MaxPool2D(pool_size=(2, 2)))\n",
    "\n",
    "#Classifier\n",
    "model.add(tf.keras.layers.Flatten())\n",
    "model.add(tf.keras.layers.Dense(units=512, activation='relu'))\n",
    "model.add(tf.keras.layers.BatchNormalization())\n",
    "model.add(tf.keras.layers.Dense(units=256, activation='relu'))\n",
    "model.add(tf.keras.layers.BatchNormalization())\n",
    "model.add(tf.keras.layers.Dense(units=128, activation='relu'))\n",
    "model.add(tf.keras.layers.BatchNormalization())\n",
    "model.add(tf.keras.layers.Dense(units=num_classes, activation='softmax'))"
   ]
  },
  {
   "cell_type": "code",
   "execution_count": 7,
   "metadata": {},
   "outputs": [
    {
     "name": "stdout",
     "output_type": "stream",
     "text": [
      "Model: \"sequential_1\"\n",
      "_________________________________________________________________\n",
      "Layer (type)                 Output Shape              Param #   \n",
      "=================================================================\n",
      "vgg19 (Model)                (None, 7, 7, 512)         20024384  \n",
      "_________________________________________________________________\n",
      "conv2d (Conv2D)              (None, 7, 7, 512)         2359808   \n",
      "_________________________________________________________________\n",
      "re_lu (ReLU)                 (None, 7, 7, 512)         0         \n",
      "_________________________________________________________________\n",
      "batch_normalization (BatchNo (None, 7, 7, 512)         2048      \n",
      "_________________________________________________________________\n",
      "conv2d_1 (Conv2D)            (None, 7, 7, 512)         2359808   \n",
      "_________________________________________________________________\n",
      "re_lu_1 (ReLU)               (None, 7, 7, 512)         0         \n",
      "_________________________________________________________________\n",
      "batch_normalization_1 (Batch (None, 7, 7, 512)         2048      \n",
      "_________________________________________________________________\n",
      "conv2d_2 (Conv2D)            (None, 7, 7, 512)         2359808   \n",
      "_________________________________________________________________\n",
      "re_lu_2 (ReLU)               (None, 7, 7, 512)         0         \n",
      "_________________________________________________________________\n",
      "batch_normalization_2 (Batch (None, 7, 7, 512)         2048      \n",
      "_________________________________________________________________\n",
      "conv2d_3 (Conv2D)            (None, 7, 7, 512)         2359808   \n",
      "_________________________________________________________________\n",
      "re_lu_3 (ReLU)               (None, 7, 7, 512)         0         \n",
      "_________________________________________________________________\n",
      "batch_normalization_3 (Batch (None, 7, 7, 512)         2048      \n",
      "_________________________________________________________________\n",
      "max_pooling2d (MaxPooling2D) (None, 3, 3, 512)         0         \n",
      "_________________________________________________________________\n",
      "flatten (Flatten)            (None, 4608)              0         \n",
      "_________________________________________________________________\n",
      "dense (Dense)                (None, 512)               2359808   \n",
      "_________________________________________________________________\n",
      "batch_normalization_4 (Batch (None, 512)               2048      \n",
      "_________________________________________________________________\n",
      "dense_1 (Dense)              (None, 256)               131328    \n",
      "_________________________________________________________________\n",
      "batch_normalization_5 (Batch (None, 256)               1024      \n",
      "_________________________________________________________________\n",
      "dense_2 (Dense)              (None, 128)               32896     \n",
      "_________________________________________________________________\n",
      "batch_normalization_6 (Batch (None, 128)               512       \n",
      "_________________________________________________________________\n",
      "dense_3 (Dense)              (None, 3)                 387       \n",
      "=================================================================\n",
      "Total params: 31,999,811\n",
      "Trainable params: 31,993,923\n",
      "Non-trainable params: 5,888\n",
      "_________________________________________________________________\n"
     ]
    }
   ],
   "source": [
    "model.summary()"
   ]
  },
  {
   "cell_type": "markdown",
   "metadata": {},
   "source": [
    "## Let's load the weights"
   ]
  },
  {
   "cell_type": "code",
   "execution_count": 8,
   "metadata": {},
   "outputs": [],
   "source": [
    "import os\n",
    "\n",
    "def get_model_path(model_name, epoch_number):\n",
    "    path = os.path.join(os.getcwd(), 'tensorboard_experiments', model_name, 'ckpts')\n",
    "    for file in os.listdir(path):\n",
    "        if str(epoch_number) in file:\n",
    "            if epoch_number in range(10):\n",
    "                path = os.path.join(path, \"cp_0\" + str(epoch_number) + \".ckpt\")\n",
    "            else:\n",
    "                path = os.path.join(path, \"cp_\" + str(epoch_number) + \".ckpt\")\n",
    "            return path"
   ]
  },
  {
   "cell_type": "code",
   "execution_count": 30,
   "metadata": {},
   "outputs": [
    {
     "data": {
      "text/plain": [
       "<tensorflow.python.training.tracking.util.CheckpointLoadStatus at 0x1c5432e2908>"
      ]
     },
     "execution_count": 30,
     "metadata": {},
     "output_type": "execute_result"
    }
   ],
   "source": [
    "model_name = np.array(os.listdir(os.path.join(os.getcwd(), 'tensorboard_experiments')))[-1]\n",
    "epochs = 33                              # <--- modify this\n",
    "\n",
    "path = get_model_path(model_name, epochs)\n",
    "\n",
    "model.load_weights(path)"
   ]
  },
  {
   "cell_type": "markdown",
   "metadata": {},
   "source": [
    "### - optimization parameters"
   ]
  },
  {
   "cell_type": "code",
   "execution_count": 31,
   "metadata": {},
   "outputs": [],
   "source": [
    "# Loss\n",
    "loss = tf.keras.losses.CategoricalCrossentropy() # because we have one-hot encoded labels (as specified by the \n",
    "                                                 # class_mode parameter in flow_from_dataframe())\n",
    "\n",
    "# Learning rate\n",
    "lr = (1e-4)   # <-- modify this\n",
    "\n",
    "optimizer = tf.keras.optimizers.Adam(learning_rate=lr)\n",
    "\n",
    "# Validation metrics\n",
    "metrics = ['accuracy']\n",
    "\n",
    "# Compile Model\n",
    "model.compile(optimizer=optimizer, loss=loss, metrics=metrics)"
   ]
  },
  {
   "cell_type": "markdown",
   "metadata": {},
   "source": [
    "### - test generator"
   ]
  },
  {
   "cell_type": "code",
   "execution_count": 32,
   "metadata": {},
   "outputs": [
    {
     "name": "stdout",
     "output_type": "stream",
     "text": [
      "Found 450 images belonging to 1 classes.\n"
     ]
    }
   ],
   "source": [
    "from tensorflow.keras.preprocessing.image import ImageDataGenerator\n",
    "\n",
    "cwd = os.getcwd()\n",
    "dataset_dir = os.path.join(cwd, 'MaskDataset')\n",
    "test_dir = os.path.join(dataset_dir, 'test')\n",
    "test_data_gen = ImageDataGenerator(rescale=1./255)\n",
    "test_gen = test_data_gen.flow_from_directory(test_dir,\n",
    "                                             target_size=(img_h, img_w), \n",
    "                                             color_mode='rgb',\n",
    "                                             batch_size=bs, \n",
    "                                             class_mode='categorical',\n",
    "                                             shuffle=False,\n",
    "                                             seed=SEED)"
   ]
  },
  {
   "cell_type": "markdown",
   "metadata": {},
   "source": [
    "## Then, let's generate a .csv corresponding to the model with the loaded weights"
   ]
  },
  {
   "cell_type": "code",
   "execution_count": 33,
   "metadata": {},
   "outputs": [
    {
     "name": "stdout",
     "output_type": "stream",
     "text": [
      "45/45 [==============================] - 19s 411ms/step\n"
     ]
    }
   ],
   "source": [
    "import ntpath\n",
    "\n",
    "predictions = model.predict(test_gen, verbose=1)\n",
    "\n",
    "results = {}\n",
    "\n",
    "images = test_gen.filenames\n",
    "i = 0\n",
    "\n",
    "for p in predictions:\n",
    "    prediction = np.argmax(p)\n",
    "    image_name = ntpath.basename(images[i])\n",
    "    results[image_name] = str(prediction)\n",
    "    i += 1"
   ]
  },
  {
   "cell_type": "code",
   "execution_count": 34,
   "metadata": {},
   "outputs": [],
   "source": [
    "import os\n",
    "from datetime import datetime\n",
    "\n",
    "def create_csv(results, results_dir='./'):\n",
    "\n",
    "    csv_fname = 'results_'\n",
    "    csv_fname += datetime.now().strftime('%b%d_%H-%M-%S') + '.csv'\n",
    "\n",
    "    with open(os.path.join(results_dir, csv_fname), 'w') as f:\n",
    "\n",
    "        f.write('Id,Category\\n')\n",
    "\n",
    "        for key, value in results.items():\n",
    "            f.write(key + ',' + str(value) + '\\n')"
   ]
  },
  {
   "cell_type": "code",
   "execution_count": 35,
   "metadata": {},
   "outputs": [],
   "source": [
    "exps_dir = os.path.join('tensorboard_experiments')\n",
    "exp_dir = os.path.join(exps_dir, model_name)\n",
    "create_csv(results, exp_dir)"
   ]
  }
 ],
 "metadata": {
  "kernelspec": {
   "display_name": "Python 3",
   "language": "python",
   "name": "python3"
  },
  "language_info": {
   "codemirror_mode": {
    "name": "ipython",
    "version": 3
   },
   "file_extension": ".py",
   "mimetype": "text/x-python",
   "name": "python",
   "nbconvert_exporter": "python",
   "pygments_lexer": "ipython3",
   "version": "3.7.9"
  }
 },
 "nbformat": 4,
 "nbformat_minor": 4
}
