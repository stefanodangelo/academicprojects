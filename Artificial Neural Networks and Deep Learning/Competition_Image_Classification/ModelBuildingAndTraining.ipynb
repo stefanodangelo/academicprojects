{
 "cells": [
  {
   "cell_type": "markdown",
   "metadata": {
    "id": "K-Tzmju2OvBP"
   },
   "source": [
    "# Image Classification"
   ]
  },
  {
   "cell_type": "code",
   "execution_count": null,
   "metadata": {
    "id": "CvA0TpUyOvBQ"
   },
   "outputs": [],
   "source": [
    "from IPython.core.interactiveshell import InteractiveShell\n",
    "InteractiveShell.ast_node_interactivity = \"all\""
   ]
  },
  {
   "cell_type": "code",
   "execution_count": null,
   "metadata": {
    "id": "3hqspmzoOvBR"
   },
   "outputs": [],
   "source": [
    "import tensorflow as tf\n",
    "from tensorflow.compat.v1 import ConfigProto\n",
    "from tensorflow.compat.v1 import InteractiveSession\n",
    "\n",
    "config = ConfigProto()\n",
    "config.gpu_options.allow_growth = True\n",
    "session = InteractiveSession(config=config)"
   ]
  },
  {
   "cell_type": "code",
   "execution_count": null,
   "metadata": {
    "id": "QansESExOvBR"
   },
   "outputs": [],
   "source": [
    "import os\n",
    "import tensorflow as tf\n",
    "import numpy as np\n",
    " \n",
    "SEED = 1234\n",
    "tf.random.set_seed(SEED)  \n",
    "\n",
    "cwd = os.getcwd()"
   ]
  },
  {
   "cell_type": "code",
   "execution_count": null,
   "metadata": {
    "id": "ZGCDnnsSOvBR"
   },
   "outputs": [],
   "source": [
    "dataset_dir = os.path.join(cwd, 'MaskDataset')\n",
    "test_dir = os.path.join(dataset_dir, 'test')\n",
    "valid_dir = os.path.join(dataset_dir, 'validation')\n",
    "train_dir = os.path.join(dataset_dir, 'training')"
   ]
  },
  {
   "cell_type": "markdown",
   "metadata": {
    "id": "hsqJf0aMOvBS"
   },
   "source": [
    "#### Let's create generators to read images from dataset directory\n",
    "Here we can decide whether to apply data augmentation or not"
   ]
  },
  {
   "cell_type": "code",
   "execution_count": null,
   "metadata": {
    "id": "Oeir63z5OvBS"
   },
   "outputs": [],
   "source": [
    "from tensorflow.keras.preprocessing.image import ImageDataGenerator\n",
    "\n",
    "apply_data_augmentation = True\n",
    "# Create training ImageDataGenerator object\n",
    "if apply_data_augmentation:\n",
    "    train_data_gen = ImageDataGenerator(horizontal_flip=True,\n",
    "                                        brightness_range=[0.7,1.3],\n",
    "                                        rescale=1./255)\n",
    "else:\n",
    "    train_data_gen = ImageDataGenerator(rescale=1./255)\n",
    "    \n",
    "valid_data_gen = ImageDataGenerator(rescale=1./255)\n",
    "test_data_gen = ImageDataGenerator(rescale=1./255)"
   ]
  },
  {
   "cell_type": "code",
   "execution_count": null,
   "metadata": {
    "id": "gZi5ycVgOvBT"
   },
   "outputs": [],
   "source": [
    "def get_data_from_directory(dataset_directory):\n",
    "    return os.listdir(dataset_directory)"
   ]
  },
  {
   "cell_type": "code",
   "execution_count": null,
   "metadata": {
    "id": "9BJVLJjXOvBT"
   },
   "outputs": [],
   "source": [
    "training_set = get_data_from_directory(train_dir)\n",
    "validation_set = get_data_from_directory(valid_dir)"
   ]
  },
  {
   "cell_type": "markdown",
   "metadata": {
    "id": "P40JIFf8OvBT"
   },
   "source": [
    "#### We create two dataframes for both training and validation set\n",
    "- We create two dictionaries containing the labels of the classes each image belongs to\n",
    "- Then we use these dictionaries to create two Dataframe objects that will help us to link together each image with the corresponding label "
   ]
  },
  {
   "cell_type": "code",
   "execution_count": null,
   "metadata": {
    "id": "YRuueIBmOvBT"
   },
   "outputs": [],
   "source": [
    "import json, operator\n",
    "import pandas as pd\n",
    "from collections import OrderedDict\n",
    "\n",
    "with open(os.path.join(dataset_dir, \"train_gt.json\")) as f:\n",
    "    train_dic = json.load(f)\n",
    "\n",
    "# Let's split the dictionary into two different ones, one for training and one for validation\n",
    "valid_dic = {}\n",
    "for data in validation_set:\n",
    "    valid_dic[data] = train_dic.get(data)\n",
    "    del train_dic[data]\n",
    "    \n",
    "# Training dataframe\n",
    "dataframe_train = pd.DataFrame(train_dic.items())\n",
    "dataframe_train.rename(columns = {0:'filename', 1:'class'}, inplace = True)\n",
    "dataframe_train[\"class\"] = dataframe_train[\"class\"].astype(str)\n",
    "\n",
    "# Validation dataframe\n",
    "dataframe_valid = pd.DataFrame(valid_dic.items())\n",
    "dataframe_valid.rename(columns = {0:'filename', 1:'class'}, inplace = True)\n",
    "dataframe_valid[\"class\"] = dataframe_valid[\"class\"].astype(str)"
   ]
  },
  {
   "cell_type": "markdown",
   "metadata": {},
   "source": [
    "- Through the method `flow_from_dataframe()` we create our final generator, that will contain the rescaled images"
   ]
  },
  {
   "cell_type": "code",
   "execution_count": null,
   "metadata": {
    "id": "nxV92X1bOvBT",
    "outputId": "1d5e262a-e278-4504-ebfe-db2c11bc0a13"
   },
   "outputs": [
    {
     "name": "stdout",
     "output_type": "stream",
     "text": [
      "Found 4207 validated image filenames belonging to 3 classes.\n",
      "Found 1407 validated image filenames belonging to 3 classes.\n"
     ]
    }
   ],
   "source": [
    "#img size\n",
    "img_h = 224\n",
    "img_w = 224\n",
    "\n",
    "#batches\n",
    "bs = 24\n",
    "\n",
    "#Training\n",
    "train_gen = train_data_gen.flow_from_dataframe(dataframe_train,\n",
    "                                               train_dir,\n",
    "                                               batch_size=bs,\n",
    "                                               target_size=(img_h, img_w),\n",
    "                                               class_mode='categorical',\n",
    "                                               shuffle=True,\n",
    "                                               seed=SEED)\n",
    "\n",
    "#Validation\n",
    "valid_gen = valid_data_gen.flow_from_dataframe(dataframe_valid,\n",
    "                                               valid_dir,\n",
    "                                               batch_size=bs,\n",
    "                                               target_size=(img_h, img_w),\n",
    "                                               class_mode='categorical',\n",
    "                                               shuffle=False,\n",
    "                                               seed=SEED)"
   ]
  },
  {
   "cell_type": "markdown",
   "metadata": {
    "id": "TjiNjTinOvBa"
   },
   "source": [
    "N.B.: The formula to calculate the __maximum batch__ size is the following: \n",
    "$$ Max Batch Size\n",
    "= \\frac{Available GPU memory Bytes}{4*(Size Of Tensors + Trainable Parameters)} ,\n",
    "$$              \n",
    "where: *size of tensors = img_h x img_w x #channels* , and *#channels = 3* in case of __RGB__  \n",
    "Source: https://stackoverflow.com/questions/46654424/how-to-calculate-optimal-batch-size"
   ]
  },
  {
   "cell_type": "markdown",
   "metadata": {
    "id": "x1m6T2IDOvBa"
   },
   "source": [
    "#### Create Dataset objects\n",
    "These objects are needed to perform the `fit()` function on the model later on"
   ]
  },
  {
   "cell_type": "code",
   "execution_count": null,
   "metadata": {
    "id": "ExmVjMejOvBa"
   },
   "outputs": [],
   "source": [
    "num_classes = 3\n",
    "\n",
    "# Training\n",
    "train_dataset = tf.data.Dataset.from_generator(lambda: train_gen,\n",
    "                                               output_types=(tf.float32, tf.float32),\n",
    "                                               output_shapes=([None, img_h, img_w, 3], [None, num_classes]))\n",
    "\n",
    "# Repeat\n",
    "# Without calling the repeat function the dataset will be empty after consuming all the images (it'll block at first epoch)\n",
    "train_dataset = train_dataset.repeat()\n",
    "\n",
    "# Validation\n",
    "valid_dataset = tf.data.Dataset.from_generator(lambda: valid_gen, \n",
    "                                               output_types=(tf.float32, tf.float32),\n",
    "                                               output_shapes=([None, img_h, img_w, 3], [None, num_classes]))\n",
    "\n",
    "# Repeat\n",
    "valid_dataset = valid_dataset.repeat()"
   ]
  },
  {
   "cell_type": "markdown",
   "metadata": {
    "id": "d4yi_zNdOvBa"
   },
   "source": [
    "## Build the model\n",
    "1. import the VGG19 CNN\n",
    "2. decide wheter to perform transfer learning or fine-tuning \n",
    "3. attach to the CNN two other convolutional blocks\n",
    "4. build the classifier"
   ]
  },
  {
   "cell_type": "code",
   "execution_count": null,
   "metadata": {
    "id": "ao4PS96ZOvBa"
   },
   "outputs": [],
   "source": [
    "cnn = tf.keras.applications.VGG19(weights='imagenet', include_top=False, input_shape=(img_h, img_w, 3))"
   ]
  },
  {
   "cell_type": "code",
   "execution_count": null,
   "metadata": {
    "id": "dLyhin2COvBa",
    "outputId": "9dc28a2b-aadb-45ff-825a-293025455648"
   },
   "outputs": [
    {
     "name": "stdout",
     "output_type": "stream",
     "text": [
      "Model: \"vgg19\"\n",
      "_________________________________________________________________\n",
      "Layer (type)                 Output Shape              Param #   \n",
      "=================================================================\n",
      "input_1 (InputLayer)         [(None, 224, 224, 3)]     0         \n",
      "_________________________________________________________________\n",
      "block1_conv1 (Conv2D)        (None, 224, 224, 64)      1792      \n",
      "_________________________________________________________________\n",
      "block1_conv2 (Conv2D)        (None, 224, 224, 64)      36928     \n",
      "_________________________________________________________________\n",
      "block1_pool (MaxPooling2D)   (None, 112, 112, 64)      0         \n",
      "_________________________________________________________________\n",
      "block2_conv1 (Conv2D)        (None, 112, 112, 128)     73856     \n",
      "_________________________________________________________________\n",
      "block2_conv2 (Conv2D)        (None, 112, 112, 128)     147584    \n",
      "_________________________________________________________________\n",
      "block2_pool (MaxPooling2D)   (None, 56, 56, 128)       0         \n",
      "_________________________________________________________________\n",
      "block3_conv1 (Conv2D)        (None, 56, 56, 256)       295168    \n",
      "_________________________________________________________________\n",
      "block3_conv2 (Conv2D)        (None, 56, 56, 256)       590080    \n",
      "_________________________________________________________________\n",
      "block3_conv3 (Conv2D)        (None, 56, 56, 256)       590080    \n",
      "_________________________________________________________________\n",
      "block3_conv4 (Conv2D)        (None, 56, 56, 256)       590080    \n",
      "_________________________________________________________________\n",
      "block3_pool (MaxPooling2D)   (None, 28, 28, 256)       0         \n",
      "_________________________________________________________________\n",
      "block4_conv1 (Conv2D)        (None, 28, 28, 512)       1180160   \n",
      "_________________________________________________________________\n",
      "block4_conv2 (Conv2D)        (None, 28, 28, 512)       2359808   \n",
      "_________________________________________________________________\n",
      "block4_conv3 (Conv2D)        (None, 28, 28, 512)       2359808   \n",
      "_________________________________________________________________\n",
      "block4_conv4 (Conv2D)        (None, 28, 28, 512)       2359808   \n",
      "_________________________________________________________________\n",
      "block4_pool (MaxPooling2D)   (None, 14, 14, 512)       0         \n",
      "_________________________________________________________________\n",
      "block5_conv1 (Conv2D)        (None, 14, 14, 512)       2359808   \n",
      "_________________________________________________________________\n",
      "block5_conv2 (Conv2D)        (None, 14, 14, 512)       2359808   \n",
      "_________________________________________________________________\n",
      "block5_conv3 (Conv2D)        (None, 14, 14, 512)       2359808   \n",
      "_________________________________________________________________\n",
      "block5_conv4 (Conv2D)        (None, 14, 14, 512)       2359808   \n",
      "_________________________________________________________________\n",
      "block5_pool (MaxPooling2D)   (None, 7, 7, 512)         0         \n",
      "=================================================================\n",
      "Total params: 20,024,384\n",
      "Trainable params: 20,024,384\n",
      "Non-trainable params: 0\n",
      "_________________________________________________________________\n"
     ]
    }
   ],
   "source": [
    "cnn.summary()"
   ]
  },
  {
   "cell_type": "code",
   "execution_count": null,
   "metadata": {
    "id": "uzztcdBEOvBc"
   },
   "outputs": [],
   "source": [
    "transfer_learning = False\n",
    "\n",
    "if transfer_learning:\n",
    "    freeze_until = 25\n",
    "    for layer in cnn.layers[:freeze_until]:\n",
    "        layer.trainable = False\n",
    "else:\n",
    "    for layer in cnn.layers:\n",
    "        layer.trainable = True\n",
    "\n",
    "model = tf.keras.Sequential()\n",
    "model.add(cnn)\n",
    "\n",
    "for j in range(2):\n",
    "    for i in range(4):\n",
    "        model.add(tf.keras.layers.Conv2D(filters=1024, \n",
    "                                         kernel_size=(3, 3),\n",
    "                                         strides=(1, 1),\n",
    "                                         padding='same'))\n",
    "        model.add(tf.keras.layers.BatchNormalization())\n",
    "        model.add(tf.keras.layers.ReLU())\n",
    "    model.add(tf.keras.layers.MaxPool2D(pool_size=(2, 2)))\n",
    "model.add(tf.keras.layers.Flatten())\n",
    "model.add(tf.keras.layers.Dense(units=1024))\n",
    "model.add(tf.keras.layers.BatchNormalization())\n",
    "model.add(tf.keras.layers.ReLU())\n",
    "model.add(tf.keras.layers.Dense(units=512))\n",
    "model.add(tf.keras.layers.BatchNormalization())\n",
    "model.add(tf.keras.layers.ReLU())\n",
    "model.add(tf.keras.layers.Dense(units=256))\n",
    "model.add(tf.keras.layers.BatchNormalization())\n",
    "model.add(tf.keras.layers.ReLU())\n",
    "model.add(tf.keras.layers.Dense(units=num_classes, activation='softmax'))"
   ]
  },
  {
   "cell_type": "code",
   "execution_count": null,
   "metadata": {
    "id": "KzBnbOQROvBc",
    "outputId": "9c9b3dd9-5518-490b-9a1c-0529f015a86d"
   },
   "outputs": [
    {
     "name": "stdout",
     "output_type": "stream",
     "text": [
      "Model: \"sequential\"\n",
      "_________________________________________________________________\n",
      "Layer (type)                 Output Shape              Param #   \n",
      "=================================================================\n",
      "vgg19 (Model)                (None, 7, 7, 512)         20024384  \n",
      "_________________________________________________________________\n",
      "conv2d (Conv2D)              (None, 7, 7, 1024)        4719616   \n",
      "_________________________________________________________________\n",
      "batch_normalization (BatchNo (None, 7, 7, 1024)        4096      \n",
      "_________________________________________________________________\n",
      "re_lu (ReLU)                 (None, 7, 7, 1024)        0         \n",
      "_________________________________________________________________\n",
      "conv2d_1 (Conv2D)            (None, 7, 7, 1024)        9438208   \n",
      "_________________________________________________________________\n",
      "batch_normalization_1 (Batch (None, 7, 7, 1024)        4096      \n",
      "_________________________________________________________________\n",
      "re_lu_1 (ReLU)               (None, 7, 7, 1024)        0         \n",
      "_________________________________________________________________\n",
      "conv2d_2 (Conv2D)            (None, 7, 7, 1024)        9438208   \n",
      "_________________________________________________________________\n",
      "batch_normalization_2 (Batch (None, 7, 7, 1024)        4096      \n",
      "_________________________________________________________________\n",
      "re_lu_2 (ReLU)               (None, 7, 7, 1024)        0         \n",
      "_________________________________________________________________\n",
      "conv2d_3 (Conv2D)            (None, 7, 7, 1024)        9438208   \n",
      "_________________________________________________________________\n",
      "batch_normalization_3 (Batch (None, 7, 7, 1024)        4096      \n",
      "_________________________________________________________________\n",
      "re_lu_3 (ReLU)               (None, 7, 7, 1024)        0         \n",
      "_________________________________________________________________\n",
      "max_pooling2d (MaxPooling2D) (None, 3, 3, 1024)        0         \n",
      "_________________________________________________________________\n",
      "conv2d_4 (Conv2D)            (None, 3, 3, 1024)        9438208   \n",
      "_________________________________________________________________\n",
      "batch_normalization_4 (Batch (None, 3, 3, 1024)        4096      \n",
      "_________________________________________________________________\n",
      "re_lu_4 (ReLU)               (None, 3, 3, 1024)        0         \n",
      "_________________________________________________________________\n",
      "conv2d_5 (Conv2D)            (None, 3, 3, 1024)        9438208   \n",
      "_________________________________________________________________\n",
      "batch_normalization_5 (Batch (None, 3, 3, 1024)        4096      \n",
      "_________________________________________________________________\n",
      "re_lu_5 (ReLU)               (None, 3, 3, 1024)        0         \n",
      "_________________________________________________________________\n",
      "conv2d_6 (Conv2D)            (None, 3, 3, 1024)        9438208   \n",
      "_________________________________________________________________\n",
      "batch_normalization_6 (Batch (None, 3, 3, 1024)        4096      \n",
      "_________________________________________________________________\n",
      "re_lu_6 (ReLU)               (None, 3, 3, 1024)        0         \n",
      "_________________________________________________________________\n",
      "conv2d_7 (Conv2D)            (None, 3, 3, 1024)        9438208   \n",
      "_________________________________________________________________\n",
      "batch_normalization_7 (Batch (None, 3, 3, 1024)        4096      \n",
      "_________________________________________________________________\n",
      "re_lu_7 (ReLU)               (None, 3, 3, 1024)        0         \n",
      "_________________________________________________________________\n",
      "max_pooling2d_1 (MaxPooling2 (None, 1, 1, 1024)        0         \n",
      "_________________________________________________________________\n",
      "flatten (Flatten)            (None, 1024)              0         \n",
      "_________________________________________________________________\n",
      "dense (Dense)                (None, 1024)              1049600   \n",
      "_________________________________________________________________\n",
      "batch_normalization_8 (Batch (None, 1024)              4096      \n",
      "_________________________________________________________________\n",
      "re_lu_8 (ReLU)               (None, 1024)              0         \n",
      "_________________________________________________________________\n",
      "dense_1 (Dense)              (None, 512)               524800    \n",
      "_________________________________________________________________\n",
      "batch_normalization_9 (Batch (None, 512)               2048      \n",
      "_________________________________________________________________\n",
      "re_lu_9 (ReLU)               (None, 512)               0         \n",
      "_________________________________________________________________\n",
      "dense_2 (Dense)              (None, 256)               131328    \n",
      "_________________________________________________________________\n",
      "batch_normalization_10 (Batc (None, 256)               1024      \n",
      "_________________________________________________________________\n",
      "re_lu_10 (ReLU)              (None, 256)               0         \n",
      "_________________________________________________________________\n",
      "dense_3 (Dense)              (None, 3)                 771       \n",
      "=================================================================\n",
      "Total params: 92,557,891\n",
      "Trainable params: 92,537,923\n",
      "Non-trainable params: 19,968\n",
      "_________________________________________________________________\n"
     ]
    }
   ],
   "source": [
    "model.summary()"
   ]
  },
  {
   "cell_type": "markdown",
   "metadata": {
    "id": "GWEZuAQCOvBd"
   },
   "source": [
    "## Reload the weights\n",
    "\n",
    "The purpose of the following cell is to continue the training from pre-saved weights.\n",
    "\n",
    "**Follow these steps before running the code**:\n",
    "1. download the zip file at https://drive.google.com/file/d/10MWFSJdQqXtZgBrYsaExmDBvFSRPMCQL/view?usp=sharing\n",
    "2. unzip the downloaded file in the current working directory\n",
    "3. run the cell"
   ]
  },
  {
   "cell_type": "code",
   "execution_count": null,
   "metadata": {
    "id": "i92AN35POvBd",
    "outputId": "119b2b27-e1fe-4e3f-9a89-73bad18d9d2b"
   },
   "outputs": [
    {
     "data": {
      "text/plain": [
       "<tensorflow.python.training.tracking.util.CheckpointLoadStatus at 0x2406056f788>"
      ]
     },
     "execution_count": 17,
     "metadata": {
      "tags": []
     },
     "output_type": "execute_result"
    }
   ],
   "source": [
    "def get_model_path(model_name, epoch_number):\n",
    "    path = os.path.join(cwd, model_name, 'ckpts')\n",
    "    for file in os.listdir(path):\n",
    "        if str(epoch_number) in file:\n",
    "            path = os.path.join(path, \"cp_\" + str(epoch_number) + \".ckpt\")\n",
    "            return path\n",
    "        \n",
    "model_name = 'Model_54_Nov20_08-36-19'\n",
    "epochs = 28                                           # <--- modify this\n",
    "\n",
    "path = get_model_path(model_name, epochs)\n",
    "\n",
    "model.load_weights(path)"
   ]
  },
  {
   "cell_type": "markdown",
   "metadata": {
    "id": "wM7H2Dj3OvBf"
   },
   "source": [
    "## Compile the model"
   ]
  },
  {
   "cell_type": "markdown",
   "metadata": {
    "id": "uIppFQPTOvBf"
   },
   "source": [
    "### - define optimization parameters\n"
   ]
  },
  {
   "cell_type": "code",
   "execution_count": null,
   "metadata": {
    "id": "j6r4yrlXOvBf"
   },
   "outputs": [],
   "source": [
    "# Loss\n",
    "loss = tf.keras.losses.CategoricalCrossentropy() # because we have one-hot encoded labels (as specified by the \n",
    "                                                 # class_mode parameter in flow_from_dataframe())\n",
    "\n",
    "# Learning rate\n",
    "lr = 1e-4\n",
    "optimizer = tf.keras.optimizers.Adam(learning_rate=lr)\n",
    "\n",
    "# Validation metrics\n",
    "metrics = ['accuracy']\n",
    "\n",
    "# Compile Model\n",
    "model.compile(optimizer=optimizer, loss=loss, metrics=metrics)"
   ]
  },
  {
   "cell_type": "markdown",
   "metadata": {
    "id": "vS03vKlBOvBf"
   },
   "source": [
    "### - save model/weights\n",
    "Folders are created following an incremental index that wille uniquely name the model together with the timestamp recording the time it has been created."
   ]
  },
  {
   "cell_type": "code",
   "execution_count": null,
   "metadata": {
    "id": "q8UJlMIeOvBf"
   },
   "outputs": [],
   "source": [
    "import os\n",
    "from datetime import datetime\n",
    "\n",
    "cwd = os.getcwd()\n",
    "\n",
    "exps_dir = os.path.join('tensorboard_experiments')\n",
    "if not os.path.exists(exps_dir):\n",
    "    os.makedirs(exps_dir)\n",
    "    model_name = \"01\"\n",
    "else:\n",
    "    # gets the name of the last model and generates the new name\n",
    "    model_name = np.array(os.listdir(exps_dir))[-1]\n",
    "    model_name = model_name[6:8]\n",
    "    if int(model_name) in range(9):\n",
    "        model_name = \"Model_0\" + str(int(model_name)+1)\n",
    "    else:\n",
    "        model_name = \"Model_\" + str(int(model_name)+1)\n",
    "\n",
    "now = datetime.now().strftime('%b%d_%H-%M-%S')\n",
    "\n",
    "exp_dir = os.path.join(exps_dir, model_name + '_' + str(now))\n",
    "if not os.path.exists(exp_dir):\n",
    "    os.makedirs(exp_dir)\n",
    "    \n",
    "callbacks = []"
   ]
  },
  {
   "cell_type": "markdown",
   "metadata": {
    "id": "c31D5EZIOvBf"
   },
   "source": [
    "### - create checkpoint"
   ]
  },
  {
   "cell_type": "code",
   "execution_count": null,
   "metadata": {
    "id": "6SnhyH3iOvBf"
   },
   "outputs": [],
   "source": [
    "ckpt_dir = os.path.join(exp_dir, 'ckpts')\n",
    "if not os.path.exists(ckpt_dir):\n",
    "    os.makedirs(ckpt_dir)\n",
    "\n",
    "ckpt_callback = tf.keras.callbacks.ModelCheckpoint(filepath=os.path.join(ckpt_dir, 'cp_{epoch:02d}.ckpt'), \n",
    "                                                   save_weights_only=True)\n",
    "callbacks.append(ckpt_callback)"
   ]
  },
  {
   "cell_type": "markdown",
   "metadata": {
    "id": "wPBIYq8aOvBf"
   },
   "source": [
    "### - prepare tensorboard log"
   ]
  },
  {
   "cell_type": "code",
   "execution_count": null,
   "metadata": {
    "id": "RyZYYxnPOvBf"
   },
   "outputs": [],
   "source": [
    "tb_dir = os.path.join(exp_dir, 'tb_logs')\n",
    "if not os.path.exists(tb_dir):\n",
    "    os.makedirs(tb_dir)\n",
    "    \n",
    "# By default shows losses and metrics for both training and validation\n",
    "tb_callback = tf.keras.callbacks.TensorBoard(log_dir=tb_dir,\n",
    "                                             profile_batch=0,\n",
    "                                             histogram_freq=1)  # if 1 shows weights histograms\n",
    "callbacks.append(tb_callback)"
   ]
  },
  {
   "cell_type": "markdown",
   "metadata": {
    "id": "9flQ0GYxOvBg"
   },
   "source": [
    "### - apply early stopping"
   ]
  },
  {
   "cell_type": "code",
   "execution_count": null,
   "metadata": {
    "id": "wqaLFKzWOvBg"
   },
   "outputs": [],
   "source": [
    "early_stop = True\n",
    "if early_stop:\n",
    "    es_callback = tf.keras.callbacks.EarlyStopping(monitor='val_loss', patience=20)\n",
    "    callbacks.append(es_callback)"
   ]
  },
  {
   "cell_type": "markdown",
   "metadata": {
    "id": "2VMjT4CWOvBg"
   },
   "source": [
    "## Train the model"
   ]
  },
  {
   "cell_type": "code",
   "execution_count": null,
   "metadata": {
    "id": "l-7DbcHFOvBg",
    "outputId": "7f5f22e8-f7bf-4f2c-d080-2e51df304229",
    "scrolled": true
   },
   "outputs": [
    {
     "name": "stdout",
     "output_type": "stream",
     "text": [
      "Train for 176 steps, validate for 59 steps\n",
      "Epoch 1/100\n",
      "176/176 [==============================] - 110s 626ms/step - loss: 0.0693 - accuracy: 0.9788 - val_loss: 0.9040 - val_accuracy: 0.8195\n",
      "Epoch 2/100\n",
      "176/176 [==============================] - 83s 471ms/step - loss: 0.1728 - accuracy: 0.9418 - val_loss: 0.7246 - val_accuracy: 0.8522\n",
      "Epoch 3/100\n",
      "176/176 [==============================] - 82s 469ms/step - loss: 0.0755 - accuracy: 0.9755 - val_loss: 0.4217 - val_accuracy: 0.8721\n",
      "Epoch 4/100\n",
      "176/176 [==============================] - 83s 472ms/step - loss: 0.0572 - accuracy: 0.9845 - val_loss: 0.3612 - val_accuracy: 0.9026\n",
      "Epoch 5/100\n",
      "176/176 [==============================] - 83s 473ms/step - loss: 0.0597 - accuracy: 0.9810 - val_loss: 0.4510 - val_accuracy: 0.8955\n",
      "Epoch 6/100\n",
      "176/176 [==============================] - 82s 467ms/step - loss: 0.0570 - accuracy: 0.9812 - val_loss: 0.4085 - val_accuracy: 0.8742\n",
      "Epoch 7/100\n",
      "176/176 [==============================] - 82s 468ms/step - loss: 0.0571 - accuracy: 0.9826 - val_loss: 0.3599 - val_accuracy: 0.8813\n",
      "Epoch 8/100\n",
      "176/176 [==============================] - 83s 471ms/step - loss: 0.0382 - accuracy: 0.9874 - val_loss: 0.2982 - val_accuracy: 0.9104\n",
      "Epoch 9/100\n",
      "176/176 [==============================] - 83s 471ms/step - loss: 0.0415 - accuracy: 0.9884 - val_loss: 0.6509 - val_accuracy: 0.8849\n",
      "Epoch 10/100\n",
      "176/176 [==============================] - 83s 471ms/step - loss: 0.0394 - accuracy: 0.9865 - val_loss: 0.3569 - val_accuracy: 0.8778\n",
      "Epoch 11/100\n",
      "176/176 [==============================] - 83s 472ms/step - loss: 0.0285 - accuracy: 0.9914 - val_loss: 0.2377 - val_accuracy: 0.9190\n",
      "Epoch 12/100\n",
      "176/176 [==============================] - 83s 470ms/step - loss: 0.0955 - accuracy: 0.9731 - val_loss: 0.4299 - val_accuracy: 0.8955\n",
      "Epoch 13/100\n",
      "176/176 [==============================] - 83s 471ms/step - loss: 0.0728 - accuracy: 0.9788 - val_loss: 0.5303 - val_accuracy: 0.8699\n",
      "Epoch 14/100\n",
      "176/176 [==============================] - 83s 472ms/step - loss: 0.0943 - accuracy: 0.9691 - val_loss: 0.3008 - val_accuracy: 0.9140\n",
      "Epoch 15/100\n",
      "176/176 [==============================] - 83s 472ms/step - loss: 0.0477 - accuracy: 0.9895 - val_loss: 0.7768 - val_accuracy: 0.8643\n",
      "Epoch 16/100\n",
      "176/176 [==============================] - 82s 465ms/step - loss: 0.0629 - accuracy: 0.9829 - val_loss: 0.3012 - val_accuracy: 0.9190\n",
      "Epoch 17/100\n",
      "176/176 [==============================] - 83s 469ms/step - loss: 0.0361 - accuracy: 0.9893 - val_loss: 0.6743 - val_accuracy: 0.8230\n",
      "Epoch 18/100\n",
      "176/176 [==============================] - 83s 470ms/step - loss: 0.0923 - accuracy: 0.9712 - val_loss: 0.6816 - val_accuracy: 0.8550\n",
      "Epoch 19/100\n",
      "176/176 [==============================] - 82s 468ms/step - loss: 0.0450 - accuracy: 0.9860 - val_loss: 0.2562 - val_accuracy: 0.9240\n",
      "Epoch 20/100\n",
      "176/176 [==============================] - 83s 470ms/step - loss: 0.0536 - accuracy: 0.9843 - val_loss: 0.2598 - val_accuracy: 0.9190\n",
      "Epoch 21/100\n",
      "176/176 [==============================] - 83s 470ms/step - loss: 0.0300 - accuracy: 0.9903 - val_loss: 0.2942 - val_accuracy: 0.9083\n",
      "Epoch 22/100\n",
      "176/176 [==============================] - 82s 467ms/step - loss: 0.0226 - accuracy: 0.9938 - val_loss: 0.5587 - val_accuracy: 0.8799\n",
      "Epoch 23/100\n",
      "176/176 [==============================] - 83s 470ms/step - loss: 0.0530 - accuracy: 0.9845 - val_loss: 0.2671 - val_accuracy: 0.9232\n",
      "Epoch 24/100\n",
      "176/176 [==============================] - 83s 471ms/step - loss: 0.0565 - accuracy: 0.9831 - val_loss: 0.3293 - val_accuracy: 0.8792\n",
      "Epoch 25/100\n",
      "176/176 [==============================] - 83s 472ms/step - loss: 0.0432 - accuracy: 0.9853 - val_loss: 0.8285 - val_accuracy: 0.8721\n",
      "Epoch 26/100\n",
      "176/176 [==============================] - 83s 469ms/step - loss: 0.0371 - accuracy: 0.9874 - val_loss: 0.6337 - val_accuracy: 0.8522\n",
      "Epoch 27/100\n",
      "176/176 [==============================] - 83s 471ms/step - loss: 0.0371 - accuracy: 0.9881 - val_loss: 0.3934 - val_accuracy: 0.8799\n",
      "Epoch 28/100\n",
      "176/176 [==============================] - 83s 473ms/step - loss: 0.0636 - accuracy: 0.9803 - val_loss: 0.3115 - val_accuracy: 0.9097\n",
      "Epoch 29/100\n",
      "176/176 [==============================] - 82s 468ms/step - loss: 0.0223 - accuracy: 0.9933 - val_loss: 0.3157 - val_accuracy: 0.9019\n",
      "Epoch 30/100\n",
      "176/176 [==============================] - 83s 470ms/step - loss: 0.0180 - accuracy: 0.9948 - val_loss: 0.4461 - val_accuracy: 0.8998\n",
      "Epoch 31/100\n",
      "176/176 [==============================] - 83s 471ms/step - loss: 0.0560 - accuracy: 0.9838 - val_loss: 0.3780 - val_accuracy: 0.9005\n"
     ]
    },
    {
     "data": {
      "text/plain": [
       "<tensorflow.python.keras.callbacks.History at 0x2406260f6c8>"
      ]
     },
     "execution_count": 23,
     "metadata": {
      "tags": []
     },
     "output_type": "execute_result"
    }
   ],
   "source": [
    "model.fit(x=train_dataset,\n",
    "          epochs=100,  # set repeat in training dataset\n",
    "          steps_per_epoch=len(train_gen),\n",
    "          validation_data=valid_dataset,\n",
    "          validation_steps=len(valid_gen), \n",
    "          callbacks=callbacks)"
   ]
  },
  {
   "cell_type": "markdown",
   "metadata": {
    "id": "aaSro20tOvBg"
   },
   "source": [
    "## Test the model\n",
    "### - create a generator for the test set"
   ]
  },
  {
   "cell_type": "code",
   "execution_count": null,
   "metadata": {
    "id": "M_SGbgiROvBg",
    "outputId": "532e6676-f7ff-4255-fc53-e933a6d8812c"
   },
   "outputs": [
    {
     "name": "stdout",
     "output_type": "stream",
     "text": [
      "Found 450 images belonging to 1 classes.\n"
     ]
    }
   ],
   "source": [
    "test_gen = test_data_gen.flow_from_directory(test_dir,\n",
    "                                             target_size=(img_h, img_w), \n",
    "                                             color_mode='rgb',\n",
    "                                             batch_size=bs, \n",
    "                                             class_mode='categorical',\n",
    "                                             shuffle=False,\n",
    "                                             seed=SEED)"
   ]
  },
  {
   "cell_type": "markdown",
   "metadata": {
    "id": "7Px6iGd1OvBh"
   },
   "source": [
    "### - make predictions\n",
    "We have these classes:\n",
    "    - 0: \"NO PERSON in the image is wearing a mask\"\n",
    "    - 1: \"ALL THE PEOPLE in the image are wearing a mask\"\n",
    "    - 2: \"SOMEONE in the image is not wearing a mask\""
   ]
  },
  {
   "cell_type": "code",
   "execution_count": null,
   "metadata": {
    "id": "GFhGgapUOvBh",
    "outputId": "5f1017b3-2244-4be6-b86f-ad093443eed8"
   },
   "outputs": [
    {
     "name": "stdout",
     "output_type": "stream",
     "text": [
      "19/19 [==============================] - 8s 436ms/step\n"
     ]
    }
   ],
   "source": [
    "import ntpath\n",
    "\n",
    "predictions = model.predict(test_gen, verbose=1)\n",
    "\n",
    "results = {}\n",
    "\n",
    "images = test_gen.filenames\n",
    "i = 0\n",
    "\n",
    "for p in predictions:\n",
    "    prediction = np.argmax(p)\n",
    "    image_name = ntpath.basename(images[i])\n",
    "    results[image_name] = str(prediction)\n",
    "    i += 1"
   ]
  },
  {
   "cell_type": "markdown",
   "metadata": {
    "id": "NPYKo2bwOvBi"
   },
   "source": [
    "## Create the prediction csv file"
   ]
  },
  {
   "cell_type": "code",
   "execution_count": null,
   "metadata": {
    "id": "rp_sd6s8OvBi"
   },
   "outputs": [],
   "source": [
    "import os\n",
    "from datetime import datetime\n",
    "\n",
    "def create_csv(results, results_dir='./'):\n",
    "\n",
    "    csv_fname = 'results_'\n",
    "    csv_fname += datetime.now().strftime('%b%d_%H-%M-%S') + '.csv'\n",
    "\n",
    "    with open(os.path.join(results_dir, csv_fname), 'w') as f:\n",
    "\n",
    "        f.write('Id,Category\\n')\n",
    "\n",
    "        for key, value in results.items():\n",
    "            f.write(key + ',' + str(value) + '\\n')"
   ]
  },
  {
   "cell_type": "code",
   "execution_count": null,
   "metadata": {
    "id": "SKUzuQ05OvBi"
   },
   "outputs": [],
   "source": [
    "create_csv(results, exp_dir)"
   ]
  }
 ],
 "metadata": {
  "colab": {
   "name": "Transfer_Learning(VGG19+2ConvBlock)_Adam.ipynb",
   "provenance": []
  },
  "kernelspec": {
   "display_name": "Python 3",
   "language": "python",
   "name": "python3"
  },
  "language_info": {
   "codemirror_mode": {
    "name": "ipython",
    "version": 3
   },
   "file_extension": ".py",
   "mimetype": "text/x-python",
   "name": "python",
   "nbconvert_exporter": "python",
   "pygments_lexer": "ipython3",
   "version": "3.7.9"
  }
 },
 "nbformat": 4,
 "nbformat_minor": 1
}
